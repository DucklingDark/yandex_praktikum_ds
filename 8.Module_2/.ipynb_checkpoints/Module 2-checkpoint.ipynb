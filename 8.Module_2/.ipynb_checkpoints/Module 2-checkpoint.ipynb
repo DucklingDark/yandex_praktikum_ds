{
 "cells": [
  {
   "cell_type": "markdown",
   "metadata": {
    "toc": true
   },
   "source": [
    "<h1>Содержание<span class=\"tocSkip\"></span></h1>\n",
    "<div class=\"toc\"><ul class=\"toc-item\"><li><span><a href=\"#Подготовка-данных\" data-toc-modified-id=\"Подготовка-данных-1\"><span class=\"toc-item-num\">1&nbsp;&nbsp;</span>Подготовка данных</a></span><ul class=\"toc-item\"><li><span><a href=\"#Загрузка-и-первичный-осмотр-данных\" data-toc-modified-id=\"Загрузка-и-первичный-осмотр-данных-1.1\"><span class=\"toc-item-num\">1.1&nbsp;&nbsp;</span>Загрузка и первичный осмотр данных</a></span></li><li><span><a href=\"#Дубликаты\" data-toc-modified-id=\"Дубликаты-1.2\"><span class=\"toc-item-num\">1.2&nbsp;&nbsp;</span>Дубликаты</a></span></li><li><span><a href=\"#Размеры-датафреймов\" data-toc-modified-id=\"Размеры-датафреймов-1.3\"><span class=\"toc-item-num\">1.3&nbsp;&nbsp;</span>Размеры датафреймов</a></span></li><li><span><a href=\"#Соотношение-данных\" data-toc-modified-id=\"Соотношение-данных-1.4\"><span class=\"toc-item-num\">1.4&nbsp;&nbsp;</span>Соотношение данных</a></span></li><li><span><a href=\"#Проверка-корректности-расчётов\" data-toc-modified-id=\"Проверка-корректности-расчётов-1.5\"><span class=\"toc-item-num\">1.5&nbsp;&nbsp;</span>Проверка корректности расчётов</a></span></li><li><span><a href=\"#Столбцы,-отсутствующие-в-тестовых-данных\" data-toc-modified-id=\"Столбцы,-отсутствующие-в-тестовых-данных-1.6\"><span class=\"toc-item-num\">1.6&nbsp;&nbsp;</span>Столбцы, отсутствующие в тестовых данных</a></span></li><li><span><a href=\"#Целевой-признак-в-тестовых-данных\" data-toc-modified-id=\"Целевой-признак-в-тестовых-данных-1.7\"><span class=\"toc-item-num\">1.7&nbsp;&nbsp;</span>Целевой признак в тестовых данных</a></span></li><li><span><a href=\"#Пропуски-в-данных\" data-toc-modified-id=\"Пропуски-в-данных-1.8\"><span class=\"toc-item-num\">1.8&nbsp;&nbsp;</span>Пропуски в данных</a></span></li><li><span><a href=\"#Вывод\" data-toc-modified-id=\"Вывод-1.9\"><span class=\"toc-item-num\">1.9&nbsp;&nbsp;</span>Вывод</a></span></li></ul></li><li><span><a href=\"#Анализ-данных\" data-toc-modified-id=\"Анализ-данных-2\"><span class=\"toc-item-num\">2&nbsp;&nbsp;</span>Анализ данных</a></span><ul class=\"toc-item\"><li><span><a href=\"#Концентрация-металлов-на-разных-этапах\" data-toc-modified-id=\"Концентрация-металлов-на-разных-этапах-2.1\"><span class=\"toc-item-num\">2.1&nbsp;&nbsp;</span>Концентрация металлов на разных этапах</a></span><ul class=\"toc-item\"><li><span><a href=\"#Металл-Au\" data-toc-modified-id=\"Металл-Au-2.1.1\"><span class=\"toc-item-num\">2.1.1&nbsp;&nbsp;</span>Металл Au</a></span></li><li><span><a href=\"#Металл-Ag\" data-toc-modified-id=\"Металл-Ag-2.1.2\"><span class=\"toc-item-num\">2.1.2&nbsp;&nbsp;</span>Металл Ag</a></span></li><li><span><a href=\"#Металл-Pb\" data-toc-modified-id=\"Металл-Pb-2.1.3\"><span class=\"toc-item-num\">2.1.3&nbsp;&nbsp;</span>Металл Pb</a></span></li></ul></li><li><span><a href=\"#Размер-гранул-на-обучающей-и-тестовой-выборках\" data-toc-modified-id=\"Размер-гранул-на-обучающей-и-тестовой-выборках-2.2\"><span class=\"toc-item-num\">2.2&nbsp;&nbsp;</span>Размер гранул на обучающей и тестовой выборках</a></span><ul class=\"toc-item\"><li><span><a href=\"#Размер-гранул-исходного-сырья\" data-toc-modified-id=\"Размер-гранул-исходного-сырья-2.2.1\"><span class=\"toc-item-num\">2.2.1&nbsp;&nbsp;</span>Размер гранул исходного сырья</a></span></li><li><span><a href=\"#Размер-гранул-после-первичной-очистки\" data-toc-modified-id=\"Размер-гранул-после-первичной-очистки-2.2.2\"><span class=\"toc-item-num\">2.2.2&nbsp;&nbsp;</span>Размер гранул после первичной очистки</a></span></li></ul></li><li><span><a href=\"#Суммарная-концентрация-всех-веществ-на-разных-стадиях\" data-toc-modified-id=\"Суммарная-концентрация-всех-веществ-на-разных-стадиях-2.3\"><span class=\"toc-item-num\">2.3&nbsp;&nbsp;</span>Суммарная концентрация всех веществ на разных стадиях</a></span></li><li><span><a href=\"#Вывод\" data-toc-modified-id=\"Вывод-2.4\"><span class=\"toc-item-num\">2.4&nbsp;&nbsp;</span>Вывод</a></span></li></ul></li><li><span><a href=\"#Модель\" data-toc-modified-id=\"Модель-3\"><span class=\"toc-item-num\">3&nbsp;&nbsp;</span>Модель</a></span><ul class=\"toc-item\"><li><span><a href=\"#Функция-расчёта-sMAPE\" data-toc-modified-id=\"Функция-расчёта-sMAPE-3.1\"><span class=\"toc-item-num\">3.1&nbsp;&nbsp;</span>Функция расчёта sMAPE</a></span></li><li><span><a href=\"#Этапы-тех-процесса\" data-toc-modified-id=\"Этапы-тех-процесса-3.2\"><span class=\"toc-item-num\">3.2&nbsp;&nbsp;</span>Этапы тех процесса</a></span></li><li><span><a href=\"#Подготовка-данных\" data-toc-modified-id=\"Подготовка-данных-3.3\"><span class=\"toc-item-num\">3.3&nbsp;&nbsp;</span>Подготовка данных</a></span><ul class=\"toc-item\"><li><span><a href=\"#Выделение-целевых-признаков\" data-toc-modified-id=\"Выделение-целевых-признаков-3.3.1\"><span class=\"toc-item-num\">3.3.1&nbsp;&nbsp;</span>Выделение целевых признаков</a></span></li><li><span><a href=\"#Масштабирование-признаков\" data-toc-modified-id=\"Масштабирование-признаков-3.3.2\"><span class=\"toc-item-num\">3.3.2&nbsp;&nbsp;</span>Масштабирование признаков</a></span></li></ul></li><li><span><a href=\"#Выбор-модели\" data-toc-modified-id=\"Выбор-модели-3.4\"><span class=\"toc-item-num\">3.4&nbsp;&nbsp;</span>Выбор модели</a></span><ul class=\"toc-item\"><li><span><a href=\"#Дерево-решений\" data-toc-modified-id=\"Дерево-решений-3.4.1\"><span class=\"toc-item-num\">3.4.1&nbsp;&nbsp;</span>Дерево решений</a></span></li><li><span><a href=\"#Случайный-лес\" data-toc-modified-id=\"Случайный-лес-3.4.2\"><span class=\"toc-item-num\">3.4.2&nbsp;&nbsp;</span>Случайный лес</a></span></li><li><span><a href=\"#Линейная-регрессия\" data-toc-modified-id=\"Линейная-регрессия-3.4.3\"><span class=\"toc-item-num\">3.4.3&nbsp;&nbsp;</span>Линейная регрессия</a></span></li><li><span><a href=\"#Лучшая-модель\" data-toc-modified-id=\"Лучшая-модель-3.4.4\"><span class=\"toc-item-num\">3.4.4&nbsp;&nbsp;</span>Лучшая модель</a></span></li></ul></li><li><span><a href=\"#Проверка-модели-на-тестовой-выборке\" data-toc-modified-id=\"Проверка-модели-на-тестовой-выборке-3.5\"><span class=\"toc-item-num\">3.5&nbsp;&nbsp;</span>Проверка модели на тестовой выборке</a></span></li><li><span><a href=\"#Проверка-модели-на-адекватность\" data-toc-modified-id=\"Проверка-модели-на-адекватность-3.6\"><span class=\"toc-item-num\">3.6&nbsp;&nbsp;</span>Проверка модели на адекватность</a></span></li><li><span><a href=\"#Вывод\" data-toc-modified-id=\"Вывод-3.7\"><span class=\"toc-item-num\">3.7&nbsp;&nbsp;</span>Вывод</a></span></li></ul></li><li><span><a href=\"#Общий-вывод\" data-toc-modified-id=\"Общий-вывод-4\"><span class=\"toc-item-num\">4&nbsp;&nbsp;</span>Общий вывод</a></span></li></ul></div>"
   ]
  },
  {
   "cell_type": "markdown",
   "metadata": {},
   "source": [
    "# Восстановление золота из руды"
   ]
  },
  {
   "cell_type": "markdown",
   "metadata": {},
   "source": [
    "# Входные данные\n",
    "Информация о входных и выходных параметрах сырья на разных этапах обработки, а также некоторые параметры окружающей среды и оборудования\n",
    "\n",
    "# Задача\n",
    "Создать модель машинного оубчения, которая будет предсказывать коэффициент восстановления золота из руды"
   ]
  },
  {
   "cell_type": "markdown",
   "metadata": {},
   "source": [
    "Подключим библиотеки"
   ]
  },
  {
   "cell_type": "code",
   "execution_count": 1,
   "metadata": {},
   "outputs": [],
   "source": [
    "import pandas as pd\n",
    "import numpy as np\n",
    "import seaborn as sns\n",
    "import matplotlib.pyplot as plt\n",
    "\n",
    "from numpy.random import RandomState\n",
    "\n",
    "from sklearn.metrics import mean_absolute_error\n",
    "from sklearn.preprocessing import StandardScaler\n",
    "from sklearn.model_selection import cross_val_score\n",
    "from sklearn.metrics.scorer import make_scorer\n",
    "\n",
    "from sklearn.tree import DecisionTreeRegressor\n",
    "from sklearn.ensemble import RandomForestRegressor\n",
    "from sklearn.linear_model import LinearRegression\n",
    "from sklearn.dummy import DummyRegressor"
   ]
  },
  {
   "cell_type": "code",
   "execution_count": 2,
   "metadata": {},
   "outputs": [],
   "source": [
    "sns.set(style=\"darkgrid\")"
   ]
  },
  {
   "cell_type": "code",
   "execution_count": 3,
   "metadata": {},
   "outputs": [],
   "source": [
    "SEED = 65"
   ]
  },
  {
   "cell_type": "markdown",
   "metadata": {},
   "source": [
    "## Подготовка данных"
   ]
  },
  {
   "cell_type": "markdown",
   "metadata": {},
   "source": [
    "Добавим функцию, которая загружает датасет, выводит 10 случайных строк, основную информацию и возвращает датафрейм"
   ]
  },
  {
   "cell_type": "code",
   "execution_count": 4,
   "metadata": {},
   "outputs": [],
   "source": [
    "def read_and_print_info(path, index_col=None):\n",
    "    df = pd.read_csv(path, index_col=index_col)\n",
    "    display(df.sample(n=10, random_state=SEED))\n",
    "    df.info(memory_usage='deep')\n",
    "    print('Дубликатов:', df.duplicated().sum())\n",
    "    return df"
   ]
  },
  {
   "cell_type": "markdown",
   "metadata": {},
   "source": [
    "### Загрузка и первичный осмотр данных"
   ]
  },
  {
   "cell_type": "markdown",
   "metadata": {},
   "source": [
    "Обучающие данные"
   ]
  },
  {
   "cell_type": "code",
   "execution_count": 5,
   "metadata": {
    "scrolled": false
   },
   "outputs": [
    {
     "data": {
      "text/html": [
       "<div>\n",
       "<style scoped>\n",
       "    .dataframe tbody tr th:only-of-type {\n",
       "        vertical-align: middle;\n",
       "    }\n",
       "\n",
       "    .dataframe tbody tr th {\n",
       "        vertical-align: top;\n",
       "    }\n",
       "\n",
       "    .dataframe thead th {\n",
       "        text-align: right;\n",
       "    }\n",
       "</style>\n",
       "<table border=\"1\" class=\"dataframe\">\n",
       "  <thead>\n",
       "    <tr style=\"text-align: right;\">\n",
       "      <th></th>\n",
       "      <th>final.output.concentrate_ag</th>\n",
       "      <th>final.output.concentrate_pb</th>\n",
       "      <th>final.output.concentrate_sol</th>\n",
       "      <th>final.output.concentrate_au</th>\n",
       "      <th>final.output.recovery</th>\n",
       "      <th>final.output.tail_ag</th>\n",
       "      <th>final.output.tail_pb</th>\n",
       "      <th>final.output.tail_sol</th>\n",
       "      <th>final.output.tail_au</th>\n",
       "      <th>primary_cleaner.input.sulfate</th>\n",
       "      <th>...</th>\n",
       "      <th>secondary_cleaner.state.floatbank4_a_air</th>\n",
       "      <th>secondary_cleaner.state.floatbank4_a_level</th>\n",
       "      <th>secondary_cleaner.state.floatbank4_b_air</th>\n",
       "      <th>secondary_cleaner.state.floatbank4_b_level</th>\n",
       "      <th>secondary_cleaner.state.floatbank5_a_air</th>\n",
       "      <th>secondary_cleaner.state.floatbank5_a_level</th>\n",
       "      <th>secondary_cleaner.state.floatbank5_b_air</th>\n",
       "      <th>secondary_cleaner.state.floatbank5_b_level</th>\n",
       "      <th>secondary_cleaner.state.floatbank6_a_air</th>\n",
       "      <th>secondary_cleaner.state.floatbank6_a_level</th>\n",
       "    </tr>\n",
       "    <tr>\n",
       "      <th>date</th>\n",
       "      <th></th>\n",
       "      <th></th>\n",
       "      <th></th>\n",
       "      <th></th>\n",
       "      <th></th>\n",
       "      <th></th>\n",
       "      <th></th>\n",
       "      <th></th>\n",
       "      <th></th>\n",
       "      <th></th>\n",
       "      <th></th>\n",
       "      <th></th>\n",
       "      <th></th>\n",
       "      <th></th>\n",
       "      <th></th>\n",
       "      <th></th>\n",
       "      <th></th>\n",
       "      <th></th>\n",
       "      <th></th>\n",
       "      <th></th>\n",
       "      <th></th>\n",
       "    </tr>\n",
       "  </thead>\n",
       "  <tbody>\n",
       "    <tr>\n",
       "      <td>2017-08-22 09:59:59</td>\n",
       "      <td>3.630774</td>\n",
       "      <td>12.444877</td>\n",
       "      <td>9.151632</td>\n",
       "      <td>45.823344</td>\n",
       "      <td>65.233523</td>\n",
       "      <td>7.369188</td>\n",
       "      <td>4.293524</td>\n",
       "      <td>11.936464</td>\n",
       "      <td>3.083777</td>\n",
       "      <td>183.959368</td>\n",
       "      <td>...</td>\n",
       "      <td>14.447895</td>\n",
       "      <td>-502.344600</td>\n",
       "      <td>10.899791</td>\n",
       "      <td>-400.377630</td>\n",
       "      <td>13.949764</td>\n",
       "      <td>-501.018257</td>\n",
       "      <td>11.024466</td>\n",
       "      <td>-500.176384</td>\n",
       "      <td>14.992524</td>\n",
       "      <td>-500.412995</td>\n",
       "    </tr>\n",
       "    <tr>\n",
       "      <td>2016-07-25 13:59:59</td>\n",
       "      <td>7.098586</td>\n",
       "      <td>7.781250</td>\n",
       "      <td>14.458937</td>\n",
       "      <td>43.516017</td>\n",
       "      <td>73.912046</td>\n",
       "      <td>11.187188</td>\n",
       "      <td>1.894294</td>\n",
       "      <td>11.741698</td>\n",
       "      <td>2.580901</td>\n",
       "      <td>156.230509</td>\n",
       "      <td>...</td>\n",
       "      <td>20.046509</td>\n",
       "      <td>-399.453816</td>\n",
       "      <td>10.059994</td>\n",
       "      <td>-400.217856</td>\n",
       "      <td>10.038001</td>\n",
       "      <td>-401.520184</td>\n",
       "      <td>4.935227</td>\n",
       "      <td>-399.372895</td>\n",
       "      <td>22.956102</td>\n",
       "      <td>-498.613956</td>\n",
       "    </tr>\n",
       "    <tr>\n",
       "      <td>2017-08-17 15:59:59</td>\n",
       "      <td>3.853277</td>\n",
       "      <td>10.863174</td>\n",
       "      <td>10.496114</td>\n",
       "      <td>47.107500</td>\n",
       "      <td>70.218572</td>\n",
       "      <td>6.904367</td>\n",
       "      <td>2.820778</td>\n",
       "      <td>11.859835</td>\n",
       "      <td>2.531273</td>\n",
       "      <td>137.653488</td>\n",
       "      <td>...</td>\n",
       "      <td>14.536658</td>\n",
       "      <td>-499.513348</td>\n",
       "      <td>10.932128</td>\n",
       "      <td>-399.825709</td>\n",
       "      <td>13.999050</td>\n",
       "      <td>-500.436472</td>\n",
       "      <td>10.993243</td>\n",
       "      <td>-500.373457</td>\n",
       "      <td>15.013436</td>\n",
       "      <td>-500.215037</td>\n",
       "    </tr>\n",
       "    <tr>\n",
       "      <td>2018-04-07 22:59:59</td>\n",
       "      <td>5.157484</td>\n",
       "      <td>10.438864</td>\n",
       "      <td>7.906514</td>\n",
       "      <td>46.062015</td>\n",
       "      <td>66.643280</td>\n",
       "      <td>9.566419</td>\n",
       "      <td>1.509908</td>\n",
       "      <td>6.779638</td>\n",
       "      <td>1.997400</td>\n",
       "      <td>101.219538</td>\n",
       "      <td>...</td>\n",
       "      <td>22.972049</td>\n",
       "      <td>-476.586569</td>\n",
       "      <td>15.848864</td>\n",
       "      <td>-468.301739</td>\n",
       "      <td>21.992419</td>\n",
       "      <td>-490.581695</td>\n",
       "      <td>14.014854</td>\n",
       "      <td>-499.491216</td>\n",
       "      <td>13.005891</td>\n",
       "      <td>-498.654711</td>\n",
       "    </tr>\n",
       "    <tr>\n",
       "      <td>2017-08-20 21:59:59</td>\n",
       "      <td>4.287216</td>\n",
       "      <td>11.634799</td>\n",
       "      <td>8.329078</td>\n",
       "      <td>45.854003</td>\n",
       "      <td>75.273013</td>\n",
       "      <td>7.006367</td>\n",
       "      <td>3.161607</td>\n",
       "      <td>11.319133</td>\n",
       "      <td>2.249947</td>\n",
       "      <td>155.041986</td>\n",
       "      <td>...</td>\n",
       "      <td>14.531119</td>\n",
       "      <td>-497.285679</td>\n",
       "      <td>10.977458</td>\n",
       "      <td>-399.692597</td>\n",
       "      <td>14.000968</td>\n",
       "      <td>-499.434386</td>\n",
       "      <td>11.004087</td>\n",
       "      <td>-499.742137</td>\n",
       "      <td>14.987397</td>\n",
       "      <td>-499.613335</td>\n",
       "    </tr>\n",
       "    <tr>\n",
       "      <td>2016-02-27 17:00:00</td>\n",
       "      <td>6.150662</td>\n",
       "      <td>11.589650</td>\n",
       "      <td>14.171450</td>\n",
       "      <td>40.519778</td>\n",
       "      <td>67.527192</td>\n",
       "      <td>11.848911</td>\n",
       "      <td>1.316706</td>\n",
       "      <td>10.458420</td>\n",
       "      <td>2.348108</td>\n",
       "      <td>192.869760</td>\n",
       "      <td>...</td>\n",
       "      <td>14.020261</td>\n",
       "      <td>-502.450763</td>\n",
       "      <td>13.867906</td>\n",
       "      <td>-499.820943</td>\n",
       "      <td>11.995791</td>\n",
       "      <td>-514.106894</td>\n",
       "      <td>10.025954</td>\n",
       "      <td>-499.915861</td>\n",
       "      <td>20.026342</td>\n",
       "      <td>-508.394147</td>\n",
       "    </tr>\n",
       "    <tr>\n",
       "      <td>2016-06-01 07:59:59</td>\n",
       "      <td>3.465989</td>\n",
       "      <td>9.750290</td>\n",
       "      <td>8.566906</td>\n",
       "      <td>46.698730</td>\n",
       "      <td>55.344378</td>\n",
       "      <td>7.088566</td>\n",
       "      <td>2.372136</td>\n",
       "      <td>12.168075</td>\n",
       "      <td>3.374900</td>\n",
       "      <td>144.624114</td>\n",
       "      <td>...</td>\n",
       "      <td>9.982989</td>\n",
       "      <td>-500.028043</td>\n",
       "      <td>7.965377</td>\n",
       "      <td>-488.798284</td>\n",
       "      <td>7.996653</td>\n",
       "      <td>-499.559603</td>\n",
       "      <td>6.016783</td>\n",
       "      <td>-499.757241</td>\n",
       "      <td>18.019812</td>\n",
       "      <td>-498.806308</td>\n",
       "    </tr>\n",
       "    <tr>\n",
       "      <td>2017-01-25 19:59:59</td>\n",
       "      <td>4.747915</td>\n",
       "      <td>8.491464</td>\n",
       "      <td>14.314861</td>\n",
       "      <td>46.779408</td>\n",
       "      <td>75.929354</td>\n",
       "      <td>12.281940</td>\n",
       "      <td>2.768913</td>\n",
       "      <td>10.422992</td>\n",
       "      <td>2.733403</td>\n",
       "      <td>135.208245</td>\n",
       "      <td>...</td>\n",
       "      <td>21.007754</td>\n",
       "      <td>-499.519966</td>\n",
       "      <td>21.051196</td>\n",
       "      <td>-500.462565</td>\n",
       "      <td>22.993052</td>\n",
       "      <td>-499.341904</td>\n",
       "      <td>20.006021</td>\n",
       "      <td>-500.046931</td>\n",
       "      <td>24.999905</td>\n",
       "      <td>-599.854852</td>\n",
       "    </tr>\n",
       "    <tr>\n",
       "      <td>2016-08-31 15:59:59</td>\n",
       "      <td>7.560386</td>\n",
       "      <td>9.647027</td>\n",
       "      <td>12.683310</td>\n",
       "      <td>41.417193</td>\n",
       "      <td>71.115483</td>\n",
       "      <td>10.934715</td>\n",
       "      <td>2.904443</td>\n",
       "      <td>10.982861</td>\n",
       "      <td>3.816730</td>\n",
       "      <td>200.335223</td>\n",
       "      <td>...</td>\n",
       "      <td>11.992888</td>\n",
       "      <td>-500.107243</td>\n",
       "      <td>7.968164</td>\n",
       "      <td>-501.097615</td>\n",
       "      <td>8.046103</td>\n",
       "      <td>-503.089362</td>\n",
       "      <td>4.836604</td>\n",
       "      <td>-499.550797</td>\n",
       "      <td>29.979086</td>\n",
       "      <td>-499.628170</td>\n",
       "    </tr>\n",
       "    <tr>\n",
       "      <td>2016-07-31 20:59:59</td>\n",
       "      <td>4.787784</td>\n",
       "      <td>10.304735</td>\n",
       "      <td>8.409510</td>\n",
       "      <td>44.568697</td>\n",
       "      <td>63.237748</td>\n",
       "      <td>7.984134</td>\n",
       "      <td>2.798541</td>\n",
       "      <td>9.223604</td>\n",
       "      <td>3.541334</td>\n",
       "      <td>121.573871</td>\n",
       "      <td>...</td>\n",
       "      <td>20.014075</td>\n",
       "      <td>-400.252227</td>\n",
       "      <td>10.004666</td>\n",
       "      <td>-399.163827</td>\n",
       "      <td>9.989834</td>\n",
       "      <td>-399.963984</td>\n",
       "      <td>4.949358</td>\n",
       "      <td>-400.305299</td>\n",
       "      <td>22.985040</td>\n",
       "      <td>-499.850203</td>\n",
       "    </tr>\n",
       "  </tbody>\n",
       "</table>\n",
       "<p>10 rows × 86 columns</p>\n",
       "</div>"
      ],
      "text/plain": [
       "                     final.output.concentrate_ag  final.output.concentrate_pb  \\\n",
       "date                                                                            \n",
       "2017-08-22 09:59:59                     3.630774                    12.444877   \n",
       "2016-07-25 13:59:59                     7.098586                     7.781250   \n",
       "2017-08-17 15:59:59                     3.853277                    10.863174   \n",
       "2018-04-07 22:59:59                     5.157484                    10.438864   \n",
       "2017-08-20 21:59:59                     4.287216                    11.634799   \n",
       "2016-02-27 17:00:00                     6.150662                    11.589650   \n",
       "2016-06-01 07:59:59                     3.465989                     9.750290   \n",
       "2017-01-25 19:59:59                     4.747915                     8.491464   \n",
       "2016-08-31 15:59:59                     7.560386                     9.647027   \n",
       "2016-07-31 20:59:59                     4.787784                    10.304735   \n",
       "\n",
       "                     final.output.concentrate_sol  \\\n",
       "date                                                \n",
       "2017-08-22 09:59:59                      9.151632   \n",
       "2016-07-25 13:59:59                     14.458937   \n",
       "2017-08-17 15:59:59                     10.496114   \n",
       "2018-04-07 22:59:59                      7.906514   \n",
       "2017-08-20 21:59:59                      8.329078   \n",
       "2016-02-27 17:00:00                     14.171450   \n",
       "2016-06-01 07:59:59                      8.566906   \n",
       "2017-01-25 19:59:59                     14.314861   \n",
       "2016-08-31 15:59:59                     12.683310   \n",
       "2016-07-31 20:59:59                      8.409510   \n",
       "\n",
       "                     final.output.concentrate_au  final.output.recovery  \\\n",
       "date                                                                      \n",
       "2017-08-22 09:59:59                    45.823344              65.233523   \n",
       "2016-07-25 13:59:59                    43.516017              73.912046   \n",
       "2017-08-17 15:59:59                    47.107500              70.218572   \n",
       "2018-04-07 22:59:59                    46.062015              66.643280   \n",
       "2017-08-20 21:59:59                    45.854003              75.273013   \n",
       "2016-02-27 17:00:00                    40.519778              67.527192   \n",
       "2016-06-01 07:59:59                    46.698730              55.344378   \n",
       "2017-01-25 19:59:59                    46.779408              75.929354   \n",
       "2016-08-31 15:59:59                    41.417193              71.115483   \n",
       "2016-07-31 20:59:59                    44.568697              63.237748   \n",
       "\n",
       "                     final.output.tail_ag  final.output.tail_pb  \\\n",
       "date                                                              \n",
       "2017-08-22 09:59:59              7.369188              4.293524   \n",
       "2016-07-25 13:59:59             11.187188              1.894294   \n",
       "2017-08-17 15:59:59              6.904367              2.820778   \n",
       "2018-04-07 22:59:59              9.566419              1.509908   \n",
       "2017-08-20 21:59:59              7.006367              3.161607   \n",
       "2016-02-27 17:00:00             11.848911              1.316706   \n",
       "2016-06-01 07:59:59              7.088566              2.372136   \n",
       "2017-01-25 19:59:59             12.281940              2.768913   \n",
       "2016-08-31 15:59:59             10.934715              2.904443   \n",
       "2016-07-31 20:59:59              7.984134              2.798541   \n",
       "\n",
       "                     final.output.tail_sol  final.output.tail_au  \\\n",
       "date                                                               \n",
       "2017-08-22 09:59:59              11.936464              3.083777   \n",
       "2016-07-25 13:59:59              11.741698              2.580901   \n",
       "2017-08-17 15:59:59              11.859835              2.531273   \n",
       "2018-04-07 22:59:59               6.779638              1.997400   \n",
       "2017-08-20 21:59:59              11.319133              2.249947   \n",
       "2016-02-27 17:00:00              10.458420              2.348108   \n",
       "2016-06-01 07:59:59              12.168075              3.374900   \n",
       "2017-01-25 19:59:59              10.422992              2.733403   \n",
       "2016-08-31 15:59:59              10.982861              3.816730   \n",
       "2016-07-31 20:59:59               9.223604              3.541334   \n",
       "\n",
       "                     primary_cleaner.input.sulfate  ...  \\\n",
       "date                                                ...   \n",
       "2017-08-22 09:59:59                     183.959368  ...   \n",
       "2016-07-25 13:59:59                     156.230509  ...   \n",
       "2017-08-17 15:59:59                     137.653488  ...   \n",
       "2018-04-07 22:59:59                     101.219538  ...   \n",
       "2017-08-20 21:59:59                     155.041986  ...   \n",
       "2016-02-27 17:00:00                     192.869760  ...   \n",
       "2016-06-01 07:59:59                     144.624114  ...   \n",
       "2017-01-25 19:59:59                     135.208245  ...   \n",
       "2016-08-31 15:59:59                     200.335223  ...   \n",
       "2016-07-31 20:59:59                     121.573871  ...   \n",
       "\n",
       "                     secondary_cleaner.state.floatbank4_a_air  \\\n",
       "date                                                            \n",
       "2017-08-22 09:59:59                                 14.447895   \n",
       "2016-07-25 13:59:59                                 20.046509   \n",
       "2017-08-17 15:59:59                                 14.536658   \n",
       "2018-04-07 22:59:59                                 22.972049   \n",
       "2017-08-20 21:59:59                                 14.531119   \n",
       "2016-02-27 17:00:00                                 14.020261   \n",
       "2016-06-01 07:59:59                                  9.982989   \n",
       "2017-01-25 19:59:59                                 21.007754   \n",
       "2016-08-31 15:59:59                                 11.992888   \n",
       "2016-07-31 20:59:59                                 20.014075   \n",
       "\n",
       "                     secondary_cleaner.state.floatbank4_a_level  \\\n",
       "date                                                              \n",
       "2017-08-22 09:59:59                                 -502.344600   \n",
       "2016-07-25 13:59:59                                 -399.453816   \n",
       "2017-08-17 15:59:59                                 -499.513348   \n",
       "2018-04-07 22:59:59                                 -476.586569   \n",
       "2017-08-20 21:59:59                                 -497.285679   \n",
       "2016-02-27 17:00:00                                 -502.450763   \n",
       "2016-06-01 07:59:59                                 -500.028043   \n",
       "2017-01-25 19:59:59                                 -499.519966   \n",
       "2016-08-31 15:59:59                                 -500.107243   \n",
       "2016-07-31 20:59:59                                 -400.252227   \n",
       "\n",
       "                     secondary_cleaner.state.floatbank4_b_air  \\\n",
       "date                                                            \n",
       "2017-08-22 09:59:59                                 10.899791   \n",
       "2016-07-25 13:59:59                                 10.059994   \n",
       "2017-08-17 15:59:59                                 10.932128   \n",
       "2018-04-07 22:59:59                                 15.848864   \n",
       "2017-08-20 21:59:59                                 10.977458   \n",
       "2016-02-27 17:00:00                                 13.867906   \n",
       "2016-06-01 07:59:59                                  7.965377   \n",
       "2017-01-25 19:59:59                                 21.051196   \n",
       "2016-08-31 15:59:59                                  7.968164   \n",
       "2016-07-31 20:59:59                                 10.004666   \n",
       "\n",
       "                     secondary_cleaner.state.floatbank4_b_level  \\\n",
       "date                                                              \n",
       "2017-08-22 09:59:59                                 -400.377630   \n",
       "2016-07-25 13:59:59                                 -400.217856   \n",
       "2017-08-17 15:59:59                                 -399.825709   \n",
       "2018-04-07 22:59:59                                 -468.301739   \n",
       "2017-08-20 21:59:59                                 -399.692597   \n",
       "2016-02-27 17:00:00                                 -499.820943   \n",
       "2016-06-01 07:59:59                                 -488.798284   \n",
       "2017-01-25 19:59:59                                 -500.462565   \n",
       "2016-08-31 15:59:59                                 -501.097615   \n",
       "2016-07-31 20:59:59                                 -399.163827   \n",
       "\n",
       "                     secondary_cleaner.state.floatbank5_a_air  \\\n",
       "date                                                            \n",
       "2017-08-22 09:59:59                                 13.949764   \n",
       "2016-07-25 13:59:59                                 10.038001   \n",
       "2017-08-17 15:59:59                                 13.999050   \n",
       "2018-04-07 22:59:59                                 21.992419   \n",
       "2017-08-20 21:59:59                                 14.000968   \n",
       "2016-02-27 17:00:00                                 11.995791   \n",
       "2016-06-01 07:59:59                                  7.996653   \n",
       "2017-01-25 19:59:59                                 22.993052   \n",
       "2016-08-31 15:59:59                                  8.046103   \n",
       "2016-07-31 20:59:59                                  9.989834   \n",
       "\n",
       "                     secondary_cleaner.state.floatbank5_a_level  \\\n",
       "date                                                              \n",
       "2017-08-22 09:59:59                                 -501.018257   \n",
       "2016-07-25 13:59:59                                 -401.520184   \n",
       "2017-08-17 15:59:59                                 -500.436472   \n",
       "2018-04-07 22:59:59                                 -490.581695   \n",
       "2017-08-20 21:59:59                                 -499.434386   \n",
       "2016-02-27 17:00:00                                 -514.106894   \n",
       "2016-06-01 07:59:59                                 -499.559603   \n",
       "2017-01-25 19:59:59                                 -499.341904   \n",
       "2016-08-31 15:59:59                                 -503.089362   \n",
       "2016-07-31 20:59:59                                 -399.963984   \n",
       "\n",
       "                     secondary_cleaner.state.floatbank5_b_air  \\\n",
       "date                                                            \n",
       "2017-08-22 09:59:59                                 11.024466   \n",
       "2016-07-25 13:59:59                                  4.935227   \n",
       "2017-08-17 15:59:59                                 10.993243   \n",
       "2018-04-07 22:59:59                                 14.014854   \n",
       "2017-08-20 21:59:59                                 11.004087   \n",
       "2016-02-27 17:00:00                                 10.025954   \n",
       "2016-06-01 07:59:59                                  6.016783   \n",
       "2017-01-25 19:59:59                                 20.006021   \n",
       "2016-08-31 15:59:59                                  4.836604   \n",
       "2016-07-31 20:59:59                                  4.949358   \n",
       "\n",
       "                     secondary_cleaner.state.floatbank5_b_level  \\\n",
       "date                                                              \n",
       "2017-08-22 09:59:59                                 -500.176384   \n",
       "2016-07-25 13:59:59                                 -399.372895   \n",
       "2017-08-17 15:59:59                                 -500.373457   \n",
       "2018-04-07 22:59:59                                 -499.491216   \n",
       "2017-08-20 21:59:59                                 -499.742137   \n",
       "2016-02-27 17:00:00                                 -499.915861   \n",
       "2016-06-01 07:59:59                                 -499.757241   \n",
       "2017-01-25 19:59:59                                 -500.046931   \n",
       "2016-08-31 15:59:59                                 -499.550797   \n",
       "2016-07-31 20:59:59                                 -400.305299   \n",
       "\n",
       "                     secondary_cleaner.state.floatbank6_a_air  \\\n",
       "date                                                            \n",
       "2017-08-22 09:59:59                                 14.992524   \n",
       "2016-07-25 13:59:59                                 22.956102   \n",
       "2017-08-17 15:59:59                                 15.013436   \n",
       "2018-04-07 22:59:59                                 13.005891   \n",
       "2017-08-20 21:59:59                                 14.987397   \n",
       "2016-02-27 17:00:00                                 20.026342   \n",
       "2016-06-01 07:59:59                                 18.019812   \n",
       "2017-01-25 19:59:59                                 24.999905   \n",
       "2016-08-31 15:59:59                                 29.979086   \n",
       "2016-07-31 20:59:59                                 22.985040   \n",
       "\n",
       "                     secondary_cleaner.state.floatbank6_a_level  \n",
       "date                                                             \n",
       "2017-08-22 09:59:59                                 -500.412995  \n",
       "2016-07-25 13:59:59                                 -498.613956  \n",
       "2017-08-17 15:59:59                                 -500.215037  \n",
       "2018-04-07 22:59:59                                 -498.654711  \n",
       "2017-08-20 21:59:59                                 -499.613335  \n",
       "2016-02-27 17:00:00                                 -508.394147  \n",
       "2016-06-01 07:59:59                                 -498.806308  \n",
       "2017-01-25 19:59:59                                 -599.854852  \n",
       "2016-08-31 15:59:59                                 -499.628170  \n",
       "2016-07-31 20:59:59                                 -499.850203  \n",
       "\n",
       "[10 rows x 86 columns]"
      ]
     },
     "metadata": {},
     "output_type": "display_data"
    },
    {
     "name": "stdout",
     "output_type": "stream",
     "text": [
      "<class 'pandas.core.frame.DataFrame'>\n",
      "Index: 16860 entries, 2016-01-15 00:00:00 to 2018-08-18 10:59:59\n",
      "Data columns (total 86 columns):\n",
      "final.output.concentrate_ag                           16788 non-null float64\n",
      "final.output.concentrate_pb                           16788 non-null float64\n",
      "final.output.concentrate_sol                          16490 non-null float64\n",
      "final.output.concentrate_au                           16789 non-null float64\n",
      "final.output.recovery                                 15339 non-null float64\n",
      "final.output.tail_ag                                  16794 non-null float64\n",
      "final.output.tail_pb                                  16677 non-null float64\n",
      "final.output.tail_sol                                 16715 non-null float64\n",
      "final.output.tail_au                                  16794 non-null float64\n",
      "primary_cleaner.input.sulfate                         15553 non-null float64\n",
      "primary_cleaner.input.depressant                      15598 non-null float64\n",
      "primary_cleaner.input.feed_size                       16860 non-null float64\n",
      "primary_cleaner.input.xanthate                        15875 non-null float64\n",
      "primary_cleaner.output.concentrate_ag                 16778 non-null float64\n",
      "primary_cleaner.output.concentrate_pb                 16502 non-null float64\n",
      "primary_cleaner.output.concentrate_sol                16224 non-null float64\n",
      "primary_cleaner.output.concentrate_au                 16778 non-null float64\n",
      "primary_cleaner.output.tail_ag                        16777 non-null float64\n",
      "primary_cleaner.output.tail_pb                        16761 non-null float64\n",
      "primary_cleaner.output.tail_sol                       16579 non-null float64\n",
      "primary_cleaner.output.tail_au                        16777 non-null float64\n",
      "primary_cleaner.state.floatbank8_a_air                16820 non-null float64\n",
      "primary_cleaner.state.floatbank8_a_level              16827 non-null float64\n",
      "primary_cleaner.state.floatbank8_b_air                16820 non-null float64\n",
      "primary_cleaner.state.floatbank8_b_level              16833 non-null float64\n",
      "primary_cleaner.state.floatbank8_c_air                16822 non-null float64\n",
      "primary_cleaner.state.floatbank8_c_level              16833 non-null float64\n",
      "primary_cleaner.state.floatbank8_d_air                16821 non-null float64\n",
      "primary_cleaner.state.floatbank8_d_level              16833 non-null float64\n",
      "rougher.calculation.sulfate_to_au_concentrate         16833 non-null float64\n",
      "rougher.calculation.floatbank10_sulfate_to_au_feed    16833 non-null float64\n",
      "rougher.calculation.floatbank11_sulfate_to_au_feed    16833 non-null float64\n",
      "rougher.calculation.au_pb_ratio                       15618 non-null float64\n",
      "rougher.input.feed_ag                                 16778 non-null float64\n",
      "rougher.input.feed_pb                                 16632 non-null float64\n",
      "rougher.input.feed_rate                               16347 non-null float64\n",
      "rougher.input.feed_size                               16443 non-null float64\n",
      "rougher.input.feed_sol                                16568 non-null float64\n",
      "rougher.input.feed_au                                 16777 non-null float64\n",
      "rougher.input.floatbank10_sulfate                     15816 non-null float64\n",
      "rougher.input.floatbank10_xanthate                    16514 non-null float64\n",
      "rougher.input.floatbank11_sulfate                     16237 non-null float64\n",
      "rougher.input.floatbank11_xanthate                    14956 non-null float64\n",
      "rougher.output.concentrate_ag                         16778 non-null float64\n",
      "rougher.output.concentrate_pb                         16778 non-null float64\n",
      "rougher.output.concentrate_sol                        16698 non-null float64\n",
      "rougher.output.concentrate_au                         16778 non-null float64\n",
      "rougher.output.recovery                               14287 non-null float64\n",
      "rougher.output.tail_ag                                14610 non-null float64\n",
      "rougher.output.tail_pb                                16778 non-null float64\n",
      "rougher.output.tail_sol                               14611 non-null float64\n",
      "rougher.output.tail_au                                14611 non-null float64\n",
      "rougher.state.floatbank10_a_air                       16807 non-null float64\n",
      "rougher.state.floatbank10_a_level                     16807 non-null float64\n",
      "rougher.state.floatbank10_b_air                       16807 non-null float64\n",
      "rougher.state.floatbank10_b_level                     16807 non-null float64\n",
      "rougher.state.floatbank10_c_air                       16807 non-null float64\n",
      "rougher.state.floatbank10_c_level                     16814 non-null float64\n",
      "rougher.state.floatbank10_d_air                       16802 non-null float64\n",
      "rougher.state.floatbank10_d_level                     16809 non-null float64\n",
      "rougher.state.floatbank10_e_air                       16257 non-null float64\n",
      "rougher.state.floatbank10_e_level                     16809 non-null float64\n",
      "rougher.state.floatbank10_f_air                       16802 non-null float64\n",
      "rougher.state.floatbank10_f_level                     16802 non-null float64\n",
      "secondary_cleaner.output.tail_ag                      16776 non-null float64\n",
      "secondary_cleaner.output.tail_pb                      16764 non-null float64\n",
      "secondary_cleaner.output.tail_sol                     14874 non-null float64\n",
      "secondary_cleaner.output.tail_au                      16778 non-null float64\n",
      "secondary_cleaner.state.floatbank2_a_air              16497 non-null float64\n",
      "secondary_cleaner.state.floatbank2_a_level            16751 non-null float64\n",
      "secondary_cleaner.state.floatbank2_b_air              16705 non-null float64\n",
      "secondary_cleaner.state.floatbank2_b_level            16748 non-null float64\n",
      "secondary_cleaner.state.floatbank3_a_air              16763 non-null float64\n",
      "secondary_cleaner.state.floatbank3_a_level            16747 non-null float64\n",
      "secondary_cleaner.state.floatbank3_b_air              16752 non-null float64\n",
      "secondary_cleaner.state.floatbank3_b_level            16750 non-null float64\n",
      "secondary_cleaner.state.floatbank4_a_air              16731 non-null float64\n",
      "secondary_cleaner.state.floatbank4_a_level            16747 non-null float64\n",
      "secondary_cleaner.state.floatbank4_b_air              16768 non-null float64\n",
      "secondary_cleaner.state.floatbank4_b_level            16767 non-null float64\n",
      "secondary_cleaner.state.floatbank5_a_air              16775 non-null float64\n",
      "secondary_cleaner.state.floatbank5_a_level            16775 non-null float64\n",
      "secondary_cleaner.state.floatbank5_b_air              16775 non-null float64\n",
      "secondary_cleaner.state.floatbank5_b_level            16776 non-null float64\n",
      "secondary_cleaner.state.floatbank6_a_air              16757 non-null float64\n",
      "secondary_cleaner.state.floatbank6_a_level            16775 non-null float64\n",
      "dtypes: float64(86)\n",
      "memory usage: 12.3 MB\n",
      "Дубликатов: 16\n"
     ]
    }
   ],
   "source": [
    "train_df = read_and_print_info('/datasets/gold_recovery_train.csv', index_col='date')"
   ]
  },
  {
   "cell_type": "markdown",
   "metadata": {},
   "source": [
    "Тестовые данные"
   ]
  },
  {
   "cell_type": "code",
   "execution_count": 6,
   "metadata": {
    "scrolled": false
   },
   "outputs": [
    {
     "data": {
      "text/html": [
       "<div>\n",
       "<style scoped>\n",
       "    .dataframe tbody tr th:only-of-type {\n",
       "        vertical-align: middle;\n",
       "    }\n",
       "\n",
       "    .dataframe tbody tr th {\n",
       "        vertical-align: top;\n",
       "    }\n",
       "\n",
       "    .dataframe thead th {\n",
       "        text-align: right;\n",
       "    }\n",
       "</style>\n",
       "<table border=\"1\" class=\"dataframe\">\n",
       "  <thead>\n",
       "    <tr style=\"text-align: right;\">\n",
       "      <th></th>\n",
       "      <th>primary_cleaner.input.sulfate</th>\n",
       "      <th>primary_cleaner.input.depressant</th>\n",
       "      <th>primary_cleaner.input.feed_size</th>\n",
       "      <th>primary_cleaner.input.xanthate</th>\n",
       "      <th>primary_cleaner.state.floatbank8_a_air</th>\n",
       "      <th>primary_cleaner.state.floatbank8_a_level</th>\n",
       "      <th>primary_cleaner.state.floatbank8_b_air</th>\n",
       "      <th>primary_cleaner.state.floatbank8_b_level</th>\n",
       "      <th>primary_cleaner.state.floatbank8_c_air</th>\n",
       "      <th>primary_cleaner.state.floatbank8_c_level</th>\n",
       "      <th>...</th>\n",
       "      <th>secondary_cleaner.state.floatbank4_a_air</th>\n",
       "      <th>secondary_cleaner.state.floatbank4_a_level</th>\n",
       "      <th>secondary_cleaner.state.floatbank4_b_air</th>\n",
       "      <th>secondary_cleaner.state.floatbank4_b_level</th>\n",
       "      <th>secondary_cleaner.state.floatbank5_a_air</th>\n",
       "      <th>secondary_cleaner.state.floatbank5_a_level</th>\n",
       "      <th>secondary_cleaner.state.floatbank5_b_air</th>\n",
       "      <th>secondary_cleaner.state.floatbank5_b_level</th>\n",
       "      <th>secondary_cleaner.state.floatbank6_a_air</th>\n",
       "      <th>secondary_cleaner.state.floatbank6_a_level</th>\n",
       "    </tr>\n",
       "    <tr>\n",
       "      <th>date</th>\n",
       "      <th></th>\n",
       "      <th></th>\n",
       "      <th></th>\n",
       "      <th></th>\n",
       "      <th></th>\n",
       "      <th></th>\n",
       "      <th></th>\n",
       "      <th></th>\n",
       "      <th></th>\n",
       "      <th></th>\n",
       "      <th></th>\n",
       "      <th></th>\n",
       "      <th></th>\n",
       "      <th></th>\n",
       "      <th></th>\n",
       "      <th></th>\n",
       "      <th></th>\n",
       "      <th></th>\n",
       "      <th></th>\n",
       "      <th></th>\n",
       "      <th></th>\n",
       "    </tr>\n",
       "  </thead>\n",
       "  <tbody>\n",
       "    <tr>\n",
       "      <td>2016-11-29 15:59:59</td>\n",
       "      <td>200.440981</td>\n",
       "      <td>8.989504</td>\n",
       "      <td>6.45</td>\n",
       "      <td>1.294698</td>\n",
       "      <td>1.505875e+03</td>\n",
       "      <td>-499.305931</td>\n",
       "      <td>1.497945e+03</td>\n",
       "      <td>-500.383889</td>\n",
       "      <td>1.502629e+03</td>\n",
       "      <td>-498.640401</td>\n",
       "      <td>...</td>\n",
       "      <td>1.797065e+01</td>\n",
       "      <td>-502.109712</td>\n",
       "      <td>1.590629e+01</td>\n",
       "      <td>-500.866239</td>\n",
       "      <td>17.080170</td>\n",
       "      <td>-510.316695</td>\n",
       "      <td>11.960807</td>\n",
       "      <td>-487.138876</td>\n",
       "      <td>22.001499</td>\n",
       "      <td>-501.536470</td>\n",
       "    </tr>\n",
       "    <tr>\n",
       "      <td>2016-12-30 09:59:59</td>\n",
       "      <td>107.351376</td>\n",
       "      <td>8.695212</td>\n",
       "      <td>7.61</td>\n",
       "      <td>0.811388</td>\n",
       "      <td>1.621690e+03</td>\n",
       "      <td>-500.460291</td>\n",
       "      <td>1.664816e+03</td>\n",
       "      <td>-500.593633</td>\n",
       "      <td>1.666290e+03</td>\n",
       "      <td>-502.642587</td>\n",
       "      <td>...</td>\n",
       "      <td>1.699781e+01</td>\n",
       "      <td>-500.071534</td>\n",
       "      <td>1.495110e+01</td>\n",
       "      <td>-500.720698</td>\n",
       "      <td>13.863519</td>\n",
       "      <td>-499.516203</td>\n",
       "      <td>12.009955</td>\n",
       "      <td>-478.856470</td>\n",
       "      <td>20.010141</td>\n",
       "      <td>-500.638588</td>\n",
       "    </tr>\n",
       "    <tr>\n",
       "      <td>2017-12-09 12:59:59</td>\n",
       "      <td>230.575915</td>\n",
       "      <td>10.011104</td>\n",
       "      <td>8.13</td>\n",
       "      <td>1.084109</td>\n",
       "      <td>1.550217e+03</td>\n",
       "      <td>-496.146875</td>\n",
       "      <td>1.547779e+03</td>\n",
       "      <td>-510.734253</td>\n",
       "      <td>1.553476e+03</td>\n",
       "      <td>-489.764181</td>\n",
       "      <td>...</td>\n",
       "      <td>2.002579e+01</td>\n",
       "      <td>-500.016951</td>\n",
       "      <td>1.504050e+01</td>\n",
       "      <td>-298.482880</td>\n",
       "      <td>10.954416</td>\n",
       "      <td>-498.921859</td>\n",
       "      <td>8.021618</td>\n",
       "      <td>-499.884161</td>\n",
       "      <td>12.014300</td>\n",
       "      <td>-500.004565</td>\n",
       "    </tr>\n",
       "    <tr>\n",
       "      <td>2016-10-08 09:59:59</td>\n",
       "      <td>194.544208</td>\n",
       "      <td>6.993354</td>\n",
       "      <td>6.82</td>\n",
       "      <td>1.002629</td>\n",
       "      <td>1.545989e+03</td>\n",
       "      <td>-500.678196</td>\n",
       "      <td>1.546159e+03</td>\n",
       "      <td>-500.646840</td>\n",
       "      <td>1.548674e+03</td>\n",
       "      <td>-499.657659</td>\n",
       "      <td>...</td>\n",
       "      <td>1.197139e+01</td>\n",
       "      <td>-500.182209</td>\n",
       "      <td>1.189249e+01</td>\n",
       "      <td>-500.954249</td>\n",
       "      <td>9.757431</td>\n",
       "      <td>-501.320156</td>\n",
       "      <td>7.070220</td>\n",
       "      <td>-500.092482</td>\n",
       "      <td>18.016516</td>\n",
       "      <td>-501.125955</td>\n",
       "    </tr>\n",
       "    <tr>\n",
       "      <td>2017-10-02 09:59:59</td>\n",
       "      <td>171.184461</td>\n",
       "      <td>6.515252</td>\n",
       "      <td>7.25</td>\n",
       "      <td>2.208087</td>\n",
       "      <td>1.569983e+03</td>\n",
       "      <td>-497.222517</td>\n",
       "      <td>1.599225e+03</td>\n",
       "      <td>-507.501563</td>\n",
       "      <td>1.600412e+03</td>\n",
       "      <td>-500.699286</td>\n",
       "      <td>...</td>\n",
       "      <td>1.698324e+01</td>\n",
       "      <td>-493.691411</td>\n",
       "      <td>1.497708e+01</td>\n",
       "      <td>-218.102868</td>\n",
       "      <td>13.033126</td>\n",
       "      <td>-501.100621</td>\n",
       "      <td>11.025563</td>\n",
       "      <td>-500.268851</td>\n",
       "      <td>15.017333</td>\n",
       "      <td>-500.458878</td>\n",
       "    </tr>\n",
       "    <tr>\n",
       "      <td>2017-09-05 08:59:59</td>\n",
       "      <td>NaN</td>\n",
       "      <td>NaN</td>\n",
       "      <td>6.44</td>\n",
       "      <td>0.000156</td>\n",
       "      <td>4.061995e-18</td>\n",
       "      <td>-798.229102</td>\n",
       "      <td>1.357296e-16</td>\n",
       "      <td>-799.992713</td>\n",
       "      <td>9.284498e-17</td>\n",
       "      <td>-799.939911</td>\n",
       "      <td>...</td>\n",
       "      <td>1.938078e-16</td>\n",
       "      <td>-799.696899</td>\n",
       "      <td>1.481386e-17</td>\n",
       "      <td>-799.869378</td>\n",
       "      <td>0.528981</td>\n",
       "      <td>-798.463900</td>\n",
       "      <td>0.543339</td>\n",
       "      <td>-800.034726</td>\n",
       "      <td>0.284808</td>\n",
       "      <td>-809.716366</td>\n",
       "    </tr>\n",
       "    <tr>\n",
       "      <td>2017-12-02 09:59:59</td>\n",
       "      <td>200.735410</td>\n",
       "      <td>7.980761</td>\n",
       "      <td>7.68</td>\n",
       "      <td>1.904382</td>\n",
       "      <td>1.472192e+03</td>\n",
       "      <td>-507.647953</td>\n",
       "      <td>1.469890e+03</td>\n",
       "      <td>-477.002997</td>\n",
       "      <td>1.471912e+03</td>\n",
       "      <td>-501.171876</td>\n",
       "      <td>...</td>\n",
       "      <td>1.700197e+01</td>\n",
       "      <td>-497.841939</td>\n",
       "      <td>1.493616e+01</td>\n",
       "      <td>-491.575859</td>\n",
       "      <td>10.986770</td>\n",
       "      <td>-503.940989</td>\n",
       "      <td>8.995409</td>\n",
       "      <td>-499.980090</td>\n",
       "      <td>23.012554</td>\n",
       "      <td>-500.130941</td>\n",
       "    </tr>\n",
       "    <tr>\n",
       "      <td>2016-11-29 21:59:59</td>\n",
       "      <td>207.735847</td>\n",
       "      <td>7.041582</td>\n",
       "      <td>6.89</td>\n",
       "      <td>1.495688</td>\n",
       "      <td>1.502283e+03</td>\n",
       "      <td>-499.739149</td>\n",
       "      <td>1.501568e+03</td>\n",
       "      <td>-500.662423</td>\n",
       "      <td>1.502110e+03</td>\n",
       "      <td>-500.813240</td>\n",
       "      <td>...</td>\n",
       "      <td>1.799755e+01</td>\n",
       "      <td>-481.270089</td>\n",
       "      <td>1.588472e+01</td>\n",
       "      <td>-462.832350</td>\n",
       "      <td>17.958928</td>\n",
       "      <td>-495.214054</td>\n",
       "      <td>12.007438</td>\n",
       "      <td>-473.066574</td>\n",
       "      <td>22.005673</td>\n",
       "      <td>-501.000657</td>\n",
       "    </tr>\n",
       "    <tr>\n",
       "      <td>2016-09-14 04:59:59</td>\n",
       "      <td>2.143538</td>\n",
       "      <td>0.020969</td>\n",
       "      <td>7.70</td>\n",
       "      <td>NaN</td>\n",
       "      <td>1.397846e+03</td>\n",
       "      <td>-573.022478</td>\n",
       "      <td>1.396033e+03</td>\n",
       "      <td>-498.565546</td>\n",
       "      <td>1.398991e+03</td>\n",
       "      <td>-500.341936</td>\n",
       "      <td>...</td>\n",
       "      <td>8.005426e+00</td>\n",
       "      <td>-500.207464</td>\n",
       "      <td>4.821653e+00</td>\n",
       "      <td>-500.045164</td>\n",
       "      <td>7.901824</td>\n",
       "      <td>-500.238201</td>\n",
       "      <td>3.034199</td>\n",
       "      <td>-500.755768</td>\n",
       "      <td>20.021737</td>\n",
       "      <td>-500.466260</td>\n",
       "    </tr>\n",
       "    <tr>\n",
       "      <td>2017-09-28 08:59:59</td>\n",
       "      <td>146.280959</td>\n",
       "      <td>6.512005</td>\n",
       "      <td>6.00</td>\n",
       "      <td>1.913792</td>\n",
       "      <td>1.531516e+03</td>\n",
       "      <td>-501.195862</td>\n",
       "      <td>1.521877e+03</td>\n",
       "      <td>-494.448755</td>\n",
       "      <td>1.598292e+03</td>\n",
       "      <td>-501.010580</td>\n",
       "      <td>...</td>\n",
       "      <td>1.700034e+01</td>\n",
       "      <td>-501.003678</td>\n",
       "      <td>1.494977e+01</td>\n",
       "      <td>-399.282541</td>\n",
       "      <td>13.028747</td>\n",
       "      <td>-499.971962</td>\n",
       "      <td>10.991540</td>\n",
       "      <td>-500.231042</td>\n",
       "      <td>14.998528</td>\n",
       "      <td>-500.370139</td>\n",
       "    </tr>\n",
       "  </tbody>\n",
       "</table>\n",
       "<p>10 rows × 52 columns</p>\n",
       "</div>"
      ],
      "text/plain": [
       "                     primary_cleaner.input.sulfate  \\\n",
       "date                                                 \n",
       "2016-11-29 15:59:59                     200.440981   \n",
       "2016-12-30 09:59:59                     107.351376   \n",
       "2017-12-09 12:59:59                     230.575915   \n",
       "2016-10-08 09:59:59                     194.544208   \n",
       "2017-10-02 09:59:59                     171.184461   \n",
       "2017-09-05 08:59:59                            NaN   \n",
       "2017-12-02 09:59:59                     200.735410   \n",
       "2016-11-29 21:59:59                     207.735847   \n",
       "2016-09-14 04:59:59                       2.143538   \n",
       "2017-09-28 08:59:59                     146.280959   \n",
       "\n",
       "                     primary_cleaner.input.depressant  \\\n",
       "date                                                    \n",
       "2016-11-29 15:59:59                          8.989504   \n",
       "2016-12-30 09:59:59                          8.695212   \n",
       "2017-12-09 12:59:59                         10.011104   \n",
       "2016-10-08 09:59:59                          6.993354   \n",
       "2017-10-02 09:59:59                          6.515252   \n",
       "2017-09-05 08:59:59                               NaN   \n",
       "2017-12-02 09:59:59                          7.980761   \n",
       "2016-11-29 21:59:59                          7.041582   \n",
       "2016-09-14 04:59:59                          0.020969   \n",
       "2017-09-28 08:59:59                          6.512005   \n",
       "\n",
       "                     primary_cleaner.input.feed_size  \\\n",
       "date                                                   \n",
       "2016-11-29 15:59:59                             6.45   \n",
       "2016-12-30 09:59:59                             7.61   \n",
       "2017-12-09 12:59:59                             8.13   \n",
       "2016-10-08 09:59:59                             6.82   \n",
       "2017-10-02 09:59:59                             7.25   \n",
       "2017-09-05 08:59:59                             6.44   \n",
       "2017-12-02 09:59:59                             7.68   \n",
       "2016-11-29 21:59:59                             6.89   \n",
       "2016-09-14 04:59:59                             7.70   \n",
       "2017-09-28 08:59:59                             6.00   \n",
       "\n",
       "                     primary_cleaner.input.xanthate  \\\n",
       "date                                                  \n",
       "2016-11-29 15:59:59                        1.294698   \n",
       "2016-12-30 09:59:59                        0.811388   \n",
       "2017-12-09 12:59:59                        1.084109   \n",
       "2016-10-08 09:59:59                        1.002629   \n",
       "2017-10-02 09:59:59                        2.208087   \n",
       "2017-09-05 08:59:59                        0.000156   \n",
       "2017-12-02 09:59:59                        1.904382   \n",
       "2016-11-29 21:59:59                        1.495688   \n",
       "2016-09-14 04:59:59                             NaN   \n",
       "2017-09-28 08:59:59                        1.913792   \n",
       "\n",
       "                     primary_cleaner.state.floatbank8_a_air  \\\n",
       "date                                                          \n",
       "2016-11-29 15:59:59                            1.505875e+03   \n",
       "2016-12-30 09:59:59                            1.621690e+03   \n",
       "2017-12-09 12:59:59                            1.550217e+03   \n",
       "2016-10-08 09:59:59                            1.545989e+03   \n",
       "2017-10-02 09:59:59                            1.569983e+03   \n",
       "2017-09-05 08:59:59                            4.061995e-18   \n",
       "2017-12-02 09:59:59                            1.472192e+03   \n",
       "2016-11-29 21:59:59                            1.502283e+03   \n",
       "2016-09-14 04:59:59                            1.397846e+03   \n",
       "2017-09-28 08:59:59                            1.531516e+03   \n",
       "\n",
       "                     primary_cleaner.state.floatbank8_a_level  \\\n",
       "date                                                            \n",
       "2016-11-29 15:59:59                               -499.305931   \n",
       "2016-12-30 09:59:59                               -500.460291   \n",
       "2017-12-09 12:59:59                               -496.146875   \n",
       "2016-10-08 09:59:59                               -500.678196   \n",
       "2017-10-02 09:59:59                               -497.222517   \n",
       "2017-09-05 08:59:59                               -798.229102   \n",
       "2017-12-02 09:59:59                               -507.647953   \n",
       "2016-11-29 21:59:59                               -499.739149   \n",
       "2016-09-14 04:59:59                               -573.022478   \n",
       "2017-09-28 08:59:59                               -501.195862   \n",
       "\n",
       "                     primary_cleaner.state.floatbank8_b_air  \\\n",
       "date                                                          \n",
       "2016-11-29 15:59:59                            1.497945e+03   \n",
       "2016-12-30 09:59:59                            1.664816e+03   \n",
       "2017-12-09 12:59:59                            1.547779e+03   \n",
       "2016-10-08 09:59:59                            1.546159e+03   \n",
       "2017-10-02 09:59:59                            1.599225e+03   \n",
       "2017-09-05 08:59:59                            1.357296e-16   \n",
       "2017-12-02 09:59:59                            1.469890e+03   \n",
       "2016-11-29 21:59:59                            1.501568e+03   \n",
       "2016-09-14 04:59:59                            1.396033e+03   \n",
       "2017-09-28 08:59:59                            1.521877e+03   \n",
       "\n",
       "                     primary_cleaner.state.floatbank8_b_level  \\\n",
       "date                                                            \n",
       "2016-11-29 15:59:59                               -500.383889   \n",
       "2016-12-30 09:59:59                               -500.593633   \n",
       "2017-12-09 12:59:59                               -510.734253   \n",
       "2016-10-08 09:59:59                               -500.646840   \n",
       "2017-10-02 09:59:59                               -507.501563   \n",
       "2017-09-05 08:59:59                               -799.992713   \n",
       "2017-12-02 09:59:59                               -477.002997   \n",
       "2016-11-29 21:59:59                               -500.662423   \n",
       "2016-09-14 04:59:59                               -498.565546   \n",
       "2017-09-28 08:59:59                               -494.448755   \n",
       "\n",
       "                     primary_cleaner.state.floatbank8_c_air  \\\n",
       "date                                                          \n",
       "2016-11-29 15:59:59                            1.502629e+03   \n",
       "2016-12-30 09:59:59                            1.666290e+03   \n",
       "2017-12-09 12:59:59                            1.553476e+03   \n",
       "2016-10-08 09:59:59                            1.548674e+03   \n",
       "2017-10-02 09:59:59                            1.600412e+03   \n",
       "2017-09-05 08:59:59                            9.284498e-17   \n",
       "2017-12-02 09:59:59                            1.471912e+03   \n",
       "2016-11-29 21:59:59                            1.502110e+03   \n",
       "2016-09-14 04:59:59                            1.398991e+03   \n",
       "2017-09-28 08:59:59                            1.598292e+03   \n",
       "\n",
       "                     primary_cleaner.state.floatbank8_c_level  ...  \\\n",
       "date                                                           ...   \n",
       "2016-11-29 15:59:59                               -498.640401  ...   \n",
       "2016-12-30 09:59:59                               -502.642587  ...   \n",
       "2017-12-09 12:59:59                               -489.764181  ...   \n",
       "2016-10-08 09:59:59                               -499.657659  ...   \n",
       "2017-10-02 09:59:59                               -500.699286  ...   \n",
       "2017-09-05 08:59:59                               -799.939911  ...   \n",
       "2017-12-02 09:59:59                               -501.171876  ...   \n",
       "2016-11-29 21:59:59                               -500.813240  ...   \n",
       "2016-09-14 04:59:59                               -500.341936  ...   \n",
       "2017-09-28 08:59:59                               -501.010580  ...   \n",
       "\n",
       "                     secondary_cleaner.state.floatbank4_a_air  \\\n",
       "date                                                            \n",
       "2016-11-29 15:59:59                              1.797065e+01   \n",
       "2016-12-30 09:59:59                              1.699781e+01   \n",
       "2017-12-09 12:59:59                              2.002579e+01   \n",
       "2016-10-08 09:59:59                              1.197139e+01   \n",
       "2017-10-02 09:59:59                              1.698324e+01   \n",
       "2017-09-05 08:59:59                              1.938078e-16   \n",
       "2017-12-02 09:59:59                              1.700197e+01   \n",
       "2016-11-29 21:59:59                              1.799755e+01   \n",
       "2016-09-14 04:59:59                              8.005426e+00   \n",
       "2017-09-28 08:59:59                              1.700034e+01   \n",
       "\n",
       "                     secondary_cleaner.state.floatbank4_a_level  \\\n",
       "date                                                              \n",
       "2016-11-29 15:59:59                                 -502.109712   \n",
       "2016-12-30 09:59:59                                 -500.071534   \n",
       "2017-12-09 12:59:59                                 -500.016951   \n",
       "2016-10-08 09:59:59                                 -500.182209   \n",
       "2017-10-02 09:59:59                                 -493.691411   \n",
       "2017-09-05 08:59:59                                 -799.696899   \n",
       "2017-12-02 09:59:59                                 -497.841939   \n",
       "2016-11-29 21:59:59                                 -481.270089   \n",
       "2016-09-14 04:59:59                                 -500.207464   \n",
       "2017-09-28 08:59:59                                 -501.003678   \n",
       "\n",
       "                     secondary_cleaner.state.floatbank4_b_air  \\\n",
       "date                                                            \n",
       "2016-11-29 15:59:59                              1.590629e+01   \n",
       "2016-12-30 09:59:59                              1.495110e+01   \n",
       "2017-12-09 12:59:59                              1.504050e+01   \n",
       "2016-10-08 09:59:59                              1.189249e+01   \n",
       "2017-10-02 09:59:59                              1.497708e+01   \n",
       "2017-09-05 08:59:59                              1.481386e-17   \n",
       "2017-12-02 09:59:59                              1.493616e+01   \n",
       "2016-11-29 21:59:59                              1.588472e+01   \n",
       "2016-09-14 04:59:59                              4.821653e+00   \n",
       "2017-09-28 08:59:59                              1.494977e+01   \n",
       "\n",
       "                     secondary_cleaner.state.floatbank4_b_level  \\\n",
       "date                                                              \n",
       "2016-11-29 15:59:59                                 -500.866239   \n",
       "2016-12-30 09:59:59                                 -500.720698   \n",
       "2017-12-09 12:59:59                                 -298.482880   \n",
       "2016-10-08 09:59:59                                 -500.954249   \n",
       "2017-10-02 09:59:59                                 -218.102868   \n",
       "2017-09-05 08:59:59                                 -799.869378   \n",
       "2017-12-02 09:59:59                                 -491.575859   \n",
       "2016-11-29 21:59:59                                 -462.832350   \n",
       "2016-09-14 04:59:59                                 -500.045164   \n",
       "2017-09-28 08:59:59                                 -399.282541   \n",
       "\n",
       "                     secondary_cleaner.state.floatbank5_a_air  \\\n",
       "date                                                            \n",
       "2016-11-29 15:59:59                                 17.080170   \n",
       "2016-12-30 09:59:59                                 13.863519   \n",
       "2017-12-09 12:59:59                                 10.954416   \n",
       "2016-10-08 09:59:59                                  9.757431   \n",
       "2017-10-02 09:59:59                                 13.033126   \n",
       "2017-09-05 08:59:59                                  0.528981   \n",
       "2017-12-02 09:59:59                                 10.986770   \n",
       "2016-11-29 21:59:59                                 17.958928   \n",
       "2016-09-14 04:59:59                                  7.901824   \n",
       "2017-09-28 08:59:59                                 13.028747   \n",
       "\n",
       "                     secondary_cleaner.state.floatbank5_a_level  \\\n",
       "date                                                              \n",
       "2016-11-29 15:59:59                                 -510.316695   \n",
       "2016-12-30 09:59:59                                 -499.516203   \n",
       "2017-12-09 12:59:59                                 -498.921859   \n",
       "2016-10-08 09:59:59                                 -501.320156   \n",
       "2017-10-02 09:59:59                                 -501.100621   \n",
       "2017-09-05 08:59:59                                 -798.463900   \n",
       "2017-12-02 09:59:59                                 -503.940989   \n",
       "2016-11-29 21:59:59                                 -495.214054   \n",
       "2016-09-14 04:59:59                                 -500.238201   \n",
       "2017-09-28 08:59:59                                 -499.971962   \n",
       "\n",
       "                     secondary_cleaner.state.floatbank5_b_air  \\\n",
       "date                                                            \n",
       "2016-11-29 15:59:59                                 11.960807   \n",
       "2016-12-30 09:59:59                                 12.009955   \n",
       "2017-12-09 12:59:59                                  8.021618   \n",
       "2016-10-08 09:59:59                                  7.070220   \n",
       "2017-10-02 09:59:59                                 11.025563   \n",
       "2017-09-05 08:59:59                                  0.543339   \n",
       "2017-12-02 09:59:59                                  8.995409   \n",
       "2016-11-29 21:59:59                                 12.007438   \n",
       "2016-09-14 04:59:59                                  3.034199   \n",
       "2017-09-28 08:59:59                                 10.991540   \n",
       "\n",
       "                     secondary_cleaner.state.floatbank5_b_level  \\\n",
       "date                                                              \n",
       "2016-11-29 15:59:59                                 -487.138876   \n",
       "2016-12-30 09:59:59                                 -478.856470   \n",
       "2017-12-09 12:59:59                                 -499.884161   \n",
       "2016-10-08 09:59:59                                 -500.092482   \n",
       "2017-10-02 09:59:59                                 -500.268851   \n",
       "2017-09-05 08:59:59                                 -800.034726   \n",
       "2017-12-02 09:59:59                                 -499.980090   \n",
       "2016-11-29 21:59:59                                 -473.066574   \n",
       "2016-09-14 04:59:59                                 -500.755768   \n",
       "2017-09-28 08:59:59                                 -500.231042   \n",
       "\n",
       "                     secondary_cleaner.state.floatbank6_a_air  \\\n",
       "date                                                            \n",
       "2016-11-29 15:59:59                                 22.001499   \n",
       "2016-12-30 09:59:59                                 20.010141   \n",
       "2017-12-09 12:59:59                                 12.014300   \n",
       "2016-10-08 09:59:59                                 18.016516   \n",
       "2017-10-02 09:59:59                                 15.017333   \n",
       "2017-09-05 08:59:59                                  0.284808   \n",
       "2017-12-02 09:59:59                                 23.012554   \n",
       "2016-11-29 21:59:59                                 22.005673   \n",
       "2016-09-14 04:59:59                                 20.021737   \n",
       "2017-09-28 08:59:59                                 14.998528   \n",
       "\n",
       "                     secondary_cleaner.state.floatbank6_a_level  \n",
       "date                                                             \n",
       "2016-11-29 15:59:59                                 -501.536470  \n",
       "2016-12-30 09:59:59                                 -500.638588  \n",
       "2017-12-09 12:59:59                                 -500.004565  \n",
       "2016-10-08 09:59:59                                 -501.125955  \n",
       "2017-10-02 09:59:59                                 -500.458878  \n",
       "2017-09-05 08:59:59                                 -809.716366  \n",
       "2017-12-02 09:59:59                                 -500.130941  \n",
       "2016-11-29 21:59:59                                 -501.000657  \n",
       "2016-09-14 04:59:59                                 -500.466260  \n",
       "2017-09-28 08:59:59                                 -500.370139  \n",
       "\n",
       "[10 rows x 52 columns]"
      ]
     },
     "metadata": {},
     "output_type": "display_data"
    },
    {
     "name": "stdout",
     "output_type": "stream",
     "text": [
      "<class 'pandas.core.frame.DataFrame'>\n",
      "Index: 5856 entries, 2016-09-01 00:59:59 to 2017-12-31 23:59:59\n",
      "Data columns (total 52 columns):\n",
      "primary_cleaner.input.sulfate                 5554 non-null float64\n",
      "primary_cleaner.input.depressant              5572 non-null float64\n",
      "primary_cleaner.input.feed_size               5856 non-null float64\n",
      "primary_cleaner.input.xanthate                5690 non-null float64\n",
      "primary_cleaner.state.floatbank8_a_air        5840 non-null float64\n",
      "primary_cleaner.state.floatbank8_a_level      5840 non-null float64\n",
      "primary_cleaner.state.floatbank8_b_air        5840 non-null float64\n",
      "primary_cleaner.state.floatbank8_b_level      5840 non-null float64\n",
      "primary_cleaner.state.floatbank8_c_air        5840 non-null float64\n",
      "primary_cleaner.state.floatbank8_c_level      5840 non-null float64\n",
      "primary_cleaner.state.floatbank8_d_air        5840 non-null float64\n",
      "primary_cleaner.state.floatbank8_d_level      5840 non-null float64\n",
      "rougher.input.feed_ag                         5840 non-null float64\n",
      "rougher.input.feed_pb                         5840 non-null float64\n",
      "rougher.input.feed_rate                       5816 non-null float64\n",
      "rougher.input.feed_size                       5834 non-null float64\n",
      "rougher.input.feed_sol                        5789 non-null float64\n",
      "rougher.input.feed_au                         5840 non-null float64\n",
      "rougher.input.floatbank10_sulfate             5599 non-null float64\n",
      "rougher.input.floatbank10_xanthate            5733 non-null float64\n",
      "rougher.input.floatbank11_sulfate             5801 non-null float64\n",
      "rougher.input.floatbank11_xanthate            5503 non-null float64\n",
      "rougher.state.floatbank10_a_air               5839 non-null float64\n",
      "rougher.state.floatbank10_a_level             5840 non-null float64\n",
      "rougher.state.floatbank10_b_air               5839 non-null float64\n",
      "rougher.state.floatbank10_b_level             5840 non-null float64\n",
      "rougher.state.floatbank10_c_air               5839 non-null float64\n",
      "rougher.state.floatbank10_c_level             5840 non-null float64\n",
      "rougher.state.floatbank10_d_air               5839 non-null float64\n",
      "rougher.state.floatbank10_d_level             5840 non-null float64\n",
      "rougher.state.floatbank10_e_air               5839 non-null float64\n",
      "rougher.state.floatbank10_e_level             5840 non-null float64\n",
      "rougher.state.floatbank10_f_air               5839 non-null float64\n",
      "rougher.state.floatbank10_f_level             5840 non-null float64\n",
      "secondary_cleaner.state.floatbank2_a_air      5836 non-null float64\n",
      "secondary_cleaner.state.floatbank2_a_level    5840 non-null float64\n",
      "secondary_cleaner.state.floatbank2_b_air      5833 non-null float64\n",
      "secondary_cleaner.state.floatbank2_b_level    5840 non-null float64\n",
      "secondary_cleaner.state.floatbank3_a_air      5822 non-null float64\n",
      "secondary_cleaner.state.floatbank3_a_level    5840 non-null float64\n",
      "secondary_cleaner.state.floatbank3_b_air      5840 non-null float64\n",
      "secondary_cleaner.state.floatbank3_b_level    5840 non-null float64\n",
      "secondary_cleaner.state.floatbank4_a_air      5840 non-null float64\n",
      "secondary_cleaner.state.floatbank4_a_level    5840 non-null float64\n",
      "secondary_cleaner.state.floatbank4_b_air      5840 non-null float64\n",
      "secondary_cleaner.state.floatbank4_b_level    5840 non-null float64\n",
      "secondary_cleaner.state.floatbank5_a_air      5840 non-null float64\n",
      "secondary_cleaner.state.floatbank5_a_level    5840 non-null float64\n",
      "secondary_cleaner.state.floatbank5_b_air      5840 non-null float64\n",
      "secondary_cleaner.state.floatbank5_b_level    5840 non-null float64\n",
      "secondary_cleaner.state.floatbank6_a_air      5840 non-null float64\n",
      "secondary_cleaner.state.floatbank6_a_level    5840 non-null float64\n",
      "dtypes: float64(52)\n",
      "memory usage: 2.7 MB\n",
      "Дубликатов: 6\n"
     ]
    }
   ],
   "source": [
    "test_df = read_and_print_info('/datasets/gold_recovery_test.csv', index_col='date')"
   ]
  },
  {
   "cell_type": "markdown",
   "metadata": {},
   "source": [
    "Полные данные"
   ]
  },
  {
   "cell_type": "code",
   "execution_count": 7,
   "metadata": {
    "scrolled": false
   },
   "outputs": [
    {
     "data": {
      "text/html": [
       "<div>\n",
       "<style scoped>\n",
       "    .dataframe tbody tr th:only-of-type {\n",
       "        vertical-align: middle;\n",
       "    }\n",
       "\n",
       "    .dataframe tbody tr th {\n",
       "        vertical-align: top;\n",
       "    }\n",
       "\n",
       "    .dataframe thead th {\n",
       "        text-align: right;\n",
       "    }\n",
       "</style>\n",
       "<table border=\"1\" class=\"dataframe\">\n",
       "  <thead>\n",
       "    <tr style=\"text-align: right;\">\n",
       "      <th></th>\n",
       "      <th>final.output.concentrate_ag</th>\n",
       "      <th>final.output.concentrate_pb</th>\n",
       "      <th>final.output.concentrate_sol</th>\n",
       "      <th>final.output.concentrate_au</th>\n",
       "      <th>final.output.recovery</th>\n",
       "      <th>final.output.tail_ag</th>\n",
       "      <th>final.output.tail_pb</th>\n",
       "      <th>final.output.tail_sol</th>\n",
       "      <th>final.output.tail_au</th>\n",
       "      <th>primary_cleaner.input.sulfate</th>\n",
       "      <th>...</th>\n",
       "      <th>secondary_cleaner.state.floatbank4_a_air</th>\n",
       "      <th>secondary_cleaner.state.floatbank4_a_level</th>\n",
       "      <th>secondary_cleaner.state.floatbank4_b_air</th>\n",
       "      <th>secondary_cleaner.state.floatbank4_b_level</th>\n",
       "      <th>secondary_cleaner.state.floatbank5_a_air</th>\n",
       "      <th>secondary_cleaner.state.floatbank5_a_level</th>\n",
       "      <th>secondary_cleaner.state.floatbank5_b_air</th>\n",
       "      <th>secondary_cleaner.state.floatbank5_b_level</th>\n",
       "      <th>secondary_cleaner.state.floatbank6_a_air</th>\n",
       "      <th>secondary_cleaner.state.floatbank6_a_level</th>\n",
       "    </tr>\n",
       "    <tr>\n",
       "      <th>date</th>\n",
       "      <th></th>\n",
       "      <th></th>\n",
       "      <th></th>\n",
       "      <th></th>\n",
       "      <th></th>\n",
       "      <th></th>\n",
       "      <th></th>\n",
       "      <th></th>\n",
       "      <th></th>\n",
       "      <th></th>\n",
       "      <th></th>\n",
       "      <th></th>\n",
       "      <th></th>\n",
       "      <th></th>\n",
       "      <th></th>\n",
       "      <th></th>\n",
       "      <th></th>\n",
       "      <th></th>\n",
       "      <th></th>\n",
       "      <th></th>\n",
       "      <th></th>\n",
       "    </tr>\n",
       "  </thead>\n",
       "  <tbody>\n",
       "    <tr>\n",
       "      <td>2018-03-02 15:59:59</td>\n",
       "      <td>5.846874</td>\n",
       "      <td>8.720294</td>\n",
       "      <td>7.543324</td>\n",
       "      <td>45.757807</td>\n",
       "      <td>72.204322</td>\n",
       "      <td>12.781655</td>\n",
       "      <td>2.808496</td>\n",
       "      <td>3.153074</td>\n",
       "      <td>2.751845</td>\n",
       "      <td>47.888896</td>\n",
       "      <td>...</td>\n",
       "      <td>22.998452</td>\n",
       "      <td>-503.566150</td>\n",
       "      <td>15.009616</td>\n",
       "      <td>-500.224966</td>\n",
       "      <td>18.017635</td>\n",
       "      <td>-499.703538</td>\n",
       "      <td>12.015450</td>\n",
       "      <td>-500.233555</td>\n",
       "      <td>11.993289</td>\n",
       "      <td>-502.160800</td>\n",
       "    </tr>\n",
       "    <tr>\n",
       "      <td>2016-12-01 16:59:59</td>\n",
       "      <td>5.452689</td>\n",
       "      <td>8.558030</td>\n",
       "      <td>12.744622</td>\n",
       "      <td>45.735677</td>\n",
       "      <td>67.754339</td>\n",
       "      <td>12.822588</td>\n",
       "      <td>3.672075</td>\n",
       "      <td>11.723776</td>\n",
       "      <td>3.836844</td>\n",
       "      <td>251.184378</td>\n",
       "      <td>...</td>\n",
       "      <td>17.999049</td>\n",
       "      <td>-500.802598</td>\n",
       "      <td>16.017475</td>\n",
       "      <td>-500.462199</td>\n",
       "      <td>15.252402</td>\n",
       "      <td>-506.984823</td>\n",
       "      <td>12.043400</td>\n",
       "      <td>-451.029202</td>\n",
       "      <td>22.000278</td>\n",
       "      <td>-505.236373</td>\n",
       "    </tr>\n",
       "    <tr>\n",
       "      <td>2016-12-09 03:59:59</td>\n",
       "      <td>5.694646</td>\n",
       "      <td>10.690743</td>\n",
       "      <td>12.228285</td>\n",
       "      <td>43.235032</td>\n",
       "      <td>71.946211</td>\n",
       "      <td>10.718380</td>\n",
       "      <td>3.336822</td>\n",
       "      <td>8.650752</td>\n",
       "      <td>3.199147</td>\n",
       "      <td>155.325927</td>\n",
       "      <td>...</td>\n",
       "      <td>17.998345</td>\n",
       "      <td>-500.423301</td>\n",
       "      <td>15.970776</td>\n",
       "      <td>-499.259949</td>\n",
       "      <td>16.590664</td>\n",
       "      <td>-500.721751</td>\n",
       "      <td>11.977820</td>\n",
       "      <td>-500.332581</td>\n",
       "      <td>20.994196</td>\n",
       "      <td>-501.678628</td>\n",
       "    </tr>\n",
       "    <tr>\n",
       "      <td>2016-12-24 04:59:59</td>\n",
       "      <td>4.209593</td>\n",
       "      <td>9.540964</td>\n",
       "      <td>13.705685</td>\n",
       "      <td>46.456950</td>\n",
       "      <td>68.020633</td>\n",
       "      <td>10.584656</td>\n",
       "      <td>3.693109</td>\n",
       "      <td>8.968013</td>\n",
       "      <td>3.759971</td>\n",
       "      <td>140.745599</td>\n",
       "      <td>...</td>\n",
       "      <td>17.041113</td>\n",
       "      <td>-500.034590</td>\n",
       "      <td>14.953441</td>\n",
       "      <td>-501.320030</td>\n",
       "      <td>13.689489</td>\n",
       "      <td>-500.220422</td>\n",
       "      <td>12.013270</td>\n",
       "      <td>-500.511767</td>\n",
       "      <td>20.991743</td>\n",
       "      <td>-499.606168</td>\n",
       "    </tr>\n",
       "    <tr>\n",
       "      <td>2016-09-06 21:59:59</td>\n",
       "      <td>5.059208</td>\n",
       "      <td>7.592489</td>\n",
       "      <td>10.309155</td>\n",
       "      <td>47.552625</td>\n",
       "      <td>61.910689</td>\n",
       "      <td>13.138588</td>\n",
       "      <td>3.457106</td>\n",
       "      <td>9.915994</td>\n",
       "      <td>4.241875</td>\n",
       "      <td>142.934662</td>\n",
       "      <td>...</td>\n",
       "      <td>7.920420</td>\n",
       "      <td>-499.006113</td>\n",
       "      <td>4.946663</td>\n",
       "      <td>-598.979471</td>\n",
       "      <td>7.981369</td>\n",
       "      <td>-606.551924</td>\n",
       "      <td>2.991155</td>\n",
       "      <td>-600.032282</td>\n",
       "      <td>19.979570</td>\n",
       "      <td>-600.022697</td>\n",
       "    </tr>\n",
       "    <tr>\n",
       "      <td>2017-08-10 10:59:59</td>\n",
       "      <td>3.733212</td>\n",
       "      <td>11.818710</td>\n",
       "      <td>6.875499</td>\n",
       "      <td>46.477245</td>\n",
       "      <td>64.546464</td>\n",
       "      <td>7.437405</td>\n",
       "      <td>3.996635</td>\n",
       "      <td>11.165189</td>\n",
       "      <td>2.942725</td>\n",
       "      <td>173.906887</td>\n",
       "      <td>...</td>\n",
       "      <td>15.975333</td>\n",
       "      <td>-499.493963</td>\n",
       "      <td>11.943080</td>\n",
       "      <td>-400.427417</td>\n",
       "      <td>16.012970</td>\n",
       "      <td>-499.461903</td>\n",
       "      <td>12.004651</td>\n",
       "      <td>-499.932456</td>\n",
       "      <td>15.022946</td>\n",
       "      <td>-500.048813</td>\n",
       "    </tr>\n",
       "    <tr>\n",
       "      <td>2016-07-16 11:59:59</td>\n",
       "      <td>5.831441</td>\n",
       "      <td>8.802219</td>\n",
       "      <td>14.332268</td>\n",
       "      <td>44.534577</td>\n",
       "      <td>67.950031</td>\n",
       "      <td>10.020355</td>\n",
       "      <td>2.324391</td>\n",
       "      <td>10.917064</td>\n",
       "      <td>3.463053</td>\n",
       "      <td>153.080697</td>\n",
       "      <td>...</td>\n",
       "      <td>14.878882</td>\n",
       "      <td>-400.557556</td>\n",
       "      <td>4.965995</td>\n",
       "      <td>-400.073087</td>\n",
       "      <td>9.870060</td>\n",
       "      <td>-399.922048</td>\n",
       "      <td>5.010114</td>\n",
       "      <td>-399.850847</td>\n",
       "      <td>23.043035</td>\n",
       "      <td>-499.981390</td>\n",
       "    </tr>\n",
       "    <tr>\n",
       "      <td>2017-01-30 00:59:59</td>\n",
       "      <td>5.790517</td>\n",
       "      <td>9.878156</td>\n",
       "      <td>14.958223</td>\n",
       "      <td>44.185849</td>\n",
       "      <td>68.801095</td>\n",
       "      <td>12.256685</td>\n",
       "      <td>4.144649</td>\n",
       "      <td>9.082483</td>\n",
       "      <td>4.318337</td>\n",
       "      <td>177.450037</td>\n",
       "      <td>...</td>\n",
       "      <td>23.012080</td>\n",
       "      <td>-498.817396</td>\n",
       "      <td>21.043382</td>\n",
       "      <td>-499.927587</td>\n",
       "      <td>23.019387</td>\n",
       "      <td>-499.324719</td>\n",
       "      <td>20.004172</td>\n",
       "      <td>-499.976659</td>\n",
       "      <td>25.032503</td>\n",
       "      <td>-599.686911</td>\n",
       "    </tr>\n",
       "    <tr>\n",
       "      <td>2017-03-14 08:59:59</td>\n",
       "      <td>5.047150</td>\n",
       "      <td>9.205038</td>\n",
       "      <td>11.194980</td>\n",
       "      <td>46.982022</td>\n",
       "      <td>69.359234</td>\n",
       "      <td>10.839231</td>\n",
       "      <td>3.505640</td>\n",
       "      <td>10.983779</td>\n",
       "      <td>4.184327</td>\n",
       "      <td>176.419050</td>\n",
       "      <td>...</td>\n",
       "      <td>24.990428</td>\n",
       "      <td>-400.444623</td>\n",
       "      <td>22.945959</td>\n",
       "      <td>-399.681843</td>\n",
       "      <td>21.366091</td>\n",
       "      <td>-454.612494</td>\n",
       "      <td>20.006480</td>\n",
       "      <td>-448.487157</td>\n",
       "      <td>24.997685</td>\n",
       "      <td>-502.322930</td>\n",
       "    </tr>\n",
       "    <tr>\n",
       "      <td>2016-09-12 08:59:59</td>\n",
       "      <td>5.867379</td>\n",
       "      <td>7.833495</td>\n",
       "      <td>9.736848</td>\n",
       "      <td>46.268358</td>\n",
       "      <td>68.770451</td>\n",
       "      <td>10.624353</td>\n",
       "      <td>2.843002</td>\n",
       "      <td>8.777256</td>\n",
       "      <td>3.862132</td>\n",
       "      <td>166.462852</td>\n",
       "      <td>...</td>\n",
       "      <td>7.957319</td>\n",
       "      <td>-499.714893</td>\n",
       "      <td>5.072376</td>\n",
       "      <td>-499.632411</td>\n",
       "      <td>7.968153</td>\n",
       "      <td>-499.642456</td>\n",
       "      <td>2.956362</td>\n",
       "      <td>-499.396242</td>\n",
       "      <td>19.987853</td>\n",
       "      <td>-498.131956</td>\n",
       "    </tr>\n",
       "  </tbody>\n",
       "</table>\n",
       "<p>10 rows × 86 columns</p>\n",
       "</div>"
      ],
      "text/plain": [
       "                     final.output.concentrate_ag  final.output.concentrate_pb  \\\n",
       "date                                                                            \n",
       "2018-03-02 15:59:59                     5.846874                     8.720294   \n",
       "2016-12-01 16:59:59                     5.452689                     8.558030   \n",
       "2016-12-09 03:59:59                     5.694646                    10.690743   \n",
       "2016-12-24 04:59:59                     4.209593                     9.540964   \n",
       "2016-09-06 21:59:59                     5.059208                     7.592489   \n",
       "2017-08-10 10:59:59                     3.733212                    11.818710   \n",
       "2016-07-16 11:59:59                     5.831441                     8.802219   \n",
       "2017-01-30 00:59:59                     5.790517                     9.878156   \n",
       "2017-03-14 08:59:59                     5.047150                     9.205038   \n",
       "2016-09-12 08:59:59                     5.867379                     7.833495   \n",
       "\n",
       "                     final.output.concentrate_sol  \\\n",
       "date                                                \n",
       "2018-03-02 15:59:59                      7.543324   \n",
       "2016-12-01 16:59:59                     12.744622   \n",
       "2016-12-09 03:59:59                     12.228285   \n",
       "2016-12-24 04:59:59                     13.705685   \n",
       "2016-09-06 21:59:59                     10.309155   \n",
       "2017-08-10 10:59:59                      6.875499   \n",
       "2016-07-16 11:59:59                     14.332268   \n",
       "2017-01-30 00:59:59                     14.958223   \n",
       "2017-03-14 08:59:59                     11.194980   \n",
       "2016-09-12 08:59:59                      9.736848   \n",
       "\n",
       "                     final.output.concentrate_au  final.output.recovery  \\\n",
       "date                                                                      \n",
       "2018-03-02 15:59:59                    45.757807              72.204322   \n",
       "2016-12-01 16:59:59                    45.735677              67.754339   \n",
       "2016-12-09 03:59:59                    43.235032              71.946211   \n",
       "2016-12-24 04:59:59                    46.456950              68.020633   \n",
       "2016-09-06 21:59:59                    47.552625              61.910689   \n",
       "2017-08-10 10:59:59                    46.477245              64.546464   \n",
       "2016-07-16 11:59:59                    44.534577              67.950031   \n",
       "2017-01-30 00:59:59                    44.185849              68.801095   \n",
       "2017-03-14 08:59:59                    46.982022              69.359234   \n",
       "2016-09-12 08:59:59                    46.268358              68.770451   \n",
       "\n",
       "                     final.output.tail_ag  final.output.tail_pb  \\\n",
       "date                                                              \n",
       "2018-03-02 15:59:59             12.781655              2.808496   \n",
       "2016-12-01 16:59:59             12.822588              3.672075   \n",
       "2016-12-09 03:59:59             10.718380              3.336822   \n",
       "2016-12-24 04:59:59             10.584656              3.693109   \n",
       "2016-09-06 21:59:59             13.138588              3.457106   \n",
       "2017-08-10 10:59:59              7.437405              3.996635   \n",
       "2016-07-16 11:59:59             10.020355              2.324391   \n",
       "2017-01-30 00:59:59             12.256685              4.144649   \n",
       "2017-03-14 08:59:59             10.839231              3.505640   \n",
       "2016-09-12 08:59:59             10.624353              2.843002   \n",
       "\n",
       "                     final.output.tail_sol  final.output.tail_au  \\\n",
       "date                                                               \n",
       "2018-03-02 15:59:59               3.153074              2.751845   \n",
       "2016-12-01 16:59:59              11.723776              3.836844   \n",
       "2016-12-09 03:59:59               8.650752              3.199147   \n",
       "2016-12-24 04:59:59               8.968013              3.759971   \n",
       "2016-09-06 21:59:59               9.915994              4.241875   \n",
       "2017-08-10 10:59:59              11.165189              2.942725   \n",
       "2016-07-16 11:59:59              10.917064              3.463053   \n",
       "2017-01-30 00:59:59               9.082483              4.318337   \n",
       "2017-03-14 08:59:59              10.983779              4.184327   \n",
       "2016-09-12 08:59:59               8.777256              3.862132   \n",
       "\n",
       "                     primary_cleaner.input.sulfate  ...  \\\n",
       "date                                                ...   \n",
       "2018-03-02 15:59:59                      47.888896  ...   \n",
       "2016-12-01 16:59:59                     251.184378  ...   \n",
       "2016-12-09 03:59:59                     155.325927  ...   \n",
       "2016-12-24 04:59:59                     140.745599  ...   \n",
       "2016-09-06 21:59:59                     142.934662  ...   \n",
       "2017-08-10 10:59:59                     173.906887  ...   \n",
       "2016-07-16 11:59:59                     153.080697  ...   \n",
       "2017-01-30 00:59:59                     177.450037  ...   \n",
       "2017-03-14 08:59:59                     176.419050  ...   \n",
       "2016-09-12 08:59:59                     166.462852  ...   \n",
       "\n",
       "                     secondary_cleaner.state.floatbank4_a_air  \\\n",
       "date                                                            \n",
       "2018-03-02 15:59:59                                 22.998452   \n",
       "2016-12-01 16:59:59                                 17.999049   \n",
       "2016-12-09 03:59:59                                 17.998345   \n",
       "2016-12-24 04:59:59                                 17.041113   \n",
       "2016-09-06 21:59:59                                  7.920420   \n",
       "2017-08-10 10:59:59                                 15.975333   \n",
       "2016-07-16 11:59:59                                 14.878882   \n",
       "2017-01-30 00:59:59                                 23.012080   \n",
       "2017-03-14 08:59:59                                 24.990428   \n",
       "2016-09-12 08:59:59                                  7.957319   \n",
       "\n",
       "                     secondary_cleaner.state.floatbank4_a_level  \\\n",
       "date                                                              \n",
       "2018-03-02 15:59:59                                 -503.566150   \n",
       "2016-12-01 16:59:59                                 -500.802598   \n",
       "2016-12-09 03:59:59                                 -500.423301   \n",
       "2016-12-24 04:59:59                                 -500.034590   \n",
       "2016-09-06 21:59:59                                 -499.006113   \n",
       "2017-08-10 10:59:59                                 -499.493963   \n",
       "2016-07-16 11:59:59                                 -400.557556   \n",
       "2017-01-30 00:59:59                                 -498.817396   \n",
       "2017-03-14 08:59:59                                 -400.444623   \n",
       "2016-09-12 08:59:59                                 -499.714893   \n",
       "\n",
       "                     secondary_cleaner.state.floatbank4_b_air  \\\n",
       "date                                                            \n",
       "2018-03-02 15:59:59                                 15.009616   \n",
       "2016-12-01 16:59:59                                 16.017475   \n",
       "2016-12-09 03:59:59                                 15.970776   \n",
       "2016-12-24 04:59:59                                 14.953441   \n",
       "2016-09-06 21:59:59                                  4.946663   \n",
       "2017-08-10 10:59:59                                 11.943080   \n",
       "2016-07-16 11:59:59                                  4.965995   \n",
       "2017-01-30 00:59:59                                 21.043382   \n",
       "2017-03-14 08:59:59                                 22.945959   \n",
       "2016-09-12 08:59:59                                  5.072376   \n",
       "\n",
       "                     secondary_cleaner.state.floatbank4_b_level  \\\n",
       "date                                                              \n",
       "2018-03-02 15:59:59                                 -500.224966   \n",
       "2016-12-01 16:59:59                                 -500.462199   \n",
       "2016-12-09 03:59:59                                 -499.259949   \n",
       "2016-12-24 04:59:59                                 -501.320030   \n",
       "2016-09-06 21:59:59                                 -598.979471   \n",
       "2017-08-10 10:59:59                                 -400.427417   \n",
       "2016-07-16 11:59:59                                 -400.073087   \n",
       "2017-01-30 00:59:59                                 -499.927587   \n",
       "2017-03-14 08:59:59                                 -399.681843   \n",
       "2016-09-12 08:59:59                                 -499.632411   \n",
       "\n",
       "                     secondary_cleaner.state.floatbank5_a_air  \\\n",
       "date                                                            \n",
       "2018-03-02 15:59:59                                 18.017635   \n",
       "2016-12-01 16:59:59                                 15.252402   \n",
       "2016-12-09 03:59:59                                 16.590664   \n",
       "2016-12-24 04:59:59                                 13.689489   \n",
       "2016-09-06 21:59:59                                  7.981369   \n",
       "2017-08-10 10:59:59                                 16.012970   \n",
       "2016-07-16 11:59:59                                  9.870060   \n",
       "2017-01-30 00:59:59                                 23.019387   \n",
       "2017-03-14 08:59:59                                 21.366091   \n",
       "2016-09-12 08:59:59                                  7.968153   \n",
       "\n",
       "                     secondary_cleaner.state.floatbank5_a_level  \\\n",
       "date                                                              \n",
       "2018-03-02 15:59:59                                 -499.703538   \n",
       "2016-12-01 16:59:59                                 -506.984823   \n",
       "2016-12-09 03:59:59                                 -500.721751   \n",
       "2016-12-24 04:59:59                                 -500.220422   \n",
       "2016-09-06 21:59:59                                 -606.551924   \n",
       "2017-08-10 10:59:59                                 -499.461903   \n",
       "2016-07-16 11:59:59                                 -399.922048   \n",
       "2017-01-30 00:59:59                                 -499.324719   \n",
       "2017-03-14 08:59:59                                 -454.612494   \n",
       "2016-09-12 08:59:59                                 -499.642456   \n",
       "\n",
       "                     secondary_cleaner.state.floatbank5_b_air  \\\n",
       "date                                                            \n",
       "2018-03-02 15:59:59                                 12.015450   \n",
       "2016-12-01 16:59:59                                 12.043400   \n",
       "2016-12-09 03:59:59                                 11.977820   \n",
       "2016-12-24 04:59:59                                 12.013270   \n",
       "2016-09-06 21:59:59                                  2.991155   \n",
       "2017-08-10 10:59:59                                 12.004651   \n",
       "2016-07-16 11:59:59                                  5.010114   \n",
       "2017-01-30 00:59:59                                 20.004172   \n",
       "2017-03-14 08:59:59                                 20.006480   \n",
       "2016-09-12 08:59:59                                  2.956362   \n",
       "\n",
       "                     secondary_cleaner.state.floatbank5_b_level  \\\n",
       "date                                                              \n",
       "2018-03-02 15:59:59                                 -500.233555   \n",
       "2016-12-01 16:59:59                                 -451.029202   \n",
       "2016-12-09 03:59:59                                 -500.332581   \n",
       "2016-12-24 04:59:59                                 -500.511767   \n",
       "2016-09-06 21:59:59                                 -600.032282   \n",
       "2017-08-10 10:59:59                                 -499.932456   \n",
       "2016-07-16 11:59:59                                 -399.850847   \n",
       "2017-01-30 00:59:59                                 -499.976659   \n",
       "2017-03-14 08:59:59                                 -448.487157   \n",
       "2016-09-12 08:59:59                                 -499.396242   \n",
       "\n",
       "                     secondary_cleaner.state.floatbank6_a_air  \\\n",
       "date                                                            \n",
       "2018-03-02 15:59:59                                 11.993289   \n",
       "2016-12-01 16:59:59                                 22.000278   \n",
       "2016-12-09 03:59:59                                 20.994196   \n",
       "2016-12-24 04:59:59                                 20.991743   \n",
       "2016-09-06 21:59:59                                 19.979570   \n",
       "2017-08-10 10:59:59                                 15.022946   \n",
       "2016-07-16 11:59:59                                 23.043035   \n",
       "2017-01-30 00:59:59                                 25.032503   \n",
       "2017-03-14 08:59:59                                 24.997685   \n",
       "2016-09-12 08:59:59                                 19.987853   \n",
       "\n",
       "                     secondary_cleaner.state.floatbank6_a_level  \n",
       "date                                                             \n",
       "2018-03-02 15:59:59                                 -502.160800  \n",
       "2016-12-01 16:59:59                                 -505.236373  \n",
       "2016-12-09 03:59:59                                 -501.678628  \n",
       "2016-12-24 04:59:59                                 -499.606168  \n",
       "2016-09-06 21:59:59                                 -600.022697  \n",
       "2017-08-10 10:59:59                                 -500.048813  \n",
       "2016-07-16 11:59:59                                 -499.981390  \n",
       "2017-01-30 00:59:59                                 -599.686911  \n",
       "2017-03-14 08:59:59                                 -502.322930  \n",
       "2016-09-12 08:59:59                                 -498.131956  \n",
       "\n",
       "[10 rows x 86 columns]"
      ]
     },
     "metadata": {},
     "output_type": "display_data"
    },
    {
     "name": "stdout",
     "output_type": "stream",
     "text": [
      "<class 'pandas.core.frame.DataFrame'>\n",
      "Index: 22716 entries, 2016-01-15 00:00:00 to 2018-08-18 10:59:59\n",
      "Data columns (total 86 columns):\n",
      "final.output.concentrate_ag                           22627 non-null float64\n",
      "final.output.concentrate_pb                           22629 non-null float64\n",
      "final.output.concentrate_sol                          22331 non-null float64\n",
      "final.output.concentrate_au                           22630 non-null float64\n",
      "final.output.recovery                                 20753 non-null float64\n",
      "final.output.tail_ag                                  22633 non-null float64\n",
      "final.output.tail_pb                                  22516 non-null float64\n",
      "final.output.tail_sol                                 22445 non-null float64\n",
      "final.output.tail_au                                  22635 non-null float64\n",
      "primary_cleaner.input.sulfate                         21107 non-null float64\n",
      "primary_cleaner.input.depressant                      21170 non-null float64\n",
      "primary_cleaner.input.feed_size                       22716 non-null float64\n",
      "primary_cleaner.input.xanthate                        21565 non-null float64\n",
      "primary_cleaner.output.concentrate_ag                 22618 non-null float64\n",
      "primary_cleaner.output.concentrate_pb                 22268 non-null float64\n",
      "primary_cleaner.output.concentrate_sol                21918 non-null float64\n",
      "primary_cleaner.output.concentrate_au                 22618 non-null float64\n",
      "primary_cleaner.output.tail_ag                        22614 non-null float64\n",
      "primary_cleaner.output.tail_pb                        22594 non-null float64\n",
      "primary_cleaner.output.tail_sol                       22365 non-null float64\n",
      "primary_cleaner.output.tail_au                        22617 non-null float64\n",
      "primary_cleaner.state.floatbank8_a_air                22660 non-null float64\n",
      "primary_cleaner.state.floatbank8_a_level              22667 non-null float64\n",
      "primary_cleaner.state.floatbank8_b_air                22660 non-null float64\n",
      "primary_cleaner.state.floatbank8_b_level              22673 non-null float64\n",
      "primary_cleaner.state.floatbank8_c_air                22662 non-null float64\n",
      "primary_cleaner.state.floatbank8_c_level              22673 non-null float64\n",
      "primary_cleaner.state.floatbank8_d_air                22661 non-null float64\n",
      "primary_cleaner.state.floatbank8_d_level              22673 non-null float64\n",
      "rougher.calculation.sulfate_to_au_concentrate         22672 non-null float64\n",
      "rougher.calculation.floatbank10_sulfate_to_au_feed    22672 non-null float64\n",
      "rougher.calculation.floatbank11_sulfate_to_au_feed    22672 non-null float64\n",
      "rougher.calculation.au_pb_ratio                       21089 non-null float64\n",
      "rougher.input.feed_ag                                 22618 non-null float64\n",
      "rougher.input.feed_pb                                 22472 non-null float64\n",
      "rougher.input.feed_rate                               22163 non-null float64\n",
      "rougher.input.feed_size                               22277 non-null float64\n",
      "rougher.input.feed_sol                                22357 non-null float64\n",
      "rougher.input.feed_au                                 22617 non-null float64\n",
      "rougher.input.floatbank10_sulfate                     21415 non-null float64\n",
      "rougher.input.floatbank10_xanthate                    22247 non-null float64\n",
      "rougher.input.floatbank11_sulfate                     22038 non-null float64\n",
      "rougher.input.floatbank11_xanthate                    20459 non-null float64\n",
      "rougher.output.concentrate_ag                         22618 non-null float64\n",
      "rougher.output.concentrate_pb                         22618 non-null float64\n",
      "rougher.output.concentrate_sol                        22526 non-null float64\n",
      "rougher.output.concentrate_au                         22618 non-null float64\n",
      "rougher.output.recovery                               19597 non-null float64\n",
      "rougher.output.tail_ag                                19979 non-null float64\n",
      "rougher.output.tail_pb                                22618 non-null float64\n",
      "rougher.output.tail_sol                               19980 non-null float64\n",
      "rougher.output.tail_au                                19980 non-null float64\n",
      "rougher.state.floatbank10_a_air                       22646 non-null float64\n",
      "rougher.state.floatbank10_a_level                     22647 non-null float64\n",
      "rougher.state.floatbank10_b_air                       22646 non-null float64\n",
      "rougher.state.floatbank10_b_level                     22647 non-null float64\n",
      "rougher.state.floatbank10_c_air                       22646 non-null float64\n",
      "rougher.state.floatbank10_c_level                     22654 non-null float64\n",
      "rougher.state.floatbank10_d_air                       22641 non-null float64\n",
      "rougher.state.floatbank10_d_level                     22649 non-null float64\n",
      "rougher.state.floatbank10_e_air                       22096 non-null float64\n",
      "rougher.state.floatbank10_e_level                     22649 non-null float64\n",
      "rougher.state.floatbank10_f_air                       22641 non-null float64\n",
      "rougher.state.floatbank10_f_level                     22642 non-null float64\n",
      "secondary_cleaner.output.tail_ag                      22616 non-null float64\n",
      "secondary_cleaner.output.tail_pb                      22600 non-null float64\n",
      "secondary_cleaner.output.tail_sol                     20501 non-null float64\n",
      "secondary_cleaner.output.tail_au                      22618 non-null float64\n",
      "secondary_cleaner.state.floatbank2_a_air              22333 non-null float64\n",
      "secondary_cleaner.state.floatbank2_a_level            22591 non-null float64\n",
      "secondary_cleaner.state.floatbank2_b_air              22538 non-null float64\n",
      "secondary_cleaner.state.floatbank2_b_level            22588 non-null float64\n",
      "secondary_cleaner.state.floatbank3_a_air              22585 non-null float64\n",
      "secondary_cleaner.state.floatbank3_a_level            22587 non-null float64\n",
      "secondary_cleaner.state.floatbank3_b_air              22592 non-null float64\n",
      "secondary_cleaner.state.floatbank3_b_level            22590 non-null float64\n",
      "secondary_cleaner.state.floatbank4_a_air              22571 non-null float64\n",
      "secondary_cleaner.state.floatbank4_a_level            22587 non-null float64\n",
      "secondary_cleaner.state.floatbank4_b_air              22608 non-null float64\n",
      "secondary_cleaner.state.floatbank4_b_level            22607 non-null float64\n",
      "secondary_cleaner.state.floatbank5_a_air              22615 non-null float64\n",
      "secondary_cleaner.state.floatbank5_a_level            22615 non-null float64\n",
      "secondary_cleaner.state.floatbank5_b_air              22615 non-null float64\n",
      "secondary_cleaner.state.floatbank5_b_level            22616 non-null float64\n",
      "secondary_cleaner.state.floatbank6_a_air              22597 non-null float64\n",
      "secondary_cleaner.state.floatbank6_a_level            22615 non-null float64\n",
      "dtypes: float64(86)\n",
      "memory usage: 16.6 MB\n",
      "Дубликатов: 22\n"
     ]
    }
   ],
   "source": [
    "full_df = read_and_print_info('/datasets/gold_recovery_full.csv', index_col='date')"
   ]
  },
  {
   "cell_type": "markdown",
   "metadata": {},
   "source": [
    "После проведения первичного осмотра видно следующее:\n",
    "- даты прочитаны правильно\n",
    "- присутствуют только численные данные\n",
    "- названия столбцов однотипны и корректны\n",
    "- в данных присутствуют дубликаты, их надо будет удалить\n",
    "- в данных много пропусков, разберёмся с ними далее\n",
    "- присутствуют пропуски в данных с целевыми признаками\n",
    "- необходимо будет определить, от каких данных можно будет избавиться для работы модели\n",
    "- в тестовых данных намного меньше стобцов, посмотрим на это далее"
   ]
  },
  {
   "cell_type": "markdown",
   "metadata": {},
   "source": [
    "Введём на будущее переменные, которые будут хранить названия столбцов с целевыми признаками"
   ]
  },
  {
   "cell_type": "code",
   "execution_count": 8,
   "metadata": {},
   "outputs": [],
   "source": [
    "y_rougher = 'rougher.output.recovery'\n",
    "y_final = 'final.output.recovery'\n",
    "target_cols = [y_rougher, y_final]"
   ]
  },
  {
   "cell_type": "markdown",
   "metadata": {},
   "source": [
    "### Дубликаты"
   ]
  },
  {
   "cell_type": "markdown",
   "metadata": {},
   "source": [
    "В данных обнаружены дубликаты: 22 строчки. Удалим их"
   ]
  },
  {
   "cell_type": "code",
   "execution_count": 9,
   "metadata": {},
   "outputs": [
    {
     "name": "stdout",
     "output_type": "stream",
     "text": [
      "Дубликатов в обучающих данных: 0\n",
      "Дубликатов в тестовых данных: 0\n",
      "Дубликатов во всех данных: 0\n"
     ]
    }
   ],
   "source": [
    "train_df.drop_duplicates(inplace=True)\n",
    "test_df.drop_duplicates(inplace=True)\n",
    "full_df.drop_duplicates(inplace=True)\n",
    "\n",
    "print('Дубликатов в обучающих данных:', train_df.duplicated().sum())\n",
    "print('Дубликатов в тестовых данных:', test_df.duplicated().sum())\n",
    "print('Дубликатов во всех данных:', full_df.duplicated().sum())"
   ]
  },
  {
   "cell_type": "markdown",
   "metadata": {},
   "source": [
    "Мы избавились от дубликатов"
   ]
  },
  {
   "cell_type": "markdown",
   "metadata": {},
   "source": [
    "### Размеры датафреймов"
   ]
  },
  {
   "cell_type": "code",
   "execution_count": 10,
   "metadata": {},
   "outputs": [
    {
     "name": "stdout",
     "output_type": "stream",
     "text": [
      "(16844, 86)\n",
      "(5850, 52)\n",
      "(22694, 86)\n"
     ]
    }
   ],
   "source": [
    "print(train_df.shape)\n",
    "print(test_df.shape)\n",
    "print(full_df.shape)"
   ]
  },
  {
   "cell_type": "code",
   "execution_count": 11,
   "metadata": {},
   "outputs": [
    {
     "name": "stdout",
     "output_type": "stream",
     "text": [
      "Количество элементов датафрейма с обучающими данными: 16844\n",
      "Количество элементов датафрейма с тестовыми данными: 5850\n",
      "Количество элементов датафреймов с обучающими и тестовыми данными: 22694\n",
      "Количество элементов датафрейма со всеми данными: 22694\n"
     ]
    }
   ],
   "source": [
    "print('Количество элементов датафрейма с обучающими данными:', len(train_df))\n",
    "print('Количество элементов датафрейма с тестовыми данными:', len(test_df))\n",
    "print('Количество элементов датафреймов с обучающими и тестовыми данными:', len(train_df) + len(test_df))\n",
    "print('Количество элементов датафрейма со всеми данными:', len(full_df))"
   ]
  },
  {
   "cell_type": "markdown",
   "metadata": {},
   "source": [
    "Данные в файлах разбиты верно<br>\n",
    "В файле с обучающей выборкой и всеми данным - 86 столбцов, а в файле с тестовыми данными - 52"
   ]
  },
  {
   "cell_type": "markdown",
   "metadata": {},
   "source": [
    "### Соотношение данных"
   ]
  },
  {
   "cell_type": "code",
   "execution_count": 12,
   "metadata": {},
   "outputs": [
    {
     "name": "stdout",
     "output_type": "stream",
     "text": [
      "Процент элементов обучающей выборки: 0.7422226139067595\n",
      "Процент элементов тестовой выборки: 0.2577773860932405\n"
     ]
    }
   ],
   "source": [
    "print('Процент элементов обучающей выборки:', len(train_df)/len(full_df))\n",
    "print('Процент элементов тестовой выборки:', len(test_df)/len(full_df))"
   ]
  },
  {
   "cell_type": "code",
   "execution_count": 13,
   "metadata": {},
   "outputs": [
    {
     "data": {
      "text/plain": [
       "2.8793162393162395"
      ]
     },
     "execution_count": 13,
     "metadata": {},
     "output_type": "execute_result"
    }
   ],
   "source": [
    "train_df.shape[0] / test_df.shape[0]"
   ]
  },
  {
   "cell_type": "markdown",
   "metadata": {},
   "source": [
    "Данные разбиты в соотношении примерно 2.9:1"
   ]
  },
  {
   "cell_type": "markdown",
   "metadata": {},
   "source": [
    "### Проверка корректности расчётов"
   ]
  },
  {
   "cell_type": "markdown",
   "metadata": {},
   "source": [
    "Необходимо проверить, верно ли посчитана эффективность обогащения. Для этого, вычислим её на обучающей выборке на признаке `rougher.output.recovery`<br>\n",
    "Эффективность обогощения считается по следующей формуле:<br>\n",
    "`recovery = (C x (F - T)) / (F x (C - T)) x 100%`<br>\n",
    "где:<br>\n",
    "C - доля золота в концентрате после флотации/очистки (`rougher.output.concentrate_au`)<br>\n",
    "F - доля золота в сырье/концентрате до флотации/очистки (`rougher.input.feed_au`)<br>\n",
    "T - доля золота в отвальных хвостах после флотации/очистки (`rougher.output.tail_au`)<br>\n",
    "Напишем функцию"
   ]
  },
  {
   "cell_type": "code",
   "execution_count": 14,
   "metadata": {},
   "outputs": [],
   "source": [
    "def rougher_recovery(row):\n",
    "    C = row['rougher.output.concentrate_au']\n",
    "    F = row['rougher.input.feed_au']\n",
    "    T = row['rougher.output.tail_au']\n",
    "    recovery = ((C * (F - T)) / (F * (C - T))) * 100\n",
    "    if np.isnan(recovery):\n",
    "        return 0\n",
    "    return recovery"
   ]
  },
  {
   "cell_type": "markdown",
   "metadata": {},
   "source": [
    "Чтобы на данном этапе не возникло ошибок из-за NaN значений в данных, не меняя при этом исходный датафрейм:\n",
    "- сделаем копию датафрейма для расчётов\n",
    "- удалим NaN значения в копии"
   ]
  },
  {
   "cell_type": "code",
   "execution_count": 15,
   "metadata": {},
   "outputs": [],
   "source": [
    "train_calc = train_df.copy(deep=True)\n",
    "train_calc.dropna(inplace=True)"
   ]
  },
  {
   "cell_type": "markdown",
   "metadata": {},
   "source": [
    "Применим функцию и выведем посчитанный столбец и столбец с исходными расчётами"
   ]
  },
  {
   "cell_type": "code",
   "execution_count": 16,
   "metadata": {},
   "outputs": [
    {
     "data": {
      "text/html": [
       "<div>\n",
       "<style scoped>\n",
       "    .dataframe tbody tr th:only-of-type {\n",
       "        vertical-align: middle;\n",
       "    }\n",
       "\n",
       "    .dataframe tbody tr th {\n",
       "        vertical-align: top;\n",
       "    }\n",
       "\n",
       "    .dataframe thead th {\n",
       "        text-align: right;\n",
       "    }\n",
       "</style>\n",
       "<table border=\"1\" class=\"dataframe\">\n",
       "  <thead>\n",
       "    <tr style=\"text-align: right;\">\n",
       "      <th></th>\n",
       "      <th>rougher.output.recovery</th>\n",
       "      <th>rougher.output.recovery.calculated</th>\n",
       "    </tr>\n",
       "    <tr>\n",
       "      <th>date</th>\n",
       "      <th></th>\n",
       "      <th></th>\n",
       "    </tr>\n",
       "  </thead>\n",
       "  <tbody>\n",
       "    <tr>\n",
       "      <td>2017-07-09 17:59:59</td>\n",
       "      <td>78.643703</td>\n",
       "      <td>78.643703</td>\n",
       "    </tr>\n",
       "    <tr>\n",
       "      <td>2018-01-02 20:59:59</td>\n",
       "      <td>92.674972</td>\n",
       "      <td>92.674972</td>\n",
       "    </tr>\n",
       "    <tr>\n",
       "      <td>2018-05-06 02:59:59</td>\n",
       "      <td>89.356536</td>\n",
       "      <td>89.356536</td>\n",
       "    </tr>\n",
       "    <tr>\n",
       "      <td>2018-02-26 00:59:59</td>\n",
       "      <td>91.232024</td>\n",
       "      <td>91.232024</td>\n",
       "    </tr>\n",
       "    <tr>\n",
       "      <td>2017-08-25 14:59:59</td>\n",
       "      <td>80.270921</td>\n",
       "      <td>80.270921</td>\n",
       "    </tr>\n",
       "    <tr>\n",
       "      <td>2016-08-23 09:59:59</td>\n",
       "      <td>86.997749</td>\n",
       "      <td>86.997749</td>\n",
       "    </tr>\n",
       "    <tr>\n",
       "      <td>2016-04-19 16:00:00</td>\n",
       "      <td>78.707986</td>\n",
       "      <td>78.707986</td>\n",
       "    </tr>\n",
       "    <tr>\n",
       "      <td>2017-04-08 17:59:59</td>\n",
       "      <td>82.053942</td>\n",
       "      <td>82.053942</td>\n",
       "    </tr>\n",
       "    <tr>\n",
       "      <td>2017-03-16 23:59:59</td>\n",
       "      <td>84.666748</td>\n",
       "      <td>84.666748</td>\n",
       "    </tr>\n",
       "    <tr>\n",
       "      <td>2017-03-24 12:59:59</td>\n",
       "      <td>91.953628</td>\n",
       "      <td>91.953628</td>\n",
       "    </tr>\n",
       "  </tbody>\n",
       "</table>\n",
       "</div>"
      ],
      "text/plain": [
       "                     rougher.output.recovery  \\\n",
       "date                                           \n",
       "2017-07-09 17:59:59                78.643703   \n",
       "2018-01-02 20:59:59                92.674972   \n",
       "2018-05-06 02:59:59                89.356536   \n",
       "2018-02-26 00:59:59                91.232024   \n",
       "2017-08-25 14:59:59                80.270921   \n",
       "2016-08-23 09:59:59                86.997749   \n",
       "2016-04-19 16:00:00                78.707986   \n",
       "2017-04-08 17:59:59                82.053942   \n",
       "2017-03-16 23:59:59                84.666748   \n",
       "2017-03-24 12:59:59                91.953628   \n",
       "\n",
       "                     rougher.output.recovery.calculated  \n",
       "date                                                     \n",
       "2017-07-09 17:59:59                           78.643703  \n",
       "2018-01-02 20:59:59                           92.674972  \n",
       "2018-05-06 02:59:59                           89.356536  \n",
       "2018-02-26 00:59:59                           91.232024  \n",
       "2017-08-25 14:59:59                           80.270921  \n",
       "2016-08-23 09:59:59                           86.997749  \n",
       "2016-04-19 16:00:00                           78.707986  \n",
       "2017-04-08 17:59:59                           82.053942  \n",
       "2017-03-16 23:59:59                           84.666748  \n",
       "2017-03-24 12:59:59                           91.953628  "
      ]
     },
     "execution_count": 16,
     "metadata": {},
     "output_type": "execute_result"
    }
   ],
   "source": [
    "y_calculated = y_rougher + '.calculated'\n",
    "train_calc[y_calculated] = train_calc.apply(rougher_recovery, axis=1)\n",
    "train_calc[[y_rougher, y_calculated]].sample(n=10, random_state=SEED)"
   ]
  },
  {
   "cell_type": "markdown",
   "metadata": {},
   "source": [
    "Найдём MAE между нашими расчётами и значением признака `rougher.output.recovery`. Воспользуемся функцией `mean_absolute_error`"
   ]
  },
  {
   "cell_type": "code",
   "execution_count": 17,
   "metadata": {},
   "outputs": [
    {
     "data": {
      "text/plain": [
       "9.555596961987514e-15"
      ]
     },
     "execution_count": 17,
     "metadata": {},
     "output_type": "execute_result"
    }
   ],
   "source": [
    "mean_absolute_error(train_calc[y_rougher], train_calc[y_calculated])"
   ]
  },
  {
   "cell_type": "markdown",
   "metadata": {},
   "source": [
    "Средняя абсолютная ошибка очень мала, что говорит нам о хорошей точности расчётов<br>\n",
    "Будем считать, что данным можно доверять"
   ]
  },
  {
   "cell_type": "markdown",
   "metadata": {},
   "source": [
    "### Столбцы, отсутствующие в тестовых данных"
   ]
  },
  {
   "cell_type": "markdown",
   "metadata": {},
   "source": [
    "Посмотрим на то, каких столбцов нет в тестовых данных"
   ]
  },
  {
   "cell_type": "code",
   "execution_count": 18,
   "metadata": {},
   "outputs": [
    {
     "name": "stdout",
     "output_type": "stream",
     "text": [
      "Разница в количестве столбцов: 34\n",
      "rougher.output.tail_ag\n",
      "primary_cleaner.output.tail_sol\n",
      "primary_cleaner.output.tail_ag\n",
      "rougher.output.concentrate_pb\n",
      "primary_cleaner.output.concentrate_ag\n",
      "rougher.output.tail_au\n",
      "final.output.concentrate_au\n",
      "primary_cleaner.output.tail_pb\n",
      "secondary_cleaner.output.tail_au\n",
      "rougher.output.tail_pb\n",
      "final.output.tail_au\n",
      "rougher.calculation.au_pb_ratio\n",
      "rougher.calculation.sulfate_to_au_concentrate\n",
      "final.output.tail_sol\n",
      "final.output.concentrate_ag\n",
      "rougher.calculation.floatbank10_sulfate_to_au_feed\n",
      "rougher.output.recovery\n",
      "primary_cleaner.output.concentrate_au\n",
      "rougher.calculation.floatbank11_sulfate_to_au_feed\n",
      "rougher.output.concentrate_ag\n",
      "primary_cleaner.output.concentrate_pb\n",
      "final.output.concentrate_pb\n",
      "final.output.tail_ag\n",
      "final.output.tail_pb\n",
      "final.output.recovery\n",
      "rougher.output.concentrate_sol\n",
      "primary_cleaner.output.concentrate_sol\n",
      "secondary_cleaner.output.tail_sol\n",
      "final.output.concentrate_sol\n",
      "secondary_cleaner.output.tail_ag\n",
      "secondary_cleaner.output.tail_pb\n",
      "primary_cleaner.output.tail_au\n",
      "rougher.output.concentrate_au\n",
      "rougher.output.tail_sol\n"
     ]
    }
   ],
   "source": [
    "diff_list = set(train_df.columns) - set(test_df.columns) \n",
    "print('Разница в количестве столбцов:', len(diff_list))\n",
    "for diff in diff_list:\n",
    "    print(diff)"
   ]
  },
  {
   "cell_type": "markdown",
   "metadata": {},
   "source": [
    "Видим, что в список таких столбцов входят стобцы с `output` и `calculation`. Это данные о неких параметрах продукта и расчётные характеристики<br>\n",
    "В целом, их отсутствие в тестовых данных вполне объяснимо: они становятся известны после выполнения части этапов техпроцесса<br>\n",
    "Удалим эти данные и из обучающей выборки, убрав перед этим из списка названия столбцов с целевым признаком"
   ]
  },
  {
   "cell_type": "code",
   "execution_count": 19,
   "metadata": {},
   "outputs": [
    {
     "name": "stdout",
     "output_type": "stream",
     "text": [
      "<class 'pandas.core.frame.DataFrame'>\n",
      "Index: 16844 entries, 2016-01-15 00:00:00 to 2018-08-18 10:59:59\n",
      "Data columns (total 54 columns):\n",
      "final.output.recovery                         15339 non-null float64\n",
      "primary_cleaner.input.sulfate                 15553 non-null float64\n",
      "primary_cleaner.input.depressant              15598 non-null float64\n",
      "primary_cleaner.input.feed_size               16844 non-null float64\n",
      "primary_cleaner.input.xanthate                15875 non-null float64\n",
      "primary_cleaner.state.floatbank8_a_air        16820 non-null float64\n",
      "primary_cleaner.state.floatbank8_a_level      16827 non-null float64\n",
      "primary_cleaner.state.floatbank8_b_air        16820 non-null float64\n",
      "primary_cleaner.state.floatbank8_b_level      16833 non-null float64\n",
      "primary_cleaner.state.floatbank8_c_air        16822 non-null float64\n",
      "primary_cleaner.state.floatbank8_c_level      16833 non-null float64\n",
      "primary_cleaner.state.floatbank8_d_air        16821 non-null float64\n",
      "primary_cleaner.state.floatbank8_d_level      16833 non-null float64\n",
      "rougher.input.feed_ag                         16778 non-null float64\n",
      "rougher.input.feed_pb                         16632 non-null float64\n",
      "rougher.input.feed_rate                       16347 non-null float64\n",
      "rougher.input.feed_size                       16443 non-null float64\n",
      "rougher.input.feed_sol                        16568 non-null float64\n",
      "rougher.input.feed_au                         16777 non-null float64\n",
      "rougher.input.floatbank10_sulfate             15816 non-null float64\n",
      "rougher.input.floatbank10_xanthate            16514 non-null float64\n",
      "rougher.input.floatbank11_sulfate             16237 non-null float64\n",
      "rougher.input.floatbank11_xanthate            14956 non-null float64\n",
      "rougher.output.recovery                       14287 non-null float64\n",
      "rougher.state.floatbank10_a_air               16807 non-null float64\n",
      "rougher.state.floatbank10_a_level             16807 non-null float64\n",
      "rougher.state.floatbank10_b_air               16807 non-null float64\n",
      "rougher.state.floatbank10_b_level             16807 non-null float64\n",
      "rougher.state.floatbank10_c_air               16807 non-null float64\n",
      "rougher.state.floatbank10_c_level             16814 non-null float64\n",
      "rougher.state.floatbank10_d_air               16802 non-null float64\n",
      "rougher.state.floatbank10_d_level             16809 non-null float64\n",
      "rougher.state.floatbank10_e_air               16257 non-null float64\n",
      "rougher.state.floatbank10_e_level             16809 non-null float64\n",
      "rougher.state.floatbank10_f_air               16802 non-null float64\n",
      "rougher.state.floatbank10_f_level             16802 non-null float64\n",
      "secondary_cleaner.state.floatbank2_a_air      16497 non-null float64\n",
      "secondary_cleaner.state.floatbank2_a_level    16751 non-null float64\n",
      "secondary_cleaner.state.floatbank2_b_air      16705 non-null float64\n",
      "secondary_cleaner.state.floatbank2_b_level    16748 non-null float64\n",
      "secondary_cleaner.state.floatbank3_a_air      16763 non-null float64\n",
      "secondary_cleaner.state.floatbank3_a_level    16747 non-null float64\n",
      "secondary_cleaner.state.floatbank3_b_air      16752 non-null float64\n",
      "secondary_cleaner.state.floatbank3_b_level    16750 non-null float64\n",
      "secondary_cleaner.state.floatbank4_a_air      16731 non-null float64\n",
      "secondary_cleaner.state.floatbank4_a_level    16747 non-null float64\n",
      "secondary_cleaner.state.floatbank4_b_air      16768 non-null float64\n",
      "secondary_cleaner.state.floatbank4_b_level    16767 non-null float64\n",
      "secondary_cleaner.state.floatbank5_a_air      16775 non-null float64\n",
      "secondary_cleaner.state.floatbank5_a_level    16775 non-null float64\n",
      "secondary_cleaner.state.floatbank5_b_air      16775 non-null float64\n",
      "secondary_cleaner.state.floatbank5_b_level    16776 non-null float64\n",
      "secondary_cleaner.state.floatbank6_a_air      16757 non-null float64\n",
      "secondary_cleaner.state.floatbank6_a_level    16775 non-null float64\n",
      "dtypes: float64(54)\n",
      "memory usage: 7.1+ MB\n"
     ]
    }
   ],
   "source": [
    "diff_list = diff_list - set(target_cols)\n",
    "train_df.drop(diff_list, axis=1, inplace=True)\n",
    "train_df.info()"
   ]
  },
  {
   "cell_type": "markdown",
   "metadata": {},
   "source": [
    "### Целевой признак в тестовых данных"
   ]
  },
  {
   "cell_type": "markdown",
   "metadata": {},
   "source": [
    "Добавим в тестовые данные столбцы с целевыми признаками"
   ]
  },
  {
   "cell_type": "code",
   "execution_count": 20,
   "metadata": {
    "scrolled": false
   },
   "outputs": [
    {
     "name": "stdout",
     "output_type": "stream",
     "text": [
      "<class 'pandas.core.frame.DataFrame'>\n",
      "Index: 5850 entries, 2016-09-01 00:59:59 to 2017-12-31 23:59:59\n",
      "Data columns (total 54 columns):\n",
      "primary_cleaner.input.sulfate                 5554 non-null float64\n",
      "primary_cleaner.input.depressant              5572 non-null float64\n",
      "primary_cleaner.input.feed_size               5850 non-null float64\n",
      "primary_cleaner.input.xanthate                5690 non-null float64\n",
      "primary_cleaner.state.floatbank8_a_air        5840 non-null float64\n",
      "primary_cleaner.state.floatbank8_a_level      5840 non-null float64\n",
      "primary_cleaner.state.floatbank8_b_air        5840 non-null float64\n",
      "primary_cleaner.state.floatbank8_b_level      5840 non-null float64\n",
      "primary_cleaner.state.floatbank8_c_air        5840 non-null float64\n",
      "primary_cleaner.state.floatbank8_c_level      5840 non-null float64\n",
      "primary_cleaner.state.floatbank8_d_air        5840 non-null float64\n",
      "primary_cleaner.state.floatbank8_d_level      5840 non-null float64\n",
      "rougher.input.feed_ag                         5840 non-null float64\n",
      "rougher.input.feed_pb                         5840 non-null float64\n",
      "rougher.input.feed_rate                       5816 non-null float64\n",
      "rougher.input.feed_size                       5834 non-null float64\n",
      "rougher.input.feed_sol                        5789 non-null float64\n",
      "rougher.input.feed_au                         5840 non-null float64\n",
      "rougher.input.floatbank10_sulfate             5599 non-null float64\n",
      "rougher.input.floatbank10_xanthate            5733 non-null float64\n",
      "rougher.input.floatbank11_sulfate             5801 non-null float64\n",
      "rougher.input.floatbank11_xanthate            5503 non-null float64\n",
      "rougher.state.floatbank10_a_air               5839 non-null float64\n",
      "rougher.state.floatbank10_a_level             5840 non-null float64\n",
      "rougher.state.floatbank10_b_air               5839 non-null float64\n",
      "rougher.state.floatbank10_b_level             5840 non-null float64\n",
      "rougher.state.floatbank10_c_air               5839 non-null float64\n",
      "rougher.state.floatbank10_c_level             5840 non-null float64\n",
      "rougher.state.floatbank10_d_air               5839 non-null float64\n",
      "rougher.state.floatbank10_d_level             5840 non-null float64\n",
      "rougher.state.floatbank10_e_air               5839 non-null float64\n",
      "rougher.state.floatbank10_e_level             5840 non-null float64\n",
      "rougher.state.floatbank10_f_air               5839 non-null float64\n",
      "rougher.state.floatbank10_f_level             5840 non-null float64\n",
      "secondary_cleaner.state.floatbank2_a_air      5836 non-null float64\n",
      "secondary_cleaner.state.floatbank2_a_level    5840 non-null float64\n",
      "secondary_cleaner.state.floatbank2_b_air      5833 non-null float64\n",
      "secondary_cleaner.state.floatbank2_b_level    5840 non-null float64\n",
      "secondary_cleaner.state.floatbank3_a_air      5822 non-null float64\n",
      "secondary_cleaner.state.floatbank3_a_level    5840 non-null float64\n",
      "secondary_cleaner.state.floatbank3_b_air      5840 non-null float64\n",
      "secondary_cleaner.state.floatbank3_b_level    5840 non-null float64\n",
      "secondary_cleaner.state.floatbank4_a_air      5840 non-null float64\n",
      "secondary_cleaner.state.floatbank4_a_level    5840 non-null float64\n",
      "secondary_cleaner.state.floatbank4_b_air      5840 non-null float64\n",
      "secondary_cleaner.state.floatbank4_b_level    5840 non-null float64\n",
      "secondary_cleaner.state.floatbank5_a_air      5840 non-null float64\n",
      "secondary_cleaner.state.floatbank5_a_level    5840 non-null float64\n",
      "secondary_cleaner.state.floatbank5_b_air      5840 non-null float64\n",
      "secondary_cleaner.state.floatbank5_b_level    5840 non-null float64\n",
      "secondary_cleaner.state.floatbank6_a_air      5840 non-null float64\n",
      "secondary_cleaner.state.floatbank6_a_level    5840 non-null float64\n",
      "rougher.output.recovery                       5310 non-null float64\n",
      "final.output.recovery                         5414 non-null float64\n",
      "dtypes: float64(54)\n",
      "memory usage: 2.5+ MB\n"
     ]
    }
   ],
   "source": [
    "test_df[target_cols] = full_df.loc[test_df.index, target_cols]\n",
    "test_df.info()"
   ]
  },
  {
   "cell_type": "markdown",
   "metadata": {},
   "source": [
    "### Пропуски в данных"
   ]
  },
  {
   "cell_type": "markdown",
   "metadata": {},
   "source": [
    "В данных много пропусков. Восстановить данные не представляется возможным. Удалим строки с пропусками в целевых признаках<br>\n",
    "Теперь, когда мы подготовили стобцы датафреймов, удалим пропуски"
   ]
  },
  {
   "cell_type": "markdown",
   "metadata": {},
   "source": [
    "Удалим пропуски в обучающих данных. Выведем перед этим и после размер датафрейма, чтобы увидеть как изменились размеры"
   ]
  },
  {
   "cell_type": "code",
   "execution_count": 21,
   "metadata": {},
   "outputs": [
    {
     "name": "stdout",
     "output_type": "stream",
     "text": [
      "(16844, 54)\n",
      "(14149, 54)\n"
     ]
    }
   ],
   "source": [
    "print(train_df.shape)\n",
    "train_df.dropna(subset=target_cols, inplace=True)\n",
    "print(train_df.shape)"
   ]
  },
  {
   "cell_type": "markdown",
   "metadata": {},
   "source": [
    "Поступим также с тестовой выборкой"
   ]
  },
  {
   "cell_type": "code",
   "execution_count": 22,
   "metadata": {},
   "outputs": [
    {
     "name": "stdout",
     "output_type": "stream",
     "text": [
      "(5850, 54)\n",
      "(5290, 54)\n"
     ]
    }
   ],
   "source": [
    "print(test_df.shape)\n",
    "test_df.dropna(subset=target_cols, inplace=True)\n",
    "print(test_df.shape)"
   ]
  },
  {
   "cell_type": "markdown",
   "metadata": {},
   "source": [
    "Посмотрим на соотношение данных после удаления данных с пропусками"
   ]
  },
  {
   "cell_type": "code",
   "execution_count": 23,
   "metadata": {},
   "outputs": [
    {
     "data": {
      "text/plain": [
       "2.6746691871455575"
      ]
     },
     "execution_count": 23,
     "metadata": {},
     "output_type": "execute_result"
    }
   ],
   "source": [
    "train_df.shape[0] / test_df.shape[0]"
   ]
  },
  {
   "cell_type": "markdown",
   "metadata": {},
   "source": [
    "Удалим также пропуски по целевым признакам в полном наборе данных"
   ]
  },
  {
   "cell_type": "code",
   "execution_count": 24,
   "metadata": {},
   "outputs": [
    {
     "data": {
      "text/plain": [
       "(19439, 86)"
      ]
     },
     "execution_count": 24,
     "metadata": {},
     "output_type": "execute_result"
    }
   ],
   "source": [
    "full_df.dropna(subset=target_cols, inplace=True)\n",
    "full_df.shape"
   ]
  },
  {
   "cell_type": "markdown",
   "metadata": {},
   "source": [
    "### Вывод"
   ]
  },
  {
   "cell_type": "markdown",
   "metadata": {},
   "source": [
    "На этом этапе сделано следующее:\n",
    "- загрузили и изучили данные\n",
    "- проверили данные на дубликаты\n",
    "- проконтролировали размеры датафреймов\n",
    "- посмотрели на соотношение обучающих и тестовых данных\n",
    "- посмотрели на отсутствующие в тестовой выборке данные\n",
    "- добавили в тестовую выборку целевые признаки\n",
    "- избавились от пропусков в целевых признаках датасетов"
   ]
  },
  {
   "cell_type": "markdown",
   "metadata": {},
   "source": [
    "## Анализ данных"
   ]
  },
  {
   "cell_type": "markdown",
   "metadata": {},
   "source": [
    "Приступим к анализу данных"
   ]
  },
  {
   "cell_type": "markdown",
   "metadata": {},
   "source": [
    "### Концентрация металлов на разных этапах"
   ]
  },
  {
   "cell_type": "markdown",
   "metadata": {},
   "source": [
    "Напишем три функции:\n",
    "- одна строит график распределения по указанным столбцам\n",
    "- вторая строит диаграммы размаха\n",
    "- третья собирает список столбцов с концентрацией указанного металла и вызывает предыдущие функции\n",
    "\n",
    "Для наглядности добавим на график содержание металлов в сырье до очистки"
   ]
  },
  {
   "cell_type": "code",
   "execution_count": 25,
   "metadata": {},
   "outputs": [],
   "source": [
    "def draw_hist(df, columns, subtitle, figsize=(16, 6), bins=None, xlabel=''):\n",
    "    fig = plt.figure(figsize=figsize)\n",
    "    for column in columns:\n",
    "        ax = sns.distplot(df[column].dropna(), bins=bins, kde=True, hist=True)\n",
    "    ax.set(title=subtitle, xlabel=xlabel)\n",
    "    fig.legend(labels=columns)"
   ]
  },
  {
   "cell_type": "code",
   "execution_count": 26,
   "metadata": {},
   "outputs": [],
   "source": [
    "def draw_box(df, columns, subtitle, figsize=(16, 6)):\n",
    "    fig = plt.figure(figsize=figsize)\n",
    "    ax = sns.boxplot(data=df[columns])\n",
    "    ax.set(title=subtitle)"
   ]
  },
  {
   "cell_type": "code",
   "execution_count": 27,
   "metadata": {},
   "outputs": [],
   "source": [
    "def draw_metal_concentrate(metal_type, subtile):\n",
    "    columns = ['rougher.input.feed_' + metal_type,\n",
    "               'rougher.output.concentrate_' + metal_type, \n",
    "               'primary_cleaner.output.concentrate_' + metal_type, \n",
    "               'final.output.concentrate_' + metal_type]\n",
    "    title = 'Концентрация ' + subtile + ' на разных стадиях очистки'\n",
    "    draw_hist(full_df, columns, title)\n",
    "    draw_box(full_df, columns, title)"
   ]
  },
  {
   "cell_type": "markdown",
   "metadata": {},
   "source": [
    "Посмотрим теперь на распределения металлов"
   ]
  },
  {
   "cell_type": "markdown",
   "metadata": {},
   "source": [
    "#### Металл Au"
   ]
  },
  {
   "cell_type": "markdown",
   "metadata": {},
   "source": [
    "Посмотрим на концентрацию золота"
   ]
  },
  {
   "cell_type": "code",
   "execution_count": 28,
   "metadata": {
    "scrolled": false
   },
   "outputs": [
    {
     "data": {
      "image/png": "[encoded data removed]",
      "text/plain": [
       "<Figure size 1152x432 with 1 Axes>"
      ]
     },
     "metadata": {},
     "output_type": "display_data"
    },
    {
     "data": {
      "image/png": "[encoded data removed]",
      "text/plain": [
       "<Figure size 1152x432 with 1 Axes>"
      ]
     },
     "metadata": {},
     "output_type": "display_data"
    }
   ],
   "source": [
    "draw_metal_concentrate('au', 'золота')"
   ]
  },
  {
   "cell_type": "markdown",
   "metadata": {},
   "source": [
    "Видим, что с каждым этапом очистки концентрация золота увеличивается. Вполне логично и соответствует тех процессу<br>\n",
    "Достаточно интересным выглядит то, что на каждом из этапов есть выбросы, причём в основном в меньшую сторону, до нуля"
   ]
  },
  {
   "cell_type": "markdown",
   "metadata": {},
   "source": [
    "#### Металл Ag"
   ]
  },
  {
   "cell_type": "markdown",
   "metadata": {},
   "source": [
    "Посмотрим на концентрацию серебра"
   ]
  },
  {
   "cell_type": "code",
   "execution_count": 29,
   "metadata": {},
   "outputs": [
    {
     "data": {
      "image/png": "[encoded data removed]",
      "text/plain": [
       "<Figure size 1152x432 with 1 Axes>"
      ]
     },
     "metadata": {},
     "output_type": "display_data"
    },
    {
     "data": {
      "image/png": "[encoded data removed]",
      "text/plain": [
       "<Figure size 1152x432 with 1 Axes>"
      ]
     },
     "metadata": {},
     "output_type": "display_data"
    }
   ],
   "source": [
    "draw_metal_concentrate('ag', 'серебра')"
   ]
  },
  {
   "cell_type": "markdown",
   "metadata": {},
   "source": [
    "В случае с серебром, его количество уменьшается с каждым этапом очистки. Что интересно, в черновом сырье концентрация серебра выше, чем в исходном сырье до флотации"
   ]
  },
  {
   "cell_type": "markdown",
   "metadata": {},
   "source": [
    "#### Металл Pb"
   ]
  },
  {
   "cell_type": "markdown",
   "metadata": {},
   "source": [
    "Посмотрим на концентрацию свинца"
   ]
  },
  {
   "cell_type": "code",
   "execution_count": 30,
   "metadata": {},
   "outputs": [
    {
     "data": {
      "image/png": "[encoded data removed]",
      "text/plain": [
       "<Figure size 1152x432 with 1 Axes>"
      ]
     },
     "metadata": {},
     "output_type": "display_data"
    },
    {
     "data": {
      "image/png": "[encoded data removed]",
      "text/plain": [
       "<Figure size 1152x432 with 1 Axes>"
      ]
     },
     "metadata": {},
     "output_type": "display_data"
    }
   ],
   "source": [
    "draw_metal_concentrate('pb', 'свинца')"
   ]
  },
  {
   "cell_type": "markdown",
   "metadata": {},
   "source": [
    "Концентрация свинца, также, как и концентрация золота, увеличивается по мере обработки руды<br>\n",
    "Что интересно, концентрация после первичной очистки и в финальном сырье очень схожа по медиане, но в финальном результате гораздо меньше разброс значений, что можно интерпретировать, как увеличении качества продукта"
   ]
  },
  {
   "cell_type": "markdown",
   "metadata": {},
   "source": [
    "### Размер гранул на обучающей и тестовой выборках"
   ]
  },
  {
   "cell_type": "markdown",
   "metadata": {},
   "source": [
    "Посмотрим на распределения размеров гранул сырья"
   ]
  },
  {
   "cell_type": "markdown",
   "metadata": {},
   "source": [
    "#### Размер гранул исходного сырья"
   ]
  },
  {
   "cell_type": "code",
   "execution_count": 31,
   "metadata": {},
   "outputs": [
    {
     "data": {
      "text/html": [
       "<div>\n",
       "<style scoped>\n",
       "    .dataframe tbody tr th:only-of-type {\n",
       "        vertical-align: middle;\n",
       "    }\n",
       "\n",
       "    .dataframe tbody tr th {\n",
       "        vertical-align: top;\n",
       "    }\n",
       "\n",
       "    .dataframe thead th {\n",
       "        text-align: right;\n",
       "    }\n",
       "</style>\n",
       "<table border=\"1\" class=\"dataframe\">\n",
       "  <thead>\n",
       "    <tr style=\"text-align: right;\">\n",
       "      <th></th>\n",
       "      <th>train</th>\n",
       "      <th>test</th>\n",
       "    </tr>\n",
       "  </thead>\n",
       "  <tbody>\n",
       "    <tr>\n",
       "      <td>count</td>\n",
       "      <td>14005.000000</td>\n",
       "      <td>5289.000000</td>\n",
       "    </tr>\n",
       "    <tr>\n",
       "      <td>mean</td>\n",
       "      <td>60.110518</td>\n",
       "      <td>55.951097</td>\n",
       "    </tr>\n",
       "    <tr>\n",
       "      <td>std</td>\n",
       "      <td>22.418485</td>\n",
       "      <td>19.081758</td>\n",
       "    </tr>\n",
       "    <tr>\n",
       "      <td>min</td>\n",
       "      <td>9.659576</td>\n",
       "      <td>0.046369</td>\n",
       "    </tr>\n",
       "    <tr>\n",
       "      <td>25%</td>\n",
       "      <td>48.973027</td>\n",
       "      <td>43.906347</td>\n",
       "    </tr>\n",
       "    <tr>\n",
       "      <td>50%</td>\n",
       "      <td>55.373885</td>\n",
       "      <td>50.841029</td>\n",
       "    </tr>\n",
       "    <tr>\n",
       "      <td>75%</td>\n",
       "      <td>66.080172</td>\n",
       "      <td>62.431047</td>\n",
       "    </tr>\n",
       "    <tr>\n",
       "      <td>max</td>\n",
       "      <td>484.967466</td>\n",
       "      <td>392.494040</td>\n",
       "    </tr>\n",
       "  </tbody>\n",
       "</table>\n",
       "</div>"
      ],
      "text/plain": [
       "              train         test\n",
       "count  14005.000000  5289.000000\n",
       "mean      60.110518    55.951097\n",
       "std       22.418485    19.081758\n",
       "min        9.659576     0.046369\n",
       "25%       48.973027    43.906347\n",
       "50%       55.373885    50.841029\n",
       "75%       66.080172    62.431047\n",
       "max      484.967466   392.494040"
      ]
     },
     "execution_count": 31,
     "metadata": {},
     "output_type": "execute_result"
    }
   ],
   "source": [
    "feed_size = pd.concat([train_df['rougher.input.feed_size'], \n",
    "                       test_df['rougher.input.feed_size']], axis=1, sort=True) \n",
    "feed_size.columns = ['train', 'test']\n",
    "feed_size.describe()"
   ]
  },
  {
   "cell_type": "code",
   "execution_count": 32,
   "metadata": {},
   "outputs": [
    {
     "data": {
      "image/png": "[encoded data removed]",
      "text/plain": [
       "<Figure size 1152x432 with 1 Axes>"
      ]
     },
     "metadata": {},
     "output_type": "display_data"
    }
   ],
   "source": [
    "draw_hist(feed_size, ['train', 'test'], 'Распределение размеров гранул', bins=100)"
   ]
  },
  {
   "cell_type": "markdown",
   "metadata": {},
   "source": [
    "В целом, распределения схожи<br>\n",
    "Можем предположить, что небольшие неточности в распределениях не сильно повлияют на работу модели"
   ]
  },
  {
   "cell_type": "markdown",
   "metadata": {},
   "source": [
    "#### Размер гранул после первичной очистки"
   ]
  },
  {
   "cell_type": "code",
   "execution_count": 33,
   "metadata": {},
   "outputs": [
    {
     "data": {
      "text/html": [
       "<div>\n",
       "<style scoped>\n",
       "    .dataframe tbody tr th:only-of-type {\n",
       "        vertical-align: middle;\n",
       "    }\n",
       "\n",
       "    .dataframe tbody tr th {\n",
       "        vertical-align: top;\n",
       "    }\n",
       "\n",
       "    .dataframe thead th {\n",
       "        text-align: right;\n",
       "    }\n",
       "</style>\n",
       "<table border=\"1\" class=\"dataframe\">\n",
       "  <thead>\n",
       "    <tr style=\"text-align: right;\">\n",
       "      <th></th>\n",
       "      <th>train</th>\n",
       "      <th>test</th>\n",
       "    </tr>\n",
       "  </thead>\n",
       "  <tbody>\n",
       "    <tr>\n",
       "      <td>count</td>\n",
       "      <td>14149.000000</td>\n",
       "      <td>5290.000000</td>\n",
       "    </tr>\n",
       "    <tr>\n",
       "      <td>mean</td>\n",
       "      <td>7.322310</td>\n",
       "      <td>7.266339</td>\n",
       "    </tr>\n",
       "    <tr>\n",
       "      <td>std</td>\n",
       "      <td>0.614062</td>\n",
       "      <td>0.610219</td>\n",
       "    </tr>\n",
       "    <tr>\n",
       "      <td>min</td>\n",
       "      <td>1.080000</td>\n",
       "      <td>5.650000</td>\n",
       "    </tr>\n",
       "    <tr>\n",
       "      <td>25%</td>\n",
       "      <td>6.960000</td>\n",
       "      <td>6.890000</td>\n",
       "    </tr>\n",
       "    <tr>\n",
       "      <td>50%</td>\n",
       "      <td>7.290000</td>\n",
       "      <td>7.250000</td>\n",
       "    </tr>\n",
       "    <tr>\n",
       "      <td>75%</td>\n",
       "      <td>7.700000</td>\n",
       "      <td>7.600000</td>\n",
       "    </tr>\n",
       "    <tr>\n",
       "      <td>max</td>\n",
       "      <td>10.470000</td>\n",
       "      <td>15.500000</td>\n",
       "    </tr>\n",
       "  </tbody>\n",
       "</table>\n",
       "</div>"
      ],
      "text/plain": [
       "              train         test\n",
       "count  14149.000000  5290.000000\n",
       "mean       7.322310     7.266339\n",
       "std        0.614062     0.610219\n",
       "min        1.080000     5.650000\n",
       "25%        6.960000     6.890000\n",
       "50%        7.290000     7.250000\n",
       "75%        7.700000     7.600000\n",
       "max       10.470000    15.500000"
      ]
     },
     "execution_count": 33,
     "metadata": {},
     "output_type": "execute_result"
    }
   ],
   "source": [
    "feed_size = pd.concat([train_df['primary_cleaner.input.feed_size'], \n",
    "                       test_df['primary_cleaner.input.feed_size']], axis=1, sort=True) \n",
    "feed_size.columns = ['train', 'test']\n",
    "feed_size.describe()"
   ]
  },
  {
   "cell_type": "code",
   "execution_count": 34,
   "metadata": {},
   "outputs": [
    {
     "data": {
      "image/png": "[encoded data removed]",
      "text/plain": [
       "<Figure size 1152x432 with 1 Axes>"
      ]
     },
     "metadata": {},
     "output_type": "display_data"
    }
   ],
   "source": [
    "draw_hist(feed_size, ['train', 'test'], 'Распределение размеров гранул')"
   ]
  },
  {
   "cell_type": "markdown",
   "metadata": {},
   "source": [
    "Аналогичная ситуция, распределения в целом схожи"
   ]
  },
  {
   "cell_type": "markdown",
   "metadata": {},
   "source": [
    "### Суммарная концентрация всех веществ на разных стадиях"
   ]
  },
  {
   "cell_type": "markdown",
   "metadata": {},
   "source": [
    "Отберем из полного датафрейма признаки, которые характеризуют концентрацию металлов на разных стадиях"
   ]
  },
  {
   "cell_type": "code",
   "execution_count": 35,
   "metadata": {},
   "outputs": [],
   "source": [
    "def get_columns_sum(stage):\n",
    "    column = full_df[[stage + 'au', stage + 'ag', \n",
    "                      stage + 'pb']].sum(axis=1)\n",
    "    return column"
   ]
  },
  {
   "cell_type": "code",
   "execution_count": 36,
   "metadata": {},
   "outputs": [
    {
     "data": {
      "text/html": [
       "<div>\n",
       "<style scoped>\n",
       "    .dataframe tbody tr th:only-of-type {\n",
       "        vertical-align: middle;\n",
       "    }\n",
       "\n",
       "    .dataframe tbody tr th {\n",
       "        vertical-align: top;\n",
       "    }\n",
       "\n",
       "    .dataframe thead th {\n",
       "        text-align: right;\n",
       "    }\n",
       "</style>\n",
       "<table border=\"1\" class=\"dataframe\">\n",
       "  <thead>\n",
       "    <tr style=\"text-align: right;\">\n",
       "      <th></th>\n",
       "      <th>сырьё</th>\n",
       "      <th>черновой</th>\n",
       "      <th>очищенный</th>\n",
       "      <th>финальный</th>\n",
       "    </tr>\n",
       "    <tr>\n",
       "      <th>date</th>\n",
       "      <th></th>\n",
       "      <th></th>\n",
       "      <th></th>\n",
       "      <th></th>\n",
       "    </tr>\n",
       "  </thead>\n",
       "  <tbody>\n",
       "    <tr>\n",
       "      <td>2016-01-15 00:00:00</td>\n",
       "      <td>14.871440</td>\n",
       "      <td>38.395653</td>\n",
       "      <td>53.111627</td>\n",
       "      <td>58.137072</td>\n",
       "    </tr>\n",
       "    <tr>\n",
       "      <td>2016-01-15 01:00:00</td>\n",
       "      <td>14.905729</td>\n",
       "      <td>38.945647</td>\n",
       "      <td>53.174338</td>\n",
       "      <td>58.699942</td>\n",
       "    </tr>\n",
       "    <tr>\n",
       "      <td>2016-01-15 02:00:00</td>\n",
       "      <td>14.638299</td>\n",
       "      <td>38.649756</td>\n",
       "      <td>52.927464</td>\n",
       "      <td>58.927421</td>\n",
       "    </tr>\n",
       "    <tr>\n",
       "      <td>2016-01-15 03:00:00</td>\n",
       "      <td>14.199305</td>\n",
       "      <td>38.411473</td>\n",
       "      <td>43.979185</td>\n",
       "      <td>58.714815</td>\n",
       "    </tr>\n",
       "    <tr>\n",
       "      <td>2016-01-15 04:00:00</td>\n",
       "      <td>13.511497</td>\n",
       "      <td>38.867359</td>\n",
       "      <td>52.121146</td>\n",
       "      <td>59.065251</td>\n",
       "    </tr>\n",
       "  </tbody>\n",
       "</table>\n",
       "</div>"
      ],
      "text/plain": [
       "                         сырьё   черновой  очищенный  финальный\n",
       "date                                                           \n",
       "2016-01-15 00:00:00  14.871440  38.395653  53.111627  58.137072\n",
       "2016-01-15 01:00:00  14.905729  38.945647  53.174338  58.699942\n",
       "2016-01-15 02:00:00  14.638299  38.649756  52.927464  58.927421\n",
       "2016-01-15 03:00:00  14.199305  38.411473  43.979185  58.714815\n",
       "2016-01-15 04:00:00  13.511497  38.867359  52.121146  59.065251"
      ]
     },
     "execution_count": 36,
     "metadata": {},
     "output_type": "execute_result"
    }
   ],
   "source": [
    "total_concentrate = pd.DataFrame()\n",
    "rougher_input = 'rougher.input.feed_'\n",
    "rougher_output = 'rougher.output.concentrate_'\n",
    "primary_output = 'primary_cleaner.output.concentrate_'\n",
    "final_output = 'final.output.concentrate_'\n",
    "\n",
    "full_df['сырьё'] = get_columns_sum(rougher_input)\n",
    "full_df['черновой'] = get_columns_sum(rougher_output)\n",
    "full_df['очищенный'] = get_columns_sum(primary_output)\n",
    "full_df['финальный'] = get_columns_sum(final_output)\n",
    "sum_columns = ['сырьё', 'черновой', 'очищенный', 'финальный']\n",
    "full_df[sum_columns].head()"
   ]
  },
  {
   "cell_type": "code",
   "execution_count": 37,
   "metadata": {},
   "outputs": [
    {
     "data": {
      "text/html": [
       "<div>\n",
       "<style scoped>\n",
       "    .dataframe tbody tr th:only-of-type {\n",
       "        vertical-align: middle;\n",
       "    }\n",
       "\n",
       "    .dataframe tbody tr th {\n",
       "        vertical-align: top;\n",
       "    }\n",
       "\n",
       "    .dataframe thead th {\n",
       "        text-align: right;\n",
       "    }\n",
       "</style>\n",
       "<table border=\"1\" class=\"dataframe\">\n",
       "  <thead>\n",
       "    <tr style=\"text-align: right;\">\n",
       "      <th></th>\n",
       "      <th>count</th>\n",
       "      <th>mean</th>\n",
       "      <th>std</th>\n",
       "      <th>min</th>\n",
       "      <th>25%</th>\n",
       "      <th>50%</th>\n",
       "      <th>75%</th>\n",
       "      <th>max</th>\n",
       "    </tr>\n",
       "  </thead>\n",
       "  <tbody>\n",
       "    <tr>\n",
       "      <td>сырьё</td>\n",
       "      <td>19439.0</td>\n",
       "      <td>20.640600</td>\n",
       "      <td>4.494362</td>\n",
       "      <td>0.03</td>\n",
       "      <td>17.252879</td>\n",
       "      <td>20.141216</td>\n",
       "      <td>23.797381</td>\n",
       "      <td>33.498784</td>\n",
       "    </tr>\n",
       "    <tr>\n",
       "      <td>черновой</td>\n",
       "      <td>19439.0</td>\n",
       "      <td>39.373032</td>\n",
       "      <td>6.863389</td>\n",
       "      <td>0.00</td>\n",
       "      <td>38.394639</td>\n",
       "      <td>40.312648</td>\n",
       "      <td>42.365102</td>\n",
       "      <td>55.568687</td>\n",
       "    </tr>\n",
       "    <tr>\n",
       "      <td>очищенный</td>\n",
       "      <td>19439.0</td>\n",
       "      <td>50.332682</td>\n",
       "      <td>7.671672</td>\n",
       "      <td>0.00</td>\n",
       "      <td>50.038524</td>\n",
       "      <td>51.905758</td>\n",
       "      <td>53.386172</td>\n",
       "      <td>60.269003</td>\n",
       "    </tr>\n",
       "    <tr>\n",
       "      <td>финальный</td>\n",
       "      <td>19439.0</td>\n",
       "      <td>59.223099</td>\n",
       "      <td>6.097603</td>\n",
       "      <td>0.00</td>\n",
       "      <td>59.298323</td>\n",
       "      <td>60.306921</td>\n",
       "      <td>61.096667</td>\n",
       "      <td>64.968881</td>\n",
       "    </tr>\n",
       "  </tbody>\n",
       "</table>\n",
       "</div>"
      ],
      "text/plain": [
       "             count       mean       std   min        25%        50%  \\\n",
       "сырьё      19439.0  20.640600  4.494362  0.03  17.252879  20.141216   \n",
       "черновой   19439.0  39.373032  6.863389  0.00  38.394639  40.312648   \n",
       "очищенный  19439.0  50.332682  7.671672  0.00  50.038524  51.905758   \n",
       "финальный  19439.0  59.223099  6.097603  0.00  59.298323  60.306921   \n",
       "\n",
       "                 75%        max  \n",
       "сырьё      23.797381  33.498784  \n",
       "черновой   42.365102  55.568687  \n",
       "очищенный  53.386172  60.269003  \n",
       "финальный  61.096667  64.968881  "
      ]
     },
     "execution_count": 37,
     "metadata": {},
     "output_type": "execute_result"
    }
   ],
   "source": [
    "full_df[sum_columns].describe().T"
   ]
  },
  {
   "cell_type": "markdown",
   "metadata": {},
   "source": [
    "Построим графики распределений"
   ]
  },
  {
   "cell_type": "code",
   "execution_count": 38,
   "metadata": {},
   "outputs": [
    {
     "data": {
      "image/png": "[encoded data removed]",
      "text/plain": [
       "<Figure size 1152x432 with 1 Axes>"
      ]
     },
     "metadata": {},
     "output_type": "display_data"
    }
   ],
   "source": [
    "draw_hist(full_df, sum_columns, 'Суммарная концентрация металлов на разных этапах', bins=50)"
   ]
  },
  {
   "cell_type": "code",
   "execution_count": 39,
   "metadata": {},
   "outputs": [
    {
     "data": {
      "image/png": "[encoded data removed]",
      "text/plain": [
       "<Figure size 1152x432 with 1 Axes>"
      ]
     },
     "metadata": {},
     "output_type": "display_data"
    }
   ],
   "source": [
    "draw_box(full_df, sum_columns, 'Суммарная концентрация металлов на разных этапах')"
   ]
  },
  {
   "cell_type": "markdown",
   "metadata": {},
   "source": [
    "Видим в суммарных данных выбросы и множество около нулевых значений. Посмотрим на значения, в которых суммарные значения металлов меньше 1<br>\n",
    "Дело в том, что мы не знаем точно, что значат конкретные данные и природу их появлений, поэтому не можем с точностью сказать будем мы удалять эти выбросы или нет, поэтому, оставим их<br>\n",
    "В тоже время, видно много значений рядом с 0, количество которых резко выбивается из общего графика. Кроме того, видим, что минимальные значения `0`, а разница между 25% и 50% значений разница в 1-2 единицы значений. Классифицируем эти данные, как ошибочные и удалим их. Для начала, найдём то значение, выше которого количество \"ошибочных\" значений будет незначительно изменяться"
   ]
  },
  {
   "cell_type": "code",
   "execution_count": 40,
   "metadata": {},
   "outputs": [
    {
     "name": "stdout",
     "output_type": "stream",
     "text": [
      "----- Значений до 0 -----\n",
      "Этап: сырьё ---> 0\n",
      "Этап: черновой ---> 0\n",
      "Этап: очищенный ---> 0\n",
      "Этап: финальный ---> 0\n",
      "----- Значений до 1 -----\n",
      "Этап: сырьё ---> 5\n",
      "Этап: черновой ---> 399\n",
      "Этап: очищенный ---> 229\n",
      "Этап: финальный ---> 99\n",
      "----- Значений до 2 -----\n",
      "Этап: сырьё ---> 6\n",
      "Этап: черновой ---> 400\n",
      "Этап: очищенный ---> 236\n",
      "Этап: финальный ---> 101\n",
      "----- Значений до 3 -----\n",
      "Этап: сырьё ---> 9\n",
      "Этап: черновой ---> 400\n",
      "Этап: очищенный ---> 243\n",
      "Этап: финальный ---> 101\n",
      "----- Значений до 4 -----\n",
      "Этап: сырьё ---> 11\n",
      "Этап: черновой ---> 402\n",
      "Этап: очищенный ---> 251\n",
      "Этап: финальный ---> 101\n",
      "----- Значений до 5 -----\n",
      "Этап: сырьё ---> 13\n",
      "Этап: черновой ---> 402\n",
      "Этап: очищенный ---> 255\n",
      "Этап: финальный ---> 102\n"
     ]
    }
   ],
   "source": [
    "for i in range(6):\n",
    "    print('----- Значений до', i, '-----')\n",
    "    for col in sum_columns:\n",
    "        print('Этап:', col ,'--->', (full_df[col] < i).sum())"
   ]
  },
  {
   "cell_type": "markdown",
   "metadata": {},
   "source": [
    "Большая часть \"ошибочных\" данных укладывается в значения до 1. Отсечём все данные, в которых суммарное количество материалов меньше 1"
   ]
  },
  {
   "cell_type": "code",
   "execution_count": 41,
   "metadata": {},
   "outputs": [
    {
     "data": {
      "text/html": [
       "<div>\n",
       "<style scoped>\n",
       "    .dataframe tbody tr th:only-of-type {\n",
       "        vertical-align: middle;\n",
       "    }\n",
       "\n",
       "    .dataframe tbody tr th {\n",
       "        vertical-align: top;\n",
       "    }\n",
       "\n",
       "    .dataframe thead th {\n",
       "        text-align: right;\n",
       "    }\n",
       "</style>\n",
       "<table border=\"1\" class=\"dataframe\">\n",
       "  <thead>\n",
       "    <tr style=\"text-align: right;\">\n",
       "      <th></th>\n",
       "      <th>count</th>\n",
       "      <th>mean</th>\n",
       "      <th>std</th>\n",
       "      <th>min</th>\n",
       "      <th>25%</th>\n",
       "      <th>50%</th>\n",
       "      <th>75%</th>\n",
       "      <th>max</th>\n",
       "    </tr>\n",
       "  </thead>\n",
       "  <tbody>\n",
       "    <tr>\n",
       "      <td>сырьё</td>\n",
       "      <td>19439.0</td>\n",
       "      <td>20.640600</td>\n",
       "      <td>4.494362</td>\n",
       "      <td>0.03</td>\n",
       "      <td>17.252879</td>\n",
       "      <td>20.141216</td>\n",
       "      <td>23.797381</td>\n",
       "      <td>33.498784</td>\n",
       "    </tr>\n",
       "    <tr>\n",
       "      <td>черновой</td>\n",
       "      <td>19439.0</td>\n",
       "      <td>39.373032</td>\n",
       "      <td>6.863389</td>\n",
       "      <td>0.00</td>\n",
       "      <td>38.394639</td>\n",
       "      <td>40.312648</td>\n",
       "      <td>42.365102</td>\n",
       "      <td>55.568687</td>\n",
       "    </tr>\n",
       "    <tr>\n",
       "      <td>очищенный</td>\n",
       "      <td>19439.0</td>\n",
       "      <td>50.332682</td>\n",
       "      <td>7.671672</td>\n",
       "      <td>0.00</td>\n",
       "      <td>50.038524</td>\n",
       "      <td>51.905758</td>\n",
       "      <td>53.386172</td>\n",
       "      <td>60.269003</td>\n",
       "    </tr>\n",
       "    <tr>\n",
       "      <td>финальный</td>\n",
       "      <td>19439.0</td>\n",
       "      <td>59.223099</td>\n",
       "      <td>6.097603</td>\n",
       "      <td>0.00</td>\n",
       "      <td>59.298323</td>\n",
       "      <td>60.306921</td>\n",
       "      <td>61.096667</td>\n",
       "      <td>64.968881</td>\n",
       "    </tr>\n",
       "  </tbody>\n",
       "</table>\n",
       "</div>"
      ],
      "text/plain": [
       "             count       mean       std   min        25%        50%  \\\n",
       "сырьё      19439.0  20.640600  4.494362  0.03  17.252879  20.141216   \n",
       "черновой   19439.0  39.373032  6.863389  0.00  38.394639  40.312648   \n",
       "очищенный  19439.0  50.332682  7.671672  0.00  50.038524  51.905758   \n",
       "финальный  19439.0  59.223099  6.097603  0.00  59.298323  60.306921   \n",
       "\n",
       "                 75%        max  \n",
       "сырьё      23.797381  33.498784  \n",
       "черновой   42.365102  55.568687  \n",
       "очищенный  53.386172  60.269003  \n",
       "финальный  61.096667  64.968881  "
      ]
     },
     "execution_count": 41,
     "metadata": {},
     "output_type": "execute_result"
    }
   ],
   "source": [
    "full_final = full_df[(full_df[sum_columns[0]] > 1) & \n",
    "                     (full_df[sum_columns[1]] > 1) & \n",
    "                     (full_df[sum_columns[2]] > 1) & \n",
    "                     (full_df[sum_columns[3]] > 1)]\n",
    "full_df[sum_columns].describe().T"
   ]
  },
  {
   "cell_type": "code",
   "execution_count": 42,
   "metadata": {},
   "outputs": [
    {
     "data": {
      "image/png": "[encoded data removed]",
      "text/plain": [
       "<Figure size 1152x432 with 1 Axes>"
      ]
     },
     "metadata": {},
     "output_type": "display_data"
    }
   ],
   "source": [
    "draw_hist(full_final, sum_columns, 'Суммарная концентрация металлов на разных этапах', bins=50)"
   ]
  },
  {
   "cell_type": "code",
   "execution_count": 43,
   "metadata": {},
   "outputs": [
    {
     "data": {
      "image/png": "[encoded data removed]",
      "text/plain": [
       "<Figure size 1152x432 with 1 Axes>"
      ]
     },
     "metadata": {},
     "output_type": "display_data"
    }
   ],
   "source": [
    "draw_box(full_final, sum_columns, 'Суммарная концентрация металлов на разных этапах')"
   ]
  },
  {
   "cell_type": "markdown",
   "metadata": {},
   "source": [
    "Тепер минимальные значения больше 1, а \"ошибочных\" значений около 0 больше нет<br>\n",
    "Перед переходом к обучению модели, уберём из обучающих и тестовых данных то, что только что отсекли<br> \n",
    "Используем для этого дату-индекс и удалим строки с пропусками в оставшихся данных"
   ]
  },
  {
   "cell_type": "code",
   "execution_count": 44,
   "metadata": {},
   "outputs": [
    {
     "name": "stdout",
     "output_type": "stream",
     "text": [
      "Размеры обучающей выборки (12299, 54)\n",
      "Размеры тестовой выборки (5074, 54)\n"
     ]
    }
   ],
   "source": [
    "train_final = train_df[train_df.index.isin(full_final.index)]\n",
    "test_final = test_df[test_df.index.isin(full_final.index)]\n",
    "\n",
    "train_final = train_final.dropna()\n",
    "test_final = test_final.dropna()\n",
    "\n",
    "print('Размеры обучающей выборки', train_final.shape)\n",
    "print('Размеры тестовой выборки', test_final.shape)"
   ]
  },
  {
   "cell_type": "markdown",
   "metadata": {},
   "source": [
    "### Вывод"
   ]
  },
  {
   "cell_type": "markdown",
   "metadata": {},
   "source": [
    "На данном этапе мы проверили, как меняется концентрация металлов (Au, Ag, Pb) на различных этапах очистки:\n",
    "- концентрация каждого из металлов меняется в зависимости от этапа очистки\n",
    "- концентрация золота постепенно увеличивается с каждым этапом\n",
    "- концентрация серебра постепенно падает\n",
    "- концентрация свинца постепенно растёт, но концентрация на последних двух этапах схожа по медиане, но отличается меньшим разбросом на финальной стадии, что может говорить о \"более чистом металле\"\n",
    "\n",
    "Мы проанализировали размера гранул на обучающей и тестовой выборках и убедились, что их распределения схожи<br>\n",
    "Также провели анализ суммарной концентрации всех металлов во время разных стадий. Мы обнаружили странные значения около 0, большая часть из которых укладыввалась в диапазон `0-1`. Такие данные мы посчитали как \"ошибочные\" и удалили их из всех датасетов"
   ]
  },
  {
   "cell_type": "markdown",
   "metadata": {},
   "source": [
    "## Модель"
   ]
  },
  {
   "cell_type": "markdown",
   "metadata": {},
   "source": [
    "### Функция расчёта sMAPE"
   ]
  },
  {
   "cell_type": "markdown",
   "metadata": {},
   "source": [
    "Напишем функцию расчёта sMAPE. Для удобства, запишем формулу в формате LaTeX\n",
    "$$ sMAPE = \\frac{1}{N} \\sum_{i=1}^{N} \\frac{|y_i - \\hat{y_i}|}{(|y_i| + |\\hat{y_i}|) / 2} * 100\\% $$\n",
    "Где:\n",
    "$$ y_i - значение\\,целевого\\,признака\\,для\\,объекта\\,с\\,порядковым\\,номером\\,i\\,в\\,выборке,\\,на\\,которой\\,измеряется\\,качество $$\n",
    "$$ \\hat{y_i} - значение\\,предсказания\\,для\\,объекта\\,с\\,порядковым\\,номером\\,i,\\,например,\\,в\\,тестовой\\,выборке $$\n",
    "$$ N - количество\\,объектов\\,в\\,выборке $$\n",
    "$$ \\sum_{i=1}^{N} -\\,суммирование\\,по\\,всем\\,объектам\\,выборки\\,(i\\,меняется\\,от\\,1\\,до\\,N) $$"
   ]
  },
  {
   "cell_type": "code",
   "execution_count": 45,
   "metadata": {},
   "outputs": [],
   "source": [
    "def smape(target, predictions):\n",
    "    top = np.abs(target - predictions)\n",
    "    bot = (np.abs(target) + np.abs(predictions)) / 2\n",
    "    summ = (top / bot).sum()\n",
    "    smape = (1 / len(target)) * summ * 100\n",
    "    return smape"
   ]
  },
  {
   "cell_type": "markdown",
   "metadata": {},
   "source": [
    "Напишем также функцию, которая считает итоговый sMAPE"
   ]
  },
  {
   "cell_type": "code",
   "execution_count": 46,
   "metadata": {},
   "outputs": [],
   "source": [
    "def final_smape(rougher, final):\n",
    "    return 0.25 * rougher + 0.75 * final"
   ]
  },
  {
   "cell_type": "markdown",
   "metadata": {},
   "source": [
    "### Этапы тех процесса"
   ]
  },
  {
   "cell_type": "markdown",
   "metadata": {},
   "source": [
    "Необходимо учесть, что модель будет предсказывать значения на двух этапах:\n",
    "- эффективность обогощения чернового концентрата\n",
    "- эффективность обогощения финального концентрата\n",
    "\n",
    "Таким образом, предсказывая эффективность обогощения чернового концентрата, мы не можем обучать модель на всех имеющихся данных, необходимо обучить только на тех данных, которые доступны на тот момент. Попробуем обучить как на всех данных, так и на части из них\n",
    "\n",
    "Соберём следующие списки столбцов:\n",
    "- столбцы, имеющие отношение только к этапу флотации\n",
    "- все столбцы для обучения"
   ]
  },
  {
   "cell_type": "code",
   "execution_count": 47,
   "metadata": {},
   "outputs": [
    {
     "data": {
      "text/plain": [
       "['rougher.input.feed_ag',\n",
       " 'rougher.input.feed_pb',\n",
       " 'rougher.input.feed_rate',\n",
       " 'rougher.input.feed_size',\n",
       " 'rougher.input.feed_sol',\n",
       " 'rougher.input.feed_au',\n",
       " 'rougher.input.floatbank10_sulfate',\n",
       " 'rougher.input.floatbank10_xanthate',\n",
       " 'rougher.input.floatbank11_sulfate',\n",
       " 'rougher.input.floatbank11_xanthate',\n",
       " 'rougher.output.recovery',\n",
       " 'rougher.state.floatbank10_a_air',\n",
       " 'rougher.state.floatbank10_a_level',\n",
       " 'rougher.state.floatbank10_b_air',\n",
       " 'rougher.state.floatbank10_b_level',\n",
       " 'rougher.state.floatbank10_c_air',\n",
       " 'rougher.state.floatbank10_c_level',\n",
       " 'rougher.state.floatbank10_d_air',\n",
       " 'rougher.state.floatbank10_d_level',\n",
       " 'rougher.state.floatbank10_e_air',\n",
       " 'rougher.state.floatbank10_e_level',\n",
       " 'rougher.state.floatbank10_f_air',\n",
       " 'rougher.state.floatbank10_f_level']"
      ]
     },
     "execution_count": 47,
     "metadata": {},
     "output_type": "execute_result"
    }
   ],
   "source": [
    "rougher_cols = [col for col in train_df.columns if col.startswith('rougher')]\n",
    "rougher_cols"
   ]
  },
  {
   "cell_type": "code",
   "execution_count": 48,
   "metadata": {},
   "outputs": [
    {
     "name": "stdout",
     "output_type": "stream",
     "text": [
      "(12299, 23)\n",
      "(5074, 23)\n",
      "(12299, 54)\n",
      "(5074, 54)\n"
     ]
    }
   ],
   "source": [
    "rougher_train_df = train_final[rougher_cols]\n",
    "rougher_test_df = test_final[rougher_cols]\n",
    "final_train_df = train_final\n",
    "final_test_df = test_final\n",
    "\n",
    "print(rougher_train_df.shape)\n",
    "print(rougher_test_df.shape)\n",
    "print(final_train_df.shape)\n",
    "print(final_test_df.shape)"
   ]
  },
  {
   "cell_type": "markdown",
   "metadata": {},
   "source": [
    "### Подготовка данных"
   ]
  },
  {
   "cell_type": "markdown",
   "metadata": {},
   "source": [
    "#### Выделение целевых признаков"
   ]
  },
  {
   "cell_type": "markdown",
   "metadata": {},
   "source": [
    "Выделим признаки и целевые признаки для всех выборок<br>"
   ]
  },
  {
   "cell_type": "code",
   "execution_count": 49,
   "metadata": {},
   "outputs": [
    {
     "name": "stdout",
     "output_type": "stream",
     "text": [
      "(12299, 22)\n",
      "(12299,)\n",
      "(5074, 22)\n",
      "(5074,)\n"
     ]
    }
   ],
   "source": [
    "rougher_X_train = rougher_train_df.drop(y_rougher, axis=1).reset_index(drop=True)\n",
    "rougher_y_train = rougher_train_df[y_rougher].reset_index(drop=True)\n",
    "\n",
    "rougher_X_test = rougher_test_df.drop(y_rougher, axis=1).reset_index(drop=True)\n",
    "rougher_y_test = rougher_test_df[y_rougher].reset_index(drop=True)\n",
    "\n",
    "print(rougher_X_train.shape)\n",
    "print(rougher_y_train.shape)\n",
    "print(rougher_X_test.shape)\n",
    "print(rougher_y_test.shape)"
   ]
  },
  {
   "cell_type": "code",
   "execution_count": 50,
   "metadata": {},
   "outputs": [
    {
     "name": "stdout",
     "output_type": "stream",
     "text": [
      "(12299, 52)\n",
      "(12299,)\n",
      "(5074, 52)\n",
      "(5074,)\n"
     ]
    }
   ],
   "source": [
    "final_X_train = final_train_df.drop(target_cols, axis=1).reset_index(drop=True)\n",
    "final_y_train = final_train_df[y_final].reset_index(drop=True)\n",
    "\n",
    "final_X_test = final_test_df.drop(target_cols, axis=1).reset_index(drop=True)\n",
    "final_y_test = final_test_df[y_final].reset_index(drop=True)\n",
    "\n",
    "print(final_X_train.shape)\n",
    "print(final_y_train.shape)\n",
    "print(final_X_test.shape)\n",
    "print(final_y_test.shape)"
   ]
  },
  {
   "cell_type": "markdown",
   "metadata": {},
   "source": [
    "#### Масштабирование признаков"
   ]
  },
  {
   "cell_type": "markdown",
   "metadata": {},
   "source": [
    "Произведём масштабирование признаков, использовав `StandardScaler`<br>\n",
    "Так как наборы данных у нас разные для флотации и финального результата, обучать `StandardScaler` будем отдельно для набора данных для флотации и отдельно для полного набора данных"
   ]
  },
  {
   "cell_type": "code",
   "execution_count": 51,
   "metadata": {},
   "outputs": [],
   "source": [
    "numeric = rougher_X_train.columns\n",
    "scaler = StandardScaler()\n",
    "scaler.fit(rougher_X_train[numeric])\n",
    "rougher_X_train[numeric] = scaler.transform(rougher_X_train[numeric])\n",
    "rougher_X_test[numeric] = scaler.transform(rougher_X_test[numeric])"
   ]
  },
  {
   "cell_type": "code",
   "execution_count": 52,
   "metadata": {},
   "outputs": [],
   "source": [
    "numeric = final_X_train.columns\n",
    "scaler = StandardScaler()\n",
    "scaler.fit(final_X_train[numeric])\n",
    "final_X_train[numeric] = scaler.transform(final_X_train[numeric])\n",
    "final_X_test[numeric] = scaler.transform(final_X_test[numeric])"
   ]
  },
  {
   "cell_type": "markdown",
   "metadata": {},
   "source": [
    "### Выбор модели"
   ]
  },
  {
   "cell_type": "markdown",
   "metadata": {},
   "source": [
    "#### Дерево решений"
   ]
  },
  {
   "cell_type": "markdown",
   "metadata": {},
   "source": [
    "Для начала, проверим работу дерева решений при разных гиперпараметрах<br>\n",
    "Также, учитывая, что в качестве метрики мы должны использовать метрику `sMAPE`, укажем эту функцию в качетве параметра `scoring`, использовав объект `scorer`"
   ]
  },
  {
   "cell_type": "code",
   "execution_count": 53,
   "metadata": {},
   "outputs": [],
   "source": [
    "cv = 5\n",
    "scorer = make_scorer(smape)"
   ]
  },
  {
   "cell_type": "code",
   "execution_count": 54,
   "metadata": {},
   "outputs": [],
   "source": [
    "def cross_validation_decision_tree(X, y):\n",
    "    best_score = 100\n",
    "    best_depth = 0\n",
    "    for depth in range(1, 20):\n",
    "        model = DecisionTreeRegressor(random_state=SEED, max_depth=depth)\n",
    "        score = cross_val_score(model, X, y, cv=cv, scoring=scorer).mean()\n",
    "        \n",
    "        if score < best_score:\n",
    "            best_score = score\n",
    "            best_depth = depth\n",
    "        print('Среднее sMAPE дерева решений глубины:', depth, '--->', score)\n",
    "    print('----- Лучший результат -----')\n",
    "    print('Средний sMAPE:', best_score)\n",
    "    print('Глубина дерева:', best_depth)"
   ]
  },
  {
   "cell_type": "markdown",
   "metadata": {},
   "source": [
    "Вызовем написанную функцию"
   ]
  },
  {
   "cell_type": "code",
   "execution_count": 55,
   "metadata": {
    "scrolled": false
   },
   "outputs": [
    {
     "name": "stdout",
     "output_type": "stream",
     "text": [
      "Среднее sMAPE дерева решений глубины: 1 ---> 7.483588955266389\n",
      "Среднее sMAPE дерева решений глубины: 2 ---> 6.867941567400313\n",
      "Среднее sMAPE дерева решений глубины: 3 ---> 6.467178206205001\n",
      "Среднее sMAPE дерева решений глубины: 4 ---> 6.409253540667649\n",
      "Среднее sMAPE дерева решений глубины: 5 ---> 7.037444461480542\n",
      "Среднее sMAPE дерева решений глубины: 6 ---> 6.839416885739436\n",
      "Среднее sMAPE дерева решений глубины: 7 ---> 7.279625159717187\n",
      "Среднее sMAPE дерева решений глубины: 8 ---> 7.120780728182488\n",
      "Среднее sMAPE дерева решений глубины: 9 ---> 7.4992428976168926\n",
      "Среднее sMAPE дерева решений глубины: 10 ---> 7.271194422724602\n",
      "Среднее sMAPE дерева решений глубины: 11 ---> 7.6836678315445255\n",
      "Среднее sMAPE дерева решений глубины: 12 ---> 7.899641814650837\n",
      "Среднее sMAPE дерева решений глубины: 13 ---> 7.749005356315291\n",
      "Среднее sMAPE дерева решений глубины: 14 ---> 7.885252633830402\n",
      "Среднее sMAPE дерева решений глубины: 15 ---> 8.014509454194137\n",
      "Среднее sMAPE дерева решений глубины: 16 ---> 8.395133222544612\n",
      "Среднее sMAPE дерева решений глубины: 17 ---> 8.262685851350934\n",
      "Среднее sMAPE дерева решений глубины: 18 ---> 8.056778774501762\n",
      "Среднее sMAPE дерева решений глубины: 19 ---> 8.115728524670224\n",
      "----- Лучший результат -----\n",
      "Средний sMAPE: 6.409253540667649\n",
      "Глубина дерева: 4\n"
     ]
    }
   ],
   "source": [
    "cross_validation_decision_tree(rougher_X_train, rougher_y_train)"
   ]
  },
  {
   "cell_type": "code",
   "execution_count": 56,
   "metadata": {},
   "outputs": [
    {
     "name": "stdout",
     "output_type": "stream",
     "text": [
      "Среднее sMAPE дерева решений глубины: 1 ---> 8.883974254727507\n",
      "Среднее sMAPE дерева решений глубины: 2 ---> 9.084165387674302\n",
      "Среднее sMAPE дерева решений глубины: 3 ---> 9.584421395213031\n",
      "Среднее sMAPE дерева решений глубины: 4 ---> 10.725976303035003\n",
      "Среднее sMAPE дерева решений глубины: 5 ---> 10.498603472395889\n",
      "Среднее sMAPE дерева решений глубины: 6 ---> 11.15266147009611\n",
      "Среднее sMAPE дерева решений глубины: 7 ---> 12.215515409613284\n",
      "Среднее sMAPE дерева решений глубины: 8 ---> 12.299604271850217\n",
      "Среднее sMAPE дерева решений глубины: 9 ---> 12.71272664244566\n",
      "Среднее sMAPE дерева решений глубины: 10 ---> 14.953260304823942\n",
      "Среднее sMAPE дерева решений глубины: 11 ---> 14.00650490622852\n",
      "Среднее sMAPE дерева решений глубины: 12 ---> 15.52366567953872\n",
      "Среднее sMAPE дерева решений глубины: 13 ---> 16.081343391124864\n",
      "Среднее sMAPE дерева решений глубины: 14 ---> 15.082120264019968\n",
      "Среднее sMAPE дерева решений глубины: 15 ---> 15.728437472038905\n",
      "Среднее sMAPE дерева решений глубины: 16 ---> 16.410374350499\n",
      "Среднее sMAPE дерева решений глубины: 17 ---> 16.542325233751093\n",
      "Среднее sMAPE дерева решений глубины: 18 ---> 16.106236933534007\n",
      "Среднее sMAPE дерева решений глубины: 19 ---> 15.568572047672706\n",
      "----- Лучший результат -----\n",
      "Средний sMAPE: 8.883974254727507\n",
      "Глубина дерева: 1\n"
     ]
    }
   ],
   "source": [
    "cross_validation_decision_tree(final_X_train, final_y_train)"
   ]
  },
  {
   "cell_type": "markdown",
   "metadata": {},
   "source": [
    "Видим достаточно странные результаты:\n",
    "- на флотационной выборке наилучший результат был достигнут на глубине дерева равным 4\n",
    "- на финальной выборке наилучший результат был достигнут на глубине дерева, равной 1, что выглядит крайне странно"
   ]
  },
  {
   "cell_type": "markdown",
   "metadata": {},
   "source": [
    "#### Случайный лес"
   ]
  },
  {
   "cell_type": "markdown",
   "metadata": {},
   "source": [
    "Теперь проверим работу случайного леса<br>\n",
    "Проверять будем также с разной глубиной дерева и разным количеством оценщиков<br>\n",
    "Выводить будем наилучший результат для каждой глубины дерева: а затем наилучший общий результат"
   ]
  },
  {
   "cell_type": "code",
   "execution_count": 57,
   "metadata": {},
   "outputs": [],
   "source": [
    "def cross_validation_random_forest(X, y):\n",
    "    total_score = 100\n",
    "    total_depth = 0\n",
    "    total_estimators = 0\n",
    "    for depth in range(1,10):\n",
    "        best_score = 100\n",
    "        best_depth = 0\n",
    "        best_estimators = 0\n",
    "        for estimator in range(10, 31, 5):\n",
    "            model = RandomForestRegressor(random_state=SEED, \n",
    "                                          n_estimators=estimator, \n",
    "                                          max_depth=depth)\n",
    "            score = cross_val_score(model, X, y, cv=cv, scoring=scorer).mean()\n",
    "        \n",
    "            if score < best_score:\n",
    "                best_score = score\n",
    "                best_depth = depth\n",
    "                best_estimators = estimator\n",
    "        \n",
    "        print('Лучшее среднее sMAPE случайного леса для глубины:', depth,\n",
    "              'при', best_estimators, 'оценщиках --->', best_score)\n",
    "        if best_score < total_score:\n",
    "            total_score = best_score\n",
    "            total_depth = best_depth\n",
    "            total_estimators = best_estimators\n",
    "    print('----- Лучший результат -----')\n",
    "    print('Средний sMAPE:', total_score)\n",
    "    print('Глубина дерева:', total_depth)\n",
    "    print('Глубина дерева:', total_estimators)"
   ]
  },
  {
   "cell_type": "code",
   "execution_count": 58,
   "metadata": {
    "scrolled": false
   },
   "outputs": [
    {
     "name": "stdout",
     "output_type": "stream",
     "text": [
      "Лучшее среднее sMAPE случайного леса для глубины: 1 при 10 оценщиках ---> 7.340682414548345\n",
      "Лучшее среднее sMAPE случайного леса для глубины: 2 при 10 оценщиках ---> 6.626653085228904\n",
      "Лучшее среднее sMAPE случайного леса для глубины: 3 при 30 оценщиках ---> 6.079441634821658\n",
      "Лучшее среднее sMAPE случайного леса для глубины: 4 при 20 оценщиках ---> 5.928251342016433\n",
      "Лучшее среднее sMAPE случайного леса для глубины: 5 при 20 оценщиках ---> 5.86795903958234\n",
      "Лучшее среднее sMAPE случайного леса для глубины: 6 при 20 оценщиках ---> 5.921788683362439\n",
      "Лучшее среднее sMAPE случайного леса для глубины: 7 при 10 оценщиках ---> 5.8740333237866045\n",
      "Лучшее среднее sMAPE случайного леса для глубины: 8 при 20 оценщиках ---> 5.940999553691967\n",
      "Лучшее среднее sMAPE случайного леса для глубины: 9 при 20 оценщиках ---> 6.019519317949994\n",
      "----- Лучший результат -----\n",
      "Средний sMAPE: 5.86795903958234\n",
      "Глубина дерева: 5\n",
      "Глубина дерева: 20\n"
     ]
    }
   ],
   "source": [
    "cross_validation_random_forest(rougher_X_train, rougher_y_train)"
   ]
  },
  {
   "cell_type": "code",
   "execution_count": 59,
   "metadata": {},
   "outputs": [
    {
     "name": "stdout",
     "output_type": "stream",
     "text": [
      "Лучшее среднее sMAPE случайного леса для глубины: 1 при 25 оценщиках ---> 8.899435464079385\n",
      "Лучшее среднее sMAPE случайного леса для глубины: 2 при 15 оценщиках ---> 8.73045379280031\n",
      "Лучшее среднее sMAPE случайного леса для глубины: 3 при 20 оценщиках ---> 8.89351142196401\n",
      "Лучшее среднее sMAPE случайного леса для глубины: 5 при 15 оценщиках ---> 8.756104024194789\n",
      "Лучшее среднее sMAPE случайного леса для глубины: 6 при 25 оценщиках ---> 8.7864674009109\n",
      "Лучшее среднее sMAPE случайного леса для глубины: 7 при 25 оценщиках ---> 8.999711499360842\n",
      "Лучшее среднее sMAPE случайного леса для глубины: 8 при 25 оценщиках ---> 9.309662989727364\n",
      "Лучшее среднее sMAPE случайного леса для глубины: 9 при 10 оценщиках ---> 9.288474644514087\n",
      "----- Лучший результат -----\n",
      "Средний sMAPE: 8.73045379280031\n",
      "Глубина дерева: 2\n",
      "Глубина дерева: 15\n"
     ]
    }
   ],
   "source": [
    "cross_validation_random_forest(final_X_train, final_y_train)"
   ]
  },
  {
   "cell_type": "markdown",
   "metadata": {},
   "source": [
    "Наилучшие результаты:\n",
    "- для флотационной выборки достигнут при глубине дерева 5 и количестве оценщиков 20\n",
    "- для финальной выборки достигнут при глубине дерева 2 и количестве оценщиков 15"
   ]
  },
  {
   "cell_type": "markdown",
   "metadata": {},
   "source": [
    "#### Линейная регрессия"
   ]
  },
  {
   "cell_type": "code",
   "execution_count": 60,
   "metadata": {},
   "outputs": [],
   "source": [
    "def cross_validation_linear(X, y):\n",
    "    model = LinearRegression()\n",
    "    score = cross_val_score(model, X, y, cv=cv, scoring=scorer).mean()\n",
    "        \n",
    "    print('Средний sMAPE:', score)"
   ]
  },
  {
   "cell_type": "code",
   "execution_count": 61,
   "metadata": {},
   "outputs": [
    {
     "name": "stdout",
     "output_type": "stream",
     "text": [
      "Средний sMAPE: 6.227853223426489\n"
     ]
    }
   ],
   "source": [
    "cross_validation_linear(rougher_X_train, rougher_y_train)"
   ]
  },
  {
   "cell_type": "code",
   "execution_count": 62,
   "metadata": {},
   "outputs": [
    {
     "name": "stdout",
     "output_type": "stream",
     "text": [
      "Средний sMAPE: 10.33724158648965\n"
     ]
    }
   ],
   "source": [
    "cross_validation_linear(final_X_train, final_y_train)"
   ]
  },
  {
   "cell_type": "markdown",
   "metadata": {},
   "source": [
    "Линейная регрессия на флотационной выборке показала результат лучше, чем дерево решений, но на финальной хуже"
   ]
  },
  {
   "cell_type": "markdown",
   "metadata": {},
   "source": [
    "#### Лучшая модель"
   ]
  },
  {
   "cell_type": "markdown",
   "metadata": {},
   "source": [
    "Наилучшие результаты показала модель случайного леса:\n",
    "- для флотационной выборки достигнут при глубине дерева 5 и количестве оценщиков 20\n",
    "- для финальной выборки достигнут при глубине дерева 2 и количестве оценщиков 15\n",
    "\n",
    "Попробуем применить эти модели при расчёте итогового sMAPE в следующих комбинация:\n",
    "- используем для каждого этапа свою модель\n",
    "- используем для каждого этапа модель флотационных расчётов (попробуем предсказать финальный результат исходя из начальных данных)\n",
    "- используем для каждого этапа модель финальных расчётов\n",
    "\n",
    "Так мы убедимся, действительно ли лучше использовать две разные модели для двух этапов<br>\n",
    "Для удобства, напишем функцию"
   ]
  },
  {
   "cell_type": "code",
   "execution_count": 63,
   "metadata": {},
   "outputs": [],
   "source": [
    "def calculate_final_smape(depth, estimators, rougher_X, final_X):\n",
    "    model = RandomForestRegressor(random_state=SEED, max_depth=depth, n_estimators=estimators)\n",
    "    score_rougher = cross_val_score(model, rougher_X, rougher_y_train, cv=cv, scoring=scorer).mean()\n",
    "    score_final = cross_val_score(model, final_X, final_y_train, cv=cv, scoring=scorer).mean()\n",
    "    total_smape = final_smape(score_rougher, score_final)\n",
    "    print('Средний sMAPE флотации:', score_rougher)\n",
    "    print('Средний sMAPE финального этапа:', score_final)\n",
    "    print('Итоговый sMAPE:', total_smape)"
   ]
  },
  {
   "cell_type": "markdown",
   "metadata": {},
   "source": [
    "Расчитаем итоговый sMAPE при помощи данных, доступных перед флотацией при:\n",
    "- глубине 5 и 20 оценщиках\n",
    "- глубине 2 и 15 оценщиках"
   ]
  },
  {
   "cell_type": "code",
   "execution_count": 64,
   "metadata": {},
   "outputs": [
    {
     "name": "stdout",
     "output_type": "stream",
     "text": [
      "Средний sMAPE флотации: 5.86795903958234\n",
      "Средний sMAPE финального этапа: 8.886604145083746\n",
      "Итоговый sMAPE: 8.131942868708395\n"
     ]
    }
   ],
   "source": [
    "calculate_final_smape(5, 20, rougher_X_train, rougher_X_train)"
   ]
  },
  {
   "cell_type": "code",
   "execution_count": 65,
   "metadata": {},
   "outputs": [
    {
     "name": "stdout",
     "output_type": "stream",
     "text": [
      "Средний sMAPE флотации: 6.694937073821295\n",
      "Средний sMAPE финального этапа: 8.993029387503153\n",
      "Итоговый sMAPE: 8.418506309082689\n"
     ]
    }
   ],
   "source": [
    "calculate_final_smape(2, 15, rougher_X_train, rougher_X_train)"
   ]
  },
  {
   "cell_type": "markdown",
   "metadata": {},
   "source": [
    "Теперь расчитаем итоговый sMAPE при помощи всех данных при:\n",
    "- глубине 5 и 20 оценщиках\n",
    "- глубине 2 и 15 оценщиках"
   ]
  },
  {
   "cell_type": "code",
   "execution_count": 66,
   "metadata": {},
   "outputs": [
    {
     "name": "stdout",
     "output_type": "stream",
     "text": [
      "Средний sMAPE флотации: 6.128734334273953\n",
      "Средний sMAPE финального этапа: 8.777859913496501\n",
      "Итоговый sMAPE: 8.115578518690864\n"
     ]
    }
   ],
   "source": [
    "calculate_final_smape(5, 20, final_X_train, final_X_train)"
   ]
  },
  {
   "cell_type": "code",
   "execution_count": 67,
   "metadata": {},
   "outputs": [
    {
     "name": "stdout",
     "output_type": "stream",
     "text": [
      "Средний sMAPE флотации: 6.516867402668606\n",
      "Средний sMAPE финального этапа: 8.73045379280031\n",
      "Итоговый sMAPE: 8.177057195267384\n"
     ]
    }
   ],
   "source": [
    "calculate_final_smape(2, 15, final_X_train, final_X_train)"
   ]
  },
  {
   "cell_type": "markdown",
   "metadata": {},
   "source": [
    "Теперь посчитаем итоговый sMAPE, но с учётом свеого набора обучающих данных для каждого этапа при:\n",
    "- глубине 5 и 20 оценщиках\n",
    "- глубине 2 и 15 оценщиках"
   ]
  },
  {
   "cell_type": "code",
   "execution_count": 68,
   "metadata": {},
   "outputs": [
    {
     "name": "stdout",
     "output_type": "stream",
     "text": [
      "Средний sMAPE флотации: 5.86795903958234\n",
      "Средний sMAPE финального этапа: 8.777859913496501\n",
      "Итоговый sMAPE: 8.05038469501796\n"
     ]
    }
   ],
   "source": [
    "calculate_final_smape(5, 20, rougher_X_train, final_X_train)"
   ]
  },
  {
   "cell_type": "code",
   "execution_count": 69,
   "metadata": {},
   "outputs": [
    {
     "name": "stdout",
     "output_type": "stream",
     "text": [
      "Средний sMAPE флотации: 6.694937073821295\n",
      "Средний sMAPE финального этапа: 8.73045379280031\n",
      "Итоговый sMAPE: 8.221574613055555\n"
     ]
    }
   ],
   "source": [
    "calculate_final_smape(2, 15, rougher_X_train, final_X_train)"
   ]
  },
  {
   "cell_type": "markdown",
   "metadata": {},
   "source": [
    "Наконец, посчитаем итоговый sMAPE, с учётом своего набора обучающих данных для каждого этапа и своих гиперпараметрах под каждый этап"
   ]
  },
  {
   "cell_type": "code",
   "execution_count": 70,
   "metadata": {},
   "outputs": [
    {
     "name": "stdout",
     "output_type": "stream",
     "text": [
      "Средний sMAPE флотации: 5.86795903958234\n",
      "Средний sMAPE финального этапа: 8.73045379280031\n",
      "Итоговый sMAPE: 8.014830104495816\n"
     ]
    }
   ],
   "source": [
    "rougher_model = RandomForestRegressor(random_state=SEED, max_depth=5, n_estimators=20)\n",
    "final_model = RandomForestRegressor(random_state=SEED, max_depth=2, n_estimators=15)\n",
    "score_rougher = cross_val_score(rougher_model, rougher_X_train, rougher_y_train, cv=cv, scoring=scorer).mean()\n",
    "score_final = cross_val_score(final_model, final_X_train, final_y_train, cv=cv, scoring=scorer).mean()\n",
    "total_smape = final_smape(score_rougher, score_final)\n",
    "print('Средний sMAPE флотации:', score_rougher)\n",
    "print('Средний sMAPE финального этапа:', score_final)\n",
    "print('Итоговый sMAPE:', total_smape)"
   ]
  },
  {
   "cell_type": "markdown",
   "metadata": {},
   "source": [
    "Итак, наилучший результат мы получили при использовании своей модели для каждого этапа и своих гиперпараметров также для каждого этапа отдельно:\n",
    "- средний sMAPE флотации: 5.86795903958234\n",
    "- средний sMAPE финального этапа: 8.73045379280031\n",
    "- итоговый sMAPE: 8.014830104495816\n",
    "- глубина 5 и 20 оценщиков для флотационной выборки\n",
    "- глубина 2 и 15 оценщиков для финальной выборки"
   ]
  },
  {
   "cell_type": "markdown",
   "metadata": {},
   "source": [
    "### Проверка модели на тестовой выборке"
   ]
  },
  {
   "cell_type": "markdown",
   "metadata": {},
   "source": [
    "Теперь проверим наилучший результат на тестовой выборке"
   ]
  },
  {
   "cell_type": "code",
   "execution_count": 71,
   "metadata": {},
   "outputs": [
    {
     "name": "stdout",
     "output_type": "stream",
     "text": [
      "sMAPE флотации: 4.510154796625637\n",
      "sMAPE финального этапа: 7.631055181648655\n",
      "Итоговый sMAPE: 6.8508300853929\n"
     ]
    }
   ],
   "source": [
    "rougher_model = RandomForestRegressor(random_state=SEED, max_depth=5, n_estimators=20)\n",
    "final_model = RandomForestRegressor(random_state=SEED, max_depth=2, n_estimators=15)\n",
    "\n",
    "rougher_model.fit(rougher_X_train, rougher_y_train)\n",
    "predictions_rouger = rougher_model.predict(rougher_X_test)\n",
    "\n",
    "final_model.fit(final_X_train, final_y_train)\n",
    "predictions_final = final_model.predict(final_X_test)\n",
    "\n",
    "score_rougher = smape(rougher_y_test, predictions_rouger)\n",
    "score_final = smape(final_y_test, predictions_final)\n",
    "total_smape = final_smape(score_rougher, score_final)\n",
    "print('sMAPE флотации:', score_rougher)\n",
    "print('sMAPE финального этапа:', score_final)\n",
    "print('Итоговый sMAPE:', total_smape)"
   ]
  },
  {
   "cell_type": "markdown",
   "metadata": {},
   "source": [
    "Модели достаточно хорошо показали себя"
   ]
  },
  {
   "cell_type": "markdown",
   "metadata": {},
   "source": [
    "### Проверка модели на адекватность"
   ]
  },
  {
   "cell_type": "code",
   "execution_count": 72,
   "metadata": {},
   "outputs": [
    {
     "name": "stdout",
     "output_type": "stream",
     "text": [
      "----- Стратегия: mean -----\n",
      "sMAPE флотации: 5.333840021245837\n",
      "sMAPE финального этапа: 8.468056052358765\n",
      "Итоговый sMAPE: 7.684502044580533\n",
      "\n",
      "----- Стратегия: median -----\n",
      "sMAPE флотации: 4.804946257172046\n",
      "sMAPE финального этапа: 8.152059614620379\n",
      "Итоговый sMAPE: 7.315281275258296\n",
      "\n"
     ]
    }
   ],
   "source": [
    "strategies = ['mean', 'median']\n",
    "for strat in strategies:\n",
    "    dummy = DummyRegressor(strategy=strat)\n",
    "\n",
    "    dummy.fit(rougher_X_train, rougher_y_train)\n",
    "    predictions_rouger = dummy.predict(rougher_X_test)\n",
    "\n",
    "    dummy.fit(final_X_train, final_y_train)\n",
    "    predictions_final = dummy.predict(final_X_test)\n",
    "\n",
    "    score_rougher = smape(rougher_y_test, predictions_rouger)\n",
    "    score_final = smape(final_y_test, predictions_final)\n",
    "    total_smape = final_smape(score_rougher, score_final)\n",
    "    print('----- Стратегия:', strat, '-----')\n",
    "    print('sMAPE флотации:', score_rougher)\n",
    "    print('sMAPE финального этапа:', score_final)\n",
    "    print('Итоговый sMAPE:', total_smape)\n",
    "    print()"
   ]
  },
  {
   "cell_type": "markdown",
   "metadata": {},
   "source": [
    "Обученная модель работает лучше, чем модель `Dummy классификатора`. Можем сказать, что модель прошла проверку на адекватность"
   ]
  },
  {
   "cell_type": "markdown",
   "metadata": {},
   "source": [
    "### Вывод"
   ]
  },
  {
   "cell_type": "markdown",
   "metadata": {},
   "source": [
    "На данном этапе мы сделали следующее:\n",
    "- написали функцию расчёта метрики качества sMAPE и итоговой метрики\n",
    "- выделили столбцы с данными, которые относятся к этапу флотации\n",
    "- выделили целевые признаки\n",
    "- провели масштабирование данных\n",
    "- выбрали оптимальную модель \n",
    "- протестировали оптимальную модель и проверили её на адекватность\n",
    "\n",
    "Наилучшим подходом оказалось использование двух моделей и двух наборов обучающих данных:\n",
    "- для этапа флотации использовались данные, которые содержат только входную информацию, доступную для флотации, а модель случайного леса была настроена с максимально глубиной 5 и количеством оценщиков 20\n",
    "- для финального этапа использовались все доступные для обучения данные, а модель настроена с максимальной глубиной 2 и количеством оценщиков 15 "
   ]
  },
  {
   "cell_type": "markdown",
   "metadata": {},
   "source": [
    "## Общий вывод"
   ]
  },
  {
   "cell_type": "markdown",
   "metadata": {},
   "source": [
    "Нам были предоставлены данные о неких параметрах технологического процесса переработки металлической руды и добычи из неё золота<br>\n",
    "Необходимо было подготовить прототип модели машинного обучения, которая предсказывает коэффициент восстановления золота из золотосодержащей руды\n",
    "\n",
    "1) Прежде всего, мы загрузили и изучили предоставленные нам данные:\n",
    "- в данных были дубликаты, которые были удалены\n",
    "- были проанализированы столбцы, которые недоступны в тестовой выборке. Эти же данные были удалены из обучающей выборки\n",
    "- в данных были пропуски в целевых признаках. Строки с пропусками были удалены\n",
    "\n",
    "2) Далее, мы проверили, как меняется концентрация металлов (Au, Ag, Pb) на различных этапах очистки:\n",
    "- концентрация каждого из металлов меняется в зависимости от этапа очистки\n",
    "- концентрация золота постепенно увеличивается с каждым этапом\n",
    "- концентрация серебра постепенно падает\n",
    "- концентрация свинца постепенно растёт, но концентрация на последних двух этапах схожа по медиане, но отличается меньшим разбросом на финальной стадии, что может говорить о \"более чистом металле\"\n",
    "\n",
    "3) Мы проанализировали размера гранул на обучающей и тестовой выборках и убедились, что их распределения схожи. Также провели анализ суммарной концентрации всех металлов во время разных стадий. Мы обнаружили странные значения около 0, большая часть из которых укладыввалась в диапазон `0-1`. Такие данные мы посчитали как \"ошибочные\" и удалили их из всех датасетов\n",
    "\n",
    "4) На данном этапе мы сделали следующее:\n",
    "- написали функцию расчёта метрики качества sMAPE и итоговой метрики\n",
    "- выделили столбцы с данными, которые относятся к этапу флотации\n",
    "- выделили целевые признаки\n",
    "- провели масштабирование данных\n",
    "- выбрали оптимальную модель \n",
    "- протестировали оптимальную модель и проверили её на адекватность\n",
    "\n",
    "5) Наилучшим подходом оказалось использование двух моделей и двух наборов обучающих данных:\n",
    "- для этапа флотации использовались данные, которые содержат только входную информацию, доступную для флотации, а модель случайного леса была настроена с максимально глубиной 5 и количеством оценщиков 20\n",
    "- для финального этапа использовались все доступные для обучения данные, а модель настроена с максимальной глубиной 2 и количеством оценщиков 15 \n",
    "\n",
    "6) Удалость достичь значения метрики sMAPE:\n",
    "- 4.5101 для тестовой флотационной выборки\n",
    "- 7.631 для тестовой финальной выборки\n",
    "- 6.8508 - итоговое значение sMAPE"
   ]
  }
 ],
 "metadata": {
  "kernelspec": {
   "display_name": "Python 3",
   "language": "python",
   "name": "python3"
  },
  "language_info": {
   "codemirror_mode": {
    "name": "ipython",
    "version": 3
   },
   "file_extension": ".py",
   "mimetype": "text/x-python",
   "name": "python",
   "nbconvert_exporter": "python",
   "pygments_lexer": "ipython3",
   "version": "3.8.8"
  },
  "toc": {
   "base_numbering": 1,
   "nav_menu": {},
   "number_sections": true,
   "sideBar": true,
   "skip_h1_title": true,
   "title_cell": "Содержание",
   "title_sidebar": "Contents",
   "toc_cell": true,
   "toc_position": {
    "height": "calc(100% - 180px)",
    "left": "10px",
    "top": "150px",
    "width": "240.391px"
   },
   "toc_section_display": true,
   "toc_window_display": true
  }
 },
 "nbformat": 4,
 "nbformat_minor": 2
}
