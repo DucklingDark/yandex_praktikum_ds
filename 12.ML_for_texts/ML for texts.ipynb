{
 "cells": [
  {
   "cell_type": "markdown",
   "source": [
    "<h1>Содержание<span class=\"tocSkip\"></span></h1>\n",
    "<div class=\"toc\"><ul class=\"toc-item\"><li><span><a href=\"#Подготовка\" data-toc-modified-id=\"Подготовка-1\"><span class=\"toc-item-num\">1&nbsp;&nbsp;</span>Подготовка</a></span><ul class=\"toc-item\"><li><span><a href=\"#Загрузка-данных\" data-toc-modified-id=\"Загрузка-данных-1.1\"><span class=\"toc-item-num\">1.1&nbsp;&nbsp;</span>Загрузка данных</a></span></li><li><span><a href=\"#Анализ-данных\" data-toc-modified-id=\"Анализ-данных-1.2\"><span class=\"toc-item-num\">1.2&nbsp;&nbsp;</span>Анализ данных</a></span></li><li><span><a href=\"#Подготовка-данных\" data-toc-modified-id=\"Подготовка-данных-1.3\"><span class=\"toc-item-num\">1.3&nbsp;&nbsp;</span>Подготовка данных</a></span><ul class=\"toc-item\"><li><span><a href=\"#Лишние-символы\" data-toc-modified-id=\"Лишние-символы-1.3.1\"><span class=\"toc-item-num\">1.3.1&nbsp;&nbsp;</span>Лишние символы</a></span></li><li><span><a href=\"#Токенизация\" data-toc-modified-id=\"Токенизация-1.3.2\"><span class=\"toc-item-num\">1.3.2&nbsp;&nbsp;</span>Токенизация</a></span></li><li><span><a href=\"#Стоп-слова\" data-toc-modified-id=\"Стоп-слова-1.3.3\"><span class=\"toc-item-num\">1.3.3&nbsp;&nbsp;</span>Стоп слова</a></span></li><li><span><a href=\"#Лемматизация\" data-toc-modified-id=\"Лемматизация-1.3.4\"><span class=\"toc-item-num\">1.3.4&nbsp;&nbsp;</span>Лемматизация</a></span></li><li><span><a href=\"#Выделение-признаков-и-разбиение-данных\" data-toc-modified-id=\"Выделение-признаков-и-разбиение-данных-1.3.5\"><span class=\"toc-item-num\">1.3.5&nbsp;&nbsp;</span>Выделение признаков и разбиение данных</a></span></li></ul></li><li><span><a href=\"#Вывод\" data-toc-modified-id=\"Вывод-1.4\"><span class=\"toc-item-num\">1.4&nbsp;&nbsp;</span>Вывод</a></span></li></ul></li><li><span><a href=\"#Обучение\" data-toc-modified-id=\"Обучение-2\"><span class=\"toc-item-num\">2&nbsp;&nbsp;</span>Обучение</a></span><ul class=\"toc-item\"><li><span><a href=\"#Логистическая-регрессия\" data-toc-modified-id=\"Логистическая-регрессия-2.1\"><span class=\"toc-item-num\">2.1&nbsp;&nbsp;</span>Логистическая регрессия</a></span></li><li><span><a href=\"#Дерево-решений\" data-toc-modified-id=\"Дерево-решений-2.2\"><span class=\"toc-item-num\">2.2&nbsp;&nbsp;</span>Дерево решений</a></span></li><li><span><a href=\"#Случайный-лес\" data-toc-modified-id=\"Случайный-лес-2.3\"><span class=\"toc-item-num\">2.3&nbsp;&nbsp;</span>Случайный лес</a></span></li><li><span><a href=\"#MultinomialNB\" data-toc-modified-id=\"MultinomialNB-2.4\"><span class=\"toc-item-num\">2.4&nbsp;&nbsp;</span>MultinomialNB</a></span></li><li><span><a href=\"#Выводы\" data-toc-modified-id=\"Выводы-2.5\"><span class=\"toc-item-num\">2.5&nbsp;&nbsp;</span>Выводы</a></span></li></ul></li><li><span><a href=\"#Выводы\" data-toc-modified-id=\"Выводы-3\"><span class=\"toc-item-num\">3&nbsp;&nbsp;</span>Выводы</a></span></li><li><span><a href=\"#Чек-лист-проверки\" data-toc-modified-id=\"Чек-лист-проверки-4\"><span class=\"toc-item-num\">4&nbsp;&nbsp;</span>Чек-лист проверки</a></span></li></ul></div>"
   ],
   "metadata": {
    "toc": true
   }
  },
  {
   "cell_type": "markdown",
   "source": [
    "# Определение тональности текста"
   ],
   "metadata": {}
  },
  {
   "cell_type": "markdown",
   "source": [
    "# Входные данные\n",
    "Даны тексты с их окраской (токсичные/нейтральные)\n",
    "\n",
    "# Задача\n",
    "Создать модель, которая будет определять окраску текста"
   ],
   "metadata": {}
  },
  {
   "cell_type": "markdown",
   "source": [
    "Подключим необходимые библиотеки"
   ],
   "metadata": {}
  },
  {
   "cell_type": "code",
   "execution_count": 1,
   "source": [
    "import pandas as pd\n",
    "import numpy as np\n",
    "import re\n",
    "import torch\n",
    "import transformers\n",
    "import warnings\n",
    "\n",
    "from sklearn.linear_model import LogisticRegression\n",
    "from sklearn.ensemble import RandomForestClassifier\n",
    "from sklearn.tree import DecisionTreeClassifier\n",
    "from sklearn.naive_bayes import MultinomialNB\n",
    "from sklearn.metrics import f1_score\n",
    "from sklearn.model_selection import train_test_split\n",
    "from sklearn.feature_extraction.text import TfidfVectorizer\n",
    "\n",
    "import nltk\n",
    "from nltk.corpus import stopwords\n",
    "from nltk.stem import WordNetLemmatizer\n",
    "from nltk.tokenize import word_tokenize\n",
    "\n",
    "from tqdm import notebook"
   ],
   "outputs": [],
   "metadata": {}
  },
  {
   "cell_type": "code",
   "execution_count": 2,
   "source": [
    "nltk.download('stopwords')"
   ],
   "outputs": [
    {
     "output_type": "stream",
     "name": "stderr",
     "text": [
      "[nltk_data] Downloading package stopwords to /home/jovyan/nltk_data...\n",
      "[nltk_data]   Package stopwords is already up-to-date!\n"
     ]
    },
    {
     "output_type": "execute_result",
     "data": {
      "text/plain": [
       "True"
      ]
     },
     "metadata": {},
     "execution_count": 2
    }
   ],
   "metadata": {}
  },
  {
   "cell_type": "code",
   "execution_count": 3,
   "source": [
    "pd.set_option('display.max_colwidth', -1)\n",
    "warnings.filterwarnings(\"ignore\")"
   ],
   "outputs": [],
   "metadata": {}
  },
  {
   "cell_type": "code",
   "execution_count": 4,
   "source": [
    "SEED = 63"
   ],
   "outputs": [],
   "metadata": {}
  },
  {
   "cell_type": "markdown",
   "source": [
    "## Подготовка"
   ],
   "metadata": {}
  },
  {
   "cell_type": "markdown",
   "source": [
    "### Загрузка данных"
   ],
   "metadata": {}
  },
  {
   "cell_type": "markdown",
   "source": [
    "Загрузим данные и посмотрим на 5 случайных записей"
   ],
   "metadata": {}
  },
  {
   "cell_type": "code",
   "execution_count": 5,
   "source": [
    "df = pd.read_csv('~/Documents/datasets/toxic_comments.csv')\n",
    "df.sample(n=5, random_state=SEED)"
   ],
   "outputs": [
    {
     "output_type": "execute_result",
     "data": {
      "text/plain": [
       "                                                                                                                                                                                                                                                                                                                                                                                                                                                                                                                                                                             text  \\\n",
       "77238   you're wasting your time biatch you know i'll be back again and again and again with a different IP adress                                                                                                                                                                                                                                                                                                                                                                                                                                                                  \n",
       "26002   And besides, there isn't a page for Fictional people who wear shoes. Or Fictional confectioners for that matter. Not that I know of anyway. And I'll have you know the Snow Queen wasn't the only influence for the White Witch. Jadis was also largely based on Ayesha, hardly a Wicked Witch of the West persona.                                                                                                                                                                                                                                                         \n",
       "24683   \"\\n\\n Edits \\n\\nHello, thank you for letting me know about your changes, I briefly looked over the article I changed (technically changed back) and was unaware of any errors, The reason I made the changes was due to me looking at another article, and noticing the user named \"\"Lukeno94\"\" making an incorrect edit, so I found my way to his page of edits, and it seemed he was targeting a specific IP address and changing anything that person edited. I apologize if I made an error, I was simply trying to help out what looked like someone being bullied.\"   \n",
       "116916  BTW: reverting things back without first having a related discussion is seen as unfriendly act.                                                                                                                                                                                                                                                                                                                                                                                                                                                                             \n",
       "116920  Blocking this IP \\n\\nhi,\\n\\nJust to let you know, this IP is from a public terminal at Walter Library on the University of Minnesota campus, so I imagine blocking it won't do much good in stopping the abuser you are after.                                                                                                                                                                                                                                                                                                                                              \n",
       "\n",
       "        toxic  \n",
       "77238   1      \n",
       "26002   0      \n",
       "24683   0      \n",
       "116916  0      \n",
       "116920  0      "
      ],
      "text/html": [
       "<div>\n",
       "<style scoped>\n",
       "    .dataframe tbody tr th:only-of-type {\n",
       "        vertical-align: middle;\n",
       "    }\n",
       "\n",
       "    .dataframe tbody tr th {\n",
       "        vertical-align: top;\n",
       "    }\n",
       "\n",
       "    .dataframe thead th {\n",
       "        text-align: right;\n",
       "    }\n",
       "</style>\n",
       "<table border=\"1\" class=\"dataframe\">\n",
       "  <thead>\n",
       "    <tr style=\"text-align: right;\">\n",
       "      <th></th>\n",
       "      <th>text</th>\n",
       "      <th>toxic</th>\n",
       "    </tr>\n",
       "  </thead>\n",
       "  <tbody>\n",
       "    <tr>\n",
       "      <td>77238</td>\n",
       "      <td>you're wasting your time biatch you know i'll be back again and again and again with a different IP adress</td>\n",
       "      <td>1</td>\n",
       "    </tr>\n",
       "    <tr>\n",
       "      <td>26002</td>\n",
       "      <td>And besides, there isn't a page for Fictional people who wear shoes. Or Fictional confectioners for that matter. Not that I know of anyway. And I'll have you know the Snow Queen wasn't the only influence for the White Witch. Jadis was also largely based on Ayesha, hardly a Wicked Witch of the West persona.</td>\n",
       "      <td>0</td>\n",
       "    </tr>\n",
       "    <tr>\n",
       "      <td>24683</td>\n",
       "      <td>\"\\n\\n Edits \\n\\nHello, thank you for letting me know about your changes, I briefly looked over the article I changed (technically changed back) and was unaware of any errors, The reason I made the changes was due to me looking at another article, and noticing the user named \"\"Lukeno94\"\" making an incorrect edit, so I found my way to his page of edits, and it seemed he was targeting a specific IP address and changing anything that person edited. I apologize if I made an error, I was simply trying to help out what looked like someone being bullied.\"</td>\n",
       "      <td>0</td>\n",
       "    </tr>\n",
       "    <tr>\n",
       "      <td>116916</td>\n",
       "      <td>BTW: reverting things back without first having a related discussion is seen as unfriendly act.</td>\n",
       "      <td>0</td>\n",
       "    </tr>\n",
       "    <tr>\n",
       "      <td>116920</td>\n",
       "      <td>Blocking this IP \\n\\nhi,\\n\\nJust to let you know, this IP is from a public terminal at Walter Library on the University of Minnesota campus, so I imagine blocking it won't do much good in stopping the abuser you are after.</td>\n",
       "      <td>0</td>\n",
       "    </tr>\n",
       "  </tbody>\n",
       "</table>\n",
       "</div>"
      ]
     },
     "metadata": {},
     "execution_count": 5
    }
   ],
   "metadata": {}
  },
  {
   "cell_type": "markdown",
   "source": [
    "Нам будет необходимо очистить тексты от ненужных символов и чисел (они нам не помогут). После чего мы применим токенизацию - разделим тексты на отдельные слова, а затем лемматизацию - приведение слов к их словарным формам (леммам)<br>"
   ],
   "metadata": {}
  },
  {
   "cell_type": "markdown",
   "source": [
    "### Анализ данных"
   ],
   "metadata": {}
  },
  {
   "cell_type": "markdown",
   "source": [
    "Приступим у анализу данных, посмотрим, с чем мы будет работать"
   ],
   "metadata": {}
  },
  {
   "cell_type": "code",
   "execution_count": 6,
   "source": [
    "df.info(memory_usage='deep')"
   ],
   "outputs": [
    {
     "output_type": "stream",
     "name": "stdout",
     "text": [
      "<class 'pandas.core.frame.DataFrame'>\n",
      "RangeIndex: 159571 entries, 0 to 159570\n",
      "Data columns (total 2 columns):\n",
      "text     159571 non-null object\n",
      "toxic    159571 non-null int64\n",
      "dtypes: int64(1), object(1)\n",
      "memory usage: 80.1 MB\n"
     ]
    }
   ],
   "metadata": {
    "scrolled": false
   }
  },
  {
   "cell_type": "markdown",
   "source": [
    "В датасете 159571 запись. Пропусков нет"
   ],
   "metadata": {}
  },
  {
   "cell_type": "code",
   "execution_count": 7,
   "source": [
    "print('Дубликатов:', df.duplicated().sum())"
   ],
   "outputs": [
    {
     "output_type": "stream",
     "name": "stdout",
     "text": [
      "Дубликатов: 0\n"
     ]
    }
   ],
   "metadata": {}
  },
  {
   "cell_type": "markdown",
   "source": [
    "Дубликатов нет. Посмотрим на количество данных разного класса"
   ],
   "metadata": {}
  },
  {
   "cell_type": "code",
   "execution_count": 8,
   "source": [
    "value_count = df['toxic'].value_counts().to_frame()\n",
    "value_count.columns = ['Количество записей']\n",
    "value_count['Процент'] = (value_count['Количество записей'] / df.shape[0] * 100).round(1)\n",
    "value_count['Окраска текста'] = ['Нейтральный', 'Токсичный']\n",
    "value_count"
   ],
   "outputs": [
    {
     "output_type": "execute_result",
     "data": {
      "text/plain": [
       "   Количество записей  Процент Окраска текста\n",
       "0  143346              89.8     Нейтральный  \n",
       "1  16225               10.2     Токсичный    "
      ],
      "text/html": [
       "<div>\n",
       "<style scoped>\n",
       "    .dataframe tbody tr th:only-of-type {\n",
       "        vertical-align: middle;\n",
       "    }\n",
       "\n",
       "    .dataframe tbody tr th {\n",
       "        vertical-align: top;\n",
       "    }\n",
       "\n",
       "    .dataframe thead th {\n",
       "        text-align: right;\n",
       "    }\n",
       "</style>\n",
       "<table border=\"1\" class=\"dataframe\">\n",
       "  <thead>\n",
       "    <tr style=\"text-align: right;\">\n",
       "      <th></th>\n",
       "      <th>Количество записей</th>\n",
       "      <th>Процент</th>\n",
       "      <th>Окраска текста</th>\n",
       "    </tr>\n",
       "  </thead>\n",
       "  <tbody>\n",
       "    <tr>\n",
       "      <td>0</td>\n",
       "      <td>143346</td>\n",
       "      <td>89.8</td>\n",
       "      <td>Нейтральный</td>\n",
       "    </tr>\n",
       "    <tr>\n",
       "      <td>1</td>\n",
       "      <td>16225</td>\n",
       "      <td>10.2</td>\n",
       "      <td>Токсичный</td>\n",
       "    </tr>\n",
       "  </tbody>\n",
       "</table>\n",
       "</div>"
      ]
     },
     "metadata": {},
     "execution_count": 8
    }
   ],
   "metadata": {}
  },
  {
   "cell_type": "markdown",
   "source": [
    "В данных 10% токсичных записей и 90% нейтральных"
   ],
   "metadata": {}
  },
  {
   "cell_type": "markdown",
   "source": [
    "### Подготовка данных"
   ],
   "metadata": {}
  },
  {
   "cell_type": "markdown",
   "source": [
    "#### Лишние символы"
   ],
   "metadata": {}
  },
  {
   "cell_type": "markdown",
   "source": [
    "Для начала, избавимся от лишнего в тексте. Заодно приведём весь текст к нижнему регистру"
   ],
   "metadata": {}
  },
  {
   "cell_type": "code",
   "execution_count": 9,
   "source": [
    "def clean_text(text):\n",
    "    return re.sub(r'[^a-zA-Z ]', ' ', text)"
   ],
   "outputs": [],
   "metadata": {}
  },
  {
   "cell_type": "code",
   "execution_count": 10,
   "source": [
    "df['cleared'] = df['text'].apply(lambda x:clean_text(x.lower()))\n",
    "df.sample(n=5, random_state=SEED)"
   ],
   "outputs": [
    {
     "output_type": "execute_result",
     "data": {
      "text/plain": [
       "                                                                                                                                                                                                                                                                                                                                                                                                                                                                                                                                                                             text  \\\n",
       "77238   you're wasting your time biatch you know i'll be back again and again and again with a different IP adress                                                                                                                                                                                                                                                                                                                                                                                                                                                                  \n",
       "26002   And besides, there isn't a page for Fictional people who wear shoes. Or Fictional confectioners for that matter. Not that I know of anyway. And I'll have you know the Snow Queen wasn't the only influence for the White Witch. Jadis was also largely based on Ayesha, hardly a Wicked Witch of the West persona.                                                                                                                                                                                                                                                         \n",
       "24683   \"\\n\\n Edits \\n\\nHello, thank you for letting me know about your changes, I briefly looked over the article I changed (technically changed back) and was unaware of any errors, The reason I made the changes was due to me looking at another article, and noticing the user named \"\"Lukeno94\"\" making an incorrect edit, so I found my way to his page of edits, and it seemed he was targeting a specific IP address and changing anything that person edited. I apologize if I made an error, I was simply trying to help out what looked like someone being bullied.\"   \n",
       "116916  BTW: reverting things back without first having a related discussion is seen as unfriendly act.                                                                                                                                                                                                                                                                                                                                                                                                                                                                             \n",
       "116920  Blocking this IP \\n\\nhi,\\n\\nJust to let you know, this IP is from a public terminal at Walter Library on the University of Minnesota campus, so I imagine blocking it won't do much good in stopping the abuser you are after.                                                                                                                                                                                                                                                                                                                                              \n",
       "\n",
       "        toxic  \\\n",
       "77238   1       \n",
       "26002   0       \n",
       "24683   0       \n",
       "116916  0       \n",
       "116920  0       \n",
       "\n",
       "                                                                                                                                                                                                                                                                                                                                                                                                                                                                                                                                                                      cleared  \n",
       "77238   you re wasting your time biatch you know i ll be back again and again and again with a different ip adress                                                                                                                                                                                                                                                                                                                                                                                                                                                             \n",
       "26002   and besides  there isn t a page for fictional people who wear shoes  or fictional confectioners for that matter  not that i know of anyway  and i ll have you know the snow queen wasn t the only influence for the white witch  jadis was also largely based on ayesha  hardly a wicked witch of the west persona                                                                                                                                                                                                                                                     \n",
       "24683       edits   hello  thank you for letting me know about your changes  i briefly looked over the article i changed  technically changed back  and was unaware of any errors  the reason i made the changes was due to me looking at another article  and noticing the user named   lukeno     making an incorrect edit  so i found my way to his page of edits  and it seemed he was targeting a specific ip address and changing anything that person edited  i apologize if i made an error  i was simply trying to help out what looked like someone being bullied    \n",
       "116916  btw  reverting things back without first having a related discussion is seen as unfriendly act                                                                                                                                                                                                                                                                                                                                                                                                                                                                         \n",
       "116920  blocking this ip   hi   just to let you know  this ip is from a public terminal at walter library on the university of minnesota campus  so i imagine blocking it won t do much good in stopping the abuser you are after                                                                                                                                                                                                                                                                                                                                              "
      ],
      "text/html": [
       "<div>\n",
       "<style scoped>\n",
       "    .dataframe tbody tr th:only-of-type {\n",
       "        vertical-align: middle;\n",
       "    }\n",
       "\n",
       "    .dataframe tbody tr th {\n",
       "        vertical-align: top;\n",
       "    }\n",
       "\n",
       "    .dataframe thead th {\n",
       "        text-align: right;\n",
       "    }\n",
       "</style>\n",
       "<table border=\"1\" class=\"dataframe\">\n",
       "  <thead>\n",
       "    <tr style=\"text-align: right;\">\n",
       "      <th></th>\n",
       "      <th>text</th>\n",
       "      <th>toxic</th>\n",
       "      <th>cleared</th>\n",
       "    </tr>\n",
       "  </thead>\n",
       "  <tbody>\n",
       "    <tr>\n",
       "      <td>77238</td>\n",
       "      <td>you're wasting your time biatch you know i'll be back again and again and again with a different IP adress</td>\n",
       "      <td>1</td>\n",
       "      <td>you re wasting your time biatch you know i ll be back again and again and again with a different ip adress</td>\n",
       "    </tr>\n",
       "    <tr>\n",
       "      <td>26002</td>\n",
       "      <td>And besides, there isn't a page for Fictional people who wear shoes. Or Fictional confectioners for that matter. Not that I know of anyway. And I'll have you know the Snow Queen wasn't the only influence for the White Witch. Jadis was also largely based on Ayesha, hardly a Wicked Witch of the West persona.</td>\n",
       "      <td>0</td>\n",
       "      <td>and besides  there isn t a page for fictional people who wear shoes  or fictional confectioners for that matter  not that i know of anyway  and i ll have you know the snow queen wasn t the only influence for the white witch  jadis was also largely based on ayesha  hardly a wicked witch of the west persona</td>\n",
       "    </tr>\n",
       "    <tr>\n",
       "      <td>24683</td>\n",
       "      <td>\"\\n\\n Edits \\n\\nHello, thank you for letting me know about your changes, I briefly looked over the article I changed (technically changed back) and was unaware of any errors, The reason I made the changes was due to me looking at another article, and noticing the user named \"\"Lukeno94\"\" making an incorrect edit, so I found my way to his page of edits, and it seemed he was targeting a specific IP address and changing anything that person edited. I apologize if I made an error, I was simply trying to help out what looked like someone being bullied.\"</td>\n",
       "      <td>0</td>\n",
       "      <td>edits   hello  thank you for letting me know about your changes  i briefly looked over the article i changed  technically changed back  and was unaware of any errors  the reason i made the changes was due to me looking at another article  and noticing the user named   lukeno     making an incorrect edit  so i found my way to his page of edits  and it seemed he was targeting a specific ip address and changing anything that person edited  i apologize if i made an error  i was simply trying to help out what looked like someone being bullied</td>\n",
       "    </tr>\n",
       "    <tr>\n",
       "      <td>116916</td>\n",
       "      <td>BTW: reverting things back without first having a related discussion is seen as unfriendly act.</td>\n",
       "      <td>0</td>\n",
       "      <td>btw  reverting things back without first having a related discussion is seen as unfriendly act</td>\n",
       "    </tr>\n",
       "    <tr>\n",
       "      <td>116920</td>\n",
       "      <td>Blocking this IP \\n\\nhi,\\n\\nJust to let you know, this IP is from a public terminal at Walter Library on the University of Minnesota campus, so I imagine blocking it won't do much good in stopping the abuser you are after.</td>\n",
       "      <td>0</td>\n",
       "      <td>blocking this ip   hi   just to let you know  this ip is from a public terminal at walter library on the university of minnesota campus  so i imagine blocking it won t do much good in stopping the abuser you are after</td>\n",
       "    </tr>\n",
       "  </tbody>\n",
       "</table>\n",
       "</div>"
      ]
     },
     "metadata": {},
     "execution_count": 10
    }
   ],
   "metadata": {}
  },
  {
   "cell_type": "markdown",
   "source": [
    "#### Токенизация"
   ],
   "metadata": {}
  },
  {
   "cell_type": "markdown",
   "source": [
    "Разобьём тексты на слова"
   ],
   "metadata": {}
  },
  {
   "cell_type": "code",
   "execution_count": 11,
   "source": [
    "def split_text(text):\n",
    "    return text.split()"
   ],
   "outputs": [],
   "metadata": {}
  },
  {
   "cell_type": "code",
   "execution_count": 12,
   "source": [
    "df['splited'] = df['cleared'].apply(lambda x:split_text(x))\n",
    "df.sample(n=5, random_state=SEED)"
   ],
   "outputs": [
    {
     "output_type": "execute_result",
     "data": {
      "text/plain": [
       "                                                                                                                                                                                                                                                                                                                                                                                                                                                                                                                                                                             text  \\\n",
       "77238   you're wasting your time biatch you know i'll be back again and again and again with a different IP adress                                                                                                                                                                                                                                                                                                                                                                                                                                                                  \n",
       "26002   And besides, there isn't a page for Fictional people who wear shoes. Or Fictional confectioners for that matter. Not that I know of anyway. And I'll have you know the Snow Queen wasn't the only influence for the White Witch. Jadis was also largely based on Ayesha, hardly a Wicked Witch of the West persona.                                                                                                                                                                                                                                                         \n",
       "24683   \"\\n\\n Edits \\n\\nHello, thank you for letting me know about your changes, I briefly looked over the article I changed (technically changed back) and was unaware of any errors, The reason I made the changes was due to me looking at another article, and noticing the user named \"\"Lukeno94\"\" making an incorrect edit, so I found my way to his page of edits, and it seemed he was targeting a specific IP address and changing anything that person edited. I apologize if I made an error, I was simply trying to help out what looked like someone being bullied.\"   \n",
       "116916  BTW: reverting things back without first having a related discussion is seen as unfriendly act.                                                                                                                                                                                                                                                                                                                                                                                                                                                                             \n",
       "116920  Blocking this IP \\n\\nhi,\\n\\nJust to let you know, this IP is from a public terminal at Walter Library on the University of Minnesota campus, so I imagine blocking it won't do much good in stopping the abuser you are after.                                                                                                                                                                                                                                                                                                                                              \n",
       "\n",
       "        toxic  \\\n",
       "77238   1       \n",
       "26002   0       \n",
       "24683   0       \n",
       "116916  0       \n",
       "116920  0       \n",
       "\n",
       "                                                                                                                                                                                                                                                                                                                                                                                                                                                                                                                                                                      cleared  \\\n",
       "77238   you re wasting your time biatch you know i ll be back again and again and again with a different ip adress                                                                                                                                                                                                                                                                                                                                                                                                                                                              \n",
       "26002   and besides  there isn t a page for fictional people who wear shoes  or fictional confectioners for that matter  not that i know of anyway  and i ll have you know the snow queen wasn t the only influence for the white witch  jadis was also largely based on ayesha  hardly a wicked witch of the west persona                                                                                                                                                                                                                                                      \n",
       "24683       edits   hello  thank you for letting me know about your changes  i briefly looked over the article i changed  technically changed back  and was unaware of any errors  the reason i made the changes was due to me looking at another article  and noticing the user named   lukeno     making an incorrect edit  so i found my way to his page of edits  and it seemed he was targeting a specific ip address and changing anything that person edited  i apologize if i made an error  i was simply trying to help out what looked like someone being bullied     \n",
       "116916  btw  reverting things back without first having a related discussion is seen as unfriendly act                                                                                                                                                                                                                                                                                                                                                                                                                                                                          \n",
       "116920  blocking this ip   hi   just to let you know  this ip is from a public terminal at walter library on the university of minnesota campus  so i imagine blocking it won t do much good in stopping the abuser you are after                                                                                                                                                                                                                                                                                                                                               \n",
       "\n",
       "                                                                                                                                                                                                                                                                                                                                                                                                                                                                                                                                                                                                                                                 splited  \n",
       "77238   [you, re, wasting, your, time, biatch, you, know, i, ll, be, back, again, and, again, and, again, with, a, different, ip, adress]                                                                                                                                                                                                                                                                                                                                                                                                                                                                                                                 \n",
       "26002   [and, besides, there, isn, t, a, page, for, fictional, people, who, wear, shoes, or, fictional, confectioners, for, that, matter, not, that, i, know, of, anyway, and, i, ll, have, you, know, the, snow, queen, wasn, t, the, only, influence, for, the, white, witch, jadis, was, also, largely, based, on, ayesha, hardly, a, wicked, witch, of, the, west, persona]                                                                                                                                                                                                                                                                           \n",
       "24683   [edits, hello, thank, you, for, letting, me, know, about, your, changes, i, briefly, looked, over, the, article, i, changed, technically, changed, back, and, was, unaware, of, any, errors, the, reason, i, made, the, changes, was, due, to, me, looking, at, another, article, and, noticing, the, user, named, lukeno, making, an, incorrect, edit, so, i, found, my, way, to, his, page, of, edits, and, it, seemed, he, was, targeting, a, specific, ip, address, and, changing, anything, that, person, edited, i, apologize, if, i, made, an, error, i, was, simply, trying, to, help, out, what, looked, like, someone, being, bullied]  \n",
       "116916  [btw, reverting, things, back, without, first, having, a, related, discussion, is, seen, as, unfriendly, act]                                                                                                                                                                                                                                                                                                                                                                                                                                                                                                                                     \n",
       "116920  [blocking, this, ip, hi, just, to, let, you, know, this, ip, is, from, a, public, terminal, at, walter, library, on, the, university, of, minnesota, campus, so, i, imagine, blocking, it, won, t, do, much, good, in, stopping, the, abuser, you, are, after]                                                                                                                                                                                                                                                                                                                                                                                    "
      ],
      "text/html": [
       "<div>\n",
       "<style scoped>\n",
       "    .dataframe tbody tr th:only-of-type {\n",
       "        vertical-align: middle;\n",
       "    }\n",
       "\n",
       "    .dataframe tbody tr th {\n",
       "        vertical-align: top;\n",
       "    }\n",
       "\n",
       "    .dataframe thead th {\n",
       "        text-align: right;\n",
       "    }\n",
       "</style>\n",
       "<table border=\"1\" class=\"dataframe\">\n",
       "  <thead>\n",
       "    <tr style=\"text-align: right;\">\n",
       "      <th></th>\n",
       "      <th>text</th>\n",
       "      <th>toxic</th>\n",
       "      <th>cleared</th>\n",
       "      <th>splited</th>\n",
       "    </tr>\n",
       "  </thead>\n",
       "  <tbody>\n",
       "    <tr>\n",
       "      <td>77238</td>\n",
       "      <td>you're wasting your time biatch you know i'll be back again and again and again with a different IP adress</td>\n",
       "      <td>1</td>\n",
       "      <td>you re wasting your time biatch you know i ll be back again and again and again with a different ip adress</td>\n",
       "      <td>[you, re, wasting, your, time, biatch, you, know, i, ll, be, back, again, and, again, and, again, with, a, different, ip, adress]</td>\n",
       "    </tr>\n",
       "    <tr>\n",
       "      <td>26002</td>\n",
       "      <td>And besides, there isn't a page for Fictional people who wear shoes. Or Fictional confectioners for that matter. Not that I know of anyway. And I'll have you know the Snow Queen wasn't the only influence for the White Witch. Jadis was also largely based on Ayesha, hardly a Wicked Witch of the West persona.</td>\n",
       "      <td>0</td>\n",
       "      <td>and besides  there isn t a page for fictional people who wear shoes  or fictional confectioners for that matter  not that i know of anyway  and i ll have you know the snow queen wasn t the only influence for the white witch  jadis was also largely based on ayesha  hardly a wicked witch of the west persona</td>\n",
       "      <td>[and, besides, there, isn, t, a, page, for, fictional, people, who, wear, shoes, or, fictional, confectioners, for, that, matter, not, that, i, know, of, anyway, and, i, ll, have, you, know, the, snow, queen, wasn, t, the, only, influence, for, the, white, witch, jadis, was, also, largely, based, on, ayesha, hardly, a, wicked, witch, of, the, west, persona]</td>\n",
       "    </tr>\n",
       "    <tr>\n",
       "      <td>24683</td>\n",
       "      <td>\"\\n\\n Edits \\n\\nHello, thank you for letting me know about your changes, I briefly looked over the article I changed (technically changed back) and was unaware of any errors, The reason I made the changes was due to me looking at another article, and noticing the user named \"\"Lukeno94\"\" making an incorrect edit, so I found my way to his page of edits, and it seemed he was targeting a specific IP address and changing anything that person edited. I apologize if I made an error, I was simply trying to help out what looked like someone being bullied.\"</td>\n",
       "      <td>0</td>\n",
       "      <td>edits   hello  thank you for letting me know about your changes  i briefly looked over the article i changed  technically changed back  and was unaware of any errors  the reason i made the changes was due to me looking at another article  and noticing the user named   lukeno     making an incorrect edit  so i found my way to his page of edits  and it seemed he was targeting a specific ip address and changing anything that person edited  i apologize if i made an error  i was simply trying to help out what looked like someone being bullied</td>\n",
       "      <td>[edits, hello, thank, you, for, letting, me, know, about, your, changes, i, briefly, looked, over, the, article, i, changed, technically, changed, back, and, was, unaware, of, any, errors, the, reason, i, made, the, changes, was, due, to, me, looking, at, another, article, and, noticing, the, user, named, lukeno, making, an, incorrect, edit, so, i, found, my, way, to, his, page, of, edits, and, it, seemed, he, was, targeting, a, specific, ip, address, and, changing, anything, that, person, edited, i, apologize, if, i, made, an, error, i, was, simply, trying, to, help, out, what, looked, like, someone, being, bullied]</td>\n",
       "    </tr>\n",
       "    <tr>\n",
       "      <td>116916</td>\n",
       "      <td>BTW: reverting things back without first having a related discussion is seen as unfriendly act.</td>\n",
       "      <td>0</td>\n",
       "      <td>btw  reverting things back without first having a related discussion is seen as unfriendly act</td>\n",
       "      <td>[btw, reverting, things, back, without, first, having, a, related, discussion, is, seen, as, unfriendly, act]</td>\n",
       "    </tr>\n",
       "    <tr>\n",
       "      <td>116920</td>\n",
       "      <td>Blocking this IP \\n\\nhi,\\n\\nJust to let you know, this IP is from a public terminal at Walter Library on the University of Minnesota campus, so I imagine blocking it won't do much good in stopping the abuser you are after.</td>\n",
       "      <td>0</td>\n",
       "      <td>blocking this ip   hi   just to let you know  this ip is from a public terminal at walter library on the university of minnesota campus  so i imagine blocking it won t do much good in stopping the abuser you are after</td>\n",
       "      <td>[blocking, this, ip, hi, just, to, let, you, know, this, ip, is, from, a, public, terminal, at, walter, library, on, the, university, of, minnesota, campus, so, i, imagine, blocking, it, won, t, do, much, good, in, stopping, the, abuser, you, are, after]</td>\n",
       "    </tr>\n",
       "  </tbody>\n",
       "</table>\n",
       "</div>"
      ]
     },
     "metadata": {},
     "execution_count": 12
    }
   ],
   "metadata": {}
  },
  {
   "cell_type": "markdown",
   "source": [
    "#### Стоп слова"
   ],
   "metadata": {}
  },
  {
   "cell_type": "markdown",
   "source": [
    "Уберём \"стоп слова\""
   ],
   "metadata": {}
  },
  {
   "cell_type": "code",
   "execution_count": 13,
   "source": [
    "stop_words = set(stopwords.words('english')) "
   ],
   "outputs": [],
   "metadata": {}
  },
  {
   "cell_type": "code",
   "execution_count": 14,
   "source": [
    "def remove_stop_words(text):\n",
    "     return [word for word in text if word not in stop_words]"
   ],
   "outputs": [],
   "metadata": {}
  },
  {
   "cell_type": "code",
   "execution_count": 15,
   "source": [
    "df['no_stop_words'] = df['splited'].apply(lambda x:remove_stop_words(x))\n",
    "df.sample(n=5, random_state=SEED)"
   ],
   "outputs": [
    {
     "output_type": "execute_result",
     "data": {
      "text/plain": [
       "                                                                                                                                                                                                                                                                                                                                                                                                                                                                                                                                                                             text  \\\n",
       "77238   you're wasting your time biatch you know i'll be back again and again and again with a different IP adress                                                                                                                                                                                                                                                                                                                                                                                                                                                                  \n",
       "26002   And besides, there isn't a page for Fictional people who wear shoes. Or Fictional confectioners for that matter. Not that I know of anyway. And I'll have you know the Snow Queen wasn't the only influence for the White Witch. Jadis was also largely based on Ayesha, hardly a Wicked Witch of the West persona.                                                                                                                                                                                                                                                         \n",
       "24683   \"\\n\\n Edits \\n\\nHello, thank you for letting me know about your changes, I briefly looked over the article I changed (technically changed back) and was unaware of any errors, The reason I made the changes was due to me looking at another article, and noticing the user named \"\"Lukeno94\"\" making an incorrect edit, so I found my way to his page of edits, and it seemed he was targeting a specific IP address and changing anything that person edited. I apologize if I made an error, I was simply trying to help out what looked like someone being bullied.\"   \n",
       "116916  BTW: reverting things back without first having a related discussion is seen as unfriendly act.                                                                                                                                                                                                                                                                                                                                                                                                                                                                             \n",
       "116920  Blocking this IP \\n\\nhi,\\n\\nJust to let you know, this IP is from a public terminal at Walter Library on the University of Minnesota campus, so I imagine blocking it won't do much good in stopping the abuser you are after.                                                                                                                                                                                                                                                                                                                                              \n",
       "\n",
       "        toxic  \\\n",
       "77238   1       \n",
       "26002   0       \n",
       "24683   0       \n",
       "116916  0       \n",
       "116920  0       \n",
       "\n",
       "                                                                                                                                                                                                                                                                                                                                                                                                                                                                                                                                                                      cleared  \\\n",
       "77238   you re wasting your time biatch you know i ll be back again and again and again with a different ip adress                                                                                                                                                                                                                                                                                                                                                                                                                                                              \n",
       "26002   and besides  there isn t a page for fictional people who wear shoes  or fictional confectioners for that matter  not that i know of anyway  and i ll have you know the snow queen wasn t the only influence for the white witch  jadis was also largely based on ayesha  hardly a wicked witch of the west persona                                                                                                                                                                                                                                                      \n",
       "24683       edits   hello  thank you for letting me know about your changes  i briefly looked over the article i changed  technically changed back  and was unaware of any errors  the reason i made the changes was due to me looking at another article  and noticing the user named   lukeno     making an incorrect edit  so i found my way to his page of edits  and it seemed he was targeting a specific ip address and changing anything that person edited  i apologize if i made an error  i was simply trying to help out what looked like someone being bullied     \n",
       "116916  btw  reverting things back without first having a related discussion is seen as unfriendly act                                                                                                                                                                                                                                                                                                                                                                                                                                                                          \n",
       "116920  blocking this ip   hi   just to let you know  this ip is from a public terminal at walter library on the university of minnesota campus  so i imagine blocking it won t do much good in stopping the abuser you are after                                                                                                                                                                                                                                                                                                                                               \n",
       "\n",
       "                                                                                                                                                                                                                                                                                                                                                                                                                                                                                                                                                                                                                                                 splited  \\\n",
       "77238   [you, re, wasting, your, time, biatch, you, know, i, ll, be, back, again, and, again, and, again, with, a, different, ip, adress]                                                                                                                                                                                                                                                                                                                                                                                                                                                                                                                  \n",
       "26002   [and, besides, there, isn, t, a, page, for, fictional, people, who, wear, shoes, or, fictional, confectioners, for, that, matter, not, that, i, know, of, anyway, and, i, ll, have, you, know, the, snow, queen, wasn, t, the, only, influence, for, the, white, witch, jadis, was, also, largely, based, on, ayesha, hardly, a, wicked, witch, of, the, west, persona]                                                                                                                                                                                                                                                                            \n",
       "24683   [edits, hello, thank, you, for, letting, me, know, about, your, changes, i, briefly, looked, over, the, article, i, changed, technically, changed, back, and, was, unaware, of, any, errors, the, reason, i, made, the, changes, was, due, to, me, looking, at, another, article, and, noticing, the, user, named, lukeno, making, an, incorrect, edit, so, i, found, my, way, to, his, page, of, edits, and, it, seemed, he, was, targeting, a, specific, ip, address, and, changing, anything, that, person, edited, i, apologize, if, i, made, an, error, i, was, simply, trying, to, help, out, what, looked, like, someone, being, bullied]   \n",
       "116916  [btw, reverting, things, back, without, first, having, a, related, discussion, is, seen, as, unfriendly, act]                                                                                                                                                                                                                                                                                                                                                                                                                                                                                                                                      \n",
       "116920  [blocking, this, ip, hi, just, to, let, you, know, this, ip, is, from, a, public, terminal, at, walter, library, on, the, university, of, minnesota, campus, so, i, imagine, blocking, it, won, t, do, much, good, in, stopping, the, abuser, you, are, after]                                                                                                                                                                                                                                                                                                                                                                                     \n",
       "\n",
       "                                                                                                                                                                                                                                                                                                                                                                                                                            no_stop_words  \n",
       "77238   [wasting, time, biatch, know, back, different, ip, adress]                                                                                                                                                                                                                                                                                                                                                                         \n",
       "26002   [besides, page, fictional, people, wear, shoes, fictional, confectioners, matter, know, anyway, know, snow, queen, influence, white, witch, jadis, also, largely, based, ayesha, hardly, wicked, witch, west, persona]                                                                                                                                                                                                             \n",
       "24683   [edits, hello, thank, letting, know, changes, briefly, looked, article, changed, technically, changed, back, unaware, errors, reason, made, changes, due, looking, another, article, noticing, user, named, lukeno, making, incorrect, edit, found, way, page, edits, seemed, targeting, specific, ip, address, changing, anything, person, edited, apologize, made, error, simply, trying, help, looked, like, someone, bullied]  \n",
       "116916  [btw, reverting, things, back, without, first, related, discussion, seen, unfriendly, act]                                                                                                                                                                                                                                                                                                                                         \n",
       "116920  [blocking, ip, hi, let, know, ip, public, terminal, walter, library, university, minnesota, campus, imagine, blocking, much, good, stopping, abuser]                                                                                                                                                                                                                                                                               "
      ],
      "text/html": [
       "<div>\n",
       "<style scoped>\n",
       "    .dataframe tbody tr th:only-of-type {\n",
       "        vertical-align: middle;\n",
       "    }\n",
       "\n",
       "    .dataframe tbody tr th {\n",
       "        vertical-align: top;\n",
       "    }\n",
       "\n",
       "    .dataframe thead th {\n",
       "        text-align: right;\n",
       "    }\n",
       "</style>\n",
       "<table border=\"1\" class=\"dataframe\">\n",
       "  <thead>\n",
       "    <tr style=\"text-align: right;\">\n",
       "      <th></th>\n",
       "      <th>text</th>\n",
       "      <th>toxic</th>\n",
       "      <th>cleared</th>\n",
       "      <th>splited</th>\n",
       "      <th>no_stop_words</th>\n",
       "    </tr>\n",
       "  </thead>\n",
       "  <tbody>\n",
       "    <tr>\n",
       "      <td>77238</td>\n",
       "      <td>you're wasting your time biatch you know i'll be back again and again and again with a different IP adress</td>\n",
       "      <td>1</td>\n",
       "      <td>you re wasting your time biatch you know i ll be back again and again and again with a different ip adress</td>\n",
       "      <td>[you, re, wasting, your, time, biatch, you, know, i, ll, be, back, again, and, again, and, again, with, a, different, ip, adress]</td>\n",
       "      <td>[wasting, time, biatch, know, back, different, ip, adress]</td>\n",
       "    </tr>\n",
       "    <tr>\n",
       "      <td>26002</td>\n",
       "      <td>And besides, there isn't a page for Fictional people who wear shoes. Or Fictional confectioners for that matter. Not that I know of anyway. And I'll have you know the Snow Queen wasn't the only influence for the White Witch. Jadis was also largely based on Ayesha, hardly a Wicked Witch of the West persona.</td>\n",
       "      <td>0</td>\n",
       "      <td>and besides  there isn t a page for fictional people who wear shoes  or fictional confectioners for that matter  not that i know of anyway  and i ll have you know the snow queen wasn t the only influence for the white witch  jadis was also largely based on ayesha  hardly a wicked witch of the west persona</td>\n",
       "      <td>[and, besides, there, isn, t, a, page, for, fictional, people, who, wear, shoes, or, fictional, confectioners, for, that, matter, not, that, i, know, of, anyway, and, i, ll, have, you, know, the, snow, queen, wasn, t, the, only, influence, for, the, white, witch, jadis, was, also, largely, based, on, ayesha, hardly, a, wicked, witch, of, the, west, persona]</td>\n",
       "      <td>[besides, page, fictional, people, wear, shoes, fictional, confectioners, matter, know, anyway, know, snow, queen, influence, white, witch, jadis, also, largely, based, ayesha, hardly, wicked, witch, west, persona]</td>\n",
       "    </tr>\n",
       "    <tr>\n",
       "      <td>24683</td>\n",
       "      <td>\"\\n\\n Edits \\n\\nHello, thank you for letting me know about your changes, I briefly looked over the article I changed (technically changed back) and was unaware of any errors, The reason I made the changes was due to me looking at another article, and noticing the user named \"\"Lukeno94\"\" making an incorrect edit, so I found my way to his page of edits, and it seemed he was targeting a specific IP address and changing anything that person edited. I apologize if I made an error, I was simply trying to help out what looked like someone being bullied.\"</td>\n",
       "      <td>0</td>\n",
       "      <td>edits   hello  thank you for letting me know about your changes  i briefly looked over the article i changed  technically changed back  and was unaware of any errors  the reason i made the changes was due to me looking at another article  and noticing the user named   lukeno     making an incorrect edit  so i found my way to his page of edits  and it seemed he was targeting a specific ip address and changing anything that person edited  i apologize if i made an error  i was simply trying to help out what looked like someone being bullied</td>\n",
       "      <td>[edits, hello, thank, you, for, letting, me, know, about, your, changes, i, briefly, looked, over, the, article, i, changed, technically, changed, back, and, was, unaware, of, any, errors, the, reason, i, made, the, changes, was, due, to, me, looking, at, another, article, and, noticing, the, user, named, lukeno, making, an, incorrect, edit, so, i, found, my, way, to, his, page, of, edits, and, it, seemed, he, was, targeting, a, specific, ip, address, and, changing, anything, that, person, edited, i, apologize, if, i, made, an, error, i, was, simply, trying, to, help, out, what, looked, like, someone, being, bullied]</td>\n",
       "      <td>[edits, hello, thank, letting, know, changes, briefly, looked, article, changed, technically, changed, back, unaware, errors, reason, made, changes, due, looking, another, article, noticing, user, named, lukeno, making, incorrect, edit, found, way, page, edits, seemed, targeting, specific, ip, address, changing, anything, person, edited, apologize, made, error, simply, trying, help, looked, like, someone, bullied]</td>\n",
       "    </tr>\n",
       "    <tr>\n",
       "      <td>116916</td>\n",
       "      <td>BTW: reverting things back without first having a related discussion is seen as unfriendly act.</td>\n",
       "      <td>0</td>\n",
       "      <td>btw  reverting things back without first having a related discussion is seen as unfriendly act</td>\n",
       "      <td>[btw, reverting, things, back, without, first, having, a, related, discussion, is, seen, as, unfriendly, act]</td>\n",
       "      <td>[btw, reverting, things, back, without, first, related, discussion, seen, unfriendly, act]</td>\n",
       "    </tr>\n",
       "    <tr>\n",
       "      <td>116920</td>\n",
       "      <td>Blocking this IP \\n\\nhi,\\n\\nJust to let you know, this IP is from a public terminal at Walter Library on the University of Minnesota campus, so I imagine blocking it won't do much good in stopping the abuser you are after.</td>\n",
       "      <td>0</td>\n",
       "      <td>blocking this ip   hi   just to let you know  this ip is from a public terminal at walter library on the university of minnesota campus  so i imagine blocking it won t do much good in stopping the abuser you are after</td>\n",
       "      <td>[blocking, this, ip, hi, just, to, let, you, know, this, ip, is, from, a, public, terminal, at, walter, library, on, the, university, of, minnesota, campus, so, i, imagine, blocking, it, won, t, do, much, good, in, stopping, the, abuser, you, are, after]</td>\n",
       "      <td>[blocking, ip, hi, let, know, ip, public, terminal, walter, library, university, minnesota, campus, imagine, blocking, much, good, stopping, abuser]</td>\n",
       "    </tr>\n",
       "  </tbody>\n",
       "</table>\n",
       "</div>"
      ]
     },
     "metadata": {},
     "execution_count": 15
    }
   ],
   "metadata": {
    "scrolled": true
   }
  },
  {
   "cell_type": "markdown",
   "source": [
    "#### Лемматизация"
   ],
   "metadata": {}
  },
  {
   "cell_type": "markdown",
   "source": [
    "Теперь проведём лемматизацию"
   ],
   "metadata": {}
  },
  {
   "cell_type": "code",
   "execution_count": 16,
   "source": [
    "lemmatizer = WordNetLemmatizer()"
   ],
   "outputs": [],
   "metadata": {}
  },
  {
   "cell_type": "code",
   "execution_count": 17,
   "source": [
    "def lemmatize(text):\n",
    "    return [lemmatizer.lemmatize(word) for word in text]"
   ],
   "outputs": [],
   "metadata": {}
  },
  {
   "cell_type": "code",
   "execution_count": 18,
   "source": [
    "df['lemmas'] = df['no_stop_words'].apply(lambda x:lemmatize(x))\n",
    "df.sample(n=5, random_state=SEED)"
   ],
   "outputs": [
    {
     "output_type": "execute_result",
     "data": {
      "text/plain": [
       "                                                                                                                                                                                                                                                                                                                                                                                                                                                                                                                                                                             text  \\\n",
       "77238   you're wasting your time biatch you know i'll be back again and again and again with a different IP adress                                                                                                                                                                                                                                                                                                                                                                                                                                                                  \n",
       "26002   And besides, there isn't a page for Fictional people who wear shoes. Or Fictional confectioners for that matter. Not that I know of anyway. And I'll have you know the Snow Queen wasn't the only influence for the White Witch. Jadis was also largely based on Ayesha, hardly a Wicked Witch of the West persona.                                                                                                                                                                                                                                                         \n",
       "24683   \"\\n\\n Edits \\n\\nHello, thank you for letting me know about your changes, I briefly looked over the article I changed (technically changed back) and was unaware of any errors, The reason I made the changes was due to me looking at another article, and noticing the user named \"\"Lukeno94\"\" making an incorrect edit, so I found my way to his page of edits, and it seemed he was targeting a specific IP address and changing anything that person edited. I apologize if I made an error, I was simply trying to help out what looked like someone being bullied.\"   \n",
       "116916  BTW: reverting things back without first having a related discussion is seen as unfriendly act.                                                                                                                                                                                                                                                                                                                                                                                                                                                                             \n",
       "116920  Blocking this IP \\n\\nhi,\\n\\nJust to let you know, this IP is from a public terminal at Walter Library on the University of Minnesota campus, so I imagine blocking it won't do much good in stopping the abuser you are after.                                                                                                                                                                                                                                                                                                                                              \n",
       "\n",
       "        toxic  \\\n",
       "77238   1       \n",
       "26002   0       \n",
       "24683   0       \n",
       "116916  0       \n",
       "116920  0       \n",
       "\n",
       "                                                                                                                                                                                                                                                                                                                                                                                                                                                                                                                                                                      cleared  \\\n",
       "77238   you re wasting your time biatch you know i ll be back again and again and again with a different ip adress                                                                                                                                                                                                                                                                                                                                                                                                                                                              \n",
       "26002   and besides  there isn t a page for fictional people who wear shoes  or fictional confectioners for that matter  not that i know of anyway  and i ll have you know the snow queen wasn t the only influence for the white witch  jadis was also largely based on ayesha  hardly a wicked witch of the west persona                                                                                                                                                                                                                                                      \n",
       "24683       edits   hello  thank you for letting me know about your changes  i briefly looked over the article i changed  technically changed back  and was unaware of any errors  the reason i made the changes was due to me looking at another article  and noticing the user named   lukeno     making an incorrect edit  so i found my way to his page of edits  and it seemed he was targeting a specific ip address and changing anything that person edited  i apologize if i made an error  i was simply trying to help out what looked like someone being bullied     \n",
       "116916  btw  reverting things back without first having a related discussion is seen as unfriendly act                                                                                                                                                                                                                                                                                                                                                                                                                                                                          \n",
       "116920  blocking this ip   hi   just to let you know  this ip is from a public terminal at walter library on the university of minnesota campus  so i imagine blocking it won t do much good in stopping the abuser you are after                                                                                                                                                                                                                                                                                                                                               \n",
       "\n",
       "                                                                                                                                                                                                                                                                                                                                                                                                                                                                                                                                                                                                                                                 splited  \\\n",
       "77238   [you, re, wasting, your, time, biatch, you, know, i, ll, be, back, again, and, again, and, again, with, a, different, ip, adress]                                                                                                                                                                                                                                                                                                                                                                                                                                                                                                                  \n",
       "26002   [and, besides, there, isn, t, a, page, for, fictional, people, who, wear, shoes, or, fictional, confectioners, for, that, matter, not, that, i, know, of, anyway, and, i, ll, have, you, know, the, snow, queen, wasn, t, the, only, influence, for, the, white, witch, jadis, was, also, largely, based, on, ayesha, hardly, a, wicked, witch, of, the, west, persona]                                                                                                                                                                                                                                                                            \n",
       "24683   [edits, hello, thank, you, for, letting, me, know, about, your, changes, i, briefly, looked, over, the, article, i, changed, technically, changed, back, and, was, unaware, of, any, errors, the, reason, i, made, the, changes, was, due, to, me, looking, at, another, article, and, noticing, the, user, named, lukeno, making, an, incorrect, edit, so, i, found, my, way, to, his, page, of, edits, and, it, seemed, he, was, targeting, a, specific, ip, address, and, changing, anything, that, person, edited, i, apologize, if, i, made, an, error, i, was, simply, trying, to, help, out, what, looked, like, someone, being, bullied]   \n",
       "116916  [btw, reverting, things, back, without, first, having, a, related, discussion, is, seen, as, unfriendly, act]                                                                                                                                                                                                                                                                                                                                                                                                                                                                                                                                      \n",
       "116920  [blocking, this, ip, hi, just, to, let, you, know, this, ip, is, from, a, public, terminal, at, walter, library, on, the, university, of, minnesota, campus, so, i, imagine, blocking, it, won, t, do, much, good, in, stopping, the, abuser, you, are, after]                                                                                                                                                                                                                                                                                                                                                                                     \n",
       "\n",
       "                                                                                                                                                                                                                                                                                                                                                                                                                            no_stop_words  \\\n",
       "77238   [wasting, time, biatch, know, back, different, ip, adress]                                                                                                                                                                                                                                                                                                                                                                          \n",
       "26002   [besides, page, fictional, people, wear, shoes, fictional, confectioners, matter, know, anyway, know, snow, queen, influence, white, witch, jadis, also, largely, based, ayesha, hardly, wicked, witch, west, persona]                                                                                                                                                                                                              \n",
       "24683   [edits, hello, thank, letting, know, changes, briefly, looked, article, changed, technically, changed, back, unaware, errors, reason, made, changes, due, looking, another, article, noticing, user, named, lukeno, making, incorrect, edit, found, way, page, edits, seemed, targeting, specific, ip, address, changing, anything, person, edited, apologize, made, error, simply, trying, help, looked, like, someone, bullied]   \n",
       "116916  [btw, reverting, things, back, without, first, related, discussion, seen, unfriendly, act]                                                                                                                                                                                                                                                                                                                                          \n",
       "116920  [blocking, ip, hi, let, know, ip, public, terminal, walter, library, university, minnesota, campus, imagine, blocking, much, good, stopping, abuser]                                                                                                                                                                                                                                                                                \n",
       "\n",
       "                                                                                                                                                                                                                                                                                                                                                                                                                                lemmas  \n",
       "77238   [wasting, time, biatch, know, back, different, ip, adress]                                                                                                                                                                                                                                                                                                                                                                      \n",
       "26002   [besides, page, fictional, people, wear, shoe, fictional, confectioner, matter, know, anyway, know, snow, queen, influence, white, witch, jadis, also, largely, based, ayesha, hardly, wicked, witch, west, persona]                                                                                                                                                                                                            \n",
       "24683   [edits, hello, thank, letting, know, change, briefly, looked, article, changed, technically, changed, back, unaware, error, reason, made, change, due, looking, another, article, noticing, user, named, lukeno, making, incorrect, edit, found, way, page, edits, seemed, targeting, specific, ip, address, changing, anything, person, edited, apologize, made, error, simply, trying, help, looked, like, someone, bullied]  \n",
       "116916  [btw, reverting, thing, back, without, first, related, discussion, seen, unfriendly, act]                                                                                                                                                                                                                                                                                                                                       \n",
       "116920  [blocking, ip, hi, let, know, ip, public, terminal, walter, library, university, minnesota, campus, imagine, blocking, much, good, stopping, abuser]                                                                                                                                                                                                                                                                            "
      ],
      "text/html": [
       "<div>\n",
       "<style scoped>\n",
       "    .dataframe tbody tr th:only-of-type {\n",
       "        vertical-align: middle;\n",
       "    }\n",
       "\n",
       "    .dataframe tbody tr th {\n",
       "        vertical-align: top;\n",
       "    }\n",
       "\n",
       "    .dataframe thead th {\n",
       "        text-align: right;\n",
       "    }\n",
       "</style>\n",
       "<table border=\"1\" class=\"dataframe\">\n",
       "  <thead>\n",
       "    <tr style=\"text-align: right;\">\n",
       "      <th></th>\n",
       "      <th>text</th>\n",
       "      <th>toxic</th>\n",
       "      <th>cleared</th>\n",
       "      <th>splited</th>\n",
       "      <th>no_stop_words</th>\n",
       "      <th>lemmas</th>\n",
       "    </tr>\n",
       "  </thead>\n",
       "  <tbody>\n",
       "    <tr>\n",
       "      <td>77238</td>\n",
       "      <td>you're wasting your time biatch you know i'll be back again and again and again with a different IP adress</td>\n",
       "      <td>1</td>\n",
       "      <td>you re wasting your time biatch you know i ll be back again and again and again with a different ip adress</td>\n",
       "      <td>[you, re, wasting, your, time, biatch, you, know, i, ll, be, back, again, and, again, and, again, with, a, different, ip, adress]</td>\n",
       "      <td>[wasting, time, biatch, know, back, different, ip, adress]</td>\n",
       "      <td>[wasting, time, biatch, know, back, different, ip, adress]</td>\n",
       "    </tr>\n",
       "    <tr>\n",
       "      <td>26002</td>\n",
       "      <td>And besides, there isn't a page for Fictional people who wear shoes. Or Fictional confectioners for that matter. Not that I know of anyway. And I'll have you know the Snow Queen wasn't the only influence for the White Witch. Jadis was also largely based on Ayesha, hardly a Wicked Witch of the West persona.</td>\n",
       "      <td>0</td>\n",
       "      <td>and besides  there isn t a page for fictional people who wear shoes  or fictional confectioners for that matter  not that i know of anyway  and i ll have you know the snow queen wasn t the only influence for the white witch  jadis was also largely based on ayesha  hardly a wicked witch of the west persona</td>\n",
       "      <td>[and, besides, there, isn, t, a, page, for, fictional, people, who, wear, shoes, or, fictional, confectioners, for, that, matter, not, that, i, know, of, anyway, and, i, ll, have, you, know, the, snow, queen, wasn, t, the, only, influence, for, the, white, witch, jadis, was, also, largely, based, on, ayesha, hardly, a, wicked, witch, of, the, west, persona]</td>\n",
       "      <td>[besides, page, fictional, people, wear, shoes, fictional, confectioners, matter, know, anyway, know, snow, queen, influence, white, witch, jadis, also, largely, based, ayesha, hardly, wicked, witch, west, persona]</td>\n",
       "      <td>[besides, page, fictional, people, wear, shoe, fictional, confectioner, matter, know, anyway, know, snow, queen, influence, white, witch, jadis, also, largely, based, ayesha, hardly, wicked, witch, west, persona]</td>\n",
       "    </tr>\n",
       "    <tr>\n",
       "      <td>24683</td>\n",
       "      <td>\"\\n\\n Edits \\n\\nHello, thank you for letting me know about your changes, I briefly looked over the article I changed (technically changed back) and was unaware of any errors, The reason I made the changes was due to me looking at another article, and noticing the user named \"\"Lukeno94\"\" making an incorrect edit, so I found my way to his page of edits, and it seemed he was targeting a specific IP address and changing anything that person edited. I apologize if I made an error, I was simply trying to help out what looked like someone being bullied.\"</td>\n",
       "      <td>0</td>\n",
       "      <td>edits   hello  thank you for letting me know about your changes  i briefly looked over the article i changed  technically changed back  and was unaware of any errors  the reason i made the changes was due to me looking at another article  and noticing the user named   lukeno     making an incorrect edit  so i found my way to his page of edits  and it seemed he was targeting a specific ip address and changing anything that person edited  i apologize if i made an error  i was simply trying to help out what looked like someone being bullied</td>\n",
       "      <td>[edits, hello, thank, you, for, letting, me, know, about, your, changes, i, briefly, looked, over, the, article, i, changed, technically, changed, back, and, was, unaware, of, any, errors, the, reason, i, made, the, changes, was, due, to, me, looking, at, another, article, and, noticing, the, user, named, lukeno, making, an, incorrect, edit, so, i, found, my, way, to, his, page, of, edits, and, it, seemed, he, was, targeting, a, specific, ip, address, and, changing, anything, that, person, edited, i, apologize, if, i, made, an, error, i, was, simply, trying, to, help, out, what, looked, like, someone, being, bullied]</td>\n",
       "      <td>[edits, hello, thank, letting, know, changes, briefly, looked, article, changed, technically, changed, back, unaware, errors, reason, made, changes, due, looking, another, article, noticing, user, named, lukeno, making, incorrect, edit, found, way, page, edits, seemed, targeting, specific, ip, address, changing, anything, person, edited, apologize, made, error, simply, trying, help, looked, like, someone, bullied]</td>\n",
       "      <td>[edits, hello, thank, letting, know, change, briefly, looked, article, changed, technically, changed, back, unaware, error, reason, made, change, due, looking, another, article, noticing, user, named, lukeno, making, incorrect, edit, found, way, page, edits, seemed, targeting, specific, ip, address, changing, anything, person, edited, apologize, made, error, simply, trying, help, looked, like, someone, bullied]</td>\n",
       "    </tr>\n",
       "    <tr>\n",
       "      <td>116916</td>\n",
       "      <td>BTW: reverting things back without first having a related discussion is seen as unfriendly act.</td>\n",
       "      <td>0</td>\n",
       "      <td>btw  reverting things back without first having a related discussion is seen as unfriendly act</td>\n",
       "      <td>[btw, reverting, things, back, without, first, having, a, related, discussion, is, seen, as, unfriendly, act]</td>\n",
       "      <td>[btw, reverting, things, back, without, first, related, discussion, seen, unfriendly, act]</td>\n",
       "      <td>[btw, reverting, thing, back, without, first, related, discussion, seen, unfriendly, act]</td>\n",
       "    </tr>\n",
       "    <tr>\n",
       "      <td>116920</td>\n",
       "      <td>Blocking this IP \\n\\nhi,\\n\\nJust to let you know, this IP is from a public terminal at Walter Library on the University of Minnesota campus, so I imagine blocking it won't do much good in stopping the abuser you are after.</td>\n",
       "      <td>0</td>\n",
       "      <td>blocking this ip   hi   just to let you know  this ip is from a public terminal at walter library on the university of minnesota campus  so i imagine blocking it won t do much good in stopping the abuser you are after</td>\n",
       "      <td>[blocking, this, ip, hi, just, to, let, you, know, this, ip, is, from, a, public, terminal, at, walter, library, on, the, university, of, minnesota, campus, so, i, imagine, blocking, it, won, t, do, much, good, in, stopping, the, abuser, you, are, after]</td>\n",
       "      <td>[blocking, ip, hi, let, know, ip, public, terminal, walter, library, university, minnesota, campus, imagine, blocking, much, good, stopping, abuser]</td>\n",
       "      <td>[blocking, ip, hi, let, know, ip, public, terminal, walter, library, university, minnesota, campus, imagine, blocking, much, good, stopping, abuser]</td>\n",
       "    </tr>\n",
       "  </tbody>\n",
       "</table>\n",
       "</div>"
      ]
     },
     "metadata": {},
     "execution_count": 18
    }
   ],
   "metadata": {
    "scrolled": true
   }
  },
  {
   "cell_type": "markdown",
   "source": [
    "#### Выделение признаков и разбиение данных"
   ],
   "metadata": {}
  },
  {
   "cell_type": "markdown",
   "source": [
    "Выделим признаки, целевой признак и разделим на обучающую и тестовую выборки"
   ],
   "metadata": {}
  },
  {
   "cell_type": "code",
   "execution_count": 19,
   "source": [
    "X = df['lemmas']\n",
    "y = df['toxic']\n",
    "\n",
    "X_train, X_test, y_train, y_test = train_test_split(X, y, test_size=0.20, random_state=SEED)\n",
    "print('Количество элементов обучающей выборки: {:.0f}%'.format(X_train.shape[0]/df.shape[0] * 100))\n",
    "print('Количество элементов тестовой выборки: {:.0f}%'.format(X_test.shape[0]/df.shape[0] * 100))"
   ],
   "outputs": [
    {
     "output_type": "stream",
     "name": "stdout",
     "text": [
      "Количество элементов обучающей выборки: 80%\n",
      "Количество элементов тестовой выборки: 20%\n"
     ]
    }
   ],
   "metadata": {
    "scrolled": true
   }
  },
  {
   "cell_type": "markdown",
   "source": [
    "Данные разбиты верно<br>\n",
    "Вычислим tf-idf для текстов"
   ],
   "metadata": {}
  },
  {
   "cell_type": "code",
   "execution_count": 20,
   "source": [
    "X_train = X_train.astype('U')\n",
    "X_test = X_test.astype('U')\n",
    "count_tf_idf = TfidfVectorizer(stop_words=stop_words)\n",
    "X_train_vec = count_tf_idf.fit_transform(X_train)\n",
    "X_test_vec = count_tf_idf.transform(X_test)"
   ],
   "outputs": [],
   "metadata": {}
  },
  {
   "cell_type": "code",
   "execution_count": 21,
   "source": [
    "print('Размер обучающей выборки:', X_train_vec.shape)\n",
    "print('Размер тестовой выборки:', X_test_vec.shape)"
   ],
   "outputs": [
    {
     "output_type": "stream",
     "name": "stdout",
     "text": [
      "Размер обучающей выборки: (127656, 139229)\n",
      "Размер тестовой выборки: (31915, 139229)\n"
     ]
    }
   ],
   "metadata": {}
  },
  {
   "cell_type": "markdown",
   "source": [
    "### Вывод"
   ],
   "metadata": {}
  },
  {
   "cell_type": "markdown",
   "source": [
    "Мы загрузили данные, провели краткий анализ и подготовили данные к работе с моделями машинного обучения"
   ],
   "metadata": {}
  },
  {
   "cell_type": "markdown",
   "source": [
    "## Обучение"
   ],
   "metadata": {}
  },
  {
   "cell_type": "markdown",
   "source": [
    "Данные подготовлены, приступаем к проверке моделей машинного обучения. Использовать будем следующие модели:\n",
    "- логистическая регрессия\n",
    "- дерево решений\n",
    "- случайый лес\n",
    "- MultinomialNB (документация sklearn предлагает этот классификатор для работы с текстом https://scikit-learn.org/stable/tutorial/text_analytics/working_with_text_data.html#training-a-classifier)"
   ],
   "metadata": {}
  },
  {
   "cell_type": "markdown",
   "source": [
    "### Логистическая регрессия"
   ],
   "metadata": {}
  },
  {
   "cell_type": "markdown",
   "source": [
    "Обучим линейную регрессию и проверим её на обучающей и тестовой выборках"
   ],
   "metadata": {}
  },
  {
   "cell_type": "code",
   "execution_count": 22,
   "source": [
    "model = LogisticRegression(random_state=SEED, class_weight='balanced') \n",
    "model.fit(X_train_vec, y_train)\n",
    "predictions = model.predict(X_train_vec)\n",
    "f1 = f1_score(y_train, predictions)\n",
    "print('F1 на обучающей выборке:', f1)\n",
    "\n",
    "predictions = model.predict(X_test_vec)\n",
    "f1 = f1_score(y_test, predictions)\n",
    "print('F1 на тестовой выборке:', f1)"
   ],
   "outputs": [
    {
     "output_type": "stream",
     "name": "stdout",
     "text": [
      "F1 на обучающей выборке: 0.8305169483051694\n",
      "F1 на тестовой выборке: 0.7519806633543709\n"
     ]
    }
   ],
   "metadata": {}
  },
  {
   "cell_type": "markdown",
   "source": [
    "Модель проходит по требованию к метрике F1 - не меньше 0.75"
   ],
   "metadata": {}
  },
  {
   "cell_type": "markdown",
   "source": [
    "### Дерево решений"
   ],
   "metadata": {}
  },
  {
   "cell_type": "markdown",
   "source": [
    "Обучим дерево решений с разным количеством значения максимальной глубины"
   ],
   "metadata": {}
  },
  {
   "cell_type": "code",
   "execution_count": 23,
   "source": [
    "depth = 1\n",
    "max_depth = 25\n",
    "for i in notebook.tqdm(range(max_depth)):\n",
    "    model = DecisionTreeClassifier(max_depth=depth, \n",
    "                                   random_state=SEED, \n",
    "                                   class_weight='balanced')\n",
    "    model.fit(X_train_vec, y_train)\n",
    "    predictions = model.predict(X_test_vec)\n",
    "    f1 = f1_score(y_test, predictions)\n",
    "    print('F1 на тестовой выборке:', f1, 'при глубине:', depth)\n",
    "    \n",
    "    depth = depth + 1"
   ],
   "outputs": [
    {
     "output_type": "display_data",
     "data": {
      "text/plain": [
       "HBox(children=(HTML(value=''), FloatProgress(value=0.0, max=25.0), HTML(value='')))"
      ],
      "application/vnd.jupyter.widget-view+json": {
       "model_id": "6007dba7ed614a37b8a6b3237ee1bc1a",
       "version_major": 2,
       "version_minor": 0
      }
     },
     "metadata": {}
    },
    {
     "output_type": "stream",
     "name": "stdout",
     "text": [
      "F1 на тестовой выборке: 0.2654028436018957 при глубине: 1\n",
      "F1 на тестовой выборке: 0.365075439030423 при глубине: 2\n",
      "F1 на тестовой выборке: 0.36386138613861385 при глубине: 3\n",
      "F1 на тестовой выборке: 0.422475106685633 при глубине: 4\n",
      "F1 на тестовой выборке: 0.42796809009854536 при глубине: 5\n",
      "F1 на тестовой выборке: 0.47280145058930184 при глубине: 6\n",
      "F1 на тестовой выборке: 0.5045592705167173 при глубине: 7\n",
      "F1 на тестовой выборке: 0.5357519510651761 при глубине: 8\n",
      "F1 на тестовой выборке: 0.5539613225202745 при глубине: 9\n",
      "F1 на тестовой выборке: 0.5664904432696218 при глубине: 10\n",
      "F1 на тестовой выборке: 0.5782312925170068 при глубине: 11\n",
      "F1 на тестовой выборке: 0.5838847800700662 при глубине: 12\n",
      "F1 на тестовой выборке: 0.5938631599008958 при глубине: 13\n",
      "F1 на тестовой выборке: 0.5950920245398772 при глубине: 14\n",
      "F1 на тестовой выборке: 0.6072106261859583 при глубине: 15\n",
      "F1 на тестовой выборке: 0.597860962566845 при глубине: 16\n",
      "F1 на тестовой выборке: 0.6011883956658511 при глубине: 17\n",
      "F1 на тестовой выборке: 0.6028541594152453 при глубине: 18\n",
      "F1 на тестовой выборке: 0.601298017891598 при глубине: 19\n",
      "F1 на тестовой выборке: 0.6007005253940455 при глубине: 20\n",
      "F1 на тестовой выборке: 0.6036617262423715 при глубине: 21\n",
      "F1 на тестовой выборке: 0.5948787519077496 при глубине: 22\n",
      "F1 на тестовой выборке: 0.6017818120692553 при глубине: 23\n",
      "F1 на тестовой выборке: 0.6063058506154105 при глубине: 24\n",
      "F1 на тестовой выборке: 0.6128706199460916 при глубине: 25\n",
      "\n"
     ]
    }
   ],
   "metadata": {
    "scrolled": true
   }
  },
  {
   "cell_type": "markdown",
   "source": [
    "Дерево решений с задачей справляется хуже. Наилучшая F1 0.61"
   ],
   "metadata": {}
  },
  {
   "cell_type": "markdown",
   "source": [
    "### Случайный лес"
   ],
   "metadata": {}
  },
  {
   "cell_type": "code",
   "execution_count": 24,
   "source": [
    "depth = 1\n",
    "est = 10\n",
    "max_depth = 15\n",
    "max_estimators = 50\n",
    "estimators_step = 10\n",
    "best_est = 0\n",
    "best_depth = 0\n",
    "best_f1 = 0\n",
    "iterations = int(max_depth * (max_estimators/estimators_step))\n",
    "for i in notebook.tqdm(range(iterations)):\n",
    "    model = RandomForestClassifier(max_depth=depth, \n",
    "                                   n_estimators=est,\n",
    "                                   random_state=SEED, \n",
    "                                   class_weight='balanced')\n",
    "    model.fit(X_train_vec, y_train)\n",
    "    predictions = model.predict(X_test_vec)\n",
    "    f1 = f1_score(y_test, predictions)\n",
    "    \n",
    "    if f1 > best_f1:\n",
    "        best_f1 = f1\n",
    "        best_depth = depth\n",
    "        best_est = est\n",
    "    \n",
    "    if (est != max_estimators):\n",
    "        est = est + 10\n",
    "    else:\n",
    "        est = 10\n",
    "        depth = depth + 1\n",
    "\n",
    "print('Лучшая метрика F1:', best_f1)\n",
    "print('Глубина:', best_depth)\n",
    "print('Количество оценщиков', best_est)"
   ],
   "outputs": [
    {
     "output_type": "display_data",
     "data": {
      "text/plain": [
       "HBox(children=(HTML(value=''), FloatProgress(value=0.0, max=75.0), HTML(value='')))"
      ],
      "application/vnd.jupyter.widget-view+json": {
       "model_id": "fdfe95b24f0243e1ba2cf15ee0c4f325",
       "version_major": 2,
       "version_minor": 0
      }
     },
     "metadata": {}
    },
    {
     "output_type": "stream",
     "name": "stdout",
     "text": [
      "\n",
      "Лучшая метрика F1: 0.5267774086378738\n",
      "Глубина: 4\n",
      "Количество оценщиков 40\n"
     ]
    }
   ],
   "metadata": {}
  },
  {
   "cell_type": "markdown",
   "source": [
    "Случайный лес также не справился с задачей"
   ],
   "metadata": {}
  },
  {
   "cell_type": "markdown",
   "source": [
    "### MultinomialNB"
   ],
   "metadata": {}
  },
  {
   "cell_type": "code",
   "execution_count": 25,
   "source": [
    "model = MultinomialNB(alpha=0.01) \n",
    "model.fit(X_train_vec, y_train)\n",
    "predictions = model.predict(X_test_vec)\n",
    "f1 = f1_score(y_test, predictions)\n",
    "print('F1 на тестовой выборке:', f1)"
   ],
   "outputs": [
    {
     "output_type": "stream",
     "name": "stdout",
     "text": [
      "F1 на тестовой выборке: 0.6709265175718849\n"
     ]
    }
   ],
   "metadata": {}
  },
  {
   "cell_type": "markdown",
   "source": [
    "MultinomialNB не справился с задачей"
   ],
   "metadata": {}
  },
  {
   "cell_type": "markdown",
   "source": [
    "### Выводы"
   ],
   "metadata": {}
  },
  {
   "cell_type": "markdown",
   "source": [
    "Единственной моделью, которая справилась с поставленной задачей - Логистическая регрессия, показав метрику F1 0.751<br>"
   ],
   "metadata": {}
  },
  {
   "cell_type": "markdown",
   "source": [
    "## Выводы"
   ],
   "metadata": {}
  },
  {
   "cell_type": "markdown",
   "source": [
    "1) В нашем распоряжении оказались тексты с их окраской: нейтральный или токсичный текст<br>\n",
    "\n",
    "2) Убедились, что данные без пропусков и дубликатов<br>\n",
    "\n",
    "3) Мы преобразовали тексты: <br>\n",
    "    - убрали лишние слова <br>\n",
    "    - токенизировали <br>\n",
    "    - убрали стоп-слова <br>\n",
    "    - провели лемматизацию <br>\n",
    "    - выделили признаки <br>\n",
    "    - разбили данные <br>\n",
    "    \n",
    "4) Обучили несколько моделей машинного обучения и проверили на текстах <br>\n",
    "\n",
    "5) Единственной моделью, которая справилась с поставленной задачей (F1 метрика не ниже 0.75) оказалась Линейная регрессия, которая показала значение метрики F1 = 0.751 <br>"
   ],
   "metadata": {}
  }
 ],
 "metadata": {
  "ExecuteTimeLog": [
   {
    "duration": 755,
    "start_time": "2021-07-30T18:29:01.126Z"
   },
   {
    "duration": 1802,
    "start_time": "2021-07-30T18:29:36.313Z"
   },
   {
    "duration": 835,
    "start_time": "2021-07-30T18:29:44.906Z"
   },
   {
    "duration": 788,
    "start_time": "2021-07-30T18:29:52.987Z"
   },
   {
    "duration": 5,
    "start_time": "2021-07-30T18:29:58.658Z"
   },
   {
    "duration": 957,
    "start_time": "2021-07-30T18:30:10.405Z"
   },
   {
    "duration": 42,
    "start_time": "2021-07-30T18:41:06.355Z"
   },
   {
    "duration": 184,
    "start_time": "2021-07-30T18:41:20.024Z"
   },
   {
    "duration": 300,
    "start_time": "2021-07-30T18:42:02.019Z"
   },
   {
    "duration": 10,
    "start_time": "2021-07-30T18:42:06.044Z"
   },
   {
    "duration": 296,
    "start_time": "2021-07-31T07:46:04.072Z"
   },
   {
    "duration": 5054,
    "start_time": "2021-07-31T07:46:07.886Z"
   },
   {
    "duration": 3,
    "start_time": "2021-07-31T07:46:12.942Z"
   },
   {
    "duration": 706,
    "start_time": "2021-07-31T07:46:12.947Z"
   },
   {
    "duration": 170,
    "start_time": "2021-07-31T07:46:13.655Z"
   },
   {
    "duration": 660,
    "start_time": "2021-07-31T07:46:13.828Z"
   },
   {
    "duration": 252,
    "start_time": "2021-07-31T07:46:33.334Z"
   },
   {
    "duration": 220,
    "start_time": "2021-07-31T07:47:03.511Z"
   },
   {
    "duration": 280,
    "start_time": "2021-07-31T07:47:28.779Z"
   },
   {
    "duration": 10,
    "start_time": "2021-07-31T07:52:15.366Z"
   },
   {
    "duration": 4,
    "start_time": "2021-07-31T08:13:27.559Z"
   },
   {
    "duration": 4,
    "start_time": "2021-07-31T08:13:27.583Z"
   },
   {
    "duration": 708,
    "start_time": "2021-07-31T08:13:27.602Z"
   },
   {
    "duration": 165,
    "start_time": "2021-07-31T08:13:28.313Z"
   },
   {
    "duration": 261,
    "start_time": "2021-07-31T08:13:28.482Z"
   },
   {
    "duration": 11,
    "start_time": "2021-07-31T08:13:46.812Z"
   },
   {
    "duration": 10,
    "start_time": "2021-07-31T08:15:21.553Z"
   },
   {
    "duration": 14,
    "start_time": "2021-07-31T08:15:28.375Z"
   },
   {
    "duration": 14,
    "start_time": "2021-07-31T08:15:36.569Z"
   },
   {
    "duration": 14,
    "start_time": "2021-07-31T08:15:41.961Z"
   },
   {
    "duration": 20,
    "start_time": "2021-07-31T08:22:39.601Z"
   },
   {
    "duration": 17,
    "start_time": "2021-07-31T08:22:46.175Z"
   },
   {
    "duration": 352,
    "start_time": "2021-07-31T08:22:58.214Z"
   },
   {
    "duration": 18,
    "start_time": "2021-07-31T08:23:23.356Z"
   },
   {
    "duration": 18,
    "start_time": "2021-07-31T08:23:35.386Z"
   },
   {
    "duration": 16,
    "start_time": "2021-07-31T08:23:39.357Z"
   },
   {
    "duration": 3,
    "start_time": "2021-07-31T08:44:55.656Z"
   },
   {
    "duration": 1610,
    "start_time": "2021-07-31T08:46:31.021Z"
   },
   {
    "duration": 5,
    "start_time": "2021-07-31T08:47:09.880Z"
   },
   {
    "duration": 4,
    "start_time": "2021-07-31T08:47:11.898Z"
   },
   {
    "duration": 3,
    "start_time": "2021-07-31T08:47:13.159Z"
   },
   {
    "duration": 1461,
    "start_time": "2021-07-31T08:47:16.878Z"
   },
   {
    "duration": 1263,
    "start_time": "2021-07-31T08:47:30.157Z"
   },
   {
    "duration": 1313,
    "start_time": "2021-07-31T08:47:59.178Z"
   },
   {
    "duration": 1089,
    "start_time": "2021-07-31T08:48:04.477Z"
   },
   {
    "duration": 4,
    "start_time": "2021-07-31T08:48:27.138Z"
   },
   {
    "duration": 1223,
    "start_time": "2021-07-31T08:48:28.280Z"
   },
   {
    "duration": 4,
    "start_time": "2021-07-31T08:48:36.841Z"
   },
   {
    "duration": 1297,
    "start_time": "2021-07-31T08:48:37.014Z"
   },
   {
    "duration": 4,
    "start_time": "2021-07-31T08:49:16.662Z"
   },
   {
    "duration": 1764,
    "start_time": "2021-07-31T08:49:17.401Z"
   },
   {
    "duration": 3,
    "start_time": "2021-07-31T08:51:53.840Z"
   },
   {
    "duration": 1854,
    "start_time": "2021-07-31T08:52:00.553Z"
   },
   {
    "duration": 1886,
    "start_time": "2021-07-31T08:53:06.893Z"
   },
   {
    "duration": 87,
    "start_time": "2021-07-31T08:54:07.273Z"
   },
   {
    "duration": 681,
    "start_time": "2021-07-31T08:54:10.084Z"
   },
   {
    "duration": 4053,
    "start_time": "2021-08-01T12:28:40.429Z"
   },
   {
    "duration": 3,
    "start_time": "2021-08-01T12:28:44.483Z"
   },
   {
    "duration": 3,
    "start_time": "2021-08-01T12:28:44.492Z"
   },
   {
    "duration": 608,
    "start_time": "2021-08-01T12:28:44.496Z"
   },
   {
    "duration": 125,
    "start_time": "2021-08-01T12:28:45.106Z"
   },
   {
    "duration": 216,
    "start_time": "2021-08-01T12:28:45.233Z"
   },
   {
    "duration": 16,
    "start_time": "2021-08-01T12:28:45.451Z"
   },
   {
    "duration": 2,
    "start_time": "2021-08-01T12:28:45.470Z"
   },
   {
    "duration": 1309,
    "start_time": "2021-08-01T12:28:45.474Z"
   },
   {
    "duration": 1385,
    "start_time": "2021-08-01T12:29:03.184Z"
   },
   {
    "duration": 1303,
    "start_time": "2021-08-01T12:29:14.404Z"
   },
   {
    "duration": 3,
    "start_time": "2021-08-01T12:32:42.208Z"
   },
   {
    "duration": 1488,
    "start_time": "2021-08-01T12:32:47.507Z"
   },
   {
    "duration": 124,
    "start_time": "2021-08-01T14:47:51.301Z"
   },
   {
    "duration": 5,
    "start_time": "2021-08-01T14:48:37.453Z"
   },
   {
    "duration": 3,
    "start_time": "2021-08-01T14:48:38.827Z"
   },
   {
    "duration": 220,
    "start_time": "2021-08-01T14:49:56.641Z"
   },
   {
    "duration": 3,
    "start_time": "2021-08-01T15:42:49.139Z"
   },
   {
    "duration": 1792,
    "start_time": "2021-08-01T15:45:56.129Z"
   },
   {
    "duration": 3,
    "start_time": "2021-08-01T15:51:20.968Z"
   },
   {
    "duration": 120,
    "start_time": "2021-08-01T15:51:21.486Z"
   },
   {
    "duration": 1592,
    "start_time": "2021-08-01T15:51:27.897Z"
   },
   {
    "duration": 3,
    "start_time": "2021-08-01T15:51:41.277Z"
   },
   {
    "duration": 4585,
    "start_time": "2021-08-01T15:51:41.882Z"
   },
   {
    "duration": 3,
    "start_time": "2021-08-01T15:52:06.808Z"
   },
   {
    "duration": 2629,
    "start_time": "2021-08-01T15:52:07.268Z"
   },
   {
    "duration": 85,
    "start_time": "2021-08-01T15:56:07.654Z"
   },
   {
    "duration": 237,
    "start_time": "2021-08-01T15:57:01.190Z"
   },
   {
    "duration": 4,
    "start_time": "2021-08-01T15:57:23.946Z"
   },
   {
    "duration": 3,
    "start_time": "2021-08-01T15:57:59.314Z"
   },
   {
    "duration": 655,
    "start_time": "2021-08-01T15:58:00.098Z"
   },
   {
    "duration": 119,
    "start_time": "2021-08-01T15:58:05.458Z"
   },
   {
    "duration": 217,
    "start_time": "2021-08-01T15:58:06.471Z"
   },
   {
    "duration": 12,
    "start_time": "2021-08-01T15:58:06.936Z"
   },
   {
    "duration": 3,
    "start_time": "2021-08-01T15:58:08.034Z"
   },
   {
    "duration": 1361,
    "start_time": "2021-08-01T15:58:08.336Z"
   },
   {
    "duration": 4,
    "start_time": "2021-08-01T15:58:09.699Z"
   },
   {
    "duration": 2149,
    "start_time": "2021-08-01T15:58:09.764Z"
   },
   {
    "duration": 4,
    "start_time": "2021-08-01T15:58:59.412Z"
   },
   {
    "duration": 4,
    "start_time": "2021-08-01T15:59:08.727Z"
   },
   {
    "duration": 1096,
    "start_time": "2021-08-01T15:59:26.385Z"
   },
   {
    "duration": 1426,
    "start_time": "2021-08-01T15:59:32.605Z"
   },
   {
    "duration": 3,
    "start_time": "2021-08-01T15:59:41.461Z"
   },
   {
    "duration": 2832,
    "start_time": "2021-08-01T15:59:41.837Z"
   },
   {
    "duration": 2,
    "start_time": "2021-08-01T16:03:26.007Z"
   },
   {
    "duration": 2,
    "start_time": "2021-08-01T16:04:20.155Z"
   },
   {
    "duration": 1106,
    "start_time": "2021-08-01T16:04:20.339Z"
   },
   {
    "duration": 3,
    "start_time": "2021-08-01T16:04:32.583Z"
   },
   {
    "duration": 700,
    "start_time": "2021-08-01T16:04:33.771Z"
   },
   {
    "duration": 122,
    "start_time": "2021-08-01T16:04:37.355Z"
   },
   {
    "duration": 207,
    "start_time": "2021-08-01T16:04:37.767Z"
   },
   {
    "duration": 11,
    "start_time": "2021-08-01T16:04:38.105Z"
   },
   {
    "duration": 2,
    "start_time": "2021-08-01T16:04:38.688Z"
   },
   {
    "duration": 1380,
    "start_time": "2021-08-01T16:04:38.833Z"
   },
   {
    "duration": 3,
    "start_time": "2021-08-01T16:04:40.214Z"
   },
   {
    "duration": 2080,
    "start_time": "2021-08-01T16:04:40.219Z"
   },
   {
    "duration": 4,
    "start_time": "2021-08-01T16:04:42.301Z"
   },
   {
    "duration": 7,
    "start_time": "2021-08-01T16:04:42.309Z"
   },
   {
    "duration": 2266,
    "start_time": "2021-08-01T16:04:42.318Z"
   },
   {
    "duration": 4,
    "start_time": "2021-08-01T16:04:44.586Z"
   },
   {
    "duration": 19,
    "start_time": "2021-08-01T16:04:44.592Z"
   },
   {
    "duration": 28977,
    "start_time": "2021-08-01T16:05:53.494Z"
   },
   {
    "duration": 3,
    "start_time": "2021-08-01T17:27:55.645Z"
   },
   {
    "duration": 1275,
    "start_time": "2021-08-01T17:27:57.075Z"
   },
   {
    "duration": 138,
    "start_time": "2021-08-01T17:28:00.867Z"
   },
   {
    "duration": 225,
    "start_time": "2021-08-01T17:28:01.221Z"
   },
   {
    "duration": 20,
    "start_time": "2021-08-01T17:28:01.607Z"
   },
   {
    "duration": 3,
    "start_time": "2021-08-01T17:28:02.349Z"
   },
   {
    "duration": 1356,
    "start_time": "2021-08-01T17:28:02.511Z"
   },
   {
    "duration": 3,
    "start_time": "2021-08-01T17:28:03.868Z"
   },
   {
    "duration": 2354,
    "start_time": "2021-08-01T17:28:03.873Z"
   },
   {
    "duration": 3,
    "start_time": "2021-08-01T17:28:06.230Z"
   },
   {
    "duration": 7,
    "start_time": "2021-08-01T17:28:06.234Z"
   },
   {
    "duration": 2054,
    "start_time": "2021-08-01T17:28:06.243Z"
   },
   {
    "duration": 3,
    "start_time": "2021-08-01T17:28:08.300Z"
   },
   {
    "duration": 10,
    "start_time": "2021-08-01T17:28:08.307Z"
   },
   {
    "duration": 20125,
    "start_time": "2021-08-01T17:28:08.320Z"
   },
   {
    "duration": 317,
    "start_time": "2021-08-01T17:57:25.259Z"
   },
   {
    "duration": 274,
    "start_time": "2021-08-01T17:57:38.306Z"
   },
   {
    "duration": 23,
    "start_time": "2021-08-01T17:58:53.841Z"
   },
   {
    "duration": 268,
    "start_time": "2021-08-01T17:59:00.062Z"
   },
   {
    "duration": 36,
    "start_time": "2021-08-01T17:59:02.750Z"
   },
   {
    "duration": 35,
    "start_time": "2021-08-01T17:59:16.058Z"
   },
   {
    "duration": 16,
    "start_time": "2021-08-01T18:00:50.933Z"
   },
   {
    "duration": 3,
    "start_time": "2021-08-01T18:00:53.970Z"
   },
   {
    "duration": 4,
    "start_time": "2021-08-01T18:01:02.623Z"
   },
   {
    "duration": 4,
    "start_time": "2021-08-01T18:01:05.804Z"
   },
   {
    "duration": 32,
    "start_time": "2021-08-01T18:07:29.710Z"
   },
   {
    "duration": 34,
    "start_time": "2021-08-01T18:07:38.518Z"
   },
   {
    "duration": 284,
    "start_time": "2021-08-01T18:08:02.085Z"
   },
   {
    "duration": 34,
    "start_time": "2021-08-01T18:08:21.209Z"
   },
   {
    "duration": 41,
    "start_time": "2021-08-01T18:08:49.258Z"
   },
   {
    "duration": 35,
    "start_time": "2021-08-01T18:08:58.911Z"
   },
   {
    "duration": 33,
    "start_time": "2021-08-01T18:09:08.125Z"
   },
   {
    "duration": 7,
    "start_time": "2021-08-01T18:09:47.263Z"
   },
   {
    "duration": 5,
    "start_time": "2021-08-01T18:09:53.448Z"
   },
   {
    "duration": 6,
    "start_time": "2021-08-01T18:09:59.326Z"
   },
   {
    "duration": 1090,
    "start_time": "2021-08-01T18:10:40.304Z"
   },
   {
    "duration": 542,
    "start_time": "2021-08-01T18:10:58.933Z"
   },
   {
    "duration": 10137,
    "start_time": "2021-08-01T18:13:26.420Z"
   },
   {
    "duration": 289,
    "start_time": "2021-08-01T18:14:01.177Z"
   },
   {
    "duration": 33,
    "start_time": "2021-08-01T18:14:07.095Z"
   },
   {
    "duration": 1019,
    "start_time": "2021-08-01T18:14:19.512Z"
   },
   {
    "duration": 34,
    "start_time": "2021-08-01T18:14:54.825Z"
   },
   {
    "duration": 10832,
    "start_time": "2021-08-01T18:14:55.951Z"
   },
   {
    "duration": 11027,
    "start_time": "2021-08-01T18:15:09.119Z"
   },
   {
    "duration": 9751,
    "start_time": "2021-08-01T18:15:52.941Z"
   },
   {
    "duration": 9973,
    "start_time": "2021-08-01T18:16:14.535Z"
   },
   {
    "duration": 13165,
    "start_time": "2021-08-01T18:16:55.331Z"
   },
   {
    "duration": 5767,
    "start_time": "2021-08-01T18:18:58.476Z"
   },
   {
    "duration": 4,
    "start_time": "2021-08-01T18:19:36.790Z"
   },
   {
    "duration": 4,
    "start_time": "2021-08-01T18:19:49.680Z"
   },
   {
    "duration": 6,
    "start_time": "2021-08-01T18:20:01.206Z"
   },
   {
    "duration": 5646,
    "start_time": "2021-08-01T18:20:05.484Z"
   },
   {
    "duration": 3,
    "start_time": "2021-08-01T18:20:11.132Z"
   },
   {
    "duration": 18,
    "start_time": "2021-08-01T18:31:45.789Z"
   },
   {
    "duration": 22,
    "start_time": "2021-08-01T18:32:23.282Z"
   },
   {
    "duration": 269,
    "start_time": "2021-08-01T18:32:24.337Z"
   },
   {
    "duration": 9709,
    "start_time": "2021-08-01T18:33:04.407Z"
   },
   {
    "duration": 12478,
    "start_time": "2021-08-01T18:33:26.870Z"
   },
   {
    "duration": 9813,
    "start_time": "2021-08-01T18:33:47.694Z"
   },
   {
    "duration": 10203,
    "start_time": "2021-08-01T18:33:59.033Z"
   },
   {
    "duration": 13754,
    "start_time": "2021-08-01T18:34:23.190Z"
   },
   {
    "duration": 13683,
    "start_time": "2021-08-01T18:35:41.665Z"
   },
   {
    "duration": 10545,
    "start_time": "2021-08-01T18:41:03.129Z"
   },
   {
    "duration": 203437,
    "start_time": "2021-08-01T18:41:44.154Z"
   },
   {
    "duration": 77,
    "start_time": "2021-08-01T18:51:19.036Z"
   },
   {
    "duration": 229,
    "start_time": "2021-08-01T18:51:27.140Z"
   },
   {
    "duration": 673,
    "start_time": "2021-08-01T18:51:54.566Z"
   },
   {
    "duration": 81102,
    "start_time": "2021-08-01T18:52:18.405Z"
   },
   {
    "duration": 88620,
    "start_time": "2021-08-01T18:57:15.229Z"
   },
   {
    "duration": 97842,
    "start_time": "2021-08-01T18:58:48.433Z"
   },
   {
    "duration": 64,
    "start_time": "2021-08-01T19:05:28.095Z"
   },
   {
    "duration": 64,
    "start_time": "2021-08-01T19:05:33.239Z"
   },
   {
    "duration": 63,
    "start_time": "2021-08-01T19:05:46.408Z"
   },
   {
    "duration": 64,
    "start_time": "2021-08-01T19:05:49.722Z"
   },
   {
    "duration": 63,
    "start_time": "2021-08-01T19:05:51.601Z"
   },
   {
    "duration": 69,
    "start_time": "2021-08-01T19:05:53.113Z"
   },
   {
    "duration": 299,
    "start_time": "2021-08-01T19:06:00.855Z"
   },
   {
    "duration": 64,
    "start_time": "2021-08-01T19:06:24.157Z"
   },
   {
    "duration": 66,
    "start_time": "2021-08-01T19:06:27.916Z"
   },
   {
    "duration": 5,
    "start_time": "2021-08-01T19:11:03.052Z"
   },
   {
    "duration": 420,
    "start_time": "2021-08-01T19:11:21.319Z"
   },
   {
    "duration": 472,
    "start_time": "2021-08-01T19:11:37.959Z"
   },
   {
    "duration": 409,
    "start_time": "2021-08-01T19:12:03.532Z"
   },
   {
    "duration": 481,
    "start_time": "2021-08-01T19:12:16.667Z"
   },
   {
    "duration": 254,
    "start_time": "2021-08-01T19:12:27.035Z"
   },
   {
    "duration": 344,
    "start_time": "2021-08-01T19:12:37.431Z"
   },
   {
    "duration": 477,
    "start_time": "2021-08-01T19:12:39.560Z"
   },
   {
    "duration": 438,
    "start_time": "2021-08-01T19:12:45.684Z"
   },
   {
    "duration": 481,
    "start_time": "2021-08-01T19:12:49.998Z"
   },
   {
    "duration": 462,
    "start_time": "2021-08-01T19:12:54.109Z"
   },
   {
    "duration": 532,
    "start_time": "2021-08-01T19:12:58.557Z"
   },
   {
    "duration": 4,
    "start_time": "2021-08-01T19:13:10.387Z"
   },
   {
    "duration": 4,
    "start_time": "2021-08-01T19:14:58.214Z"
   },
   {
    "duration": 4960,
    "start_time": "2021-08-01T19:16:55.966Z"
   },
   {
    "duration": 229,
    "start_time": "2021-08-01T19:17:00.928Z"
   },
   {
    "duration": 3,
    "start_time": "2021-08-01T19:17:01.160Z"
   },
   {
    "duration": 14,
    "start_time": "2021-08-01T19:17:01.165Z"
   },
   {
    "duration": 912,
    "start_time": "2021-08-01T19:17:01.180Z"
   },
   {
    "duration": 182,
    "start_time": "2021-08-01T19:17:02.094Z"
   },
   {
    "duration": 296,
    "start_time": "2021-08-01T19:17:02.278Z"
   },
   {
    "duration": 22,
    "start_time": "2021-08-01T19:17:02.576Z"
   },
   {
    "duration": 3,
    "start_time": "2021-08-01T19:17:02.601Z"
   },
   {
    "duration": 2396,
    "start_time": "2021-08-01T19:17:02.607Z"
   },
   {
    "duration": 3,
    "start_time": "2021-08-01T19:17:05.005Z"
   },
   {
    "duration": 2018,
    "start_time": "2021-08-01T19:17:05.010Z"
   },
   {
    "duration": 4,
    "start_time": "2021-08-01T19:17:07.030Z"
   },
   {
    "duration": 9,
    "start_time": "2021-08-01T19:17:07.035Z"
   },
   {
    "duration": 1954,
    "start_time": "2021-08-01T19:17:07.045Z"
   },
   {
    "duration": 2,
    "start_time": "2021-08-01T19:17:09.001Z"
   },
   {
    "duration": 6,
    "start_time": "2021-08-01T19:17:09.005Z"
   },
   {
    "duration": 22114,
    "start_time": "2021-08-01T19:17:09.012Z"
   },
   {
    "duration": 40,
    "start_time": "2021-08-01T19:17:31.128Z"
   },
   {
    "duration": 9444,
    "start_time": "2021-08-01T19:17:31.170Z"
   },
   {
    "duration": 4,
    "start_time": "2021-08-01T19:17:40.615Z"
   },
   {
    "duration": 14295,
    "start_time": "2021-08-01T19:17:40.620Z"
   },
   {
    "duration": 219896,
    "start_time": "2021-08-01T19:17:54.917Z"
   },
   {
    "duration": 84296,
    "start_time": "2021-08-01T19:21:34.814Z"
   },
   {
    "duration": 588,
    "start_time": "2021-08-01T19:24:00.338Z"
   },
   {
    "duration": 235,
    "start_time": "2021-08-01T19:24:05.512Z"
   },
   {
    "duration": 61,
    "start_time": "2021-08-01T19:24:12.552Z"
   },
   {
    "duration": 60,
    "start_time": "2021-08-01T19:39:07.671Z"
   },
   {
    "duration": 62,
    "start_time": "2021-08-01T19:39:10.248Z"
   },
   {
    "duration": 61,
    "start_time": "2021-08-01T19:39:13.178Z"
   },
   {
    "duration": 61,
    "start_time": "2021-08-01T19:39:15.660Z"
   },
   {
    "duration": 62,
    "start_time": "2021-08-01T19:39:18.559Z"
   },
   {
    "duration": 62,
    "start_time": "2021-08-01T19:39:22.567Z"
   },
   {
    "duration": 63,
    "start_time": "2021-08-01T19:39:25.716Z"
   },
   {
    "duration": 61,
    "start_time": "2021-08-01T19:39:43.665Z"
   },
   {
    "duration": 60,
    "start_time": "2021-08-01T19:39:50.818Z"
   },
   {
    "duration": 4339,
    "start_time": "2021-08-01T19:42:52.720Z"
   },
   {
    "duration": 222,
    "start_time": "2021-08-01T19:42:57.062Z"
   },
   {
    "duration": 3,
    "start_time": "2021-08-01T19:42:57.287Z"
   },
   {
    "duration": 5,
    "start_time": "2021-08-01T19:42:57.292Z"
   },
   {
    "duration": 936,
    "start_time": "2021-08-01T19:42:57.298Z"
   },
   {
    "duration": 125,
    "start_time": "2021-08-01T19:42:58.236Z"
   },
   {
    "duration": 316,
    "start_time": "2021-08-01T19:42:58.363Z"
   },
   {
    "duration": 26,
    "start_time": "2021-08-01T19:42:58.681Z"
   },
   {
    "duration": 3,
    "start_time": "2021-08-01T19:42:58.711Z"
   },
   {
    "duration": 1427,
    "start_time": "2021-08-01T19:42:58.716Z"
   },
   {
    "duration": 3,
    "start_time": "2021-08-01T19:43:00.145Z"
   },
   {
    "duration": 2044,
    "start_time": "2021-08-01T19:43:00.150Z"
   },
   {
    "duration": 3,
    "start_time": "2021-08-01T19:43:02.196Z"
   },
   {
    "duration": 7,
    "start_time": "2021-08-01T19:43:02.201Z"
   },
   {
    "duration": 1917,
    "start_time": "2021-08-01T19:43:02.210Z"
   },
   {
    "duration": 3,
    "start_time": "2021-08-01T19:43:04.128Z"
   },
   {
    "duration": 6,
    "start_time": "2021-08-01T19:43:04.132Z"
   },
   {
    "duration": 19493,
    "start_time": "2021-08-01T19:43:04.140Z"
   },
   {
    "duration": 30,
    "start_time": "2021-08-01T19:43:23.635Z"
   },
   {
    "duration": 9567,
    "start_time": "2021-08-01T19:43:23.667Z"
   },
   {
    "duration": 4,
    "start_time": "2021-08-01T19:43:33.236Z"
   },
   {
    "duration": 17602,
    "start_time": "2021-08-01T19:43:33.242Z"
   },
   {
    "duration": 222946,
    "start_time": "2021-08-01T19:43:50.846Z"
   },
   {
    "duration": 87249,
    "start_time": "2021-08-01T19:47:33.794Z"
   },
   {
    "duration": 81,
    "start_time": "2021-08-01T19:49:01.045Z"
   }
  ],
  "kernelspec": {
   "display_name": "Python 3",
   "language": "python",
   "name": "python3"
  },
  "language_info": {
   "codemirror_mode": {
    "name": "ipython",
    "version": 3
   },
   "file_extension": ".py",
   "mimetype": "text/x-python",
   "name": "python",
   "nbconvert_exporter": "python",
   "pygments_lexer": "ipython3",
   "version": "3.8.8"
  },
  "toc": {
   "base_numbering": 1,
   "nav_menu": {},
   "number_sections": true,
   "sideBar": true,
   "skip_h1_title": true,
   "title_cell": "Содержание",
   "title_sidebar": "Contents",
   "toc_cell": true,
   "toc_position": {
    "height": "calc(100% - 180px)",
    "left": "10px",
    "top": "150px",
    "width": "302.391px"
   },
   "toc_section_display": true,
   "toc_window_display": true
  }
 },
 "nbformat": 4,
 "nbformat_minor": 2
}