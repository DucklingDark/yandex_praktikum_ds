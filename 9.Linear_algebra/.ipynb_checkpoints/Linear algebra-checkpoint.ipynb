{
 "cells": [
  {
   "cell_type": "markdown",
   "metadata": {
    "toc": true
   },
   "source": [
    "<h1>Содержание<span class=\"tocSkip\"></span></h1>\n",
    "<div class=\"toc\"><ul class=\"toc-item\"><li><span><a href=\"#Загрузка-данных\" data-toc-modified-id=\"Загрузка-данных-1\"><span class=\"toc-item-num\">1&nbsp;&nbsp;</span>Загрузка данных</a></span><ul class=\"toc-item\"><li><span><a href=\"#Осмотр-данных\" data-toc-modified-id=\"Осмотр-данных-1.1\"><span class=\"toc-item-num\">1.1&nbsp;&nbsp;</span>Осмотр данных</a></span></li><li><span><a href=\"#Замена-имён-столбцов\" data-toc-modified-id=\"Замена-имён-столбцов-1.2\"><span class=\"toc-item-num\">1.2&nbsp;&nbsp;</span>Замена имён столбцов</a></span></li><li><span><a href=\"#Смена-типов-данных\" data-toc-modified-id=\"Смена-типов-данных-1.3\"><span class=\"toc-item-num\">1.3&nbsp;&nbsp;</span>Смена типов данных</a></span></li><li><span><a href=\"#Удаление-дубликатов\" data-toc-modified-id=\"Удаление-дубликатов-1.4\"><span class=\"toc-item-num\">1.4&nbsp;&nbsp;</span>Удаление дубликатов</a></span></li><li><span><a href=\"#Распределение-данных\" data-toc-modified-id=\"Распределение-данных-1.5\"><span class=\"toc-item-num\">1.5&nbsp;&nbsp;</span>Распределение данных</a></span><ul class=\"toc-item\"><li><span><a href=\"#Пол\" data-toc-modified-id=\"Пол-1.5.1\"><span class=\"toc-item-num\">1.5.1&nbsp;&nbsp;</span>Пол</a></span></li><li><span><a href=\"#Возраст\" data-toc-modified-id=\"Возраст-1.5.2\"><span class=\"toc-item-num\">1.5.2&nbsp;&nbsp;</span>Возраст</a></span></li><li><span><a href=\"#Зарплата\" data-toc-modified-id=\"Зарплата-1.5.3\"><span class=\"toc-item-num\">1.5.3&nbsp;&nbsp;</span>Зарплата</a></span></li><li><span><a href=\"#Члены-семьи\" data-toc-modified-id=\"Члены-семьи-1.5.4\"><span class=\"toc-item-num\">1.5.4&nbsp;&nbsp;</span>Члены семьи</a></span></li><li><span><a href=\"#Страховые-выплаты\" data-toc-modified-id=\"Страховые-выплаты-1.5.5\"><span class=\"toc-item-num\">1.5.5&nbsp;&nbsp;</span>Страховые выплаты</a></span></li></ul></li><li><span><a href=\"#Вывод\" data-toc-modified-id=\"Вывод-1.6\"><span class=\"toc-item-num\">1.6&nbsp;&nbsp;</span>Вывод</a></span></li></ul></li><li><span><a href=\"#Умножение-матриц\" data-toc-modified-id=\"Умножение-матриц-2\"><span class=\"toc-item-num\">2&nbsp;&nbsp;</span>Умножение матриц</a></span><ul class=\"toc-item\"><li><span><a href=\"#Вывод\" data-toc-modified-id=\"Вывод-2.1\"><span class=\"toc-item-num\">2.1&nbsp;&nbsp;</span>Вывод</a></span></li></ul></li><li><span><a href=\"#Алгоритм-преобразования\" data-toc-modified-id=\"Алгоритм-преобразования-3\"><span class=\"toc-item-num\">3&nbsp;&nbsp;</span>Алгоритм преобразования</a></span></li><li><span><a href=\"#Проверка-алгоритма\" data-toc-modified-id=\"Проверка-алгоритма-4\"><span class=\"toc-item-num\">4&nbsp;&nbsp;</span>Проверка алгоритма</a></span></li></ul></div>"
   ]
  },
  {
   "cell_type": "markdown",
   "metadata": {},
   "source": [
    "# Защита персональных данных клиентов"
   ]
  },
  {
   "cell_type": "markdown",
   "metadata": {},
   "source": [
    "# Входные данные\n",
    "Некая информация о клиентах банка\n",
    "\n",
    "# Задача\n",
    "Необходимо защитить данные, чтобы при преобразовании качество моделей машинного обучения не ухудшилось"
   ]
  },
  {
   "cell_type": "markdown",
   "metadata": {},
   "source": [
    "Подключим необходимые библиотеки:"
   ]
  },
  {
   "cell_type": "code",
   "execution_count": 1,
   "metadata": {
    "ExecuteTime": {
     "end_time": "2021-08-02T13:23:08.018881Z",
     "start_time": "2021-08-02T13:23:06.334675Z"
    }
   },
   "outputs": [],
   "source": [
    "import pandas as pd\n",
    "import numpy as np\n",
    "import matplotlib.pyplot as plt\n",
    "import seaborn as sns\n",
    "from sklearn.linear_model import LinearRegression\n",
    "from sklearn.preprocessing import StandardScaler\n",
    "from sklearn.metrics import mean_squared_error, r2_score"
   ]
  },
  {
   "cell_type": "code",
   "execution_count": 2,
   "metadata": {
    "ExecuteTime": {
     "end_time": "2021-08-02T13:23:08.276653Z",
     "start_time": "2021-08-02T13:23:08.270820Z"
    }
   },
   "outputs": [],
   "source": [
    "sns.set(style=\"darkgrid\")"
   ]
  },
  {
   "cell_type": "markdown",
   "metadata": {},
   "source": [
    "Создадим переменную SEED для использования в качестве random_state параметра"
   ]
  },
  {
   "cell_type": "code",
   "execution_count": 3,
   "metadata": {},
   "outputs": [],
   "source": [
    "SEED = 66"
   ]
  },
  {
   "cell_type": "markdown",
   "metadata": {},
   "source": [
    "## Загрузка данных"
   ]
  },
  {
   "cell_type": "code",
   "execution_count": 4,
   "metadata": {},
   "outputs": [],
   "source": [
    "def read_and_print_info(path, index_col=None):\n",
    "    df = pd.read_csv(path, index_col=index_col)\n",
    "    print('----- Данные -----')\n",
    "    display(df.sample(n=25, random_state=SEED))\n",
    "    print('----- Статистика о данных -----')\n",
    "    display(df.describe().T)\n",
    "    print('----- Типы данных -----')\n",
    "    df.info(memory_usage='deep')\n",
    "    print('----- NaN значения -----')\n",
    "    nans_info = pd.DataFrame()\n",
    "    nans_info['Количество'] = df.isnull().sum()\n",
    "    nans_info['Процент от общего количества'] = (nans_info['Количество'] / df.shape[0] * 100).round(2)\n",
    "    nans_info = nans_info.sort_values(by='Количество', ascending=False)\n",
    "    display(nans_info)\n",
    "    print('----- Дубликаты -----')\n",
    "    print('Дубликатов:', df.duplicated().sum())\n",
    "    return df"
   ]
  },
  {
   "cell_type": "markdown",
   "metadata": {},
   "source": [
    "### Осмотр данных"
   ]
  },
  {
   "cell_type": "code",
   "execution_count": 5,
   "metadata": {
    "scrolled": false
   },
   "outputs": [
    {
     "name": "stdout",
     "output_type": "stream",
     "text": [
      "----- Данные -----\n"
     ]
    },
    {
     "data": {
      "text/html": [
       "<div>\n",
       "<style scoped>\n",
       "    .dataframe tbody tr th:only-of-type {\n",
       "        vertical-align: middle;\n",
       "    }\n",
       "\n",
       "    .dataframe tbody tr th {\n",
       "        vertical-align: top;\n",
       "    }\n",
       "\n",
       "    .dataframe thead th {\n",
       "        text-align: right;\n",
       "    }\n",
       "</style>\n",
       "<table border=\"1\" class=\"dataframe\">\n",
       "  <thead>\n",
       "    <tr style=\"text-align: right;\">\n",
       "      <th></th>\n",
       "      <th>Пол</th>\n",
       "      <th>Возраст</th>\n",
       "      <th>Зарплата</th>\n",
       "      <th>Члены семьи</th>\n",
       "      <th>Страховые выплаты</th>\n",
       "    </tr>\n",
       "  </thead>\n",
       "  <tbody>\n",
       "    <tr>\n",
       "      <td>2907</td>\n",
       "      <td>0</td>\n",
       "      <td>19.0</td>\n",
       "      <td>49000.0</td>\n",
       "      <td>2</td>\n",
       "      <td>0</td>\n",
       "    </tr>\n",
       "    <tr>\n",
       "      <td>823</td>\n",
       "      <td>1</td>\n",
       "      <td>33.0</td>\n",
       "      <td>47900.0</td>\n",
       "      <td>3</td>\n",
       "      <td>0</td>\n",
       "    </tr>\n",
       "    <tr>\n",
       "      <td>613</td>\n",
       "      <td>1</td>\n",
       "      <td>32.0</td>\n",
       "      <td>28200.0</td>\n",
       "      <td>0</td>\n",
       "      <td>0</td>\n",
       "    </tr>\n",
       "    <tr>\n",
       "      <td>3068</td>\n",
       "      <td>1</td>\n",
       "      <td>34.0</td>\n",
       "      <td>35800.0</td>\n",
       "      <td>0</td>\n",
       "      <td>0</td>\n",
       "    </tr>\n",
       "    <tr>\n",
       "      <td>4642</td>\n",
       "      <td>0</td>\n",
       "      <td>27.0</td>\n",
       "      <td>43900.0</td>\n",
       "      <td>0</td>\n",
       "      <td>0</td>\n",
       "    </tr>\n",
       "    <tr>\n",
       "      <td>851</td>\n",
       "      <td>0</td>\n",
       "      <td>19.0</td>\n",
       "      <td>51700.0</td>\n",
       "      <td>0</td>\n",
       "      <td>0</td>\n",
       "    </tr>\n",
       "    <tr>\n",
       "      <td>2774</td>\n",
       "      <td>1</td>\n",
       "      <td>43.0</td>\n",
       "      <td>41700.0</td>\n",
       "      <td>1</td>\n",
       "      <td>1</td>\n",
       "    </tr>\n",
       "    <tr>\n",
       "      <td>2738</td>\n",
       "      <td>0</td>\n",
       "      <td>22.0</td>\n",
       "      <td>39900.0</td>\n",
       "      <td>2</td>\n",
       "      <td>0</td>\n",
       "    </tr>\n",
       "    <tr>\n",
       "      <td>3927</td>\n",
       "      <td>0</td>\n",
       "      <td>41.0</td>\n",
       "      <td>37300.0</td>\n",
       "      <td>2</td>\n",
       "      <td>0</td>\n",
       "    </tr>\n",
       "    <tr>\n",
       "      <td>282</td>\n",
       "      <td>1</td>\n",
       "      <td>21.0</td>\n",
       "      <td>61700.0</td>\n",
       "      <td>0</td>\n",
       "      <td>0</td>\n",
       "    </tr>\n",
       "    <tr>\n",
       "      <td>998</td>\n",
       "      <td>0</td>\n",
       "      <td>41.0</td>\n",
       "      <td>33500.0</td>\n",
       "      <td>1</td>\n",
       "      <td>0</td>\n",
       "    </tr>\n",
       "    <tr>\n",
       "      <td>1561</td>\n",
       "      <td>0</td>\n",
       "      <td>32.0</td>\n",
       "      <td>52700.0</td>\n",
       "      <td>0</td>\n",
       "      <td>0</td>\n",
       "    </tr>\n",
       "    <tr>\n",
       "      <td>3593</td>\n",
       "      <td>0</td>\n",
       "      <td>33.0</td>\n",
       "      <td>38000.0</td>\n",
       "      <td>0</td>\n",
       "      <td>0</td>\n",
       "    </tr>\n",
       "    <tr>\n",
       "      <td>1176</td>\n",
       "      <td>1</td>\n",
       "      <td>27.0</td>\n",
       "      <td>46100.0</td>\n",
       "      <td>1</td>\n",
       "      <td>0</td>\n",
       "    </tr>\n",
       "    <tr>\n",
       "      <td>4789</td>\n",
       "      <td>1</td>\n",
       "      <td>24.0</td>\n",
       "      <td>27400.0</td>\n",
       "      <td>1</td>\n",
       "      <td>0</td>\n",
       "    </tr>\n",
       "    <tr>\n",
       "      <td>223</td>\n",
       "      <td>1</td>\n",
       "      <td>34.0</td>\n",
       "      <td>37500.0</td>\n",
       "      <td>1</td>\n",
       "      <td>0</td>\n",
       "    </tr>\n",
       "    <tr>\n",
       "      <td>1164</td>\n",
       "      <td>1</td>\n",
       "      <td>36.0</td>\n",
       "      <td>33300.0</td>\n",
       "      <td>2</td>\n",
       "      <td>0</td>\n",
       "    </tr>\n",
       "    <tr>\n",
       "      <td>2816</td>\n",
       "      <td>1</td>\n",
       "      <td>21.0</td>\n",
       "      <td>29000.0</td>\n",
       "      <td>0</td>\n",
       "      <td>0</td>\n",
       "    </tr>\n",
       "    <tr>\n",
       "      <td>3030</td>\n",
       "      <td>0</td>\n",
       "      <td>21.0</td>\n",
       "      <td>39000.0</td>\n",
       "      <td>5</td>\n",
       "      <td>0</td>\n",
       "    </tr>\n",
       "    <tr>\n",
       "      <td>589</td>\n",
       "      <td>1</td>\n",
       "      <td>28.0</td>\n",
       "      <td>32800.0</td>\n",
       "      <td>2</td>\n",
       "      <td>0</td>\n",
       "    </tr>\n",
       "    <tr>\n",
       "      <td>4887</td>\n",
       "      <td>1</td>\n",
       "      <td>26.0</td>\n",
       "      <td>51000.0</td>\n",
       "      <td>0</td>\n",
       "      <td>0</td>\n",
       "    </tr>\n",
       "    <tr>\n",
       "      <td>408</td>\n",
       "      <td>0</td>\n",
       "      <td>18.0</td>\n",
       "      <td>36900.0</td>\n",
       "      <td>0</td>\n",
       "      <td>0</td>\n",
       "    </tr>\n",
       "    <tr>\n",
       "      <td>1932</td>\n",
       "      <td>1</td>\n",
       "      <td>50.0</td>\n",
       "      <td>43000.0</td>\n",
       "      <td>2</td>\n",
       "      <td>2</td>\n",
       "    </tr>\n",
       "    <tr>\n",
       "      <td>4058</td>\n",
       "      <td>0</td>\n",
       "      <td>42.0</td>\n",
       "      <td>36500.0</td>\n",
       "      <td>1</td>\n",
       "      <td>1</td>\n",
       "    </tr>\n",
       "    <tr>\n",
       "      <td>1452</td>\n",
       "      <td>1</td>\n",
       "      <td>27.0</td>\n",
       "      <td>31900.0</td>\n",
       "      <td>2</td>\n",
       "      <td>0</td>\n",
       "    </tr>\n",
       "  </tbody>\n",
       "</table>\n",
       "</div>"
      ],
      "text/plain": [
       "      Пол  Возраст  Зарплата  Члены семьи  Страховые выплаты\n",
       "2907    0     19.0   49000.0            2                  0\n",
       "823     1     33.0   47900.0            3                  0\n",
       "613     1     32.0   28200.0            0                  0\n",
       "3068    1     34.0   35800.0            0                  0\n",
       "4642    0     27.0   43900.0            0                  0\n",
       "851     0     19.0   51700.0            0                  0\n",
       "2774    1     43.0   41700.0            1                  1\n",
       "2738    0     22.0   39900.0            2                  0\n",
       "3927    0     41.0   37300.0            2                  0\n",
       "282     1     21.0   61700.0            0                  0\n",
       "998     0     41.0   33500.0            1                  0\n",
       "1561    0     32.0   52700.0            0                  0\n",
       "3593    0     33.0   38000.0            0                  0\n",
       "1176    1     27.0   46100.0            1                  0\n",
       "4789    1     24.0   27400.0            1                  0\n",
       "223     1     34.0   37500.0            1                  0\n",
       "1164    1     36.0   33300.0            2                  0\n",
       "2816    1     21.0   29000.0            0                  0\n",
       "3030    0     21.0   39000.0            5                  0\n",
       "589     1     28.0   32800.0            2                  0\n",
       "4887    1     26.0   51000.0            0                  0\n",
       "408     0     18.0   36900.0            0                  0\n",
       "1932    1     50.0   43000.0            2                  2\n",
       "4058    0     42.0   36500.0            1                  1\n",
       "1452    1     27.0   31900.0            2                  0"
      ]
     },
     "metadata": {},
     "output_type": "display_data"
    },
    {
     "name": "stdout",
     "output_type": "stream",
     "text": [
      "----- Статистика о данных -----\n"
     ]
    },
    {
     "data": {
      "text/html": [
       "<div>\n",
       "<style scoped>\n",
       "    .dataframe tbody tr th:only-of-type {\n",
       "        vertical-align: middle;\n",
       "    }\n",
       "\n",
       "    .dataframe tbody tr th {\n",
       "        vertical-align: top;\n",
       "    }\n",
       "\n",
       "    .dataframe thead th {\n",
       "        text-align: right;\n",
       "    }\n",
       "</style>\n",
       "<table border=\"1\" class=\"dataframe\">\n",
       "  <thead>\n",
       "    <tr style=\"text-align: right;\">\n",
       "      <th></th>\n",
       "      <th>count</th>\n",
       "      <th>mean</th>\n",
       "      <th>std</th>\n",
       "      <th>min</th>\n",
       "      <th>25%</th>\n",
       "      <th>50%</th>\n",
       "      <th>75%</th>\n",
       "      <th>max</th>\n",
       "    </tr>\n",
       "  </thead>\n",
       "  <tbody>\n",
       "    <tr>\n",
       "      <td>Пол</td>\n",
       "      <td>5000.0</td>\n",
       "      <td>0.4990</td>\n",
       "      <td>0.500049</td>\n",
       "      <td>0.0</td>\n",
       "      <td>0.0</td>\n",
       "      <td>0.0</td>\n",
       "      <td>1.0</td>\n",
       "      <td>1.0</td>\n",
       "    </tr>\n",
       "    <tr>\n",
       "      <td>Возраст</td>\n",
       "      <td>5000.0</td>\n",
       "      <td>30.9528</td>\n",
       "      <td>8.440807</td>\n",
       "      <td>18.0</td>\n",
       "      <td>24.0</td>\n",
       "      <td>30.0</td>\n",
       "      <td>37.0</td>\n",
       "      <td>65.0</td>\n",
       "    </tr>\n",
       "    <tr>\n",
       "      <td>Зарплата</td>\n",
       "      <td>5000.0</td>\n",
       "      <td>39916.3600</td>\n",
       "      <td>9900.083569</td>\n",
       "      <td>5300.0</td>\n",
       "      <td>33300.0</td>\n",
       "      <td>40200.0</td>\n",
       "      <td>46600.0</td>\n",
       "      <td>79000.0</td>\n",
       "    </tr>\n",
       "    <tr>\n",
       "      <td>Члены семьи</td>\n",
       "      <td>5000.0</td>\n",
       "      <td>1.1942</td>\n",
       "      <td>1.091387</td>\n",
       "      <td>0.0</td>\n",
       "      <td>0.0</td>\n",
       "      <td>1.0</td>\n",
       "      <td>2.0</td>\n",
       "      <td>6.0</td>\n",
       "    </tr>\n",
       "    <tr>\n",
       "      <td>Страховые выплаты</td>\n",
       "      <td>5000.0</td>\n",
       "      <td>0.1480</td>\n",
       "      <td>0.463183</td>\n",
       "      <td>0.0</td>\n",
       "      <td>0.0</td>\n",
       "      <td>0.0</td>\n",
       "      <td>0.0</td>\n",
       "      <td>5.0</td>\n",
       "    </tr>\n",
       "  </tbody>\n",
       "</table>\n",
       "</div>"
      ],
      "text/plain": [
       "                    count        mean          std     min      25%      50%  \\\n",
       "Пол                5000.0      0.4990     0.500049     0.0      0.0      0.0   \n",
       "Возраст            5000.0     30.9528     8.440807    18.0     24.0     30.0   \n",
       "Зарплата           5000.0  39916.3600  9900.083569  5300.0  33300.0  40200.0   \n",
       "Члены семьи        5000.0      1.1942     1.091387     0.0      0.0      1.0   \n",
       "Страховые выплаты  5000.0      0.1480     0.463183     0.0      0.0      0.0   \n",
       "\n",
       "                       75%      max  \n",
       "Пол                    1.0      1.0  \n",
       "Возраст               37.0     65.0  \n",
       "Зарплата           46600.0  79000.0  \n",
       "Члены семьи            2.0      6.0  \n",
       "Страховые выплаты      0.0      5.0  "
      ]
     },
     "metadata": {},
     "output_type": "display_data"
    },
    {
     "name": "stdout",
     "output_type": "stream",
     "text": [
      "----- Типы данных -----\n",
      "<class 'pandas.core.frame.DataFrame'>\n",
      "RangeIndex: 5000 entries, 0 to 4999\n",
      "Data columns (total 5 columns):\n",
      "Пол                  5000 non-null int64\n",
      "Возраст              5000 non-null float64\n",
      "Зарплата             5000 non-null float64\n",
      "Члены семьи          5000 non-null int64\n",
      "Страховые выплаты    5000 non-null int64\n",
      "dtypes: float64(2), int64(3)\n",
      "memory usage: 195.4 KB\n",
      "----- NaN значения -----\n"
     ]
    },
    {
     "data": {
      "text/html": [
       "<div>\n",
       "<style scoped>\n",
       "    .dataframe tbody tr th:only-of-type {\n",
       "        vertical-align: middle;\n",
       "    }\n",
       "\n",
       "    .dataframe tbody tr th {\n",
       "        vertical-align: top;\n",
       "    }\n",
       "\n",
       "    .dataframe thead th {\n",
       "        text-align: right;\n",
       "    }\n",
       "</style>\n",
       "<table border=\"1\" class=\"dataframe\">\n",
       "  <thead>\n",
       "    <tr style=\"text-align: right;\">\n",
       "      <th></th>\n",
       "      <th>Количество</th>\n",
       "      <th>Процент от общего количества</th>\n",
       "    </tr>\n",
       "  </thead>\n",
       "  <tbody>\n",
       "    <tr>\n",
       "      <td>Пол</td>\n",
       "      <td>0</td>\n",
       "      <td>0.0</td>\n",
       "    </tr>\n",
       "    <tr>\n",
       "      <td>Возраст</td>\n",
       "      <td>0</td>\n",
       "      <td>0.0</td>\n",
       "    </tr>\n",
       "    <tr>\n",
       "      <td>Зарплата</td>\n",
       "      <td>0</td>\n",
       "      <td>0.0</td>\n",
       "    </tr>\n",
       "    <tr>\n",
       "      <td>Члены семьи</td>\n",
       "      <td>0</td>\n",
       "      <td>0.0</td>\n",
       "    </tr>\n",
       "    <tr>\n",
       "      <td>Страховые выплаты</td>\n",
       "      <td>0</td>\n",
       "      <td>0.0</td>\n",
       "    </tr>\n",
       "  </tbody>\n",
       "</table>\n",
       "</div>"
      ],
      "text/plain": [
       "                   Количество  Процент от общего количества\n",
       "Пол                         0                           0.0\n",
       "Возраст                     0                           0.0\n",
       "Зарплата                    0                           0.0\n",
       "Члены семьи                 0                           0.0\n",
       "Страховые выплаты           0                           0.0"
      ]
     },
     "metadata": {},
     "output_type": "display_data"
    },
    {
     "name": "stdout",
     "output_type": "stream",
     "text": [
      "----- Дубликаты -----\n",
      "Дубликатов: 153\n"
     ]
    }
   ],
   "source": [
    "df = read_and_print_info('~/Documents/datasets/insurance.csv')"
   ]
  },
  {
   "cell_type": "markdown",
   "metadata": {},
   "source": [
    "При первичном осмотре видно следующее:\n",
    "- данные выглядят нормально\n",
    "- аномалий не обнаружено\n",
    "- названия столбцов следует перевести на английский язык\n",
    "- некоторые типы данных не соответствуют значениям\n",
    "- пропусков в данных не обнаружено\n",
    "- в данных есть дубликаты"
   ]
  },
  {
   "cell_type": "markdown",
   "metadata": {},
   "source": [
    "### Замена имён столбцов"
   ]
  },
  {
   "cell_type": "markdown",
   "metadata": {},
   "source": [
    "Сменим имена столбцов в датафрейме на англоязычные названия с маленькой буквы"
   ]
  },
  {
   "cell_type": "code",
   "execution_count": 6,
   "metadata": {},
   "outputs": [
    {
     "data": {
      "text/plain": [
       "Index(['gender', 'age', 'salary', 'family_members', 'insurance_payments'], dtype='object')"
      ]
     },
     "execution_count": 6,
     "metadata": {},
     "output_type": "execute_result"
    }
   ],
   "source": [
    "df.set_axis(['gender', 'age', 'salary', 'family_members', 'insurance_payments'], \n",
    "            axis='columns' ,inplace=True)\n",
    "df.columns"
   ]
  },
  {
   "cell_type": "markdown",
   "metadata": {},
   "source": [
    "### Смена типов данных"
   ]
  },
  {
   "cell_type": "markdown",
   "metadata": {},
   "source": [
    "Возраст и зарплата представлены в датасете типом **float**. Заменим столбец с возрастом на **uint8**, а зарплату на **uint32**<br>\n",
    "Также заменим типы у остальных данных на более подходящие для экономии памяти"
   ]
  },
  {
   "cell_type": "code",
   "execution_count": 7,
   "metadata": {},
   "outputs": [
    {
     "data": {
      "text/html": [
       "<div>\n",
       "<style scoped>\n",
       "    .dataframe tbody tr th:only-of-type {\n",
       "        vertical-align: middle;\n",
       "    }\n",
       "\n",
       "    .dataframe tbody tr th {\n",
       "        vertical-align: top;\n",
       "    }\n",
       "\n",
       "    .dataframe thead th {\n",
       "        text-align: right;\n",
       "    }\n",
       "</style>\n",
       "<table border=\"1\" class=\"dataframe\">\n",
       "  <thead>\n",
       "    <tr style=\"text-align: right;\">\n",
       "      <th></th>\n",
       "      <th>count</th>\n",
       "      <th>mean</th>\n",
       "      <th>std</th>\n",
       "      <th>min</th>\n",
       "      <th>25%</th>\n",
       "      <th>50%</th>\n",
       "      <th>75%</th>\n",
       "      <th>max</th>\n",
       "    </tr>\n",
       "  </thead>\n",
       "  <tbody>\n",
       "    <tr>\n",
       "      <td>gender</td>\n",
       "      <td>5000.0</td>\n",
       "      <td>0.4990</td>\n",
       "      <td>0.500049</td>\n",
       "      <td>0.0</td>\n",
       "      <td>0.0</td>\n",
       "      <td>0.0</td>\n",
       "      <td>1.0</td>\n",
       "      <td>1.0</td>\n",
       "    </tr>\n",
       "    <tr>\n",
       "      <td>age</td>\n",
       "      <td>5000.0</td>\n",
       "      <td>30.9528</td>\n",
       "      <td>8.440807</td>\n",
       "      <td>18.0</td>\n",
       "      <td>24.0</td>\n",
       "      <td>30.0</td>\n",
       "      <td>37.0</td>\n",
       "      <td>65.0</td>\n",
       "    </tr>\n",
       "    <tr>\n",
       "      <td>salary</td>\n",
       "      <td>5000.0</td>\n",
       "      <td>39916.3594</td>\n",
       "      <td>9900.082063</td>\n",
       "      <td>5300.0</td>\n",
       "      <td>33300.0</td>\n",
       "      <td>40200.0</td>\n",
       "      <td>46600.0</td>\n",
       "      <td>79000.0</td>\n",
       "    </tr>\n",
       "    <tr>\n",
       "      <td>family_members</td>\n",
       "      <td>5000.0</td>\n",
       "      <td>1.1942</td>\n",
       "      <td>1.091387</td>\n",
       "      <td>0.0</td>\n",
       "      <td>0.0</td>\n",
       "      <td>1.0</td>\n",
       "      <td>2.0</td>\n",
       "      <td>6.0</td>\n",
       "    </tr>\n",
       "    <tr>\n",
       "      <td>insurance_payments</td>\n",
       "      <td>5000.0</td>\n",
       "      <td>0.1480</td>\n",
       "      <td>0.463183</td>\n",
       "      <td>0.0</td>\n",
       "      <td>0.0</td>\n",
       "      <td>0.0</td>\n",
       "      <td>0.0</td>\n",
       "      <td>5.0</td>\n",
       "    </tr>\n",
       "  </tbody>\n",
       "</table>\n",
       "</div>"
      ],
      "text/plain": [
       "                     count        mean          std     min      25%      50%  \\\n",
       "gender              5000.0      0.4990     0.500049     0.0      0.0      0.0   \n",
       "age                 5000.0     30.9528     8.440807    18.0     24.0     30.0   \n",
       "salary              5000.0  39916.3594  9900.082063  5300.0  33300.0  40200.0   \n",
       "family_members      5000.0      1.1942     1.091387     0.0      0.0      1.0   \n",
       "insurance_payments  5000.0      0.1480     0.463183     0.0      0.0      0.0   \n",
       "\n",
       "                        75%      max  \n",
       "gender                  1.0      1.0  \n",
       "age                    37.0     65.0  \n",
       "salary              46600.0  79000.0  \n",
       "family_members          2.0      6.0  \n",
       "insurance_payments      0.0      5.0  "
      ]
     },
     "metadata": {},
     "output_type": "display_data"
    },
    {
     "name": "stdout",
     "output_type": "stream",
     "text": [
      "<class 'pandas.core.frame.DataFrame'>\n",
      "RangeIndex: 5000 entries, 0 to 4999\n",
      "Data columns (total 5 columns):\n",
      "gender                5000 non-null uint8\n",
      "age                   5000 non-null uint8\n",
      "salary                5000 non-null uint32\n",
      "family_members        5000 non-null uint8\n",
      "insurance_payments    5000 non-null uint8\n",
      "dtypes: uint32(1), uint8(4)\n",
      "memory usage: 39.2 KB\n"
     ]
    }
   ],
   "source": [
    "df['gender'] = df['gender'].astype(np.uint8)\n",
    "df['age'] = df['age'].astype(np.uint8)\n",
    "df['salary'] = df['salary'].astype(np.uint32)\n",
    "df['family_members'] = df['family_members'].astype(np.uint8)\n",
    "df['insurance_payments'] = df['insurance_payments'].astype(np.uint8)\n",
    "display(df.describe().T)\n",
    "df.info()"
   ]
  },
  {
   "cell_type": "markdown",
   "metadata": {},
   "source": [
    "Типы данных приведены к подходящим. Изначальный объём данных 195Кб, а после смены типов данных - 39.2Кб. Размер данных уменьшен на 155.8Кб или 397%, разница почти в 4 раза. В случае, если данных будет больше - это позволит сэкономить значительное количество памяти"
   ]
  },
  {
   "cell_type": "markdown",
   "metadata": {},
   "source": [
    "### Удаление дубликатов"
   ]
  },
  {
   "cell_type": "markdown",
   "metadata": {},
   "source": [
    "При осмотре данных были обнаружены дубликаты<br>\n",
    "Удалим их"
   ]
  },
  {
   "cell_type": "code",
   "execution_count": 8,
   "metadata": {},
   "outputs": [
    {
     "name": "stdout",
     "output_type": "stream",
     "text": [
      "Дубликатов: 0\n",
      "4847\n"
     ]
    }
   ],
   "source": [
    "df.drop_duplicates(inplace=True)\n",
    "print('Дубликатов:', df.duplicated().sum())\n",
    "print(df.shape[0])"
   ]
  },
  {
   "cell_type": "markdown",
   "metadata": {},
   "source": [
    "От дубликатов мы избавились"
   ]
  },
  {
   "cell_type": "markdown",
   "metadata": {},
   "source": [
    "### Распределение данных"
   ]
  },
  {
   "cell_type": "markdown",
   "metadata": {},
   "source": [
    "Добавим функции отрисовки гистограммы и диаграммы размаха"
   ]
  },
  {
   "cell_type": "code",
   "execution_count": 9,
   "metadata": {},
   "outputs": [],
   "source": [
    "def draw_boxplot(df, column, title,\n",
    "                 figsize=(15,3), color='red',\n",
    "                 xlabel='', xlim=None):\n",
    "    plt.figure(figsize=figsize)\n",
    "    \n",
    "    ax = sns.boxplot(\n",
    "        x=df[column],\n",
    "        color=color\n",
    "    )\n",
    "    \n",
    "    if (xlim != None):\n",
    "        plt.xlim(xlim)\n",
    "    \n",
    "    ax.set(\n",
    "        xlabel=xlabel,\n",
    "        title=title\n",
    "    )"
   ]
  },
  {
   "cell_type": "code",
   "execution_count": 1,
   "metadata": {},
   "outputs": [],
   "source": [
    "def draw_histogram(df, column, title, \n",
    "                   figsize=(14,5), color='red',\n",
    "                   xlabel='', ylabel='', bins=None, xticks=0,\n",
    "                   xlim=None, ylim=None):\n",
    "    plt.figure(figsize=figsize)\n",
    "    \n",
    "    ax = sns.distplot(\n",
    "        df[column],\n",
    "        color=color,\n",
    "        kde=False,\n",
    "        bins=bins\n",
    "    )\n",
    "    \n",
    "    if (xlim != None):\n",
    "        plt.xlim(xlim)\n",
    "    if (ylim != None):\n",
    "        plt.ylim(ylim)\n",
    "    \n",
    "    ax.set(\n",
    "        xlabel=xlabel,\n",
    "        ylabel=ylabel,\n",
    "        title=title\n",
    "    )\n",
    "    \n",
    "    if xticks != 0:\n",
    "        ax.set(xticks=xticks)"
   ]
  },
  {
   "cell_type": "markdown",
   "metadata": {},
   "source": [
    "#### Пол"
   ]
  },
  {
   "cell_type": "code",
   "execution_count": 11,
   "metadata": {},
   "outputs": [
    {
     "data": {
      "image/png": "[encoded data removed]",
      "text/plain": [
       "<Figure size 1008x360 with 1 Axes>"
      ]
     },
     "metadata": {},
     "output_type": "display_data"
    },
    {
     "data": {
      "image/png": "[encoded data removed]",
      "text/plain": [
       "<Figure size 1080x216 with 1 Axes>"
      ]
     },
     "metadata": {},
     "output_type": "display_data"
    }
   ],
   "source": [
    "draw_histogram(df, 'gender', 'Распределение по параметру \"Пол\"')\n",
    "draw_boxplot(df, 'gender', 'Диаграмма размаха по параметру \"Пол\"')"
   ]
  },
  {
   "cell_type": "markdown",
   "metadata": {},
   "source": [
    "Данные по полу равномерно распределены"
   ]
  },
  {
   "cell_type": "markdown",
   "metadata": {},
   "source": [
    "#### Возраст"
   ]
  },
  {
   "cell_type": "code",
   "execution_count": 12,
   "metadata": {},
   "outputs": [
    {
     "data": {
      "image/png": "[encoded data removed]",
      "text/plain": [
       "<Figure size 1008x360 with 1 Axes>"
      ]
     },
     "metadata": {},
     "output_type": "display_data"
    },
    {
     "data": {
      "image/png": "[encoded data removed]",
      "text/plain": [
       "<Figure size 1080x216 with 1 Axes>"
      ]
     },
     "metadata": {},
     "output_type": "display_data"
    }
   ],
   "source": [
    "draw_histogram(df, 'age', 'Распределение по параметру \"Возраст\"', bins=48)\n",
    "draw_boxplot(df, 'age', 'Диаграмма размаха по параметру \"Возраст\"')"
   ]
  },
  {
   "cell_type": "markdown",
   "metadata": {},
   "source": [
    "Распределение по возрасту выглядит вполне закономерно: большая часть клиентов в возрасте 20-35 лет. Также есть небольшое количество данных, которое можно было бы классифицировать, как выбросы, но нам важны все данные, в том числе о клиентах возраст которых больше 50 лет"
   ]
  },
  {
   "cell_type": "markdown",
   "metadata": {},
   "source": [
    "#### Зарплата"
   ]
  },
  {
   "cell_type": "code",
   "execution_count": 13,
   "metadata": {},
   "outputs": [
    {
     "data": {
      "image/png": "[encoded data removed]",
      "text/plain": [
       "<Figure size 1008x360 with 1 Axes>"
      ]
     },
     "metadata": {},
     "output_type": "display_data"
    },
    {
     "data": {
      "image/png": "[encoded data removed]",
      "text/plain": [
       "<Figure size 1080x216 with 1 Axes>"
      ]
     },
     "metadata": {},
     "output_type": "display_data"
    }
   ],
   "source": [
    "draw_histogram(df, 'salary', 'Распределение по параметру \"Зарплата\"')\n",
    "draw_boxplot(df, 'salary', 'Диаграмма размаха по параметру \"Зарплата\"')"
   ]
  },
  {
   "cell_type": "markdown",
   "metadata": {},
   "source": [
    "Данные распределены нормально. Избавляться от выбросов не будем, обучим модель на полных данных"
   ]
  },
  {
   "cell_type": "markdown",
   "metadata": {},
   "source": [
    "#### Члены семьи"
   ]
  },
  {
   "cell_type": "code",
   "execution_count": 14,
   "metadata": {},
   "outputs": [
    {
     "data": {
      "image/png": "[encoded data removed]",
      "text/plain": [
       "<Figure size 1008x360 with 1 Axes>"
      ]
     },
     "metadata": {},
     "output_type": "display_data"
    },
    {
     "data": {
      "image/png": "[encoded data removed]",
      "text/plain": [
       "<Figure size 1080x216 with 1 Axes>"
      ]
     },
     "metadata": {},
     "output_type": "display_data"
    }
   ],
   "source": [
    "draw_histogram(df, 'family_members', 'Распределение по параметру \"Члены семьи\"')\n",
    "draw_boxplot(df, 'family_members', 'Диаграмма размаха по параметру \"Члены семьи\"')"
   ]
  },
  {
   "cell_type": "markdown",
   "metadata": {},
   "source": [
    "Судя по распределению значений, поле скорее отображает количество детей, а не членов семьи. В таком случае, распределение данных выглядит правдоподобным: у большинства клиентов по 1 ребёнку, дальше идут клиенты без детей, дальше с двумя и т.д.<br>\n",
    "Выбивающиеся данные оставим, хоть их и мало, но для обучения модели они важны<br>\n",
    "Переименуем столбец, назовём его количеством детей"
   ]
  },
  {
   "cell_type": "code",
   "execution_count": 15,
   "metadata": {},
   "outputs": [
    {
     "data": {
      "text/plain": [
       "Index(['gender', 'age', 'salary', 'children', 'insurance_payments'], dtype='object')"
      ]
     },
     "execution_count": 15,
     "metadata": {},
     "output_type": "execute_result"
    }
   ],
   "source": [
    "df.rename(columns={'family_members': 'children'}, inplace=True)\n",
    "df.columns"
   ]
  },
  {
   "cell_type": "markdown",
   "metadata": {},
   "source": [
    "#### Страховые выплаты"
   ]
  },
  {
   "cell_type": "code",
   "execution_count": 16,
   "metadata": {},
   "outputs": [
    {
     "data": {
      "image/png": "[encoded data removed]",
      "text/plain": [
       "<Figure size 1008x360 with 1 Axes>"
      ]
     },
     "metadata": {},
     "output_type": "display_data"
    },
    {
     "data": {
      "image/png": "[encoded data removed]",
      "text/plain": [
       "<Figure size 1080x216 with 1 Axes>"
      ]
     },
     "metadata": {},
     "output_type": "display_data"
    }
   ],
   "source": [
    "draw_histogram(df, 'insurance_payments', 'Распределение по параметру \"Страховые выплаты\"')\n",
    "draw_boxplot(df, 'insurance_payments', 'Диаграмма размаха по параметру \"Страховые выплаты\"')"
   ]
  },
  {
   "cell_type": "markdown",
   "metadata": {},
   "source": [
    "С этим параметром также оставим всё в исходном состоянии"
   ]
  },
  {
   "cell_type": "markdown",
   "metadata": {},
   "source": [
    "### Вывод"
   ]
  },
  {
   "cell_type": "markdown",
   "metadata": {},
   "source": [
    "Мы провели загрузку, первичный осмотр и подготовку данных:\n",
    "- аномалий не обнаружено\n",
    "- пропусков в данных не обнаружено\n",
    "- названия столбцов были приведены к принятому формату\n",
    "- типы данных были изменены на более подходящие к данным, что позволило сократить размер данных почти в 4 раза\n",
    "- в данных были удалены дубликаты"
   ]
  },
  {
   "cell_type": "markdown",
   "metadata": {},
   "source": [
    "## Умножение матриц"
   ]
  },
  {
   "cell_type": "markdown",
   "metadata": {},
   "source": [
    "В этом задании вы можете записывать формулы в *Jupyter Notebook.*\n",
    "\n",
    "Чтобы записать формулу внутри текста, окружите её символами доллара \\\\$; если снаружи —  двойными символами \\\\$\\\\$. Эти формулы записываются на языке вёрстки *LaTeX.* \n",
    "\n",
    "Для примера мы записали формулы линейной регрессии. Можете их скопировать и отредактировать, чтобы решить задачу.\n",
    "\n",
    "Работать в *LaTeX* необязательно."
   ]
  },
  {
   "cell_type": "markdown",
   "metadata": {},
   "source": [
    "Обозначения:\n",
    "\n",
    "- $X$ — матрица признаков (нулевой столбец состоит из единиц)\n",
    "\n",
    "- $y$ — вектор целевого признака\n",
    "\n",
    "- $P$ — матрица, на которую умножаются признаки\n",
    "\n",
    "- $w$ — вектор весов линейной регрессии (нулевой элемент равен сдвигу)"
   ]
  },
  {
   "cell_type": "markdown",
   "metadata": {},
   "source": [
    "Предсказания:\n",
    "\n",
    "$$\n",
    "a = Xw\n",
    "$$\n",
    "\n",
    "Задача обучения:\n",
    "\n",
    "$$\n",
    "w = \\arg\\min_w MSE(Xw, y)\n",
    "$$\n",
    "\n",
    "Формула обучения:\n",
    "\n",
    "$$\n",
    "w = (X^T X)^{-1} X^T y\n",
    "$$"
   ]
  },
  {
   "cell_type": "markdown",
   "metadata": {},
   "source": [
    "Проверим следующее: ***Признаки умножают на обратимую матрицу. Изменится ли качество линейной регрессии? (Её можно обучить заново.)***<br>\n",
    "Иными словами, если матрицу $X$ умножим на обратимую матрицу $P$, то при вычислении весов линейной регрессии $w$ предсказания $a=Xw$ не изменятся"
   ]
  },
  {
   "cell_type": "markdown",
   "metadata": {},
   "source": [
    "**Ответ:** Считаем, что предсказания не изменятся\n",
    "\n",
    "**Обоснование:** <br>\n",
    "Для начала, подставим в формулу расчёта весов $ w = (X^T X)^{-1} X^T y $ вместо матрицы $ X $ произведение матрицы $ X $ на обратимую матрицу $ P $:\n",
    "\n",
    "$$ w_n = ((X P)^T X P)^{-1} (X P)^T y $$\n",
    "\n",
    "1. Раскрываем первые скобки $ (X P)^T $ по свойству $ (AB)^T = B^T A^T $\n",
    "\n",
    "$$ w_n = (P^T X^T X P)^{-1} P^T X^T y $$\n",
    "\n",
    "2. Сгруппируем $ X^TX $ вместе и раскроем скобки\n",
    "\n",
    "$$ w_n = (P^T(X^T X)P)^{-1} (X P)^T y $$\n",
    "$$ w_n = (P^T)^{-1}(X^T X)^{-1} P^{-1}P^T X^T y $$\n",
    "\n",
    "3. По условию, P - обратимая матрица. Следовательно, $ (P^T)^{-1} P^T $ даёт единичную матрицу $ E $\n",
    "\n",
    "$$ w_n = P^{-1} (X^T X)^{-1} ((P^T)^{-1} P^T) X^T y $$\n",
    "$$ w_n = P^{-1} (X^T X)^{-1} E X^T y $$\n",
    "$$ w_n = P^{-1} (X^T X)^{-1} X^T y $$\n",
    "\n",
    "4. Часть формулы выглядит как формула обучения модели $w = (X^T X)^{-1} X^T y$, заменим\n",
    "\n",
    "$$ w_n = P^{-1} w $$\n",
    "\n",
    "5. Подставим новую формулу $w_n$ и матрицу $X P$ в формулу предсказаний\n",
    "\n",
    "$$ a_n = X P w_n $$\n",
    "$$ a_n = X P P^{-1} w $$\n",
    "\n",
    "6. Снова преобразуем умножение матрицы на обратную ей матрицу и заменим это произведение на единичную матрицу\n",
    "\n",
    "$$ a_n = X E w $$\n",
    "$$ a_n = X w $$\n",
    "$$ a_n = a $$\n",
    "\n",
    "Таким образом, мы видим, что при умножении матрицы признаков $ X $ на некую обратимую матрицу $ P $, предсказания модели останутся такими же, как при исходной матрице $ X $<br>"
   ]
  },
  {
   "cell_type": "markdown",
   "metadata": {},
   "source": [
    "### Вывод\n",
    "\n",
    "Мы доказали, что при умножении матрицы признаков на обратимую матрицу, предсказания модели не изменятся, но изменится вектор весов для новых признаков. Так как признаки и вектор весов будут новыми, потребуется переобучить модель"
   ]
  },
  {
   "cell_type": "markdown",
   "metadata": {},
   "source": [
    "## Алгоритм преобразования"
   ]
  },
  {
   "cell_type": "markdown",
   "metadata": {},
   "source": [
    "**Алгоритм**\n",
    "\n",
    "Напишем полученный алгоритм и рассчитаем векторы предсказаний вручную\n",
    "\n",
    "1. Создадим обратимую матрицу"
   ]
  },
  {
   "cell_type": "code",
   "execution_count": 17,
   "metadata": {},
   "outputs": [],
   "source": [
    "def get_P_matrix(max_num, size=None):\n",
    "    p_matrix = np.random.randint(max_num, size=size)\n",
    "    print('Обратимая матрица P')\n",
    "    display(p_matrix)\n",
    "    inverted_p_matrix = np.linalg.inv(p_matrix)\n",
    "    print('Матрица, обратная матрице P')\n",
    "    display(inverted_p_matrix)\n",
    "    return p_matrix"
   ]
  },
  {
   "cell_type": "markdown",
   "metadata": {},
   "source": [
    "Создадим квадратную матрицу размером 4x4 (так как количество признаков будет 4)"
   ]
  },
  {
   "cell_type": "code",
   "execution_count": 18,
   "metadata": {},
   "outputs": [
    {
     "name": "stdout",
     "output_type": "stream",
     "text": [
      "Обратимая матрица P\n"
     ]
    },
    {
     "data": {
      "text/plain": [
       "array([[ 2, 60,  8, 99],\n",
       "       [56, 50, 26, 32],\n",
       "       [ 4, 86, 17,  3],\n",
       "       [89,  3, 70, 99]])"
      ]
     },
     "metadata": {},
     "output_type": "display_data"
    },
    {
     "name": "stdout",
     "output_type": "stream",
     "text": [
      "Матрица, обратная матрице P\n"
     ]
    },
    {
     "data": {
      "text/plain": [
       "array([[-0.00217463,  0.03053864, -0.01598626, -0.00721202],\n",
       "       [ 0.00198228,  0.00600275,  0.00689907, -0.00413163],\n",
       "       [-0.01125512, -0.03733395,  0.02877503,  0.02245069],\n",
       "       [ 0.00985306, -0.00123809, -0.00618356,  0.00083552]])"
      ]
     },
     "metadata": {},
     "output_type": "display_data"
    }
   ],
   "source": [
    "p_matrix = get_P_matrix(100, size=(4,4))"
   ]
  },
  {
   "cell_type": "markdown",
   "metadata": {},
   "source": [
    "2. Теперь выделим из данных признаки и целевой признак"
   ]
  },
  {
   "cell_type": "code",
   "execution_count": 19,
   "metadata": {},
   "outputs": [],
   "source": [
    "X = df.drop('insurance_payments', axis=1)\n",
    "y = df['insurance_payments']"
   ]
  },
  {
   "cell_type": "markdown",
   "metadata": {},
   "source": [
    "3. Применим масштабирование"
   ]
  },
  {
   "cell_type": "code",
   "execution_count": 20,
   "metadata": {},
   "outputs": [],
   "source": [
    "scaler = StandardScaler()\n",
    "scaler.fit(X)\n",
    "X_scaled = scaler.transform(X)"
   ]
  },
  {
   "cell_type": "markdown",
   "metadata": {},
   "source": [
    "4. Рассчитаем вектор весов $w$ для изначальной матрицы данных после масштабирования по формуле $w = (X^T X)^{-1} X^T y$"
   ]
  },
  {
   "cell_type": "code",
   "execution_count": 21,
   "metadata": {},
   "outputs": [],
   "source": [
    "w = np.linalg.inv(X_scaled.T.dot(X_scaled)).dot(X_scaled.T).dot(y)"
   ]
  },
  {
   "cell_type": "markdown",
   "metadata": {},
   "source": [
    "5. Теперь вычислим вектор предсказаний $a$ по формуле $a = Xw$"
   ]
  },
  {
   "cell_type": "code",
   "execution_count": 22,
   "metadata": {},
   "outputs": [],
   "source": [
    "a = X_scaled.dot(w)"
   ]
  },
  {
   "cell_type": "markdown",
   "metadata": {},
   "source": [
    "6. Теперь сделаем тоже самое, но для модифицированной матрицы признаков, которую мы умножим на обратимую матрицу $P$, полученную ранее"
   ]
  },
  {
   "cell_type": "code",
   "execution_count": 23,
   "metadata": {},
   "outputs": [],
   "source": [
    "X_scaled_n = X_scaled.dot(p_matrix)\n",
    "w_n = np.linalg.inv(X_scaled_n.T.dot(X_scaled_n)).dot(X_scaled_n.T).dot(y)\n",
    "a_n = X_scaled_n.dot(w_n)"
   ]
  },
  {
   "cell_type": "markdown",
   "metadata": {},
   "source": [
    "7. Посчитаем разницу между предсказаниями"
   ]
  },
  {
   "cell_type": "code",
   "execution_count": 24,
   "metadata": {},
   "outputs": [
    {
     "name": "stdout",
     "output_type": "stream",
     "text": [
      "Разница между предсказаниями: -2.0668362854525668e-14\n",
      "Разница между округлёнными до целого значения предсказаниями: 0.0\n"
     ]
    }
   ],
   "source": [
    "difference = a - a_n\n",
    "print('Разница между предсказаниями:', difference.sum())\n",
    "difference = np.round(a) - np.round(a_n)\n",
    "print('Разница между округлёнными до целого значения предсказаниями:', difference.sum())"
   ]
  },
  {
   "cell_type": "markdown",
   "metadata": {},
   "source": [
    "**Обоснование**\n",
    "\n",
    "Расхождение в предсказаниях очень мало, таким образом, можем считать, что они остались неизменны<br>\n",
    "Мы использовали алгоритм преобразования данных и убедились, что векторы предсказаний $a$ и $a_n$ равны"
   ]
  },
  {
   "cell_type": "markdown",
   "metadata": {},
   "source": [
    "## Проверка алгоритма"
   ]
  },
  {
   "cell_type": "markdown",
   "metadata": {},
   "source": [
    "Напишем функцию, которая на вход принимает матрицу признаков, целевой признак, создаёт модель линейной регрессии, обучается на поступивших данных и выводит на экран метрики **R2** и **MSE** по предсказанному целевому признаку"
   ]
  },
  {
   "cell_type": "code",
   "execution_count": 25,
   "metadata": {},
   "outputs": [],
   "source": [
    "def fit_predict(X, y):\n",
    "    model = LinearRegression()\n",
    "    model.fit(X, y)\n",
    "    predictions = model.predict(X)\n",
    "    print('MSE модели:', mean_squared_error(y, predictions))\n",
    "    print('R2 модели:', r2_score(y, predictions))"
   ]
  },
  {
   "cell_type": "markdown",
   "metadata": {},
   "source": [
    "Теперь передадим в функцию исходные данные"
   ]
  },
  {
   "cell_type": "code",
   "execution_count": 26,
   "metadata": {},
   "outputs": [
    {
     "name": "stdout",
     "output_type": "stream",
     "text": [
      "MSE модели: 0.1252726382276536\n",
      "R2 модели: 0.4302010046633359\n"
     ]
    }
   ],
   "source": [
    "fit_predict(X_scaled, y)"
   ]
  },
  {
   "cell_type": "markdown",
   "metadata": {},
   "source": [
    "Теперь передадим в функцию модифицированные данные"
   ]
  },
  {
   "cell_type": "code",
   "execution_count": 27,
   "metadata": {},
   "outputs": [
    {
     "name": "stdout",
     "output_type": "stream",
     "text": [
      "MSE модели: 0.1252726382276536\n",
      "R2 модели: 0.4302010046633359\n"
     ]
    }
   ],
   "source": [
    "fit_predict(X_scaled_n, y)"
   ]
  },
  {
   "cell_type": "markdown",
   "metadata": {},
   "source": [
    "MSE и R2 моделей не отличаются"
   ]
  }
 ],
 "metadata": {
  "ExecuteTimeLog": [
   {
    "duration": 579,
    "start_time": "2021-06-27T19:16:44.862Z"
   },
   {
    "duration": 3,
    "start_time": "2021-06-27T19:17:10.964Z"
   },
   {
    "duration": 703,
    "start_time": "2021-06-29T17:41:36.702Z"
   },
   {
    "duration": 4,
    "start_time": "2021-06-29T17:41:37.454Z"
   },
   {
    "duration": 20,
    "start_time": "2021-06-29T18:44:00.256Z"
   },
   {
    "duration": 7,
    "start_time": "2021-06-29T18:44:41.757Z"
   },
   {
    "duration": 60,
    "start_time": "2021-06-29T18:44:51.585Z"
   },
   {
    "duration": 6,
    "start_time": "2021-06-29T18:44:58.987Z"
   },
   {
    "duration": 49,
    "start_time": "2021-06-29T18:44:59.154Z"
   },
   {
    "duration": 7,
    "start_time": "2021-06-29T18:46:59.046Z"
   },
   {
    "duration": 634,
    "start_time": "2021-06-29T18:46:59.280Z"
   },
   {
    "duration": 10,
    "start_time": "2021-06-29T18:47:09.182Z"
   },
   {
    "duration": 737,
    "start_time": "2021-06-29T18:47:09.422Z"
   },
   {
    "duration": 10,
    "start_time": "2021-06-29T18:47:34.327Z"
   },
   {
    "duration": 536,
    "start_time": "2021-06-29T18:47:35.108Z"
   },
   {
    "duration": 10,
    "start_time": "2021-06-29T18:47:50.990Z"
   },
   {
    "duration": 97,
    "start_time": "2021-06-29T18:47:51.157Z"
   },
   {
    "duration": 8,
    "start_time": "2021-06-29T18:48:24.532Z"
   },
   {
    "duration": 85,
    "start_time": "2021-06-29T18:48:24.708Z"
   },
   {
    "duration": 7,
    "start_time": "2021-06-29T18:49:29.186Z"
   },
   {
    "duration": 107,
    "start_time": "2021-06-29T18:49:29.374Z"
   },
   {
    "duration": 10,
    "start_time": "2021-06-29T18:51:59.900Z"
   },
   {
    "duration": 7106,
    "start_time": "2021-06-29T18:52:00.348Z"
   },
   {
    "duration": 7,
    "start_time": "2021-06-29T18:52:11.911Z"
   },
   {
    "duration": 115,
    "start_time": "2021-06-29T18:52:12.112Z"
   },
   {
    "duration": 1774,
    "start_time": "2021-06-30T14:03:04.255Z"
   },
   {
    "duration": 87,
    "start_time": "2021-06-30T14:03:51.828Z"
   },
   {
    "duration": 5,
    "start_time": "2021-06-30T14:03:54.333Z"
   },
   {
    "duration": 5,
    "start_time": "2021-06-30T14:04:06.182Z"
   },
   {
    "duration": 7,
    "start_time": "2021-06-30T14:04:06.667Z"
   },
   {
    "duration": 106,
    "start_time": "2021-06-30T14:04:07.189Z"
   },
   {
    "duration": 5,
    "start_time": "2021-06-30T14:07:46.942Z"
   },
   {
    "duration": 5,
    "start_time": "2021-06-30T14:08:27.876Z"
   },
   {
    "duration": 7,
    "start_time": "2021-06-30T14:08:28.187Z"
   },
   {
    "duration": 663,
    "start_time": "2021-06-30T14:37:15.826Z"
   },
   {
    "duration": 4,
    "start_time": "2021-06-30T14:37:57.736Z"
   },
   {
    "duration": 710,
    "start_time": "2021-06-30T14:38:01.919Z"
   },
   {
    "duration": 4,
    "start_time": "2021-06-30T14:38:35.867Z"
   },
   {
    "duration": 927,
    "start_time": "2021-06-30T14:38:39.708Z"
   },
   {
    "duration": 7,
    "start_time": "2021-06-30T14:38:53.841Z"
   },
   {
    "duration": 908,
    "start_time": "2021-06-30T14:38:54.528Z"
   },
   {
    "duration": 7,
    "start_time": "2021-06-30T14:39:35.097Z"
   },
   {
    "duration": 928,
    "start_time": "2021-06-30T14:39:35.856Z"
   },
   {
    "duration": 6,
    "start_time": "2021-06-30T14:40:22.159Z"
   },
   {
    "duration": 8,
    "start_time": "2021-06-30T14:40:22.520Z"
   },
   {
    "duration": 1500,
    "start_time": "2021-06-30T14:40:23.298Z"
   },
   {
    "duration": 9,
    "start_time": "2021-06-30T14:40:55.574Z"
   },
   {
    "duration": 1352,
    "start_time": "2021-06-30T14:40:56.328Z"
   },
   {
    "duration": 853,
    "start_time": "2021-06-30T14:41:17.827Z"
   },
   {
    "duration": 845,
    "start_time": "2021-06-30T14:41:27.697Z"
   },
   {
    "duration": 4,
    "start_time": "2021-06-30T16:01:57.715Z"
   },
   {
    "duration": 5,
    "start_time": "2021-06-30T16:01:58.122Z"
   },
   {
    "duration": 4,
    "start_time": "2021-06-30T16:01:58.669Z"
   },
   {
    "duration": 7,
    "start_time": "2021-06-30T16:01:59.123Z"
   },
   {
    "duration": 97,
    "start_time": "2021-06-30T16:01:59.934Z"
   },
   {
    "duration": 371,
    "start_time": "2021-06-30T19:41:04.251Z"
   },
   {
    "duration": 1460,
    "start_time": "2021-06-30T19:41:10.113Z"
   },
   {
    "duration": 5,
    "start_time": "2021-06-30T19:41:11.575Z"
   },
   {
    "duration": 20,
    "start_time": "2021-06-30T19:41:11.584Z"
   },
   {
    "duration": 11,
    "start_time": "2021-06-30T19:41:12.841Z"
   },
   {
    "duration": 117,
    "start_time": "2021-06-30T19:41:13.756Z"
   },
   {
    "duration": 11,
    "start_time": "2021-06-30T19:41:15.593Z"
   },
   {
    "duration": 7,
    "start_time": "2021-06-30T19:41:29.665Z"
   },
   {
    "duration": 37,
    "start_time": "2021-06-30T20:40:40.936Z"
   },
   {
    "duration": 37,
    "start_time": "2021-06-30T20:40:46.128Z"
   },
   {
    "duration": 30,
    "start_time": "2021-06-30T20:40:52.560Z"
   },
   {
    "duration": 43,
    "start_time": "2021-06-30T20:41:01.824Z"
   },
   {
    "duration": 5,
    "start_time": "2021-06-30T20:41:06.381Z"
   },
   {
    "duration": 20,
    "start_time": "2021-06-30T20:41:06.389Z"
   },
   {
    "duration": 11,
    "start_time": "2021-06-30T20:41:06.412Z"
   },
   {
    "duration": 19,
    "start_time": "2021-06-30T20:41:06.426Z"
   },
   {
    "duration": 97,
    "start_time": "2021-06-30T20:41:06.447Z"
   },
   {
    "duration": 6,
    "start_time": "2021-06-30T20:41:06.546Z"
   },
   {
    "duration": 66,
    "start_time": "2021-06-30T20:41:06.555Z"
   },
   {
    "duration": 46,
    "start_time": "2021-06-30T20:41:08.528Z"
   },
   {
    "duration": 41,
    "start_time": "2021-06-30T20:41:30.019Z"
   },
   {
    "duration": 6,
    "start_time": "2021-06-30T20:45:43.674Z"
   },
   {
    "duration": 84,
    "start_time": "2021-06-30T20:45:44.429Z"
   },
   {
    "duration": 10,
    "start_time": "2021-06-30T20:48:29.756Z"
   },
   {
    "duration": 11,
    "start_time": "2021-06-30T20:48:48.629Z"
   },
   {
    "duration": 386,
    "start_time": "2021-06-30T20:49:10.315Z"
   },
   {
    "duration": 12,
    "start_time": "2021-06-30T20:49:13.412Z"
   },
   {
    "duration": 11,
    "start_time": "2021-06-30T20:49:16.432Z"
   },
   {
    "duration": 11,
    "start_time": "2021-06-30T20:49:36.537Z"
   },
   {
    "duration": 351,
    "start_time": "2021-06-30T20:49:57.639Z"
   },
   {
    "duration": 5,
    "start_time": "2021-06-30T20:50:01.237Z"
   },
   {
    "duration": 9,
    "start_time": "2021-06-30T20:50:01.405Z"
   },
   {
    "duration": 923,
    "start_time": "2021-06-30T20:50:02.306Z"
   },
   {
    "duration": 6,
    "start_time": "2021-06-30T20:50:25.660Z"
   },
   {
    "duration": 907,
    "start_time": "2021-06-30T20:50:26.611Z"
   },
   {
    "duration": 7,
    "start_time": "2021-06-30T20:50:36.878Z"
   },
   {
    "duration": 1016,
    "start_time": "2021-06-30T20:50:37.417Z"
   },
   {
    "duration": 6,
    "start_time": "2021-06-30T20:50:44.670Z"
   },
   {
    "duration": 901,
    "start_time": "2021-06-30T20:50:45.245Z"
   },
   {
    "duration": 7371,
    "start_time": "2021-06-30T20:50:59.251Z"
   },
   {
    "duration": -64,
    "start_time": "2021-06-30T20:51:06.689Z"
   },
   {
    "duration": 4,
    "start_time": "2021-06-30T20:51:08.713Z"
   },
   {
    "duration": 9,
    "start_time": "2021-06-30T20:51:08.720Z"
   },
   {
    "duration": 6,
    "start_time": "2021-06-30T20:51:08.732Z"
   },
   {
    "duration": 8,
    "start_time": "2021-06-30T20:51:08.740Z"
   },
   {
    "duration": 100,
    "start_time": "2021-06-30T20:51:08.751Z"
   },
   {
    "duration": 6,
    "start_time": "2021-06-30T20:51:08.854Z"
   },
   {
    "duration": 45,
    "start_time": "2021-06-30T20:51:21.560Z"
   },
   {
    "duration": 14,
    "start_time": "2021-06-30T20:51:23.195Z"
   },
   {
    "duration": 5,
    "start_time": "2021-06-30T20:51:24.993Z"
   },
   {
    "duration": 6,
    "start_time": "2021-06-30T20:51:25.354Z"
   },
   {
    "duration": 963,
    "start_time": "2021-06-30T20:51:32.167Z"
   },
   {
    "duration": 889,
    "start_time": "2021-06-30T20:51:43.880Z"
   },
   {
    "duration": 4,
    "start_time": "2021-06-30T20:52:03.299Z"
   },
   {
    "duration": 12,
    "start_time": "2021-06-30T20:52:03.306Z"
   },
   {
    "duration": 16,
    "start_time": "2021-06-30T20:52:03.321Z"
   },
   {
    "duration": 13,
    "start_time": "2021-06-30T20:52:03.340Z"
   },
   {
    "duration": 100,
    "start_time": "2021-06-30T20:52:03.355Z"
   },
   {
    "duration": 6,
    "start_time": "2021-06-30T20:52:03.457Z"
   },
   {
    "duration": 77,
    "start_time": "2021-06-30T20:52:03.465Z"
   },
   {
    "duration": 14,
    "start_time": "2021-06-30T20:52:03.545Z"
   },
   {
    "duration": 6,
    "start_time": "2021-06-30T20:52:03.563Z"
   },
   {
    "duration": 31,
    "start_time": "2021-06-30T20:52:03.572Z"
   },
   {
    "duration": 890,
    "start_time": "2021-06-30T20:52:05.362Z"
   },
   {
    "duration": 6,
    "start_time": "2021-06-30T20:52:20.440Z"
   },
   {
    "duration": 940,
    "start_time": "2021-06-30T20:52:20.786Z"
   },
   {
    "duration": 7,
    "start_time": "2021-06-30T20:52:28.814Z"
   },
   {
    "duration": 822,
    "start_time": "2021-06-30T20:52:29.143Z"
   },
   {
    "duration": 9,
    "start_time": "2021-06-30T20:52:36.365Z"
   },
   {
    "duration": 1071,
    "start_time": "2021-06-30T20:52:36.912Z"
   },
   {
    "duration": 947,
    "start_time": "2021-06-30T21:01:58.700Z"
   },
   {
    "duration": 956,
    "start_time": "2021-06-30T21:02:10.934Z"
   },
   {
    "duration": 973,
    "start_time": "2021-06-30T21:02:18.086Z"
   },
   {
    "duration": 883,
    "start_time": "2021-06-30T21:02:21.532Z"
   },
   {
    "duration": 918,
    "start_time": "2021-06-30T21:02:26.148Z"
   },
   {
    "duration": 935,
    "start_time": "2021-06-30T21:02:38.691Z"
   },
   {
    "duration": 940,
    "start_time": "2021-06-30T21:03:07.351Z"
   },
   {
    "duration": 1236,
    "start_time": "2021-06-30T21:04:40.574Z"
   },
   {
    "duration": 1111,
    "start_time": "2021-06-30T21:05:14.564Z"
   },
   {
    "duration": 1052,
    "start_time": "2021-06-30T21:06:40.099Z"
   },
   {
    "duration": 1041,
    "start_time": "2021-06-30T21:09:01.397Z"
   },
   {
    "duration": 7,
    "start_time": "2021-06-30T21:14:54.055Z"
   },
   {
    "duration": 7,
    "start_time": "2021-06-30T21:15:10.949Z"
   },
   {
    "duration": 336,
    "start_time": "2021-07-01T07:59:17.842Z"
   },
   {
    "duration": 1461,
    "start_time": "2021-07-01T07:59:23.828Z"
   },
   {
    "duration": 5,
    "start_time": "2021-07-01T07:59:25.292Z"
   },
   {
    "duration": 9,
    "start_time": "2021-07-01T07:59:25.300Z"
   },
   {
    "duration": 20,
    "start_time": "2021-07-01T07:59:25.312Z"
   },
   {
    "duration": 105,
    "start_time": "2021-07-01T07:59:25.335Z"
   },
   {
    "duration": 7,
    "start_time": "2021-07-01T07:59:25.442Z"
   },
   {
    "duration": 49,
    "start_time": "2021-07-01T07:59:30.445Z"
   },
   {
    "duration": 104,
    "start_time": "2021-07-01T12:08:56.194Z"
   },
   {
    "duration": 4,
    "start_time": "2021-07-01T12:09:02.746Z"
   },
   {
    "duration": 345,
    "start_time": "2021-07-01T12:09:19.777Z"
   },
   {
    "duration": 14,
    "start_time": "2021-07-01T12:09:27.074Z"
   },
   {
    "duration": 13,
    "start_time": "2021-07-01T12:09:34.545Z"
   },
   {
    "duration": 13,
    "start_time": "2021-07-01T12:09:37.104Z"
   },
   {
    "duration": 7,
    "start_time": "2021-07-01T12:13:58.860Z"
   },
   {
    "duration": 21,
    "start_time": "2021-07-01T12:13:59.459Z"
   },
   {
    "duration": 14,
    "start_time": "2021-07-01T12:14:00.956Z"
   },
   {
    "duration": 17,
    "start_time": "2021-07-01T12:14:01.819Z"
   },
   {
    "duration": 14,
    "start_time": "2021-07-01T12:14:02.948Z"
   },
   {
    "duration": 13,
    "start_time": "2021-07-01T12:14:03.788Z"
   },
   {
    "duration": 5,
    "start_time": "2021-07-01T12:15:14.484Z"
   },
   {
    "duration": 12,
    "start_time": "2021-07-01T12:15:14.584Z"
   },
   {
    "duration": 11,
    "start_time": "2021-07-01T12:15:46.295Z"
   },
   {
    "duration": 6,
    "start_time": "2021-07-01T12:26:31.283Z"
   },
   {
    "duration": 4,
    "start_time": "2021-07-01T12:28:40.200Z"
   },
   {
    "duration": 5,
    "start_time": "2021-07-01T12:29:11.418Z"
   },
   {
    "duration": 8,
    "start_time": "2021-07-01T13:50:09.303Z"
   },
   {
    "duration": 270,
    "start_time": "2021-07-01T13:50:27.766Z"
   },
   {
    "duration": 5,
    "start_time": "2021-07-01T13:50:42.969Z"
   },
   {
    "duration": 5,
    "start_time": "2021-07-01T13:50:47.574Z"
   },
   {
    "duration": 4,
    "start_time": "2021-07-01T13:50:50.860Z"
   },
   {
    "duration": 6,
    "start_time": "2021-07-01T13:50:54.187Z"
   },
   {
    "duration": 9,
    "start_time": "2021-07-01T13:51:12.067Z"
   },
   {
    "duration": 6,
    "start_time": "2021-07-01T13:51:13.846Z"
   },
   {
    "duration": 16,
    "start_time": "2021-07-01T13:51:14.494Z"
   },
   {
    "duration": 9,
    "start_time": "2021-07-01T13:51:29.980Z"
   },
   {
    "duration": 5,
    "start_time": "2021-07-01T13:51:32.220Z"
   },
   {
    "duration": 13,
    "start_time": "2021-07-01T13:51:32.328Z"
   },
   {
    "duration": 9,
    "start_time": "2021-07-01T13:51:38.540Z"
   },
   {
    "duration": 15,
    "start_time": "2021-07-01T13:51:43.912Z"
   },
   {
    "duration": 28,
    "start_time": "2021-07-01T13:52:18.390Z"
   },
   {
    "duration": 19,
    "start_time": "2021-07-01T13:52:24.619Z"
   },
   {
    "duration": 5,
    "start_time": "2021-07-01T13:52:27.009Z"
   },
   {
    "duration": 15,
    "start_time": "2021-07-01T13:52:27.630Z"
   },
   {
    "duration": 8,
    "start_time": "2021-07-01T13:56:15.818Z"
   },
   {
    "duration": 6,
    "start_time": "2021-07-01T13:56:20.675Z"
   },
   {
    "duration": 6,
    "start_time": "2021-07-01T13:56:23.970Z"
   },
   {
    "duration": 12,
    "start_time": "2021-07-01T13:57:44.703Z"
   },
   {
    "duration": 6,
    "start_time": "2021-07-01T13:57:56.006Z"
   },
   {
    "duration": 6,
    "start_time": "2021-07-01T13:58:04.742Z"
   },
   {
    "duration": 15,
    "start_time": "2021-07-01T13:58:10.390Z"
   },
   {
    "duration": 8,
    "start_time": "2021-07-01T13:58:49.388Z"
   },
   {
    "duration": 7,
    "start_time": "2021-07-01T13:58:53.062Z"
   },
   {
    "duration": 35,
    "start_time": "2021-07-01T13:58:59.089Z"
   },
   {
    "duration": 7,
    "start_time": "2021-07-01T13:59:04.315Z"
   },
   {
    "duration": 4,
    "start_time": "2021-07-01T13:59:21.273Z"
   },
   {
    "duration": 5,
    "start_time": "2021-07-01T13:59:27.822Z"
   },
   {
    "duration": 8,
    "start_time": "2021-07-01T14:00:28.471Z"
   },
   {
    "duration": 5,
    "start_time": "2021-07-01T14:00:29.566Z"
   },
   {
    "duration": 12,
    "start_time": "2021-07-01T14:00:30.224Z"
   },
   {
    "duration": 340,
    "start_time": "2021-07-01T14:03:48.367Z"
   },
   {
    "duration": 13,
    "start_time": "2021-07-01T14:03:55.008Z"
   },
   {
    "duration": 328,
    "start_time": "2021-07-01T14:04:59.520Z"
   },
   {
    "duration": 4,
    "start_time": "2021-07-01T14:05:06.936Z"
   },
   {
    "duration": 293,
    "start_time": "2021-07-01T14:05:23.175Z"
   },
   {
    "duration": 280,
    "start_time": "2021-07-01T14:05:29.423Z"
   },
   {
    "duration": 7,
    "start_time": "2021-07-01T14:06:07.980Z"
   },
   {
    "duration": 6,
    "start_time": "2021-07-01T14:06:10.779Z"
   },
   {
    "duration": 7,
    "start_time": "2021-07-01T14:06:53.117Z"
   },
   {
    "duration": 8,
    "start_time": "2021-07-01T14:07:37.288Z"
   },
   {
    "duration": 15,
    "start_time": "2021-07-01T14:10:02.229Z"
   },
   {
    "duration": 6,
    "start_time": "2021-07-01T14:10:06.500Z"
   },
   {
    "duration": 104,
    "start_time": "2021-07-01T14:11:54.991Z"
   },
   {
    "duration": 3,
    "start_time": "2021-07-01T14:12:10.147Z"
   },
   {
    "duration": 5,
    "start_time": "2021-07-01T14:15:05.865Z"
   },
   {
    "duration": 6,
    "start_time": "2021-07-01T14:16:08.995Z"
   },
   {
    "duration": 12,
    "start_time": "2021-07-01T14:16:14.416Z"
   },
   {
    "duration": 8,
    "start_time": "2021-07-01T14:16:20.696Z"
   },
   {
    "duration": 8,
    "start_time": "2021-07-01T14:16:21.554Z"
   },
   {
    "duration": 8,
    "start_time": "2021-07-01T14:16:25.104Z"
   },
   {
    "duration": 7,
    "start_time": "2021-07-01T14:16:25.490Z"
   },
   {
    "duration": 6,
    "start_time": "2021-07-01T14:16:25.775Z"
   },
   {
    "duration": 9,
    "start_time": "2021-07-01T14:16:26.178Z"
   },
   {
    "duration": 11,
    "start_time": "2021-07-01T14:16:26.817Z"
   },
   {
    "duration": 5,
    "start_time": "2021-07-01T14:16:35.864Z"
   },
   {
    "duration": 8,
    "start_time": "2021-07-01T14:16:36.336Z"
   },
   {
    "duration": 7,
    "start_time": "2021-07-01T14:16:36.809Z"
   },
   {
    "duration": 13,
    "start_time": "2021-07-01T14:16:37.224Z"
   },
   {
    "duration": 12,
    "start_time": "2021-07-01T14:16:37.697Z"
   },
   {
    "duration": 8,
    "start_time": "2021-07-01T14:16:38.488Z"
   },
   {
    "duration": 11,
    "start_time": "2021-07-01T14:16:50.266Z"
   },
   {
    "duration": 5,
    "start_time": "2021-07-01T14:16:51.904Z"
   },
   {
    "duration": 8,
    "start_time": "2021-07-01T14:16:52.248Z"
   },
   {
    "duration": 7,
    "start_time": "2021-07-01T14:16:52.663Z"
   },
   {
    "duration": 6,
    "start_time": "2021-07-01T14:16:53.049Z"
   },
   {
    "duration": 6,
    "start_time": "2021-07-01T14:16:53.889Z"
   },
   {
    "duration": 9,
    "start_time": "2021-07-01T14:17:02.465Z"
   },
   {
    "duration": 7,
    "start_time": "2021-07-01T14:17:37.594Z"
   },
   {
    "duration": 5,
    "start_time": "2021-07-01T14:17:46.956Z"
   },
   {
    "duration": 4,
    "start_time": "2021-07-01T14:17:48.809Z"
   },
   {
    "duration": 5,
    "start_time": "2021-07-01T14:17:52.257Z"
   },
   {
    "duration": 5,
    "start_time": "2021-07-01T14:17:52.896Z"
   },
   {
    "duration": 16,
    "start_time": "2021-07-01T14:18:22.994Z"
   },
   {
    "duration": 12,
    "start_time": "2021-07-01T14:18:55.025Z"
   },
   {
    "duration": 10,
    "start_time": "2021-07-01T14:19:07.567Z"
   },
   {
    "duration": 10,
    "start_time": "2021-07-01T14:19:56.240Z"
   },
   {
    "duration": 5,
    "start_time": "2021-07-01T14:19:56.988Z"
   },
   {
    "duration": 7,
    "start_time": "2021-07-01T14:19:57.309Z"
   },
   {
    "duration": 5,
    "start_time": "2021-07-01T14:19:57.573Z"
   },
   {
    "duration": 12,
    "start_time": "2021-07-01T14:19:57.842Z"
   },
   {
    "duration": 5,
    "start_time": "2021-07-01T14:19:58.152Z"
   },
   {
    "duration": 6,
    "start_time": "2021-07-01T14:19:58.503Z"
   },
   {
    "duration": 4,
    "start_time": "2021-07-01T14:19:59.238Z"
   },
   {
    "duration": 14,
    "start_time": "2021-07-01T14:19:59.678Z"
   },
   {
    "duration": 12,
    "start_time": "2021-07-01T14:20:00.461Z"
   },
   {
    "duration": 4,
    "start_time": "2021-07-01T14:20:11.629Z"
   },
   {
    "duration": 10,
    "start_time": "2021-07-01T14:20:12.356Z"
   },
   {
    "duration": 6,
    "start_time": "2021-07-01T14:20:13.084Z"
   },
   {
    "duration": 9,
    "start_time": "2021-07-01T14:20:13.427Z"
   },
   {
    "duration": 6,
    "start_time": "2021-07-01T14:20:13.795Z"
   },
   {
    "duration": 11,
    "start_time": "2021-07-01T14:20:14.195Z"
   },
   {
    "duration": 6,
    "start_time": "2021-07-01T14:20:14.564Z"
   },
   {
    "duration": 6,
    "start_time": "2021-07-01T14:20:14.948Z"
   },
   {
    "duration": 5,
    "start_time": "2021-07-01T14:20:15.759Z"
   },
   {
    "duration": 7,
    "start_time": "2021-07-01T14:20:16.365Z"
   },
   {
    "duration": 9,
    "start_time": "2021-07-01T14:20:17.186Z"
   },
   {
    "duration": 9,
    "start_time": "2021-07-01T14:20:39.807Z"
   },
   {
    "duration": 6,
    "start_time": "2021-07-01T14:20:40.500Z"
   },
   {
    "duration": 8,
    "start_time": "2021-07-01T14:20:40.755Z"
   },
   {
    "duration": 4,
    "start_time": "2021-07-01T14:20:41.046Z"
   },
   {
    "duration": 6,
    "start_time": "2021-07-01T14:20:41.339Z"
   },
   {
    "duration": 9,
    "start_time": "2021-07-01T14:20:41.677Z"
   },
   {
    "duration": 6,
    "start_time": "2021-07-01T14:20:42.021Z"
   },
   {
    "duration": 5,
    "start_time": "2021-07-01T14:20:43.404Z"
   },
   {
    "duration": 9,
    "start_time": "2021-07-01T14:20:44.075Z"
   },
   {
    "duration": 10,
    "start_time": "2021-07-01T14:20:44.979Z"
   },
   {
    "duration": 1532,
    "start_time": "2021-07-01T14:54:22.227Z"
   },
   {
    "duration": 5,
    "start_time": "2021-07-01T14:54:23.761Z"
   },
   {
    "duration": 7,
    "start_time": "2021-07-01T14:54:23.769Z"
   },
   {
    "duration": 9,
    "start_time": "2021-07-01T14:54:23.779Z"
   },
   {
    "duration": 112,
    "start_time": "2021-07-01T14:54:23.791Z"
   },
   {
    "duration": 11,
    "start_time": "2021-07-01T14:54:23.925Z"
   },
   {
    "duration": 53,
    "start_time": "2021-07-01T14:54:23.939Z"
   },
   {
    "duration": 14,
    "start_time": "2021-07-01T14:54:24.026Z"
   },
   {
    "duration": 41,
    "start_time": "2021-07-01T14:54:24.043Z"
   },
   {
    "duration": 14,
    "start_time": "2021-07-01T14:54:24.087Z"
   },
   {
    "duration": 910,
    "start_time": "2021-07-01T14:54:24.103Z"
   },
   {
    "duration": 1002,
    "start_time": "2021-07-01T14:54:25.024Z"
   },
   {
    "duration": 1026,
    "start_time": "2021-07-01T14:54:26.029Z"
   },
   {
    "duration": 1046,
    "start_time": "2021-07-01T14:54:27.058Z"
   },
   {
    "duration": 7,
    "start_time": "2021-07-01T14:54:28.106Z"
   },
   {
    "duration": 1161,
    "start_time": "2021-07-01T14:54:28.115Z"
   },
   {
    "duration": 5,
    "start_time": "2021-07-01T14:54:29.278Z"
   },
   {
    "duration": 39,
    "start_time": "2021-07-01T14:54:29.285Z"
   },
   {
    "duration": 18,
    "start_time": "2021-07-01T14:54:29.327Z"
   },
   {
    "duration": 9,
    "start_time": "2021-07-01T14:54:29.425Z"
   },
   {
    "duration": 19,
    "start_time": "2021-07-01T14:54:29.437Z"
   },
   {
    "duration": 73,
    "start_time": "2021-07-01T14:54:29.459Z"
   },
   {
    "duration": 510,
    "start_time": "2021-07-01T14:54:29.536Z"
   },
   {
    "duration": -279,
    "start_time": "2021-07-01T14:54:30.328Z"
   },
   {
    "duration": -279,
    "start_time": "2021-07-01T14:54:30.329Z"
   },
   {
    "duration": -286,
    "start_time": "2021-07-01T14:54:30.338Z"
   },
   {
    "duration": -286,
    "start_time": "2021-07-01T14:54:30.339Z"
   },
   {
    "duration": 268,
    "start_time": "2021-07-01T14:54:45.677Z"
   },
   {
    "duration": 13,
    "start_time": "2021-07-01T14:54:56.105Z"
   },
   {
    "duration": 6,
    "start_time": "2021-07-01T14:54:58.107Z"
   },
   {
    "duration": 5,
    "start_time": "2021-07-01T14:55:00.053Z"
   },
   {
    "duration": 9,
    "start_time": "2021-07-01T14:55:00.780Z"
   },
   {
    "duration": 8,
    "start_time": "2021-07-01T14:55:01.441Z"
   },
   {
    "duration": 6,
    "start_time": "2021-07-01T14:55:15.861Z"
   },
   {
    "duration": 7,
    "start_time": "2021-07-01T14:55:16.380Z"
   },
   {
    "duration": 5,
    "start_time": "2021-07-01T14:55:16.894Z"
   },
   {
    "duration": 8,
    "start_time": "2021-07-01T14:55:17.434Z"
   },
   {
    "duration": 8,
    "start_time": "2021-07-01T14:55:18.052Z"
   },
   {
    "duration": 6,
    "start_time": "2021-07-01T14:55:19.472Z"
   },
   {
    "duration": 13,
    "start_time": "2021-07-01T14:55:20.020Z"
   },
   {
    "duration": 12,
    "start_time": "2021-07-01T14:55:20.907Z"
   },
   {
    "duration": 6,
    "start_time": "2021-07-01T14:55:41.701Z"
   },
   {
    "duration": 7,
    "start_time": "2021-07-01T14:55:42.068Z"
   },
   {
    "duration": 68,
    "start_time": "2021-07-01T14:55:42.356Z"
   },
   {
    "duration": 8,
    "start_time": "2021-07-01T14:55:42.710Z"
   },
   {
    "duration": 7,
    "start_time": "2021-07-01T14:55:43.581Z"
   },
   {
    "duration": 8,
    "start_time": "2021-07-01T14:55:47.868Z"
   },
   {
    "duration": 7,
    "start_time": "2021-07-01T14:55:48.507Z"
   },
   {
    "duration": 56,
    "start_time": "2021-07-01T14:55:49.068Z"
   },
   {
    "duration": 6,
    "start_time": "2021-07-01T14:55:49.586Z"
   },
   {
    "duration": 6,
    "start_time": "2021-07-01T14:55:50.321Z"
   },
   {
    "duration": 5,
    "start_time": "2021-07-01T14:55:51.790Z"
   },
   {
    "duration": 19,
    "start_time": "2021-07-01T14:55:52.135Z"
   },
   {
    "duration": 12,
    "start_time": "2021-07-01T14:55:52.550Z"
   },
   {
    "duration": 1486,
    "start_time": "2021-07-01T14:56:02.860Z"
   },
   {
    "duration": 4,
    "start_time": "2021-07-01T14:56:04.349Z"
   },
   {
    "duration": 7,
    "start_time": "2021-07-01T14:56:04.356Z"
   },
   {
    "duration": 9,
    "start_time": "2021-07-01T14:56:04.366Z"
   },
   {
    "duration": 106,
    "start_time": "2021-07-01T14:56:04.377Z"
   },
   {
    "duration": 7,
    "start_time": "2021-07-01T14:56:04.485Z"
   },
   {
    "duration": 79,
    "start_time": "2021-07-01T14:56:04.495Z"
   },
   {
    "duration": 13,
    "start_time": "2021-07-01T14:56:04.577Z"
   },
   {
    "duration": 30,
    "start_time": "2021-07-01T14:56:04.594Z"
   },
   {
    "duration": 6,
    "start_time": "2021-07-01T14:56:04.626Z"
   },
   {
    "duration": 908,
    "start_time": "2021-07-01T14:56:04.634Z"
   },
   {
    "duration": 1006,
    "start_time": "2021-07-01T14:56:05.545Z"
   },
   {
    "duration": 1049,
    "start_time": "2021-07-01T14:56:06.554Z"
   },
   {
    "duration": 1041,
    "start_time": "2021-07-01T14:56:07.605Z"
   },
   {
    "duration": 9,
    "start_time": "2021-07-01T14:56:08.650Z"
   },
   {
    "duration": 1034,
    "start_time": "2021-07-01T14:56:08.661Z"
   },
   {
    "duration": 5,
    "start_time": "2021-07-01T14:56:09.698Z"
   },
   {
    "duration": 24,
    "start_time": "2021-07-01T14:56:09.706Z"
   },
   {
    "duration": 8,
    "start_time": "2021-07-01T14:56:09.733Z"
   },
   {
    "duration": 12,
    "start_time": "2021-07-01T14:56:09.824Z"
   },
   {
    "duration": 85,
    "start_time": "2021-07-01T14:56:09.839Z"
   },
   {
    "duration": 98,
    "start_time": "2021-07-01T14:56:09.927Z"
   },
   {
    "duration": 95,
    "start_time": "2021-07-01T14:56:10.031Z"
   },
   {
    "duration": 101,
    "start_time": "2021-07-01T14:56:10.226Z"
   },
   {
    "duration": 28,
    "start_time": "2021-07-01T14:56:10.329Z"
   },
   {
    "duration": 22,
    "start_time": "2021-07-01T14:56:10.359Z"
   },
   {
    "duration": 157,
    "start_time": "2021-07-01T14:56:10.383Z"
   },
   {
    "duration": 4,
    "start_time": "2021-07-01T14:56:27.178Z"
   },
   {
    "duration": 10,
    "start_time": "2021-07-01T14:56:27.748Z"
   },
   {
    "duration": 11,
    "start_time": "2021-07-01T14:56:29.242Z"
   },
   {
    "duration": 5,
    "start_time": "2021-07-01T14:56:46.944Z"
   },
   {
    "duration": 10,
    "start_time": "2021-07-01T14:56:47.834Z"
   },
   {
    "duration": 6,
    "start_time": "2021-07-01T14:56:48.410Z"
   },
   {
    "duration": 8,
    "start_time": "2021-07-01T14:56:48.754Z"
   },
   {
    "duration": 5,
    "start_time": "2021-07-01T14:56:49.090Z"
   },
   {
    "duration": 6,
    "start_time": "2021-07-01T14:56:49.875Z"
   },
   {
    "duration": 13,
    "start_time": "2021-07-01T14:56:50.304Z"
   },
   {
    "duration": 7,
    "start_time": "2021-07-01T14:56:50.676Z"
   },
   {
    "duration": 5,
    "start_time": "2021-07-01T14:56:51.664Z"
   },
   {
    "duration": 8,
    "start_time": "2021-07-01T14:56:52.210Z"
   },
   {
    "duration": 9,
    "start_time": "2021-07-01T14:56:52.793Z"
   },
   {
    "duration": 5,
    "start_time": "2021-07-01T14:56:57.020Z"
   },
   {
    "duration": 9,
    "start_time": "2021-07-01T14:56:57.338Z"
   },
   {
    "duration": 8,
    "start_time": "2021-07-01T14:56:57.618Z"
   },
   {
    "duration": 7,
    "start_time": "2021-07-01T14:56:57.858Z"
   },
   {
    "duration": 4,
    "start_time": "2021-07-01T14:56:58.451Z"
   },
   {
    "duration": 4,
    "start_time": "2021-07-01T14:56:59.050Z"
   },
   {
    "duration": 11,
    "start_time": "2021-07-01T14:56:59.977Z"
   },
   {
    "duration": 20,
    "start_time": "2021-07-01T14:57:00.464Z"
   },
   {
    "duration": 5,
    "start_time": "2021-07-01T14:57:01.978Z"
   },
   {
    "duration": 9,
    "start_time": "2021-07-01T14:57:02.546Z"
   },
   {
    "duration": 12,
    "start_time": "2021-07-01T14:57:03.145Z"
   },
   {
    "duration": 5,
    "start_time": "2021-07-01T14:57:06.970Z"
   },
   {
    "duration": 29,
    "start_time": "2021-07-01T14:57:07.498Z"
   },
   {
    "duration": 9,
    "start_time": "2021-07-01T14:57:08.130Z"
   },
   {
    "duration": 1547,
    "start_time": "2021-07-01T14:57:27.692Z"
   },
   {
    "duration": 4,
    "start_time": "2021-07-01T14:57:29.242Z"
   },
   {
    "duration": 6,
    "start_time": "2021-07-01T14:57:29.250Z"
   },
   {
    "duration": 8,
    "start_time": "2021-07-01T14:57:29.260Z"
   },
   {
    "duration": 107,
    "start_time": "2021-07-01T14:57:29.271Z"
   },
   {
    "duration": 7,
    "start_time": "2021-07-01T14:57:29.380Z"
   },
   {
    "duration": 74,
    "start_time": "2021-07-01T14:57:29.389Z"
   },
   {
    "duration": 11,
    "start_time": "2021-07-01T14:57:29.466Z"
   },
   {
    "duration": 5,
    "start_time": "2021-07-01T14:57:29.481Z"
   },
   {
    "duration": 34,
    "start_time": "2021-07-01T14:57:29.490Z"
   },
   {
    "duration": 937,
    "start_time": "2021-07-01T14:57:29.528Z"
   },
   {
    "duration": 1048,
    "start_time": "2021-07-01T14:57:30.468Z"
   },
   {
    "duration": 1122,
    "start_time": "2021-07-01T14:57:31.524Z"
   },
   {
    "duration": 1154,
    "start_time": "2021-07-01T14:57:32.648Z"
   },
   {
    "duration": 19,
    "start_time": "2021-07-01T14:57:33.805Z"
   },
   {
    "duration": 1065,
    "start_time": "2021-07-01T14:57:33.827Z"
   },
   {
    "duration": 4,
    "start_time": "2021-07-01T14:57:34.895Z"
   },
   {
    "duration": 27,
    "start_time": "2021-07-01T14:57:34.903Z"
   },
   {
    "duration": 6,
    "start_time": "2021-07-01T14:57:34.933Z"
   },
   {
    "duration": 86,
    "start_time": "2021-07-01T14:57:34.942Z"
   },
   {
    "duration": 5,
    "start_time": "2021-07-01T14:57:35.031Z"
   },
   {
    "duration": 89,
    "start_time": "2021-07-01T14:57:35.039Z"
   },
   {
    "duration": 6,
    "start_time": "2021-07-01T14:57:35.131Z"
   },
   {
    "duration": 103,
    "start_time": "2021-07-01T14:57:35.225Z"
   },
   {
    "duration": 5,
    "start_time": "2021-07-01T14:57:35.330Z"
   },
   {
    "duration": 18,
    "start_time": "2021-07-01T14:57:35.339Z"
   },
   {
    "duration": 11,
    "start_time": "2021-07-01T14:57:35.427Z"
   },
   {
    "duration": 1188,
    "start_time": "2021-07-01T19:03:29.600Z"
   },
   {
    "duration": 1530,
    "start_time": "2021-07-01T19:13:44.579Z"
   },
   {
    "duration": 5,
    "start_time": "2021-07-01T19:13:46.112Z"
   },
   {
    "duration": 6,
    "start_time": "2021-07-01T19:13:46.126Z"
   },
   {
    "duration": 11,
    "start_time": "2021-07-01T19:13:46.136Z"
   },
   {
    "duration": 116,
    "start_time": "2021-07-01T19:13:46.149Z"
   },
   {
    "duration": 8,
    "start_time": "2021-07-01T19:13:46.267Z"
   },
   {
    "duration": 78,
    "start_time": "2021-07-01T19:13:46.277Z"
   },
   {
    "duration": 10,
    "start_time": "2021-07-01T19:13:46.359Z"
   },
   {
    "duration": 14,
    "start_time": "2021-07-01T19:13:46.372Z"
   },
   {
    "duration": 13,
    "start_time": "2021-07-01T19:13:46.389Z"
   },
   {
    "duration": 950,
    "start_time": "2021-07-01T19:13:46.404Z"
   },
   {
    "duration": 1172,
    "start_time": "2021-07-01T19:13:47.356Z"
   },
   {
    "duration": 1151,
    "start_time": "2021-07-01T19:13:48.531Z"
   },
   {
    "duration": 1055,
    "start_time": "2021-07-01T19:13:49.684Z"
   },
   {
    "duration": 7,
    "start_time": "2021-07-01T19:13:50.741Z"
   },
   {
    "duration": 1022,
    "start_time": "2021-07-01T19:13:50.750Z"
   },
   {
    "duration": 6,
    "start_time": "2021-07-01T19:13:51.775Z"
   },
   {
    "duration": 42,
    "start_time": "2021-07-01T19:13:51.784Z"
   },
   {
    "duration": 6,
    "start_time": "2021-07-01T19:13:51.836Z"
   },
   {
    "duration": 83,
    "start_time": "2021-07-01T19:13:51.847Z"
   },
   {
    "duration": 10,
    "start_time": "2021-07-01T19:13:51.937Z"
   },
   {
    "duration": 85,
    "start_time": "2021-07-01T19:13:51.950Z"
   },
   {
    "duration": 95,
    "start_time": "2021-07-01T19:13:52.043Z"
   },
   {
    "duration": 96,
    "start_time": "2021-07-01T19:13:52.143Z"
   },
   {
    "duration": 6,
    "start_time": "2021-07-01T19:13:52.325Z"
   },
   {
    "duration": 87,
    "start_time": "2021-07-01T19:13:52.337Z"
   },
   {
    "duration": 108,
    "start_time": "2021-07-01T19:13:52.430Z"
   },
   {
    "duration": 1550,
    "start_time": "2021-07-01T19:52:03.238Z"
   },
   {
    "duration": 5,
    "start_time": "2021-07-01T19:52:04.791Z"
   },
   {
    "duration": 8,
    "start_time": "2021-07-01T19:52:04.799Z"
   },
   {
    "duration": 8,
    "start_time": "2021-07-01T19:52:04.810Z"
   },
   {
    "duration": 144,
    "start_time": "2021-07-01T19:52:04.820Z"
   },
   {
    "duration": 6,
    "start_time": "2021-07-01T19:52:04.966Z"
   },
   {
    "duration": 58,
    "start_time": "2021-07-01T19:52:04.974Z"
   },
   {
    "duration": 11,
    "start_time": "2021-07-01T19:52:05.036Z"
   },
   {
    "duration": 7,
    "start_time": "2021-07-01T19:52:05.049Z"
   },
   {
    "duration": 20,
    "start_time": "2021-07-01T19:52:05.058Z"
   },
   {
    "duration": 976,
    "start_time": "2021-07-01T19:52:05.080Z"
   },
   {
    "duration": 2234,
    "start_time": "2021-07-01T19:52:06.058Z"
   },
   {
    "duration": 1020,
    "start_time": "2021-07-01T19:52:08.295Z"
   },
   {
    "duration": 997,
    "start_time": "2021-07-01T19:52:09.317Z"
   },
   {
    "duration": 6,
    "start_time": "2021-07-01T19:52:10.316Z"
   },
   {
    "duration": 1034,
    "start_time": "2021-07-01T19:52:10.324Z"
   },
   {
    "duration": 5,
    "start_time": "2021-07-01T19:52:11.360Z"
   },
   {
    "duration": 13,
    "start_time": "2021-07-01T19:52:11.368Z"
   },
   {
    "duration": 72,
    "start_time": "2021-07-01T19:52:11.384Z"
   },
   {
    "duration": 10,
    "start_time": "2021-07-01T19:52:11.459Z"
   },
   {
    "duration": 86,
    "start_time": "2021-07-01T19:52:11.472Z"
   },
   {
    "duration": 99,
    "start_time": "2021-07-01T19:52:11.560Z"
   },
   {
    "duration": 92,
    "start_time": "2021-07-01T19:52:11.667Z"
   },
   {
    "duration": 99,
    "start_time": "2021-07-01T19:52:11.763Z"
   },
   {
    "duration": 95,
    "start_time": "2021-07-01T19:52:11.866Z"
   },
   {
    "duration": 12,
    "start_time": "2021-07-01T19:52:11.963Z"
   },
   {
    "duration": 86,
    "start_time": "2021-07-01T19:52:11.980Z"
   },
   {
    "duration": 309,
    "start_time": "2021-07-12T16:30:18.713Z"
   },
   {
    "duration": 7,
    "start_time": "2021-07-13T16:39:02.896Z"
   }
  ],
  "kernelspec": {
   "display_name": "Python 3",
   "language": "python",
   "name": "python3"
  },
  "language_info": {
   "codemirror_mode": {
    "name": "ipython",
    "version": 3
   },
   "file_extension": ".py",
   "mimetype": "text/x-python",
   "name": "python",
   "nbconvert_exporter": "python",
   "pygments_lexer": "ipython3",
   "version": "3.8.8"
  },
  "toc": {
   "base_numbering": 1,
   "nav_menu": {},
   "number_sections": true,
   "sideBar": true,
   "skip_h1_title": true,
   "title_cell": "Содержание",
   "title_sidebar": "Contents",
   "toc_cell": true,
   "toc_position": {
    "height": "calc(100% - 180px)",
    "left": "10px",
    "top": "150px",
    "width": "318.391px"
   },
   "toc_section_display": true,
   "toc_window_display": true
  }
 },
 "nbformat": 4,
 "nbformat_minor": 2
}
